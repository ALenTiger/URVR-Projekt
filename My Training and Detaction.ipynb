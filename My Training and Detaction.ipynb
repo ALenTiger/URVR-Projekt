{
 "cells": [
  {
   "cell_type": "code",
   "execution_count": 1,
   "id": "1a196883",
   "metadata": {},
   "outputs": [],
   "source": [
    "import os\n",
    "import numpy as np"
   ]
  },
  {
   "cell_type": "code",
   "execution_count": 2,
   "id": "6aaa6870",
   "metadata": {},
   "outputs": [],
   "source": [
    "CUSTOM_MODEL_NAME = 'my_ssd_mobnet' \n",
    "PRETRAINED_MODEL_NAME = 'ssd_mobilenet_v2_fpnlite_320x320_coco17_tpu-8'\n",
    "PRETRAINED_MODEL_URL = 'http://download.tensorflow.org/models/object_detection/tf2/20200711/ssd_mobilenet_v2_fpnlite_320x320_coco17_tpu-8.tar.gz'\n",
    "TF_RECORD_SCRIPT_NAME = 'generate_tfrecord.py'\n",
    "LABEL_MAP_NAME = 'label_map.pbtxt'\n",
    "MY_LABEL_MAP_NAME = 'vehicles_label_map.pbtxt'"
   ]
  },
  {
   "cell_type": "code",
   "execution_count": 3,
   "id": "5483d688",
   "metadata": {},
   "outputs": [],
   "source": [
    "paths = {\n",
    "    'WORKSPACE_PATH': os.path.join('Tensorflow', 'workspace'),\n",
    "    'SCRIPTS_PATH': os.path.join('Tensorflow','scripts'),\n",
    "    'APIMODEL_PATH': os.path.join('Tensorflow','models'),\n",
    "    'ANNOTATION_PATH': os.path.join('Tensorflow', 'workspace','annotations'),\n",
    "    'MY_ANNOTATION_PATH': os.path.join('Tensorflow', 'workspace','annotations_z_strani'),\n",
    "    'IMAGE_PATH': os.path.join('Tensorflow', 'workspace','images'),\n",
    "    'MODEL_PATH': os.path.join('Tensorflow', 'workspace','models'),\n",
    "    'PRETRAINED_MODEL_PATH': os.path.join('Tensorflow', 'workspace','pre-trained-models'),\n",
    "    'CHECKPOINT_PATH': os.path.join('Tensorflow', 'workspace','models',CUSTOM_MODEL_NAME), \n",
    "    'OUTPUT_PATH': os.path.join('Tensorflow', 'workspace','models',CUSTOM_MODEL_NAME, 'export'), \n",
    "    'TFJS_PATH':os.path.join('Tensorflow', 'workspace','models',CUSTOM_MODEL_NAME, 'tfjsexport'), \n",
    "    'TFLITE_PATH':os.path.join('Tensorflow', 'workspace','models',CUSTOM_MODEL_NAME, 'tfliteexport'), \n",
    "    'PROTOC_PATH':os.path.join('Tensorflow','protoc')\n",
    " }"
   ]
  },
  {
   "cell_type": "code",
   "execution_count": 4,
   "id": "d4dec8d0",
   "metadata": {},
   "outputs": [],
   "source": [
    "files = {\n",
    "    'PIPELINE_CONFIG':os.path.join('Tensorflow', 'workspace','models', CUSTOM_MODEL_NAME, 'pipeline.config'),\n",
    "    'TF_RECORD_SCRIPT': os.path.join(paths['SCRIPTS_PATH'], TF_RECORD_SCRIPT_NAME), \n",
    "    'LABELMAP': os.path.join(paths['ANNOTATION_PATH'], LABEL_MAP_NAME),\n",
    "    'MY_LABELMAP': os.path.join(paths['MY_ANNOTATION_PATH'], MY_LABEL_MAP_NAME)\n",
    "}"
   ]
  },
  {
   "cell_type": "code",
   "execution_count": 5,
   "id": "47bdc8ad",
   "metadata": {},
   "outputs": [],
   "source": [
    "for path in paths.values():\n",
    "    if not os.path.exists(path):\n",
    "        if os.name == 'posix':\n",
    "            !mkdir -p {path}\n",
    "        if os.name == 'nt':\n",
    "            !mkdir {path}"
   ]
  },
  {
   "cell_type": "code",
   "execution_count": 6,
   "id": "72aaa1ce",
   "metadata": {
    "scrolled": true
   },
   "outputs": [
    {
     "name": "stdout",
     "output_type": "stream",
     "text": [
      "Requirement already satisfied: wget in c:\\users\\matij\\onedrive\\documents\\sola\\feri\\5. semester\\uvod v racunalniski vid in razpoznavanje vzorcev\\projekt\\tenserflow object detection\\tfodcourse\\tfod\\lib\\site-packages (3.2)\n"
     ]
    },
    {
     "name": "stderr",
     "output_type": "stream",
     "text": [
      "WARNING: Ignoring invalid distribution -rotobuf (c:\\users\\matij\\onedrive\\documents\\sola\\feri\\5. semester\\uvod v racunalniski vid in razpoznavanje vzorcev\\projekt\\tenserflow object detection\\tfodcourse\\tfod\\lib\\site-packages)\n",
      "WARNING: Ignoring invalid distribution -rotobuf (c:\\users\\matij\\onedrive\\documents\\sola\\feri\\5. semester\\uvod v racunalniski vid in razpoznavanje vzorcev\\projekt\\tenserflow object detection\\tfodcourse\\tfod\\lib\\site-packages)\n",
      "WARNING: Ignoring invalid distribution -rotobuf (c:\\users\\matij\\onedrive\\documents\\sola\\feri\\5. semester\\uvod v racunalniski vid in razpoznavanje vzorcev\\projekt\\tenserflow object detection\\tfodcourse\\tfod\\lib\\site-packages)\n",
      "WARNING: Ignoring invalid distribution -rotobuf (c:\\users\\matij\\onedrive\\documents\\sola\\feri\\5. semester\\uvod v racunalniski vid in razpoznavanje vzorcev\\projekt\\tenserflow object detection\\tfodcourse\\tfod\\lib\\site-packages)\n",
      "WARNING: Ignoring invalid distribution -rotobuf (c:\\users\\matij\\onedrive\\documents\\sola\\feri\\5. semester\\uvod v racunalniski vid in razpoznavanje vzorcev\\projekt\\tenserflow object detection\\tfodcourse\\tfod\\lib\\site-packages)\n",
      "WARNING: Ignoring invalid distribution -rotobuf (c:\\users\\matij\\onedrive\\documents\\sola\\feri\\5. semester\\uvod v racunalniski vid in razpoznavanje vzorcev\\projekt\\tenserflow object detection\\tfodcourse\\tfod\\lib\\site-packages)\n"
     ]
    }
   ],
   "source": [
    "if os.name=='nt':\n",
    "    !pip install wget\n",
    "    import wget"
   ]
  },
  {
   "cell_type": "code",
   "execution_count": 55,
   "id": "bfcdd21a",
   "metadata": {},
   "outputs": [],
   "source": [
    "!git config --system core.longpaths true"
   ]
  },
  {
   "cell_type": "code",
   "execution_count": 56,
   "id": "999d8ca1",
   "metadata": {},
   "outputs": [],
   "source": [
    "if not os.path.exists(os.path.join(paths['APIMODEL_PATH'], 'research', 'object_detection')):\n",
    "    !git clone https://github.com/tensorflow/models {paths['APIMODEL_PATH']}"
   ]
  },
  {
   "cell_type": "code",
   "execution_count": 57,
   "id": "b5aeb742",
   "metadata": {},
   "outputs": [
    {
     "ename": "SyntaxError",
     "evalue": "invalid syntax (3485578461.py, line 1)",
     "output_type": "error",
     "traceback": [
      "\u001b[1;36m  Cell \u001b[1;32mIn[57], line 1\u001b[1;36m\u001b[0m\n\u001b[1;33m    gzip -dc protoc-3.15.6-win64.zip | tar -xf -\u001b[0m\n\u001b[1;37m             ^\u001b[0m\n\u001b[1;31mSyntaxError\u001b[0m\u001b[1;31m:\u001b[0m invalid syntax\n"
     ]
    }
   ],
   "source": [
    "gzip -dc protoc-3.15.6-win64.zip | tar -xf -"
   ]
  },
  {
   "cell_type": "code",
   "execution_count": 7,
   "id": "6b775bb8",
   "metadata": {},
   "outputs": [
    {
     "name": "stdout",
     "output_type": "stream",
     "text": [
      "Tensorflow\\protoc\n"
     ]
    }
   ],
   "source": [
    "print(paths['PROTOC_PATH'])"
   ]
  },
  {
   "cell_type": "code",
   "execution_count": 8,
   "id": "31b6e2ee",
   "metadata": {},
   "outputs": [
    {
     "name": "stdout",
     "output_type": "stream",
     "text": [
      "100% [..........................................................................] 1468733 / 1468733        1 file(s) moved.\n",
      "1\n",
      "2\n"
     ]
    },
    {
     "name": "stderr",
     "output_type": "stream",
     "text": [
      "tar: This does not look like a tar archive\n",
      "tar: Skipping to next header\n",
      "tar: Exiting with failure status due to previous errors\n"
     ]
    },
    {
     "name": "stdout",
     "output_type": "stream",
     "text": [
      "^C\n",
      "3\n",
      "^C\n"
     ]
    }
   ],
   "source": [
    "# Install Tensorflow Object Detection \n",
    "if os.name=='posix':  \n",
    "    !apt-get install protobuf-compiler\n",
    "    !cd Tensorflow/models/research && protoc object_detection/protos/*.proto --python_out=. && cp object_detection/packages/tf2/setup.py . && python -m pip install . \n",
    "    \n",
    "if os.name=='nt':\n",
    "    url=\"https://github.com/protocolbuffers/protobuf/releases/download/v3.15.6/protoc-3.15.6-win64.zip\"\n",
    "    wget.download(url)\n",
    "    !move protoc-3.15.6-win64.zip {paths['PROTOC_PATH']}\n",
    "    !cd {paths['PROTOC_PATH']} && tar -xf protoc-3.15.6-win64.zip\n",
    "    print(\"1\")\n",
    "    os.environ['PATH'] += os.pathsep + os.path.abspath(os.path.join(paths['PROTOC_PATH'], 'bin'))   \n",
    "    print(\"2\")\n",
    "    !cd Tensorflow/models/research && protoc object_detection/protos/*.proto --python_out=. && copy object_detection\\\\packages\\\\tf2\\\\setup.py setup.py && python setup.py build && python setup.py install\n",
    "    print(\"3\")\n",
    "    !cd Tensorflow/models/research/slim && pip install -e . "
   ]
  },
  {
   "cell_type": "code",
   "execution_count": null,
   "id": "00675177",
   "metadata": {},
   "outputs": [],
   "source": [
    "!python --version"
   ]
  },
  {
   "cell_type": "code",
   "execution_count": 9,
   "id": "0a74eb60",
   "metadata": {
    "scrolled": true
   },
   "outputs": [
    {
     "name": "stdout",
     "output_type": "stream",
     "text": [
      "^C\n"
     ]
    }
   ],
   "source": [
    "VERIFICATION_SCRIPT = os.path.join(paths['APIMODEL_PATH'], 'research', 'object_detection', 'builders', 'model_builder_tf2_test.py')\n",
    "# Verify Installation\n",
    "!python {VERIFICATION_SCRIPT}"
   ]
  },
  {
   "cell_type": "code",
   "execution_count": null,
   "id": "ecba3612",
   "metadata": {},
   "outputs": [],
   "source": [
    "!pip install tensorflow --upgrade"
   ]
  },
  {
   "cell_type": "code",
   "execution_count": null,
   "id": "aef04eba",
   "metadata": {},
   "outputs": [],
   "source": [
    "!pip list"
   ]
  },
  {
   "cell_type": "code",
   "execution_count": 7,
   "id": "fee583c9",
   "metadata": {},
   "outputs": [],
   "source": [
    "import object_detection"
   ]
  },
  {
   "cell_type": "code",
   "execution_count": 8,
   "id": "56d258dc",
   "metadata": {},
   "outputs": [
    {
     "name": "stdout",
     "output_type": "stream",
     "text": [
      "100% [........................................................................] 20515344 / 20515344        1 file(s) moved.\n",
      "ssd_mobilenet_v2_fpnlite_320x320_coco17_tpu-8/\n",
      "ssd_mobilenet_v2_fpnlite_320x320_coco17_tpu-8/checkpoint/\n",
      "ssd_mobilenet_v2_fpnlite_320x320_coco17_tpu-8/checkpoint/ckpt-0.data-00000-of-00001\n",
      "ssd_mobilenet_v2_fpnlite_320x320_coco17_tpu-8/checkpoint/checkpoint\n",
      "ssd_mobilenet_v2_fpnlite_320x320_coco17_tpu-8/checkpoint/ckpt-0.index\n",
      "ssd_mobilenet_v2_fpnlite_320x320_coco17_tpu-8/pipeline.config\n",
      "ssd_mobilenet_v2_fpnlite_320x320_coco17_tpu-8/saved_model/\n",
      "ssd_mobilenet_v2_fpnlite_320x320_coco17_tpu-8/saved_model/saved_model.pb\n",
      "ssd_mobilenet_v2_fpnlite_320x320_coco17_tpu-8/saved_model/variables/\n",
      "ssd_mobilenet_v2_fpnlite_320x320_coco17_tpu-8/saved_model/variables/variables.data-00000-of-00001\n",
      "ssd_mobilenet_v2_fpnlite_320x320_coco17_tpu-8/saved_model/variables/variables.index\n"
     ]
    }
   ],
   "source": [
    "if os.name =='posix':\n",
    "    !wget {PRETRAINED_MODEL_URL}\n",
    "    !mv {PRETRAINED_MODEL_NAME+'.tar.gz'} {paths['PRETRAINED_MODEL_PATH']}\n",
    "    !cd {paths['PRETRAINED_MODEL_PATH']} && tar -zxvf {PRETRAINED_MODEL_NAME+'.tar.gz'}\n",
    "if os.name == 'nt':\n",
    "    wget.download(PRETRAINED_MODEL_URL)\n",
    "    !move {PRETRAINED_MODEL_NAME+'.tar.gz'} {paths['PRETRAINED_MODEL_PATH']}\n",
    "    !cd {paths['PRETRAINED_MODEL_PATH']} && tar -zxvf {PRETRAINED_MODEL_NAME+'.tar.gz'}"
   ]
  },
  {
   "cell_type": "markdown",
   "id": "cff7d810",
   "metadata": {},
   "source": [
    "# 2. Create Label Map"
   ]
  },
  {
   "cell_type": "code",
   "execution_count": 9,
   "id": "d08dc1cc",
   "metadata": {},
   "outputs": [],
   "source": [
    "labels = [{'name':'Vehicle', 'id':1}]\n",
    "\n",
    "with open(files['LABELMAP'], 'w') as f:\n",
    "    for label in labels:\n",
    "        f.write('item { \\n')\n",
    "        f.write('\\tname:\\'{}\\'\\n'.format(label['name']))\n",
    "        f.write('\\tid:{}\\n'.format(label['id']))\n",
    "        f.write('}\\n')"
   ]
  },
  {
   "cell_type": "code",
   "execution_count": 10,
   "id": "5901fda2",
   "metadata": {},
   "outputs": [
    {
     "name": "stdout",
     "output_type": "stream",
     "text": [
      "Tensorflow\\workspace\\annotations\\label_map.pbtxt\n"
     ]
    }
   ],
   "source": [
    "print(files['LABELMAP'])"
   ]
  },
  {
   "cell_type": "markdown",
   "id": "76dca870",
   "metadata": {},
   "source": [
    "# 3. Create TF records"
   ]
  },
  {
   "cell_type": "code",
   "execution_count": 14,
   "id": "97518927",
   "metadata": {},
   "outputs": [],
   "source": [
    "if not os.path.exists(files['TF_RECORD_SCRIPT']):\n",
    "    !git clone https://github.com/nicknochnack/GenerateTFRecord {paths['SCRIPTS_PATH']}"
   ]
  },
  {
   "cell_type": "code",
   "execution_count": 15,
   "id": "512a7a17",
   "metadata": {},
   "outputs": [
    {
     "data": {
      "text/plain": [
       "'Tensorflow\\\\scripts\\\\generate_tfrecord.py'"
      ]
     },
     "execution_count": 15,
     "metadata": {},
     "output_type": "execute_result"
    }
   ],
   "source": [
    "files['TF_RECORD_SCRIPT']"
   ]
  },
  {
   "cell_type": "code",
   "execution_count": 16,
   "id": "27a2631d",
   "metadata": {},
   "outputs": [
    {
     "data": {
      "text/plain": [
       "'Tensorflow\\\\scripts'"
      ]
     },
     "execution_count": 16,
     "metadata": {},
     "output_type": "execute_result"
    }
   ],
   "source": [
    "paths['SCRIPTS_PATH']"
   ]
  },
  {
   "cell_type": "code",
   "execution_count": 17,
   "id": "1a674daa",
   "metadata": {},
   "outputs": [
    {
     "name": "stdout",
     "output_type": "stream",
     "text": [
      "Name: tensorflow\n",
      "Version: 2.10.1\n",
      "Summary: TensorFlow is an open source machine learning framework for everyone.\n",
      "Home-page: https://www.tensorflow.org/\n",
      "Author: Google Inc.\n",
      "Author-email: packages@tensorflow.org\n",
      "License: Apache 2.0\n",
      "Location: c:\\users\\matij\\onedrive\\documents\\sola\\feri\\5. semester\\uvod v racunalniski vid in razpoznavanje vzorcev\\projekt\\tenserflow object detection\\tfodcourse\\tfod\\lib\\site-packages\n",
      "Requires: absl-py, astunparse, flatbuffers, gast, google-pasta, grpcio, h5py, keras, keras-preprocessing, libclang, numpy, opt-einsum, packaging, protobuf, setuptools, six, tensorboard, tensorflow-estimator, tensorflow-io-gcs-filesystem, termcolor, typing-extensions, wrapt\n",
      "Required-by: tensorflow-text, tf-models-official\n"
     ]
    }
   ],
   "source": [
    "!pip show tensorflow"
   ]
  },
  {
   "cell_type": "code",
   "execution_count": 18,
   "id": "65923b52",
   "metadata": {},
   "outputs": [
    {
     "name": "stdout",
     "output_type": "stream",
     "text": [
      "Successfully created the TFRecord file: Tensorflow\\workspace\\annotations\\train.record\n",
      "Successfully created the TFRecord file: Tensorflow\\workspace\\annotations\\test.record\n"
     ]
    }
   ],
   "source": [
    "!python {files['TF_RECORD_SCRIPT']} -x {os.path.join(paths['IMAGE_PATH'], 'train')} -l {files['LABELMAP']} -o {os.path.join(paths['ANNOTATION_PATH'], 'train.record')} \n",
    "!python {files['TF_RECORD_SCRIPT']} -x {os.path.join(paths['IMAGE_PATH'], 'test')} -l {files['LABELMAP']} -o {os.path.join(paths['ANNOTATION_PATH'], 'test.record')} "
   ]
  },
  {
   "cell_type": "markdown",
   "id": "554bbf0c",
   "metadata": {},
   "source": [
    "# 4. Copy Model Config to Training Folder"
   ]
  },
  {
   "cell_type": "code",
   "execution_count": 11,
   "id": "f9a1c3d2",
   "metadata": {},
   "outputs": [
    {
     "name": "stdout",
     "output_type": "stream",
     "text": [
      "        1 file(s) copied.\n"
     ]
    }
   ],
   "source": [
    "if os.name =='posix':\n",
    "    !cp {os.path.join(paths['PRETRAINED_MODEL_PATH'], PRETRAINED_MODEL_NAME, 'pipeline.config')} {os.path.join(paths['CHECKPOINT_PATH'])}\n",
    "if os.name == 'nt':\n",
    "    !copy {os.path.join(paths['PRETRAINED_MODEL_PATH'], PRETRAINED_MODEL_NAME, 'pipeline.config')} {os.path.join(paths['CHECKPOINT_PATH'])}"
   ]
  },
  {
   "cell_type": "markdown",
   "id": "552ac3d3",
   "metadata": {},
   "source": [
    "# 5. Update Config For Transfer Learning"
   ]
  },
  {
   "cell_type": "code",
   "execution_count": 12,
   "id": "57fcee9f",
   "metadata": {},
   "outputs": [],
   "source": [
    "import tensorflow as tf\n",
    "from object_detection.utils import config_util\n",
    "from object_detection.protos import pipeline_pb2\n",
    "from google.protobuf import text_format"
   ]
  },
  {
   "cell_type": "code",
   "execution_count": 13,
   "id": "522d19eb",
   "metadata": {},
   "outputs": [],
   "source": [
    "config = config_util.get_configs_from_pipeline_file(files['PIPELINE_CONFIG'])"
   ]
  },
  {
   "cell_type": "code",
   "execution_count": 14,
   "id": "85f4b25a",
   "metadata": {},
   "outputs": [],
   "source": [
    "pipeline_config = pipeline_pb2.TrainEvalPipelineConfig()\n",
    "with tf.io.gfile.GFile(files['PIPELINE_CONFIG'], \"r\") as f:                                                                                                                                                                                                                     \n",
    "    proto_str = f.read()                                                                                                                                                                                                                                          \n",
    "    text_format.Merge(proto_str, pipeline_config)  "
   ]
  },
  {
   "cell_type": "code",
   "execution_count": 15,
   "id": "65070e2e",
   "metadata": {},
   "outputs": [],
   "source": [
    "pipeline_config.model.ssd.num_classes = 1\n",
    "pipeline_config.train_config.batch_size = 4\n",
    "pipeline_config.train_config.fine_tune_checkpoint = os.path.join(paths['PRETRAINED_MODEL_PATH'], PRETRAINED_MODEL_NAME, 'checkpoint', 'ckpt-0')\n",
    "pipeline_config.train_config.fine_tune_checkpoint_type = \"detection\"\n",
    "pipeline_config.train_input_reader.label_map_path= files['LABELMAP']\n",
    "pipeline_config.train_input_reader.tf_record_input_reader.input_path[:] = [os.path.join(paths['ANNOTATION_PATH'], 'train.record')]\n",
    "pipeline_config.eval_input_reader[0].label_map_path = files['LABELMAP']\n",
    "pipeline_config.eval_input_reader[0].tf_record_input_reader.input_path[:] = [os.path.join(paths['ANNOTATION_PATH'], 'test.record')]\n",
    "#pipeline_config.train_input_reader.label_map_path= files['MY_LABELMAP']\n",
    "#pipeline_config.train_input_reader.tf_record_input_reader.input_path[:] = [os.path.join(paths['MY_ANNOTATION_PATH'], 'vehicles_train.tfrecord')]\n",
    "#pipeline_config.eval_input_reader[0].label_map_path = files['MY_LABELMAP']\n",
    "#pipeline_config.eval_input_reader[0].tf_record_input_reader.input_path[:] = [os.path.join(paths['MY_ANNOTATION_PATH'], 'vehicles_test.tfrecord')]"
   ]
  },
  {
   "cell_type": "code",
   "execution_count": 16,
   "id": "1d2996e4",
   "metadata": {},
   "outputs": [],
   "source": [
    "config_text = text_format.MessageToString(pipeline_config)                                                                                                                                                                                                        \n",
    "with tf.io.gfile.GFile(files['PIPELINE_CONFIG'], \"wb\") as f:                                                                                                                                                                                                                     \n",
    "    f.write(config_text)  "
   ]
  },
  {
   "cell_type": "markdown",
   "id": "2245267e",
   "metadata": {},
   "source": [
    "# 6. Train the model"
   ]
  },
  {
   "cell_type": "code",
   "execution_count": 17,
   "id": "8ed4abe5",
   "metadata": {},
   "outputs": [],
   "source": [
    "TRAINING_SCRIPT = os.path.join(paths['APIMODEL_PATH'], 'research', 'object_detection', 'model_main_tf2.py')"
   ]
  },
  {
   "cell_type": "code",
   "execution_count": 18,
   "id": "e16a7c64",
   "metadata": {},
   "outputs": [],
   "source": [
    "command = \"python {} --model_dir={} --pipeline_config_path={} --num_train_steps=6000\".format(TRAINING_SCRIPT, paths['CHECKPOINT_PATH'],files['PIPELINE_CONFIG'])"
   ]
  },
  {
   "cell_type": "code",
   "execution_count": 19,
   "id": "84df63e3",
   "metadata": {
    "scrolled": true
   },
   "outputs": [
    {
     "name": "stdout",
     "output_type": "stream",
     "text": [
      "python Tensorflow\\models\\research\\object_detection\\model_main_tf2.py --model_dir=Tensorflow\\workspace\\models\\my_ssd_mobnet --pipeline_config_path=Tensorflow\\workspace\\models\\my_ssd_mobnet\\pipeline.config --num_train_steps=6000\n"
     ]
    }
   ],
   "source": [
    "print(command)"
   ]
  },
  {
   "cell_type": "markdown",
   "id": "8100ff4b",
   "metadata": {},
   "source": [
    "# 7. Evaluate the Model"
   ]
  },
  {
   "cell_type": "code",
   "execution_count": 20,
   "id": "e8849c0d",
   "metadata": {},
   "outputs": [],
   "source": [
    "command = \"python {} --model_dir={} --pipeline_config_path={} --checkpoint_dir={}\".format(TRAINING_SCRIPT, paths['CHECKPOINT_PATH'], files['PIPELINE_CONFIG'], paths['CHECKPOINT_PATH'])"
   ]
  },
  {
   "cell_type": "code",
   "execution_count": 21,
   "id": "81132c69",
   "metadata": {},
   "outputs": [
    {
     "name": "stdout",
     "output_type": "stream",
     "text": [
      "python Tensorflow\\models\\research\\object_detection\\model_main_tf2.py --model_dir=Tensorflow\\workspace\\models\\my_ssd_mobnet --pipeline_config_path=Tensorflow\\workspace\\models\\my_ssd_mobnet\\pipeline.config --checkpoint_dir=Tensorflow\\workspace\\models\\my_ssd_mobnet\n"
     ]
    }
   ],
   "source": [
    "print(command)"
   ]
  },
  {
   "cell_type": "markdown",
   "id": "3036e877",
   "metadata": {},
   "source": [
    "# 8. Load Train Model From Checkpoint"
   ]
  },
  {
   "cell_type": "code",
   "execution_count": 22,
   "id": "d40245fb",
   "metadata": {},
   "outputs": [],
   "source": [
    "import os\n",
    "import tensorflow as tf\n",
    "from object_detection.utils import label_map_util\n",
    "from object_detection.utils import visualization_utils as viz_utils\n",
    "from object_detection.builders import model_builder\n",
    "from object_detection.utils import config_util"
   ]
  },
  {
   "cell_type": "code",
   "execution_count": 23,
   "id": "14094097",
   "metadata": {},
   "outputs": [],
   "source": [
    "# Load pipeline config and build a detection model\n",
    "configs = config_util.get_configs_from_pipeline_file(files['PIPELINE_CONFIG'])\n",
    "detection_model = model_builder.build(model_config=configs['model'], is_training=False)\n",
    "\n",
    "# Restore checkpoint\n",
    "ckpt = tf.compat.v2.train.Checkpoint(model=detection_model)\n",
    "ckpt.restore(os.path.join(paths['CHECKPOINT_PATH'], 'ckpt-6')).expect_partial()\n",
    "\n",
    "@tf.function\n",
    "def detect_fn(image):\n",
    "    image, shapes = detection_model.preprocess(image)\n",
    "    prediction_dict = detection_model.predict(image, shapes)\n",
    "    detections = detection_model.postprocess(prediction_dict, shapes)\n",
    "    return detections"
   ]
  },
  {
   "cell_type": "code",
   "execution_count": 24,
   "id": "f26052f4",
   "metadata": {},
   "outputs": [
    {
     "data": {
      "text/plain": [
       "'Tensorflow\\\\workspace\\\\models\\\\my_ssd_mobnet\\\\pipeline.config'"
      ]
     },
     "execution_count": 24,
     "metadata": {},
     "output_type": "execute_result"
    }
   ],
   "source": [
    "files['PIPELINE_CONFIG']"
   ]
  },
  {
   "cell_type": "markdown",
   "id": "1ff38d98",
   "metadata": {},
   "source": [
    "# 9. Detect from an Image"
   ]
  },
  {
   "cell_type": "code",
   "execution_count": 25,
   "id": "49cf49c2",
   "metadata": {},
   "outputs": [],
   "source": [
    "import cv2 \n",
    "import numpy as np\n",
    "from matplotlib import pyplot as plt\n",
    "%matplotlib inline"
   ]
  },
  {
   "cell_type": "code",
   "execution_count": 26,
   "id": "f445dcb2",
   "metadata": {},
   "outputs": [],
   "source": [
    "category_index = label_map_util.create_category_index_from_labelmap(files['LABELMAP'])"
   ]
  },
  {
   "cell_type": "code",
   "execution_count": 27,
   "id": "2a85bcda",
   "metadata": {},
   "outputs": [],
   "source": [
    "IMAGE_PATH = os.path.join(paths['IMAGE_PATH'], 'Custom Tests', 'bemfa.jpeg')"
   ]
  },
  {
   "cell_type": "code",
   "execution_count": 28,
   "id": "e93817b4",
   "metadata": {},
   "outputs": [
    {
     "data": {
      "image/png": "[encoded data removed]",
      "text/plain": [
       "<Figure size 640x480 with 1 Axes>"
      ]
     },
     "metadata": {},
     "output_type": "display_data"
    }
   ],
   "source": [
    "img = cv2.imread(IMAGE_PATH)\n",
    "#img = images[50]\n",
    "image_np = np.array(img)\n",
    "\n",
    "input_tensor = tf.convert_to_tensor(np.expand_dims(image_np, 0), dtype=tf.float32)\n",
    "detections = detect_fn(input_tensor)\n",
    "\n",
    "num_detections = int(detections.pop('num_detections'))\n",
    "detections = {key: value[0, :num_detections].numpy()\n",
    "              for key, value in detections.items()}\n",
    "detections['num_detections'] = num_detections\n",
    "\n",
    "# detection_classes should be ints.\n",
    "detections['detection_classes'] = detections['detection_classes'].astype(np.int64)\n",
    "\n",
    "label_id_offset = 1\n",
    "image_np_with_detections = image_np.copy()\n",
    "\n",
    "viz_utils.visualize_boxes_and_labels_on_image_array(\n",
    "            image_np_with_detections,\n",
    "            detections['detection_boxes'],\n",
    "            detections['detection_classes']+label_id_offset,\n",
    "            detections['detection_scores'],\n",
    "            category_index,\n",
    "            use_normalized_coordinates=True,\n",
    "            max_boxes_to_draw=5,\n",
    "            min_score_thresh=.8,\n",
    "            agnostic_mode=False)\n",
    "\n",
    "plt.imshow(cv2.cvtColor(image_np_with_detections, cv2.COLOR_BGR2RGB))\n",
    "plt.show()"
   ]
  },
  {
   "cell_type": "code",
   "execution_count": null,
   "id": "d68c8423",
   "metadata": {},
   "outputs": [],
   "source": [
    "num_detections"
   ]
  },
  {
   "cell_type": "code",
   "execution_count": null,
   "id": "cd6a55e1",
   "metadata": {},
   "outputs": [],
   "source": [
    "dataset = tf.data.TFRecordDataset([os.path.join(paths['MY_ANNOTATION_PATH'], 'vehicles_train.tfrecord')], compression_type='')\n",
    "\n",
    "\n",
    "for raw_record in dataset.take(1):\n",
    "    example = tf.train.Example()\n",
    "    example.ParseFromString(raw_record.numpy())\n",
    "    print(example)"
   ]
  },
  {
   "cell_type": "code",
   "execution_count": 25,
   "id": "e0d2fe9e",
   "metadata": {},
   "outputs": [],
   "source": [
    "\n",
    "\n",
    "def extract_fn(data_record):\n",
    "    features = {\n",
    "        # Extract features using the keys set during creation\n",
    "        \"image/class/label\":    tf.io.FixedLenFeature([], tf.int64),\n",
    "        \"image/encoded\":        tf.io.VarLenFeature(tf.string),\n",
    "    }\n",
    "    sample = tf.io.parse_single_example(data_record, features)\n",
    "    image = tf.image.decode_image(sample['image/encoded'], dtype=tf.float32) \n",
    "    label = sample['image/class/label']\n",
    "    return image, label\n",
    "\n"
   ]
  },
  {
   "cell_type": "code",
   "execution_count": 39,
   "id": "e889925d",
   "metadata": {},
   "outputs": [],
   "source": [
    "path_ = os.path.join(paths['MY_ANNOTATION_PATH'], 'vehicles_train.tfrecord')\n",
    "og_path = os.path.join(paths['ANNOTATION_PATH'], 'train.record')"
   ]
  },
  {
   "cell_type": "code",
   "execution_count": 40,
   "id": "a177a4b9",
   "metadata": {
    "collapsed": true
   },
   "outputs": [
    {
     "name": "stdout",
     "output_type": "stream",
     "text": [
      "WARNING:tensorflow:From C:\\Users\\matij\\AppData\\Local\\Temp\\ipykernel_42556\\3624267526.py:2: tf_record_iterator (from tensorflow.python.lib.io.tf_record) is deprecated and will be removed in a future version.\n",
      "Instructions for updating:\n",
      "Use eager execution and: \n",
      "`tf.data.TFRecordDataset(path)`\n",
      "0 :  dict_keys(['image/width', 'image/filename', 'image/height', 'image/format', 'image/object/bbox/ymin', 'image/object/class/label', 'image/object/bbox/ymax', 'image/object/class/text', 'image/object/bbox/xmin', 'image/encoded', 'image/object/bbox/xmax']) \n",
      "\n",
      "1 :  dict_keys(['image/width', 'image/filename', 'image/height', 'image/format', 'image/object/bbox/ymin', 'image/object/class/label', 'image/object/bbox/ymax', 'image/object/class/text', 'image/object/bbox/xmin', 'image/encoded', 'image/object/bbox/xmax']) \n",
      "\n",
      "2 :  dict_keys(['image/width', 'image/filename', 'image/height', 'image/format', 'image/object/bbox/ymin', 'image/object/class/label', 'image/object/bbox/ymax', 'image/object/class/text', 'image/object/bbox/xmin', 'image/encoded', 'image/object/bbox/xmax']) \n",
      "\n",
      "3 :  dict_keys(['image/width', 'image/filename', 'image/height', 'image/format', 'image/object/bbox/ymin', 'image/object/class/label', 'image/object/bbox/ymax', 'image/object/class/text', 'image/object/bbox/xmin', 'image/encoded', 'image/object/bbox/xmax']) \n",
      "\n",
      "4 :  dict_keys(['image/width', 'image/filename', 'image/height', 'image/format', 'image/object/bbox/ymin', 'image/object/class/label', 'image/object/bbox/ymax', 'image/object/class/text', 'image/object/bbox/xmin', 'image/encoded', 'image/object/bbox/xmax']) \n",
      "\n",
      "5 :  dict_keys(['image/width', 'image/filename', 'image/height', 'image/format', 'image/object/bbox/ymin', 'image/object/class/label', 'image/object/bbox/ymax', 'image/object/class/text', 'image/object/bbox/xmin', 'image/encoded', 'image/object/bbox/xmax']) \n",
      "\n",
      "6 :  dict_keys(['image/width', 'image/filename', 'image/height', 'image/format', 'image/object/bbox/ymin', 'image/object/class/label', 'image/object/bbox/ymax', 'image/object/class/text', 'image/object/bbox/xmin', 'image/encoded', 'image/object/bbox/xmax']) \n",
      "\n",
      "7 :  dict_keys(['image/width', 'image/filename', 'image/height', 'image/format', 'image/object/bbox/ymin', 'image/object/class/label', 'image/object/bbox/ymax', 'image/object/class/text', 'image/object/bbox/xmin', 'image/encoded', 'image/object/bbox/xmax']) \n",
      "\n",
      "8 :  dict_keys(['image/width', 'image/filename', 'image/height', 'image/format', 'image/object/bbox/ymin', 'image/object/class/label', 'image/object/bbox/ymax', 'image/object/class/text', 'image/object/bbox/xmin', 'image/encoded', 'image/object/bbox/xmax']) \n",
      "\n",
      "9 :  dict_keys(['image/width', 'image/filename', 'image/height', 'image/format', 'image/object/bbox/ymin', 'image/object/class/label', 'image/object/bbox/ymax', 'image/object/class/text', 'image/object/bbox/xmin', 'image/encoded', 'image/object/bbox/xmax']) \n",
      "\n",
      "10 :  dict_keys(['image/width', 'image/filename', 'image/height', 'image/format', 'image/object/bbox/ymin', 'image/object/class/label', 'image/object/bbox/ymax', 'image/object/class/text', 'image/object/bbox/xmin', 'image/encoded', 'image/object/bbox/xmax']) \n",
      "\n",
      "11 :  dict_keys(['image/width', 'image/filename', 'image/height', 'image/format', 'image/object/bbox/ymin', 'image/object/class/label', 'image/object/bbox/ymax', 'image/object/class/text', 'image/object/bbox/xmin', 'image/encoded', 'image/object/bbox/xmax']) \n",
      "\n",
      "12 :  dict_keys(['image/width', 'image/filename', 'image/height', 'image/format', 'image/object/bbox/ymin', 'image/object/class/label', 'image/object/bbox/ymax', 'image/object/class/text', 'image/object/bbox/xmin', 'image/encoded', 'image/object/bbox/xmax']) \n",
      "\n",
      "13 :  dict_keys(['image/width', 'image/filename', 'image/height', 'image/format', 'image/object/bbox/ymin', 'image/object/class/label', 'image/object/bbox/ymax', 'image/object/class/text', 'image/object/bbox/xmin', 'image/encoded', 'image/object/bbox/xmax']) \n",
      "\n",
      "14 :  dict_keys(['image/width', 'image/filename', 'image/height', 'image/format', 'image/object/bbox/ymin', 'image/object/class/label', 'image/object/bbox/ymax', 'image/object/class/text', 'image/object/bbox/xmin', 'image/encoded', 'image/object/bbox/xmax']) \n",
      "\n",
      "15 :  dict_keys(['image/width', 'image/filename', 'image/height', 'image/format', 'image/object/bbox/ymin', 'image/object/class/label', 'image/object/bbox/ymax', 'image/object/class/text', 'image/object/bbox/xmin', 'image/encoded', 'image/object/bbox/xmax']) \n",
      "\n",
      "16 :  dict_keys(['image/width', 'image/filename', 'image/height', 'image/format', 'image/object/bbox/ymin', 'image/object/class/label', 'image/object/bbox/ymax', 'image/object/class/text', 'image/object/bbox/xmin', 'image/encoded', 'image/object/bbox/xmax']) \n",
      "\n",
      "17 :  dict_keys(['image/width', 'image/filename', 'image/height', 'image/format', 'image/object/bbox/ymin', 'image/object/class/label', 'image/object/bbox/ymax', 'image/object/class/text', 'image/object/bbox/xmin', 'image/encoded', 'image/object/bbox/xmax']) \n",
      "\n",
      "18 :  dict_keys(['image/width', 'image/filename', 'image/height', 'image/format', 'image/object/bbox/ymin', 'image/object/class/label', 'image/object/bbox/ymax', 'image/object/class/text', 'image/object/bbox/xmin', 'image/encoded', 'image/object/bbox/xmax']) \n",
      "\n",
      "19 :  dict_keys(['image/width', 'image/filename', 'image/height', 'image/format', 'image/object/bbox/ymin', 'image/object/class/label', 'image/object/bbox/ymax', 'image/object/class/text', 'image/object/bbox/xmin', 'image/encoded', 'image/object/bbox/xmax']) \n",
      "\n",
      "20 :  dict_keys(['image/width', 'image/filename', 'image/height', 'image/format', 'image/object/bbox/ymin', 'image/object/class/label', 'image/object/bbox/ymax', 'image/object/class/text', 'image/object/bbox/xmin', 'image/encoded', 'image/object/bbox/xmax']) \n",
      "\n",
      "21 :  dict_keys(['image/width', 'image/filename', 'image/height', 'image/format', 'image/object/bbox/ymin', 'image/object/class/label', 'image/object/bbox/ymax', 'image/object/class/text', 'image/object/bbox/xmin', 'image/encoded', 'image/object/bbox/xmax']) \n",
      "\n",
      "22 :  dict_keys(['image/width', 'image/filename', 'image/height', 'image/format', 'image/object/bbox/ymin', 'image/object/class/label', 'image/object/bbox/ymax', 'image/object/class/text', 'image/object/bbox/xmin', 'image/encoded', 'image/object/bbox/xmax']) \n",
      "\n",
      "23 :  dict_keys(['image/width', 'image/filename', 'image/height', 'image/format', 'image/object/bbox/ymin', 'image/object/class/label', 'image/object/bbox/ymax', 'image/object/class/text', 'image/object/bbox/xmin', 'image/encoded', 'image/object/bbox/xmax']) \n",
      "\n",
      "24 :  dict_keys(['image/width', 'image/filename', 'image/height', 'image/format', 'image/object/bbox/ymin', 'image/object/class/label', 'image/object/bbox/ymax', 'image/object/class/text', 'image/object/bbox/xmin', 'image/encoded', 'image/object/bbox/xmax']) \n",
      "\n",
      "25 :  dict_keys(['image/width', 'image/filename', 'image/height', 'image/format', 'image/object/bbox/ymin', 'image/object/class/label', 'image/object/bbox/ymax', 'image/object/class/text', 'image/object/bbox/xmin', 'image/encoded', 'image/object/bbox/xmax']) \n",
      "\n",
      "26 :  dict_keys(['image/width', 'image/filename', 'image/height', 'image/format', 'image/object/bbox/ymin', 'image/object/class/label', 'image/object/bbox/ymax', 'image/object/class/text', 'image/object/bbox/xmin', 'image/encoded', 'image/object/bbox/xmax']) \n",
      "\n",
      "27 :  dict_keys(['image/width', 'image/filename', 'image/height', 'image/format', 'image/object/bbox/ymin', 'image/object/class/label', 'image/object/bbox/ymax', 'image/object/class/text', 'image/object/bbox/xmin', 'image/encoded', 'image/object/bbox/xmax']) \n",
      "\n",
      "28 :  dict_keys(['image/width', 'image/filename', 'image/height', 'image/format', 'image/object/bbox/ymin', 'image/object/class/label', 'image/object/bbox/ymax', 'image/object/class/text', 'image/object/bbox/xmin', 'image/encoded', 'image/object/bbox/xmax']) \n",
      "\n",
      "29 :  dict_keys(['image/width', 'image/filename', 'image/height', 'image/format', 'image/object/bbox/ymin', 'image/object/class/label', 'image/object/bbox/ymax', 'image/object/class/text', 'image/object/bbox/xmin', 'image/encoded', 'image/object/bbox/xmax']) \n",
      "\n",
      "30 :  dict_keys(['image/width', 'image/filename', 'image/height', 'image/format', 'image/object/bbox/ymin', 'image/object/class/label', 'image/object/bbox/ymax', 'image/object/class/text', 'image/object/bbox/xmin', 'image/encoded', 'image/object/bbox/xmax']) \n",
      "\n",
      "31 :  dict_keys(['image/width', 'image/filename', 'image/height', 'image/format', 'image/object/bbox/ymin', 'image/object/class/label', 'image/object/bbox/ymax', 'image/object/class/text', 'image/object/bbox/xmin', 'image/encoded', 'image/object/bbox/xmax']) \n",
      "\n",
      "32 :  dict_keys(['image/width', 'image/filename', 'image/height', 'image/format', 'image/object/bbox/ymin', 'image/object/class/label', 'image/object/bbox/ymax', 'image/object/class/text', 'image/object/bbox/xmin', 'image/encoded', 'image/object/bbox/xmax']) \n",
      "\n",
      "33 :  dict_keys(['image/width', 'image/filename', 'image/height', 'image/format', 'image/object/bbox/ymin', 'image/object/class/label', 'image/object/bbox/ymax', 'image/object/class/text', 'image/object/bbox/xmin', 'image/encoded', 'image/object/bbox/xmax']) \n",
      "\n",
      "34 :  dict_keys(['image/width', 'image/filename', 'image/height', 'image/format', 'image/object/bbox/ymin', 'image/object/class/label', 'image/object/bbox/ymax', 'image/object/class/text', 'image/object/bbox/xmin', 'image/encoded', 'image/object/bbox/xmax']) \n",
      "\n",
      "35 :  dict_keys(['image/width', 'image/filename', 'image/height', 'image/format', 'image/object/bbox/ymin', 'image/object/class/label', 'image/object/bbox/ymax', 'image/object/class/text', 'image/object/bbox/xmin', 'image/encoded', 'image/object/bbox/xmax']) \n",
      "\n",
      "36 :  dict_keys(['image/width', 'image/filename', 'image/height', 'image/format', 'image/object/bbox/ymin', 'image/object/class/label', 'image/object/bbox/ymax', 'image/object/class/text', 'image/object/bbox/xmin', 'image/encoded', 'image/object/bbox/xmax']) \n",
      "\n",
      "37 :  dict_keys(['image/width', 'image/filename', 'image/height', 'image/format', 'image/object/bbox/ymin', 'image/object/class/label', 'image/object/bbox/ymax', 'image/object/class/text', 'image/object/bbox/xmin', 'image/encoded', 'image/object/bbox/xmax']) \n",
      "\n",
      "38 :  dict_keys(['image/width', 'image/filename', 'image/height', 'image/format', 'image/object/bbox/ymin', 'image/object/class/label', 'image/object/bbox/ymax', 'image/object/class/text', 'image/object/bbox/xmin', 'image/encoded', 'image/object/bbox/xmax']) \n",
      "\n",
      "39 :  dict_keys(['image/width', 'image/filename', 'image/height', 'image/format', 'image/object/bbox/ymin', 'image/object/class/label', 'image/object/bbox/ymax', 'image/object/class/text', 'image/object/bbox/xmin', 'image/encoded', 'image/object/bbox/xmax']) \n",
      "\n",
      "40 :  dict_keys(['image/width', 'image/filename', 'image/height', 'image/format', 'image/object/bbox/ymin', 'image/object/class/label', 'image/object/bbox/ymax', 'image/object/class/text', 'image/object/bbox/xmin', 'image/encoded', 'image/object/bbox/xmax']) \n",
      "\n",
      "41 :  dict_keys(['image/width', 'image/filename', 'image/height', 'image/format', 'image/object/bbox/ymin', 'image/object/class/label', 'image/object/bbox/ymax', 'image/object/class/text', 'image/object/bbox/xmin', 'image/encoded', 'image/object/bbox/xmax']) \n",
      "\n",
      "42 :  dict_keys(['image/width', 'image/filename', 'image/height', 'image/format', 'image/object/bbox/ymin', 'image/object/class/label', 'image/object/bbox/ymax', 'image/object/class/text', 'image/object/bbox/xmin', 'image/encoded', 'image/object/bbox/xmax']) \n",
      "\n",
      "43 :  dict_keys(['image/width', 'image/filename', 'image/height', 'image/format', 'image/object/bbox/ymin', 'image/object/class/label', 'image/object/bbox/ymax', 'image/object/class/text', 'image/object/bbox/xmin', 'image/encoded', 'image/object/bbox/xmax']) \n",
      "\n",
      "44 :  dict_keys(['image/width', 'image/filename', 'image/height', 'image/format', 'image/object/bbox/ymin', 'image/object/class/label', 'image/object/bbox/ymax', 'image/object/class/text', 'image/object/bbox/xmin', 'image/encoded', 'image/object/bbox/xmax']) \n",
      "\n",
      "45 :  dict_keys(['image/width', 'image/filename', 'image/height', 'image/format', 'image/object/bbox/ymin', 'image/object/class/label', 'image/object/bbox/ymax', 'image/object/class/text', 'image/object/bbox/xmin', 'image/encoded', 'image/object/bbox/xmax']) \n",
      "\n",
      "46 :  dict_keys(['image/width', 'image/filename', 'image/height', 'image/format', 'image/object/bbox/ymin', 'image/object/class/label', 'image/object/bbox/ymax', 'image/object/class/text', 'image/object/bbox/xmin', 'image/encoded', 'image/object/bbox/xmax']) \n",
      "\n",
      "47 :  dict_keys(['image/width', 'image/filename', 'image/height', 'image/format', 'image/object/bbox/ymin', 'image/object/class/label', 'image/object/bbox/ymax', 'image/object/class/text', 'image/object/bbox/xmin', 'image/encoded', 'image/object/bbox/xmax']) \n",
      "\n",
      "48 :  dict_keys(['image/width', 'image/filename', 'image/height', 'image/format', 'image/object/bbox/ymin', 'image/object/class/label', 'image/object/bbox/ymax', 'image/object/class/text', 'image/object/bbox/xmin', 'image/encoded', 'image/object/bbox/xmax']) \n",
      "\n",
      "49 :  dict_keys(['image/width', 'image/filename', 'image/height', 'image/format', 'image/object/bbox/ymin', 'image/object/class/label', 'image/object/bbox/ymax', 'image/object/class/text', 'image/object/bbox/xmin', 'image/encoded', 'image/object/bbox/xmax']) \n",
      "\n",
      "50 :  dict_keys(['image/width', 'image/filename', 'image/height', 'image/format', 'image/object/bbox/ymin', 'image/object/class/label', 'image/object/bbox/ymax', 'image/object/class/text', 'image/object/bbox/xmin', 'image/encoded', 'image/object/bbox/xmax']) \n",
      "\n",
      "51 :  dict_keys(['image/width', 'image/filename', 'image/height', 'image/format', 'image/object/bbox/ymin', 'image/object/class/label', 'image/object/bbox/ymax', 'image/object/class/text', 'image/object/bbox/xmin', 'image/encoded', 'image/object/bbox/xmax']) \n",
      "\n",
      "52 :  dict_keys(['image/width', 'image/filename', 'image/height', 'image/format', 'image/object/bbox/ymin', 'image/object/class/label', 'image/object/bbox/ymax', 'image/object/class/text', 'image/object/bbox/xmin', 'image/encoded', 'image/object/bbox/xmax']) \n",
      "\n",
      "53 :  dict_keys(['image/width', 'image/filename', 'image/height', 'image/format', 'image/object/bbox/ymin', 'image/object/class/label', 'image/object/bbox/ymax', 'image/object/class/text', 'image/object/bbox/xmin', 'image/encoded', 'image/object/bbox/xmax']) \n",
      "\n",
      "54 :  dict_keys(['image/width', 'image/filename', 'image/height', 'image/format', 'image/object/bbox/ymin', 'image/object/class/label', 'image/object/bbox/ymax', 'image/object/class/text', 'image/object/bbox/xmin', 'image/encoded', 'image/object/bbox/xmax']) \n",
      "\n",
      "55 :  dict_keys(['image/width', 'image/filename', 'image/height', 'image/format', 'image/object/bbox/ymin', 'image/object/class/label', 'image/object/bbox/ymax', 'image/object/class/text', 'image/object/bbox/xmin', 'image/encoded', 'image/object/bbox/xmax']) \n",
      "\n",
      "56 :  dict_keys(['image/width', 'image/filename', 'image/height', 'image/format', 'image/object/bbox/ymin', 'image/object/class/label', 'image/object/bbox/ymax', 'image/object/class/text', 'image/object/bbox/xmin', 'image/encoded', 'image/object/bbox/xmax']) \n",
      "\n",
      "57 :  dict_keys(['image/width', 'image/filename', 'image/height', 'image/format', 'image/object/bbox/ymin', 'image/object/class/label', 'image/object/bbox/ymax', 'image/object/class/text', 'image/object/bbox/xmin', 'image/encoded', 'image/object/bbox/xmax']) \n",
      "\n",
      "58 :  dict_keys(['image/width', 'image/filename', 'image/height', 'image/format', 'image/object/bbox/ymin', 'image/object/class/label', 'image/object/bbox/ymax', 'image/object/class/text', 'image/object/bbox/xmin', 'image/encoded', 'image/object/bbox/xmax']) \n",
      "\n",
      "59 :  dict_keys(['image/width', 'image/filename', 'image/height', 'image/format', 'image/object/bbox/ymin', 'image/object/class/label', 'image/object/bbox/ymax', 'image/object/class/text', 'image/object/bbox/xmin', 'image/encoded', 'image/object/bbox/xmax']) \n",
      "\n",
      "60 :  dict_keys(['image/width', 'image/filename', 'image/height', 'image/format', 'image/object/bbox/ymin', 'image/object/class/label', 'image/object/bbox/ymax', 'image/object/class/text', 'image/object/bbox/xmin', 'image/encoded', 'image/object/bbox/xmax']) \n",
      "\n",
      "61 :  dict_keys(['image/width', 'image/filename', 'image/height', 'image/format', 'image/object/bbox/ymin', 'image/object/class/label', 'image/object/bbox/ymax', 'image/object/class/text', 'image/object/bbox/xmin', 'image/encoded', 'image/object/bbox/xmax']) \n",
      "\n",
      "62 :  dict_keys(['image/width', 'image/filename', 'image/height', 'image/format', 'image/object/bbox/ymin', 'image/object/class/label', 'image/object/bbox/ymax', 'image/object/class/text', 'image/object/bbox/xmin', 'image/encoded', 'image/object/bbox/xmax']) \n",
      "\n",
      "63 :  dict_keys(['image/width', 'image/filename', 'image/height', 'image/format', 'image/object/bbox/ymin', 'image/object/class/label', 'image/object/bbox/ymax', 'image/object/class/text', 'image/object/bbox/xmin', 'image/encoded', 'image/object/bbox/xmax']) \n",
      "\n",
      "64 :  dict_keys(['image/width', 'image/filename', 'image/height', 'image/format', 'image/object/bbox/ymin', 'image/object/class/label', 'image/object/bbox/ymax', 'image/object/class/text', 'image/object/bbox/xmin', 'image/encoded', 'image/object/bbox/xmax']) \n",
      "\n",
      "65 :  dict_keys(['image/width', 'image/filename', 'image/height', 'image/format', 'image/object/bbox/ymin', 'image/object/class/label', 'image/object/bbox/ymax', 'image/object/class/text', 'image/object/bbox/xmin', 'image/encoded', 'image/object/bbox/xmax']) \n",
      "\n",
      "66 :  dict_keys(['image/width', 'image/filename', 'image/height', 'image/format', 'image/object/bbox/ymin', 'image/object/class/label', 'image/object/bbox/ymax', 'image/object/class/text', 'image/object/bbox/xmin', 'image/encoded', 'image/object/bbox/xmax']) \n",
      "\n",
      "67 :  dict_keys(['image/width', 'image/filename', 'image/height', 'image/format', 'image/object/bbox/ymin', 'image/object/class/label', 'image/object/bbox/ymax', 'image/object/class/text', 'image/object/bbox/xmin', 'image/encoded', 'image/object/bbox/xmax']) \n",
      "\n",
      "68 :  dict_keys(['image/width', 'image/filename', 'image/height', 'image/format', 'image/object/bbox/ymin', 'image/object/class/label', 'image/object/bbox/ymax', 'image/object/class/text', 'image/object/bbox/xmin', 'image/encoded', 'image/object/bbox/xmax']) \n",
      "\n",
      "69 :  dict_keys(['image/width', 'image/filename', 'image/height', 'image/format', 'image/object/bbox/ymin', 'image/object/class/label', 'image/object/bbox/ymax', 'image/object/class/text', 'image/object/bbox/xmin', 'image/encoded', 'image/object/bbox/xmax']) \n",
      "\n",
      "70 :  dict_keys(['image/width', 'image/filename', 'image/height', 'image/format', 'image/object/bbox/ymin', 'image/object/class/label', 'image/object/bbox/ymax', 'image/object/class/text', 'image/object/bbox/xmin', 'image/encoded', 'image/object/bbox/xmax']) \n",
      "\n",
      "71 :  dict_keys(['image/width', 'image/filename', 'image/height', 'image/format', 'image/object/bbox/ymin', 'image/object/class/label', 'image/object/bbox/ymax', 'image/object/class/text', 'image/object/bbox/xmin', 'image/encoded', 'image/object/bbox/xmax']) \n",
      "\n",
      "72 :  dict_keys(['image/width', 'image/filename', 'image/height', 'image/format', 'image/object/bbox/ymin', 'image/object/class/label', 'image/object/bbox/ymax', 'image/object/class/text', 'image/object/bbox/xmin', 'image/encoded', 'image/object/bbox/xmax']) \n",
      "\n",
      "73 :  dict_keys(['image/width', 'image/filename', 'image/height', 'image/format', 'image/object/bbox/ymin', 'image/object/class/label', 'image/object/bbox/ymax', 'image/object/class/text', 'image/object/bbox/xmin', 'image/encoded', 'image/object/bbox/xmax']) \n",
      "\n",
      "74 :  dict_keys(['image/width', 'image/filename', 'image/height', 'image/format', 'image/object/bbox/ymin', 'image/object/class/label', 'image/object/bbox/ymax', 'image/object/class/text', 'image/object/bbox/xmin', 'image/encoded', 'image/object/bbox/xmax']) \n",
      "\n",
      "75 :  dict_keys(['image/width', 'image/filename', 'image/height', 'image/format', 'image/object/bbox/ymin', 'image/object/class/label', 'image/object/bbox/ymax', 'image/object/class/text', 'image/object/bbox/xmin', 'image/encoded', 'image/object/bbox/xmax']) \n",
      "\n",
      "76 :  dict_keys(['image/width', 'image/filename', 'image/height', 'image/format', 'image/object/bbox/ymin', 'image/object/class/label', 'image/object/bbox/ymax', 'image/object/class/text', 'image/object/bbox/xmin', 'image/encoded', 'image/object/bbox/xmax']) \n",
      "\n",
      "77 :  dict_keys(['image/width', 'image/filename', 'image/height', 'image/format', 'image/object/bbox/ymin', 'image/object/class/label', 'image/object/bbox/ymax', 'image/object/class/text', 'image/object/bbox/xmin', 'image/encoded', 'image/object/bbox/xmax']) \n",
      "\n",
      "78 :  dict_keys(['image/width', 'image/filename', 'image/height', 'image/format', 'image/object/bbox/ymin', 'image/object/class/label', 'image/object/bbox/ymax', 'image/object/class/text', 'image/object/bbox/xmin', 'image/encoded', 'image/object/bbox/xmax']) \n",
      "\n",
      "79 :  dict_keys(['image/width', 'image/filename', 'image/height', 'image/format', 'image/object/bbox/ymin', 'image/object/class/label', 'image/object/bbox/ymax', 'image/object/class/text', 'image/object/bbox/xmin', 'image/encoded', 'image/object/bbox/xmax']) \n",
      "\n",
      "80 :  dict_keys(['image/width', 'image/filename', 'image/height', 'image/format', 'image/object/bbox/ymin', 'image/object/class/label', 'image/object/bbox/ymax', 'image/object/class/text', 'image/object/bbox/xmin', 'image/encoded', 'image/object/bbox/xmax']) \n",
      "\n",
      "81 :  dict_keys(['image/width', 'image/filename', 'image/height', 'image/format', 'image/object/bbox/ymin', 'image/object/class/label', 'image/object/bbox/ymax', 'image/object/class/text', 'image/object/bbox/xmin', 'image/encoded', 'image/object/bbox/xmax']) \n",
      "\n",
      "82 :  dict_keys(['image/width', 'image/filename', 'image/height', 'image/format', 'image/object/bbox/ymin', 'image/object/class/label', 'image/object/bbox/ymax', 'image/object/class/text', 'image/object/bbox/xmin', 'image/encoded', 'image/object/bbox/xmax']) \n",
      "\n",
      "83 :  dict_keys(['image/width', 'image/filename', 'image/height', 'image/format', 'image/object/bbox/ymin', 'image/object/class/label', 'image/object/bbox/ymax', 'image/object/class/text', 'image/object/bbox/xmin', 'image/encoded', 'image/object/bbox/xmax']) \n",
      "\n",
      "84 :  dict_keys(['image/width', 'image/filename', 'image/height', 'image/format', 'image/object/bbox/ymin', 'image/object/class/label', 'image/object/bbox/ymax', 'image/object/class/text', 'image/object/bbox/xmin', 'image/encoded', 'image/object/bbox/xmax']) \n",
      "\n",
      "85 :  dict_keys(['image/width', 'image/filename', 'image/height', 'image/format', 'image/object/bbox/ymin', 'image/object/class/label', 'image/object/bbox/ymax', 'image/object/class/text', 'image/object/bbox/xmin', 'image/encoded', 'image/object/bbox/xmax']) \n",
      "\n",
      "86 :  dict_keys(['image/width', 'image/filename', 'image/height', 'image/format', 'image/object/bbox/ymin', 'image/object/class/label', 'image/object/bbox/ymax', 'image/object/class/text', 'image/object/bbox/xmin', 'image/encoded', 'image/object/bbox/xmax']) \n",
      "\n",
      "87 :  dict_keys(['image/width', 'image/filename', 'image/height', 'image/format', 'image/object/bbox/ymin', 'image/object/class/label', 'image/object/bbox/ymax', 'image/object/class/text', 'image/object/bbox/xmin', 'image/encoded', 'image/object/bbox/xmax']) \n",
      "\n",
      "88 :  dict_keys(['image/width', 'image/filename', 'image/height', 'image/format', 'image/object/bbox/ymin', 'image/object/class/label', 'image/object/bbox/ymax', 'image/object/class/text', 'image/object/bbox/xmin', 'image/encoded', 'image/object/bbox/xmax']) \n",
      "\n",
      "89 :  dict_keys(['image/width', 'image/filename', 'image/height', 'image/format', 'image/object/bbox/ymin', 'image/object/class/label', 'image/object/bbox/ymax', 'image/object/class/text', 'image/object/bbox/xmin', 'image/encoded', 'image/object/bbox/xmax']) \n",
      "\n",
      "90 :  dict_keys(['image/width', 'image/filename', 'image/height', 'image/format', 'image/object/bbox/ymin', 'image/object/class/label', 'image/object/bbox/ymax', 'image/object/class/text', 'image/object/bbox/xmin', 'image/encoded', 'image/object/bbox/xmax']) \n",
      "\n",
      "91 :  dict_keys(['image/width', 'image/filename', 'image/height', 'image/format', 'image/object/bbox/ymin', 'image/object/class/label', 'image/object/bbox/ymax', 'image/object/class/text', 'image/object/bbox/xmin', 'image/encoded', 'image/object/bbox/xmax']) \n",
      "\n",
      "92 :  dict_keys(['image/width', 'image/filename', 'image/height', 'image/format', 'image/object/bbox/ymin', 'image/object/class/label', 'image/object/bbox/ymax', 'image/object/class/text', 'image/object/bbox/xmin', 'image/encoded', 'image/object/bbox/xmax']) \n",
      "\n",
      "93 :  dict_keys(['image/width', 'image/filename', 'image/height', 'image/format', 'image/object/bbox/ymin', 'image/object/class/label', 'image/object/bbox/ymax', 'image/object/class/text', 'image/object/bbox/xmin', 'image/encoded', 'image/object/bbox/xmax']) \n",
      "\n",
      "94 :  dict_keys(['image/width', 'image/filename', 'image/height', 'image/format', 'image/object/bbox/ymin', 'image/object/class/label', 'image/object/bbox/ymax', 'image/object/class/text', 'image/object/bbox/xmin', 'image/encoded', 'image/object/bbox/xmax']) \n",
      "\n",
      "95 :  dict_keys(['image/width', 'image/filename', 'image/height', 'image/format', 'image/object/bbox/ymin', 'image/object/class/label', 'image/object/bbox/ymax', 'image/object/class/text', 'image/object/bbox/xmin', 'image/encoded', 'image/object/bbox/xmax']) \n",
      "\n",
      "96 :  dict_keys(['image/width', 'image/filename', 'image/height', 'image/format', 'image/object/bbox/ymin', 'image/object/class/label', 'image/object/bbox/ymax', 'image/object/class/text', 'image/object/bbox/xmin', 'image/encoded', 'image/object/bbox/xmax']) \n",
      "\n",
      "97 :  dict_keys(['image/width', 'image/filename', 'image/height', 'image/format', 'image/object/bbox/ymin', 'image/object/class/label', 'image/object/bbox/ymax', 'image/object/class/text', 'image/object/bbox/xmin', 'image/encoded', 'image/object/bbox/xmax']) \n",
      "\n",
      "98 :  dict_keys(['image/width', 'image/filename', 'image/height', 'image/format', 'image/object/bbox/ymin', 'image/object/class/label', 'image/object/bbox/ymax', 'image/object/class/text', 'image/object/bbox/xmin', 'image/encoded', 'image/object/bbox/xmax']) \n",
      "\n",
      "99 :  dict_keys(['image/width', 'image/filename', 'image/height', 'image/format', 'image/object/bbox/ymin', 'image/object/class/label', 'image/object/bbox/ymax', 'image/object/class/text', 'image/object/bbox/xmin', 'image/encoded', 'image/object/bbox/xmax']) \n",
      "\n",
      "100 :  dict_keys(['image/width', 'image/filename', 'image/height', 'image/format', 'image/object/bbox/ymin', 'image/object/class/label', 'image/object/bbox/ymax', 'image/object/class/text', 'image/object/bbox/xmin', 'image/encoded', 'image/object/bbox/xmax']) \n",
      "\n",
      "101 :  dict_keys(['image/width', 'image/filename', 'image/height', 'image/format', 'image/object/bbox/ymin', 'image/object/class/label', 'image/object/bbox/ymax', 'image/object/class/text', 'image/object/bbox/xmin', 'image/encoded', 'image/object/bbox/xmax']) \n",
      "\n",
      "102 :  dict_keys(['image/width', 'image/filename', 'image/height', 'image/format', 'image/object/bbox/ymin', 'image/object/class/label', 'image/object/bbox/ymax', 'image/object/class/text', 'image/object/bbox/xmin', 'image/encoded', 'image/object/bbox/xmax']) \n",
      "\n",
      "103 :  dict_keys(['image/width', 'image/filename', 'image/height', 'image/format', 'image/object/bbox/ymin', 'image/object/class/label', 'image/object/bbox/ymax', 'image/object/class/text', 'image/object/bbox/xmin', 'image/encoded', 'image/object/bbox/xmax']) \n",
      "\n",
      "104 :  dict_keys(['image/width', 'image/filename', 'image/height', 'image/format', 'image/object/bbox/ymin', 'image/object/class/label', 'image/object/bbox/ymax', 'image/object/class/text', 'image/object/bbox/xmin', 'image/encoded', 'image/object/bbox/xmax']) \n",
      "\n",
      "105 :  dict_keys(['image/width', 'image/filename', 'image/height', 'image/format', 'image/object/bbox/ymin', 'image/object/class/label', 'image/object/bbox/ymax', 'image/object/class/text', 'image/object/bbox/xmin', 'image/encoded', 'image/object/bbox/xmax']) \n",
      "\n",
      "106 :  dict_keys(['image/width', 'image/filename', 'image/height', 'image/format', 'image/object/bbox/ymin', 'image/object/class/label', 'image/object/bbox/ymax', 'image/object/class/text', 'image/object/bbox/xmin', 'image/encoded', 'image/object/bbox/xmax']) \n",
      "\n",
      "107 :  dict_keys(['image/width', 'image/filename', 'image/height', 'image/format', 'image/object/bbox/ymin', 'image/object/class/label', 'image/object/bbox/ymax', 'image/object/class/text', 'image/object/bbox/xmin', 'image/encoded', 'image/object/bbox/xmax']) \n",
      "\n",
      "108 :  dict_keys(['image/width', 'image/filename', 'image/height', 'image/format', 'image/object/bbox/ymin', 'image/object/class/label', 'image/object/bbox/ymax', 'image/object/class/text', 'image/object/bbox/xmin', 'image/encoded', 'image/object/bbox/xmax']) \n",
      "\n",
      "109 :  dict_keys(['image/width', 'image/filename', 'image/height', 'image/format', 'image/object/bbox/ymin', 'image/object/class/label', 'image/object/bbox/ymax', 'image/object/class/text', 'image/object/bbox/xmin', 'image/encoded', 'image/object/bbox/xmax']) \n",
      "\n",
      "110 :  dict_keys(['image/width', 'image/filename', 'image/height', 'image/format', 'image/object/bbox/ymin', 'image/object/class/label', 'image/object/bbox/ymax', 'image/object/class/text', 'image/object/bbox/xmin', 'image/encoded', 'image/object/bbox/xmax']) \n",
      "\n",
      "111 :  dict_keys(['image/width', 'image/filename', 'image/height', 'image/format', 'image/object/bbox/ymin', 'image/object/class/label', 'image/object/bbox/ymax', 'image/object/class/text', 'image/object/bbox/xmin', 'image/encoded', 'image/object/bbox/xmax']) \n",
      "\n",
      "112 :  dict_keys(['image/width', 'image/filename', 'image/height', 'image/format', 'image/object/bbox/ymin', 'image/object/class/label', 'image/object/bbox/ymax', 'image/object/class/text', 'image/object/bbox/xmin', 'image/encoded', 'image/object/bbox/xmax']) \n",
      "\n",
      "113 :  dict_keys(['image/width', 'image/filename', 'image/height', 'image/format', 'image/object/bbox/ymin', 'image/object/class/label', 'image/object/bbox/ymax', 'image/object/class/text', 'image/object/bbox/xmin', 'image/encoded', 'image/object/bbox/xmax']) \n",
      "\n",
      "114 :  dict_keys(['image/width', 'image/filename', 'image/height', 'image/format', 'image/object/bbox/ymin', 'image/object/class/label', 'image/object/bbox/ymax', 'image/object/class/text', 'image/object/bbox/xmin', 'image/encoded', 'image/object/bbox/xmax']) \n",
      "\n",
      "115 :  dict_keys(['image/width', 'image/filename', 'image/height', 'image/format', 'image/object/bbox/ymin', 'image/object/class/label', 'image/object/bbox/ymax', 'image/object/class/text', 'image/object/bbox/xmin', 'image/encoded', 'image/object/bbox/xmax']) \n",
      "\n",
      "116 :  dict_keys(['image/width', 'image/filename', 'image/height', 'image/format', 'image/object/bbox/ymin', 'image/object/class/label', 'image/object/bbox/ymax', 'image/object/class/text', 'image/object/bbox/xmin', 'image/encoded', 'image/object/bbox/xmax']) \n",
      "\n",
      "117 :  dict_keys(['image/width', 'image/filename', 'image/height', 'image/format', 'image/object/bbox/ymin', 'image/object/class/label', 'image/object/bbox/ymax', 'image/object/class/text', 'image/object/bbox/xmin', 'image/encoded', 'image/object/bbox/xmax']) \n",
      "\n",
      "118 :  dict_keys(['image/width', 'image/filename', 'image/height', 'image/format', 'image/object/bbox/ymin', 'image/object/class/label', 'image/object/bbox/ymax', 'image/object/class/text', 'image/object/bbox/xmin', 'image/encoded', 'image/object/bbox/xmax']) \n",
      "\n",
      "119 :  dict_keys(['image/width', 'image/filename', 'image/height', 'image/format', 'image/object/bbox/ymin', 'image/object/class/label', 'image/object/bbox/ymax', 'image/object/class/text', 'image/object/bbox/xmin', 'image/encoded', 'image/object/bbox/xmax']) \n",
      "\n",
      "120 :  dict_keys(['image/width', 'image/filename', 'image/height', 'image/format', 'image/object/bbox/ymin', 'image/object/class/label', 'image/object/bbox/ymax', 'image/object/class/text', 'image/object/bbox/xmin', 'image/encoded', 'image/object/bbox/xmax']) \n",
      "\n",
      "121 :  dict_keys(['image/width', 'image/filename', 'image/height', 'image/format', 'image/object/bbox/ymin', 'image/object/class/label', 'image/object/bbox/ymax', 'image/object/class/text', 'image/object/bbox/xmin', 'image/encoded', 'image/object/bbox/xmax']) \n",
      "\n",
      "122 :  dict_keys(['image/width', 'image/filename', 'image/height', 'image/format', 'image/object/bbox/ymin', 'image/object/class/label', 'image/object/bbox/ymax', 'image/object/class/text', 'image/object/bbox/xmin', 'image/encoded', 'image/object/bbox/xmax']) \n",
      "\n",
      "123 :  dict_keys(['image/width', 'image/filename', 'image/height', 'image/format', 'image/object/bbox/ymin', 'image/object/class/label', 'image/object/bbox/ymax', 'image/object/class/text', 'image/object/bbox/xmin', 'image/encoded', 'image/object/bbox/xmax']) \n",
      "\n",
      "124 :  dict_keys(['image/width', 'image/filename', 'image/height', 'image/format', 'image/object/bbox/ymin', 'image/object/class/label', 'image/object/bbox/ymax', 'image/object/class/text', 'image/object/bbox/xmin', 'image/encoded', 'image/object/bbox/xmax']) \n",
      "\n",
      "125 :  dict_keys(['image/width', 'image/filename', 'image/height', 'image/format', 'image/object/bbox/ymin', 'image/object/class/label', 'image/object/bbox/ymax', 'image/object/class/text', 'image/object/bbox/xmin', 'image/encoded', 'image/object/bbox/xmax']) \n",
      "\n",
      "126 :  dict_keys(['image/width', 'image/filename', 'image/height', 'image/format', 'image/object/bbox/ymin', 'image/object/class/label', 'image/object/bbox/ymax', 'image/object/class/text', 'image/object/bbox/xmin', 'image/encoded', 'image/object/bbox/xmax']) \n",
      "\n",
      "127 :  dict_keys(['image/width', 'image/filename', 'image/height', 'image/format', 'image/object/bbox/ymin', 'image/object/class/label', 'image/object/bbox/ymax', 'image/object/class/text', 'image/object/bbox/xmin', 'image/encoded', 'image/object/bbox/xmax']) \n",
      "\n",
      "128 :  dict_keys(['image/width', 'image/filename', 'image/height', 'image/format', 'image/object/bbox/ymin', 'image/object/class/label', 'image/object/bbox/ymax', 'image/object/class/text', 'image/object/bbox/xmin', 'image/encoded', 'image/object/bbox/xmax']) \n",
      "\n",
      "129 :  dict_keys(['image/width', 'image/filename', 'image/height', 'image/format', 'image/object/bbox/ymin', 'image/object/class/label', 'image/object/bbox/ymax', 'image/object/class/text', 'image/object/bbox/xmin', 'image/encoded', 'image/object/bbox/xmax']) \n",
      "\n",
      "130 :  dict_keys(['image/width', 'image/filename', 'image/height', 'image/format', 'image/object/bbox/ymin', 'image/object/class/label', 'image/object/bbox/ymax', 'image/object/class/text', 'image/object/bbox/xmin', 'image/encoded', 'image/object/bbox/xmax']) \n",
      "\n",
      "131 :  dict_keys(['image/width', 'image/filename', 'image/height', 'image/format', 'image/object/bbox/ymin', 'image/object/class/label', 'image/object/bbox/ymax', 'image/object/class/text', 'image/object/bbox/xmin', 'image/encoded', 'image/object/bbox/xmax']) \n",
      "\n",
      "132 :  dict_keys(['image/width', 'image/filename', 'image/height', 'image/format', 'image/object/bbox/ymin', 'image/object/class/label', 'image/object/bbox/ymax', 'image/object/class/text', 'image/object/bbox/xmin', 'image/encoded', 'image/object/bbox/xmax']) \n",
      "\n",
      "133 :  dict_keys(['image/width', 'image/filename', 'image/height', 'image/format', 'image/object/bbox/ymin', 'image/object/class/label', 'image/object/bbox/ymax', 'image/object/class/text', 'image/object/bbox/xmin', 'image/encoded', 'image/object/bbox/xmax']) \n",
      "\n",
      "134 :  dict_keys(['image/width', 'image/filename', 'image/height', 'image/format', 'image/object/bbox/ymin', 'image/object/class/label', 'image/object/bbox/ymax', 'image/object/class/text', 'image/object/bbox/xmin', 'image/encoded', 'image/object/bbox/xmax']) \n",
      "\n",
      "135 :  dict_keys(['image/width', 'image/filename', 'image/height', 'image/format', 'image/object/bbox/ymin', 'image/object/class/label', 'image/object/bbox/ymax', 'image/object/class/text', 'image/object/bbox/xmin', 'image/encoded', 'image/object/bbox/xmax']) \n",
      "\n",
      "136 :  dict_keys(['image/width', 'image/filename', 'image/height', 'image/format', 'image/object/bbox/ymin', 'image/object/class/label', 'image/object/bbox/ymax', 'image/object/class/text', 'image/object/bbox/xmin', 'image/encoded', 'image/object/bbox/xmax']) \n",
      "\n",
      "137 :  dict_keys(['image/width', 'image/filename', 'image/height', 'image/format', 'image/object/bbox/ymin', 'image/object/class/label', 'image/object/bbox/ymax', 'image/object/class/text', 'image/object/bbox/xmin', 'image/encoded', 'image/object/bbox/xmax']) \n",
      "\n",
      "138 :  dict_keys(['image/width', 'image/filename', 'image/height', 'image/format', 'image/object/bbox/ymin', 'image/object/class/label', 'image/object/bbox/ymax', 'image/object/class/text', 'image/object/bbox/xmin', 'image/encoded', 'image/object/bbox/xmax']) \n",
      "\n",
      "139 :  dict_keys(['image/width', 'image/filename', 'image/height', 'image/format', 'image/object/bbox/ymin', 'image/object/class/label', 'image/object/bbox/ymax', 'image/object/class/text', 'image/object/bbox/xmin', 'image/encoded', 'image/object/bbox/xmax']) \n",
      "\n",
      "140 :  dict_keys(['image/width', 'image/filename', 'image/height', 'image/format', 'image/object/bbox/ymin', 'image/object/class/label', 'image/object/bbox/ymax', 'image/object/class/text', 'image/object/bbox/xmin', 'image/encoded', 'image/object/bbox/xmax']) \n",
      "\n",
      "141 :  dict_keys(['image/width', 'image/filename', 'image/height', 'image/format', 'image/object/bbox/ymin', 'image/object/class/label', 'image/object/bbox/ymax', 'image/object/class/text', 'image/object/bbox/xmin', 'image/encoded', 'image/object/bbox/xmax']) \n",
      "\n",
      "142 :  dict_keys(['image/width', 'image/filename', 'image/height', 'image/format', 'image/object/bbox/ymin', 'image/object/class/label', 'image/object/bbox/ymax', 'image/object/class/text', 'image/object/bbox/xmin', 'image/encoded', 'image/object/bbox/xmax']) \n",
      "\n",
      "143 :  dict_keys(['image/width', 'image/filename', 'image/height', 'image/format', 'image/object/bbox/ymin', 'image/object/class/label', 'image/object/bbox/ymax', 'image/object/class/text', 'image/object/bbox/xmin', 'image/encoded', 'image/object/bbox/xmax']) \n",
      "\n",
      "144 :  dict_keys(['image/width', 'image/filename', 'image/height', 'image/format', 'image/object/bbox/ymin', 'image/object/class/label', 'image/object/bbox/ymax', 'image/object/class/text', 'image/object/bbox/xmin', 'image/encoded', 'image/object/bbox/xmax']) \n",
      "\n",
      "145 :  dict_keys(['image/width', 'image/filename', 'image/height', 'image/format', 'image/object/bbox/ymin', 'image/object/class/label', 'image/object/bbox/ymax', 'image/object/class/text', 'image/object/bbox/xmin', 'image/encoded', 'image/object/bbox/xmax']) \n",
      "\n",
      "146 :  dict_keys(['image/width', 'image/filename', 'image/height', 'image/format', 'image/object/bbox/ymin', 'image/object/class/label', 'image/object/bbox/ymax', 'image/object/class/text', 'image/object/bbox/xmin', 'image/encoded', 'image/object/bbox/xmax']) \n",
      "\n",
      "147 :  dict_keys(['image/width', 'image/filename', 'image/height', 'image/format', 'image/object/bbox/ymin', 'image/object/class/label', 'image/object/bbox/ymax', 'image/object/class/text', 'image/object/bbox/xmin', 'image/encoded', 'image/object/bbox/xmax']) \n",
      "\n",
      "148 :  dict_keys(['image/width', 'image/filename', 'image/height', 'image/format', 'image/object/bbox/ymin', 'image/object/class/label', 'image/object/bbox/ymax', 'image/object/class/text', 'image/object/bbox/xmin', 'image/encoded', 'image/object/bbox/xmax']) \n",
      "\n",
      "149 :  dict_keys(['image/width', 'image/filename', 'image/height', 'image/format', 'image/object/bbox/ymin', 'image/object/class/label', 'image/object/bbox/ymax', 'image/object/class/text', 'image/object/bbox/xmin', 'image/encoded', 'image/object/bbox/xmax']) \n",
      "\n",
      "150 :  dict_keys(['image/width', 'image/filename', 'image/height', 'image/format', 'image/object/bbox/ymin', 'image/object/class/label', 'image/object/bbox/ymax', 'image/object/class/text', 'image/object/bbox/xmin', 'image/encoded', 'image/object/bbox/xmax']) \n",
      "\n",
      "151 :  dict_keys(['image/width', 'image/filename', 'image/height', 'image/format', 'image/object/bbox/ymin', 'image/object/class/label', 'image/object/bbox/ymax', 'image/object/class/text', 'image/object/bbox/xmin', 'image/encoded', 'image/object/bbox/xmax']) \n",
      "\n",
      "152 :  dict_keys(['image/width', 'image/filename', 'image/height', 'image/format', 'image/object/bbox/ymin', 'image/object/class/label', 'image/object/bbox/ymax', 'image/object/class/text', 'image/object/bbox/xmin', 'image/encoded', 'image/object/bbox/xmax']) \n",
      "\n",
      "153 :  dict_keys(['image/width', 'image/filename', 'image/height', 'image/format', 'image/object/bbox/ymin', 'image/object/class/label', 'image/object/bbox/ymax', 'image/object/class/text', 'image/object/bbox/xmin', 'image/encoded', 'image/object/bbox/xmax']) \n",
      "\n",
      "154 :  dict_keys(['image/width', 'image/filename', 'image/height', 'image/format', 'image/object/bbox/ymin', 'image/object/class/label', 'image/object/bbox/ymax', 'image/object/class/text', 'image/object/bbox/xmin', 'image/encoded', 'image/object/bbox/xmax']) \n",
      "\n",
      "155 :  dict_keys(['image/width', 'image/filename', 'image/height', 'image/format', 'image/object/bbox/ymin', 'image/object/class/label', 'image/object/bbox/ymax', 'image/object/class/text', 'image/object/bbox/xmin', 'image/encoded', 'image/object/bbox/xmax']) \n",
      "\n",
      "156 :  dict_keys(['image/width', 'image/filename', 'image/height', 'image/format', 'image/object/bbox/ymin', 'image/object/class/label', 'image/object/bbox/ymax', 'image/object/class/text', 'image/object/bbox/xmin', 'image/encoded', 'image/object/bbox/xmax']) \n",
      "\n",
      "157 :  dict_keys(['image/width', 'image/filename', 'image/height', 'image/format', 'image/object/bbox/ymin', 'image/object/class/label', 'image/object/bbox/ymax', 'image/object/class/text', 'image/object/bbox/xmin', 'image/encoded', 'image/object/bbox/xmax']) \n",
      "\n",
      "158 :  dict_keys(['image/width', 'image/filename', 'image/height', 'image/format', 'image/object/bbox/ymin', 'image/object/class/label', 'image/object/bbox/ymax', 'image/object/class/text', 'image/object/bbox/xmin', 'image/encoded', 'image/object/bbox/xmax']) \n",
      "\n",
      "159 :  dict_keys(['image/width', 'image/filename', 'image/height', 'image/format', 'image/object/bbox/ymin', 'image/object/class/label', 'image/object/bbox/ymax', 'image/object/class/text', 'image/object/bbox/xmin', 'image/encoded', 'image/object/bbox/xmax']) \n",
      "\n",
      "160 :  dict_keys(['image/width', 'image/filename', 'image/height', 'image/format', 'image/object/bbox/ymin', 'image/object/class/label', 'image/object/bbox/ymax', 'image/object/class/text', 'image/object/bbox/xmin', 'image/encoded', 'image/object/bbox/xmax']) \n",
      "\n",
      "161 :  dict_keys(['image/width', 'image/filename', 'image/height', 'image/format', 'image/object/bbox/ymin', 'image/object/class/label', 'image/object/bbox/ymax', 'image/object/class/text', 'image/object/bbox/xmin', 'image/encoded', 'image/object/bbox/xmax']) \n",
      "\n",
      "162 :  dict_keys(['image/width', 'image/filename', 'image/height', 'image/format', 'image/object/bbox/ymin', 'image/object/class/label', 'image/object/bbox/ymax', 'image/object/class/text', 'image/object/bbox/xmin', 'image/encoded', 'image/object/bbox/xmax']) \n",
      "\n",
      "163 :  dict_keys(['image/width', 'image/filename', 'image/height', 'image/format', 'image/object/bbox/ymin', 'image/object/class/label', 'image/object/bbox/ymax', 'image/object/class/text', 'image/object/bbox/xmin', 'image/encoded', 'image/object/bbox/xmax']) \n",
      "\n",
      "164 :  dict_keys(['image/width', 'image/filename', 'image/height', 'image/format', 'image/object/bbox/ymin', 'image/object/class/label', 'image/object/bbox/ymax', 'image/object/class/text', 'image/object/bbox/xmin', 'image/encoded', 'image/object/bbox/xmax']) \n",
      "\n",
      "165 :  dict_keys(['image/width', 'image/filename', 'image/height', 'image/format', 'image/object/bbox/ymin', 'image/object/class/label', 'image/object/bbox/ymax', 'image/object/class/text', 'image/object/bbox/xmin', 'image/encoded', 'image/object/bbox/xmax']) \n",
      "\n",
      "166 :  dict_keys(['image/width', 'image/filename', 'image/height', 'image/format', 'image/object/bbox/ymin', 'image/object/class/label', 'image/object/bbox/ymax', 'image/object/class/text', 'image/object/bbox/xmin', 'image/encoded', 'image/object/bbox/xmax']) \n",
      "\n",
      "167 :  dict_keys(['image/width', 'image/filename', 'image/height', 'image/format', 'image/object/bbox/ymin', 'image/object/class/label', 'image/object/bbox/ymax', 'image/object/class/text', 'image/object/bbox/xmin', 'image/encoded', 'image/object/bbox/xmax']) \n",
      "\n",
      "168 :  dict_keys(['image/width', 'image/filename', 'image/height', 'image/format', 'image/object/bbox/ymin', 'image/object/class/label', 'image/object/bbox/ymax', 'image/object/class/text', 'image/object/bbox/xmin', 'image/encoded', 'image/object/bbox/xmax']) \n",
      "\n",
      "169 :  dict_keys(['image/width', 'image/filename', 'image/height', 'image/format', 'image/object/bbox/ymin', 'image/object/class/label', 'image/object/bbox/ymax', 'image/object/class/text', 'image/object/bbox/xmin', 'image/encoded', 'image/object/bbox/xmax']) \n",
      "\n",
      "170 :  dict_keys(['image/width', 'image/filename', 'image/height', 'image/format', 'image/object/bbox/ymin', 'image/object/class/label', 'image/object/bbox/ymax', 'image/object/class/text', 'image/object/bbox/xmin', 'image/encoded', 'image/object/bbox/xmax']) \n",
      "\n",
      "171 :  dict_keys(['image/width', 'image/filename', 'image/height', 'image/format', 'image/object/bbox/ymin', 'image/object/class/label', 'image/object/bbox/ymax', 'image/object/class/text', 'image/object/bbox/xmin', 'image/encoded', 'image/object/bbox/xmax']) \n",
      "\n",
      "172 :  dict_keys(['image/width', 'image/filename', 'image/height', 'image/format', 'image/object/bbox/ymin', 'image/object/class/label', 'image/object/bbox/ymax', 'image/object/class/text', 'image/object/bbox/xmin', 'image/encoded', 'image/object/bbox/xmax']) \n",
      "\n",
      "173 :  dict_keys(['image/width', 'image/filename', 'image/height', 'image/format', 'image/object/bbox/ymin', 'image/object/class/label', 'image/object/bbox/ymax', 'image/object/class/text', 'image/object/bbox/xmin', 'image/encoded', 'image/object/bbox/xmax']) \n",
      "\n",
      "174 :  dict_keys(['image/width', 'image/filename', 'image/height', 'image/format', 'image/object/bbox/ymin', 'image/object/class/label', 'image/object/bbox/ymax', 'image/object/class/text', 'image/object/bbox/xmin', 'image/encoded', 'image/object/bbox/xmax']) \n",
      "\n",
      "175 :  dict_keys(['image/width', 'image/filename', 'image/height', 'image/format', 'image/object/bbox/ymin', 'image/object/class/label', 'image/object/bbox/ymax', 'image/object/class/text', 'image/object/bbox/xmin', 'image/encoded', 'image/object/bbox/xmax']) \n",
      "\n",
      "176 :  dict_keys(['image/width', 'image/filename', 'image/height', 'image/format', 'image/object/bbox/ymin', 'image/object/class/label', 'image/object/bbox/ymax', 'image/object/class/text', 'image/object/bbox/xmin', 'image/encoded', 'image/object/bbox/xmax']) \n",
      "\n",
      "177 :  dict_keys(['image/width', 'image/filename', 'image/height', 'image/format', 'image/object/bbox/ymin', 'image/object/class/label', 'image/object/bbox/ymax', 'image/object/class/text', 'image/object/bbox/xmin', 'image/encoded', 'image/object/bbox/xmax']) \n",
      "\n",
      "178 :  dict_keys(['image/width', 'image/filename', 'image/height', 'image/format', 'image/object/bbox/ymin', 'image/object/class/label', 'image/object/bbox/ymax', 'image/object/class/text', 'image/object/bbox/xmin', 'image/encoded', 'image/object/bbox/xmax']) \n",
      "\n",
      "179 :  dict_keys(['image/width', 'image/filename', 'image/height', 'image/format', 'image/object/bbox/ymin', 'image/object/class/label', 'image/object/bbox/ymax', 'image/object/class/text', 'image/object/bbox/xmin', 'image/encoded', 'image/object/bbox/xmax']) \n",
      "\n",
      "180 :  dict_keys(['image/width', 'image/filename', 'image/height', 'image/format', 'image/object/bbox/ymin', 'image/object/class/label', 'image/object/bbox/ymax', 'image/object/class/text', 'image/object/bbox/xmin', 'image/encoded', 'image/object/bbox/xmax']) \n",
      "\n",
      "181 :  dict_keys(['image/width', 'image/filename', 'image/height', 'image/format', 'image/object/bbox/ymin', 'image/object/class/label', 'image/object/bbox/ymax', 'image/object/class/text', 'image/object/bbox/xmin', 'image/encoded', 'image/object/bbox/xmax']) \n",
      "\n",
      "182 :  dict_keys(['image/width', 'image/filename', 'image/height', 'image/format', 'image/object/bbox/ymin', 'image/object/class/label', 'image/object/bbox/ymax', 'image/object/class/text', 'image/object/bbox/xmin', 'image/encoded', 'image/object/bbox/xmax']) \n",
      "\n",
      "183 :  dict_keys(['image/width', 'image/filename', 'image/height', 'image/format', 'image/object/bbox/ymin', 'image/object/class/label', 'image/object/bbox/ymax', 'image/object/class/text', 'image/object/bbox/xmin', 'image/encoded', 'image/object/bbox/xmax']) \n",
      "\n",
      "184 :  dict_keys(['image/width', 'image/filename', 'image/height', 'image/format', 'image/object/bbox/ymin', 'image/object/class/label', 'image/object/bbox/ymax', 'image/object/class/text', 'image/object/bbox/xmin', 'image/encoded', 'image/object/bbox/xmax']) \n",
      "\n",
      "185 :  dict_keys(['image/width', 'image/filename', 'image/height', 'image/format', 'image/object/bbox/ymin', 'image/object/class/label', 'image/object/bbox/ymax', 'image/object/class/text', 'image/object/bbox/xmin', 'image/encoded', 'image/object/bbox/xmax']) \n",
      "\n",
      "186 :  dict_keys(['image/width', 'image/filename', 'image/height', 'image/format', 'image/object/bbox/ymin', 'image/object/class/label', 'image/object/bbox/ymax', 'image/object/class/text', 'image/object/bbox/xmin', 'image/encoded', 'image/object/bbox/xmax']) \n",
      "\n",
      "187 :  dict_keys(['image/width', 'image/filename', 'image/height', 'image/format', 'image/object/bbox/ymin', 'image/object/class/label', 'image/object/bbox/ymax', 'image/object/class/text', 'image/object/bbox/xmin', 'image/encoded', 'image/object/bbox/xmax']) \n",
      "\n",
      "188 :  dict_keys(['image/width', 'image/filename', 'image/height', 'image/format', 'image/object/bbox/ymin', 'image/object/class/label', 'image/object/bbox/ymax', 'image/object/class/text', 'image/object/bbox/xmin', 'image/encoded', 'image/object/bbox/xmax']) \n",
      "\n",
      "189 :  dict_keys(['image/width', 'image/filename', 'image/height', 'image/format', 'image/object/bbox/ymin', 'image/object/class/label', 'image/object/bbox/ymax', 'image/object/class/text', 'image/object/bbox/xmin', 'image/encoded', 'image/object/bbox/xmax']) \n",
      "\n",
      "190 :  dict_keys(['image/width', 'image/filename', 'image/height', 'image/format', 'image/object/bbox/ymin', 'image/object/class/label', 'image/object/bbox/ymax', 'image/object/class/text', 'image/object/bbox/xmin', 'image/encoded', 'image/object/bbox/xmax']) \n",
      "\n",
      "191 :  dict_keys(['image/width', 'image/filename', 'image/height', 'image/format', 'image/object/bbox/ymin', 'image/object/class/label', 'image/object/bbox/ymax', 'image/object/class/text', 'image/object/bbox/xmin', 'image/encoded', 'image/object/bbox/xmax']) \n",
      "\n",
      "192 :  dict_keys(['image/width', 'image/filename', 'image/height', 'image/format', 'image/object/bbox/ymin', 'image/object/class/label', 'image/object/bbox/ymax', 'image/object/class/text', 'image/object/bbox/xmin', 'image/encoded', 'image/object/bbox/xmax']) \n",
      "\n",
      "193 :  dict_keys(['image/width', 'image/filename', 'image/height', 'image/format', 'image/object/bbox/ymin', 'image/object/class/label', 'image/object/bbox/ymax', 'image/object/class/text', 'image/object/bbox/xmin', 'image/encoded', 'image/object/bbox/xmax']) \n",
      "\n",
      "194 :  dict_keys(['image/width', 'image/filename', 'image/height', 'image/format', 'image/object/bbox/ymin', 'image/object/class/label', 'image/object/bbox/ymax', 'image/object/class/text', 'image/object/bbox/xmin', 'image/encoded', 'image/object/bbox/xmax']) \n",
      "\n",
      "195 :  dict_keys(['image/width', 'image/filename', 'image/height', 'image/format', 'image/object/bbox/ymin', 'image/object/class/label', 'image/object/bbox/ymax', 'image/object/class/text', 'image/object/bbox/xmin', 'image/encoded', 'image/object/bbox/xmax']) \n",
      "\n",
      "196 :  dict_keys(['image/width', 'image/filename', 'image/height', 'image/format', 'image/object/bbox/ymin', 'image/object/class/label', 'image/object/bbox/ymax', 'image/object/class/text', 'image/object/bbox/xmin', 'image/encoded', 'image/object/bbox/xmax']) \n",
      "\n",
      "197 :  dict_keys(['image/width', 'image/filename', 'image/height', 'image/format', 'image/object/bbox/ymin', 'image/object/class/label', 'image/object/bbox/ymax', 'image/object/class/text', 'image/object/bbox/xmin', 'image/encoded', 'image/object/bbox/xmax']) \n",
      "\n",
      "198 :  dict_keys(['image/width', 'image/filename', 'image/height', 'image/format', 'image/object/bbox/ymin', 'image/object/class/label', 'image/object/bbox/ymax', 'image/object/class/text', 'image/object/bbox/xmin', 'image/encoded', 'image/object/bbox/xmax']) \n",
      "\n",
      "199 :  dict_keys(['image/width', 'image/filename', 'image/height', 'image/format', 'image/object/bbox/ymin', 'image/object/class/label', 'image/object/bbox/ymax', 'image/object/class/text', 'image/object/bbox/xmin', 'image/encoded', 'image/object/bbox/xmax']) \n",
      "\n",
      "200 :  dict_keys(['image/width', 'image/filename', 'image/height', 'image/format', 'image/object/bbox/ymin', 'image/object/class/label', 'image/object/bbox/ymax', 'image/object/class/text', 'image/object/bbox/xmin', 'image/encoded', 'image/object/bbox/xmax']) \n",
      "\n",
      "201 :  dict_keys(['image/width', 'image/filename', 'image/height', 'image/format', 'image/object/bbox/ymin', 'image/object/class/label', 'image/object/bbox/ymax', 'image/object/class/text', 'image/object/bbox/xmin', 'image/encoded', 'image/object/bbox/xmax']) \n",
      "\n",
      "202 :  dict_keys(['image/width', 'image/filename', 'image/height', 'image/format', 'image/object/bbox/ymin', 'image/object/class/label', 'image/object/bbox/ymax', 'image/object/class/text', 'image/object/bbox/xmin', 'image/encoded', 'image/object/bbox/xmax']) \n",
      "\n",
      "203 :  dict_keys(['image/width', 'image/filename', 'image/height', 'image/format', 'image/object/bbox/ymin', 'image/object/class/label', 'image/object/bbox/ymax', 'image/object/class/text', 'image/object/bbox/xmin', 'image/encoded', 'image/object/bbox/xmax']) \n",
      "\n",
      "204 :  dict_keys(['image/width', 'image/filename', 'image/height', 'image/format', 'image/object/bbox/ymin', 'image/object/class/label', 'image/object/bbox/ymax', 'image/object/class/text', 'image/object/bbox/xmin', 'image/encoded', 'image/object/bbox/xmax']) \n",
      "\n",
      "205 :  dict_keys(['image/width', 'image/filename', 'image/height', 'image/format', 'image/object/bbox/ymin', 'image/object/class/label', 'image/object/bbox/ymax', 'image/object/class/text', 'image/object/bbox/xmin', 'image/encoded', 'image/object/bbox/xmax']) \n",
      "\n",
      "206 :  dict_keys(['image/width', 'image/filename', 'image/height', 'image/format', 'image/object/bbox/ymin', 'image/object/class/label', 'image/object/bbox/ymax', 'image/object/class/text', 'image/object/bbox/xmin', 'image/encoded', 'image/object/bbox/xmax']) \n",
      "\n",
      "207 :  dict_keys(['image/width', 'image/filename', 'image/height', 'image/format', 'image/object/bbox/ymin', 'image/object/class/label', 'image/object/bbox/ymax', 'image/object/class/text', 'image/object/bbox/xmin', 'image/encoded', 'image/object/bbox/xmax']) \n",
      "\n",
      "208 :  dict_keys(['image/width', 'image/filename', 'image/height', 'image/format', 'image/object/bbox/ymin', 'image/object/class/label', 'image/object/bbox/ymax', 'image/object/class/text', 'image/object/bbox/xmin', 'image/encoded', 'image/object/bbox/xmax']) \n",
      "\n",
      "209 :  dict_keys(['image/width', 'image/filename', 'image/height', 'image/format', 'image/object/bbox/ymin', 'image/object/class/label', 'image/object/bbox/ymax', 'image/object/class/text', 'image/object/bbox/xmin', 'image/encoded', 'image/object/bbox/xmax']) \n",
      "\n",
      "210 :  dict_keys(['image/width', 'image/filename', 'image/height', 'image/format', 'image/object/bbox/ymin', 'image/object/class/label', 'image/object/bbox/ymax', 'image/object/class/text', 'image/object/bbox/xmin', 'image/encoded', 'image/object/bbox/xmax']) \n",
      "\n",
      "211 :  dict_keys(['image/width', 'image/filename', 'image/height', 'image/format', 'image/object/bbox/ymin', 'image/object/class/label', 'image/object/bbox/ymax', 'image/object/class/text', 'image/object/bbox/xmin', 'image/encoded', 'image/object/bbox/xmax']) \n",
      "\n",
      "212 :  dict_keys(['image/width', 'image/filename', 'image/height', 'image/format', 'image/object/bbox/ymin', 'image/object/class/label', 'image/object/bbox/ymax', 'image/object/class/text', 'image/object/bbox/xmin', 'image/encoded', 'image/object/bbox/xmax']) \n",
      "\n",
      "213 :  dict_keys(['image/width', 'image/filename', 'image/height', 'image/format', 'image/object/bbox/ymin', 'image/object/class/label', 'image/object/bbox/ymax', 'image/object/class/text', 'image/object/bbox/xmin', 'image/encoded', 'image/object/bbox/xmax']) \n",
      "\n",
      "214 :  dict_keys(['image/width', 'image/filename', 'image/height', 'image/format', 'image/object/bbox/ymin', 'image/object/class/label', 'image/object/bbox/ymax', 'image/object/class/text', 'image/object/bbox/xmin', 'image/encoded', 'image/object/bbox/xmax']) \n",
      "\n",
      "215 :  dict_keys(['image/width', 'image/filename', 'image/height', 'image/format', 'image/object/bbox/ymin', 'image/object/class/label', 'image/object/bbox/ymax', 'image/object/class/text', 'image/object/bbox/xmin', 'image/encoded', 'image/object/bbox/xmax']) \n",
      "\n",
      "216 :  dict_keys(['image/width', 'image/filename', 'image/height', 'image/format', 'image/object/bbox/ymin', 'image/object/class/label', 'image/object/bbox/ymax', 'image/object/class/text', 'image/object/bbox/xmin', 'image/encoded', 'image/object/bbox/xmax']) \n",
      "\n",
      "217 :  dict_keys(['image/width', 'image/filename', 'image/height', 'image/format', 'image/object/bbox/ymin', 'image/object/class/label', 'image/object/bbox/ymax', 'image/object/class/text', 'image/object/bbox/xmin', 'image/encoded', 'image/object/bbox/xmax']) \n",
      "\n",
      "218 :  dict_keys(['image/width', 'image/filename', 'image/height', 'image/format', 'image/object/bbox/ymin', 'image/object/class/label', 'image/object/bbox/ymax', 'image/object/class/text', 'image/object/bbox/xmin', 'image/encoded', 'image/object/bbox/xmax']) \n",
      "\n",
      "219 :  dict_keys(['image/width', 'image/filename', 'image/height', 'image/format', 'image/object/bbox/ymin', 'image/object/class/label', 'image/object/bbox/ymax', 'image/object/class/text', 'image/object/bbox/xmin', 'image/encoded', 'image/object/bbox/xmax']) \n",
      "\n",
      "220 :  dict_keys(['image/width', 'image/filename', 'image/height', 'image/format', 'image/object/bbox/ymin', 'image/object/class/label', 'image/object/bbox/ymax', 'image/object/class/text', 'image/object/bbox/xmin', 'image/encoded', 'image/object/bbox/xmax']) \n",
      "\n",
      "221 :  dict_keys(['image/width', 'image/filename', 'image/height', 'image/format', 'image/object/bbox/ymin', 'image/object/class/label', 'image/object/bbox/ymax', 'image/object/class/text', 'image/object/bbox/xmin', 'image/encoded', 'image/object/bbox/xmax']) \n",
      "\n",
      "222 :  dict_keys(['image/width', 'image/filename', 'image/height', 'image/format', 'image/object/bbox/ymin', 'image/object/class/label', 'image/object/bbox/ymax', 'image/object/class/text', 'image/object/bbox/xmin', 'image/encoded', 'image/object/bbox/xmax']) \n",
      "\n",
      "223 :  dict_keys(['image/width', 'image/filename', 'image/height', 'image/format', 'image/object/bbox/ymin', 'image/object/class/label', 'image/object/bbox/ymax', 'image/object/class/text', 'image/object/bbox/xmin', 'image/encoded', 'image/object/bbox/xmax']) \n",
      "\n",
      "224 :  dict_keys(['image/width', 'image/filename', 'image/height', 'image/format', 'image/object/bbox/ymin', 'image/object/class/label', 'image/object/bbox/ymax', 'image/object/class/text', 'image/object/bbox/xmin', 'image/encoded', 'image/object/bbox/xmax']) \n",
      "\n",
      "225 :  dict_keys(['image/width', 'image/filename', 'image/height', 'image/format', 'image/object/bbox/ymin', 'image/object/class/label', 'image/object/bbox/ymax', 'image/object/class/text', 'image/object/bbox/xmin', 'image/encoded', 'image/object/bbox/xmax']) \n",
      "\n",
      "226 :  dict_keys(['image/width', 'image/filename', 'image/height', 'image/format', 'image/object/bbox/ymin', 'image/object/class/label', 'image/object/bbox/ymax', 'image/object/class/text', 'image/object/bbox/xmin', 'image/encoded', 'image/object/bbox/xmax']) \n",
      "\n",
      "227 :  dict_keys(['image/width', 'image/filename', 'image/height', 'image/format', 'image/object/bbox/ymin', 'image/object/class/label', 'image/object/bbox/ymax', 'image/object/class/text', 'image/object/bbox/xmin', 'image/encoded', 'image/object/bbox/xmax']) \n",
      "\n",
      "228 :  dict_keys(['image/width', 'image/filename', 'image/height', 'image/format', 'image/object/bbox/ymin', 'image/object/class/label', 'image/object/bbox/ymax', 'image/object/class/text', 'image/object/bbox/xmin', 'image/encoded', 'image/object/bbox/xmax']) \n",
      "\n",
      "229 :  dict_keys(['image/width', 'image/filename', 'image/height', 'image/format', 'image/object/bbox/ymin', 'image/object/class/label', 'image/object/bbox/ymax', 'image/object/class/text', 'image/object/bbox/xmin', 'image/encoded', 'image/object/bbox/xmax']) \n",
      "\n",
      "230 :  dict_keys(['image/width', 'image/filename', 'image/height', 'image/format', 'image/object/bbox/ymin', 'image/object/class/label', 'image/object/bbox/ymax', 'image/object/class/text', 'image/object/bbox/xmin', 'image/encoded', 'image/object/bbox/xmax']) \n",
      "\n",
      "231 :  dict_keys(['image/width', 'image/filename', 'image/height', 'image/format', 'image/object/bbox/ymin', 'image/object/class/label', 'image/object/bbox/ymax', 'image/object/class/text', 'image/object/bbox/xmin', 'image/encoded', 'image/object/bbox/xmax']) \n",
      "\n",
      "232 :  dict_keys(['image/width', 'image/filename', 'image/height', 'image/format', 'image/object/bbox/ymin', 'image/object/class/label', 'image/object/bbox/ymax', 'image/object/class/text', 'image/object/bbox/xmin', 'image/encoded', 'image/object/bbox/xmax']) \n",
      "\n",
      "233 :  dict_keys(['image/width', 'image/filename', 'image/height', 'image/format', 'image/object/bbox/ymin', 'image/object/class/label', 'image/object/bbox/ymax', 'image/object/class/text', 'image/object/bbox/xmin', 'image/encoded', 'image/object/bbox/xmax']) \n",
      "\n",
      "234 :  dict_keys(['image/width', 'image/filename', 'image/height', 'image/format', 'image/object/bbox/ymin', 'image/object/class/label', 'image/object/bbox/ymax', 'image/object/class/text', 'image/object/bbox/xmin', 'image/encoded', 'image/object/bbox/xmax']) \n",
      "\n",
      "235 :  dict_keys(['image/width', 'image/filename', 'image/height', 'image/format', 'image/object/bbox/ymin', 'image/object/class/label', 'image/object/bbox/ymax', 'image/object/class/text', 'image/object/bbox/xmin', 'image/encoded', 'image/object/bbox/xmax']) \n",
      "\n",
      "236 :  dict_keys(['image/width', 'image/filename', 'image/height', 'image/format', 'image/object/bbox/ymin', 'image/object/class/label', 'image/object/bbox/ymax', 'image/object/class/text', 'image/object/bbox/xmin', 'image/encoded', 'image/object/bbox/xmax']) \n",
      "\n",
      "237 :  dict_keys(['image/width', 'image/filename', 'image/height', 'image/format', 'image/object/bbox/ymin', 'image/object/class/label', 'image/object/bbox/ymax', 'image/object/class/text', 'image/object/bbox/xmin', 'image/encoded', 'image/object/bbox/xmax']) \n",
      "\n",
      "238 :  dict_keys(['image/width', 'image/filename', 'image/height', 'image/format', 'image/object/bbox/ymin', 'image/object/class/label', 'image/object/bbox/ymax', 'image/object/class/text', 'image/object/bbox/xmin', 'image/encoded', 'image/object/bbox/xmax']) \n",
      "\n",
      "239 :  dict_keys(['image/width', 'image/filename', 'image/height', 'image/format', 'image/object/bbox/ymin', 'image/object/class/label', 'image/object/bbox/ymax', 'image/object/class/text', 'image/object/bbox/xmin', 'image/encoded', 'image/object/bbox/xmax']) \n",
      "\n",
      "240 :  dict_keys(['image/width', 'image/filename', 'image/height', 'image/format', 'image/object/bbox/ymin', 'image/object/class/label', 'image/object/bbox/ymax', 'image/object/class/text', 'image/object/bbox/xmin', 'image/encoded', 'image/object/bbox/xmax']) \n",
      "\n",
      "241 :  dict_keys(['image/width', 'image/filename', 'image/height', 'image/format', 'image/object/bbox/ymin', 'image/object/class/label', 'image/object/bbox/ymax', 'image/object/class/text', 'image/object/bbox/xmin', 'image/encoded', 'image/object/bbox/xmax']) \n",
      "\n",
      "242 :  dict_keys(['image/width', 'image/filename', 'image/height', 'image/format', 'image/object/bbox/ymin', 'image/object/class/label', 'image/object/bbox/ymax', 'image/object/class/text', 'image/object/bbox/xmin', 'image/encoded', 'image/object/bbox/xmax']) \n",
      "\n",
      "243 :  dict_keys(['image/width', 'image/filename', 'image/height', 'image/format', 'image/object/bbox/ymin', 'image/object/class/label', 'image/object/bbox/ymax', 'image/object/class/text', 'image/object/bbox/xmin', 'image/encoded', 'image/object/bbox/xmax']) \n",
      "\n",
      "244 :  dict_keys(['image/width', 'image/filename', 'image/height', 'image/format', 'image/object/bbox/ymin', 'image/object/class/label', 'image/object/bbox/ymax', 'image/object/class/text', 'image/object/bbox/xmin', 'image/encoded', 'image/object/bbox/xmax']) \n",
      "\n",
      "245 :  dict_keys(['image/width', 'image/filename', 'image/height', 'image/format', 'image/object/bbox/ymin', 'image/object/class/label', 'image/object/bbox/ymax', 'image/object/class/text', 'image/object/bbox/xmin', 'image/encoded', 'image/object/bbox/xmax']) \n",
      "\n",
      "246 :  dict_keys(['image/width', 'image/filename', 'image/height', 'image/format', 'image/object/bbox/ymin', 'image/object/class/label', 'image/object/bbox/ymax', 'image/object/class/text', 'image/object/bbox/xmin', 'image/encoded', 'image/object/bbox/xmax']) \n",
      "\n",
      "247 :  dict_keys(['image/width', 'image/filename', 'image/height', 'image/format', 'image/object/bbox/ymin', 'image/object/class/label', 'image/object/bbox/ymax', 'image/object/class/text', 'image/object/bbox/xmin', 'image/encoded', 'image/object/bbox/xmax']) \n",
      "\n",
      "248 :  dict_keys(['image/width', 'image/filename', 'image/height', 'image/format', 'image/object/bbox/ymin', 'image/object/class/label', 'image/object/bbox/ymax', 'image/object/class/text', 'image/object/bbox/xmin', 'image/encoded', 'image/object/bbox/xmax']) \n",
      "\n",
      "249 :  dict_keys(['image/width', 'image/filename', 'image/height', 'image/format', 'image/object/bbox/ymin', 'image/object/class/label', 'image/object/bbox/ymax', 'image/object/class/text', 'image/object/bbox/xmin', 'image/encoded', 'image/object/bbox/xmax']) \n",
      "\n",
      "250 :  dict_keys(['image/width', 'image/filename', 'image/height', 'image/format', 'image/object/bbox/ymin', 'image/object/class/label', 'image/object/bbox/ymax', 'image/object/class/text', 'image/object/bbox/xmin', 'image/encoded', 'image/object/bbox/xmax']) \n",
      "\n",
      "251 :  dict_keys(['image/width', 'image/filename', 'image/height', 'image/format', 'image/object/bbox/ymin', 'image/object/class/label', 'image/object/bbox/ymax', 'image/object/class/text', 'image/object/bbox/xmin', 'image/encoded', 'image/object/bbox/xmax']) \n",
      "\n",
      "252 :  dict_keys(['image/width', 'image/filename', 'image/height', 'image/format', 'image/object/bbox/ymin', 'image/object/class/label', 'image/object/bbox/ymax', 'image/object/class/text', 'image/object/bbox/xmin', 'image/encoded', 'image/object/bbox/xmax']) \n",
      "\n",
      "253 :  dict_keys(['image/width', 'image/filename', 'image/height', 'image/format', 'image/object/bbox/ymin', 'image/object/class/label', 'image/object/bbox/ymax', 'image/object/class/text', 'image/object/bbox/xmin', 'image/encoded', 'image/object/bbox/xmax']) \n",
      "\n",
      "254 :  dict_keys(['image/width', 'image/filename', 'image/height', 'image/format', 'image/object/bbox/ymin', 'image/object/class/label', 'image/object/bbox/ymax', 'image/object/class/text', 'image/object/bbox/xmin', 'image/encoded', 'image/object/bbox/xmax']) \n",
      "\n",
      "255 :  dict_keys(['image/width', 'image/filename', 'image/height', 'image/format', 'image/object/bbox/ymin', 'image/object/class/label', 'image/object/bbox/ymax', 'image/object/class/text', 'image/object/bbox/xmin', 'image/encoded', 'image/object/bbox/xmax']) \n",
      "\n",
      "256 :  dict_keys(['image/width', 'image/filename', 'image/height', 'image/format', 'image/object/bbox/ymin', 'image/object/class/label', 'image/object/bbox/ymax', 'image/object/class/text', 'image/object/bbox/xmin', 'image/encoded', 'image/object/bbox/xmax']) \n",
      "\n",
      "257 :  dict_keys(['image/width', 'image/filename', 'image/height', 'image/format', 'image/object/bbox/ymin', 'image/object/class/label', 'image/object/bbox/ymax', 'image/object/class/text', 'image/object/bbox/xmin', 'image/encoded', 'image/object/bbox/xmax']) \n",
      "\n",
      "258 :  dict_keys(['image/width', 'image/filename', 'image/height', 'image/format', 'image/object/bbox/ymin', 'image/object/class/label', 'image/object/bbox/ymax', 'image/object/class/text', 'image/object/bbox/xmin', 'image/encoded', 'image/object/bbox/xmax']) \n",
      "\n",
      "259 :  dict_keys(['image/width', 'image/filename', 'image/height', 'image/format', 'image/object/bbox/ymin', 'image/object/class/label', 'image/object/bbox/ymax', 'image/object/class/text', 'image/object/bbox/xmin', 'image/encoded', 'image/object/bbox/xmax']) \n",
      "\n",
      "260 :  dict_keys(['image/width', 'image/filename', 'image/height', 'image/format', 'image/object/bbox/ymin', 'image/object/class/label', 'image/object/bbox/ymax', 'image/object/class/text', 'image/object/bbox/xmin', 'image/encoded', 'image/object/bbox/xmax']) \n",
      "\n",
      "261 :  dict_keys(['image/width', 'image/filename', 'image/height', 'image/format', 'image/object/bbox/ymin', 'image/object/class/label', 'image/object/bbox/ymax', 'image/object/class/text', 'image/object/bbox/xmin', 'image/encoded', 'image/object/bbox/xmax']) \n",
      "\n",
      "262 :  dict_keys(['image/width', 'image/filename', 'image/height', 'image/format', 'image/object/bbox/ymin', 'image/object/class/label', 'image/object/bbox/ymax', 'image/object/class/text', 'image/object/bbox/xmin', 'image/encoded', 'image/object/bbox/xmax']) \n",
      "\n",
      "263 :  dict_keys(['image/width', 'image/filename', 'image/height', 'image/format', 'image/object/bbox/ymin', 'image/object/class/label', 'image/object/bbox/ymax', 'image/object/class/text', 'image/object/bbox/xmin', 'image/encoded', 'image/object/bbox/xmax']) \n",
      "\n",
      "264 :  dict_keys(['image/width', 'image/filename', 'image/height', 'image/format', 'image/object/bbox/ymin', 'image/object/class/label', 'image/object/bbox/ymax', 'image/object/class/text', 'image/object/bbox/xmin', 'image/encoded', 'image/object/bbox/xmax']) \n",
      "\n",
      "265 :  dict_keys(['image/width', 'image/filename', 'image/height', 'image/format', 'image/object/bbox/ymin', 'image/object/class/label', 'image/object/bbox/ymax', 'image/object/class/text', 'image/object/bbox/xmin', 'image/encoded', 'image/object/bbox/xmax']) \n",
      "\n",
      "266 :  dict_keys(['image/width', 'image/filename', 'image/height', 'image/format', 'image/object/bbox/ymin', 'image/object/class/label', 'image/object/bbox/ymax', 'image/object/class/text', 'image/object/bbox/xmin', 'image/encoded', 'image/object/bbox/xmax']) \n",
      "\n",
      "267 :  dict_keys(['image/width', 'image/filename', 'image/height', 'image/format', 'image/object/bbox/ymin', 'image/object/class/label', 'image/object/bbox/ymax', 'image/object/class/text', 'image/object/bbox/xmin', 'image/encoded', 'image/object/bbox/xmax']) \n",
      "\n",
      "268 :  dict_keys(['image/width', 'image/filename', 'image/height', 'image/format', 'image/object/bbox/ymin', 'image/object/class/label', 'image/object/bbox/ymax', 'image/object/class/text', 'image/object/bbox/xmin', 'image/encoded', 'image/object/bbox/xmax']) \n",
      "\n",
      "269 :  dict_keys(['image/width', 'image/filename', 'image/height', 'image/format', 'image/object/bbox/ymin', 'image/object/class/label', 'image/object/bbox/ymax', 'image/object/class/text', 'image/object/bbox/xmin', 'image/encoded', 'image/object/bbox/xmax']) \n",
      "\n",
      "270 :  dict_keys(['image/width', 'image/filename', 'image/height', 'image/format', 'image/object/bbox/ymin', 'image/object/class/label', 'image/object/bbox/ymax', 'image/object/class/text', 'image/object/bbox/xmin', 'image/encoded', 'image/object/bbox/xmax']) \n",
      "\n",
      "271 :  dict_keys(['image/width', 'image/filename', 'image/height', 'image/format', 'image/object/bbox/ymin', 'image/object/class/label', 'image/object/bbox/ymax', 'image/object/class/text', 'image/object/bbox/xmin', 'image/encoded', 'image/object/bbox/xmax']) \n",
      "\n",
      "272 :  dict_keys(['image/width', 'image/filename', 'image/height', 'image/format', 'image/object/bbox/ymin', 'image/object/class/label', 'image/object/bbox/ymax', 'image/object/class/text', 'image/object/bbox/xmin', 'image/encoded', 'image/object/bbox/xmax']) \n",
      "\n",
      "273 :  dict_keys(['image/width', 'image/filename', 'image/height', 'image/format', 'image/object/bbox/ymin', 'image/object/class/label', 'image/object/bbox/ymax', 'image/object/class/text', 'image/object/bbox/xmin', 'image/encoded', 'image/object/bbox/xmax']) \n",
      "\n",
      "274 :  dict_keys(['image/width', 'image/filename', 'image/height', 'image/format', 'image/object/bbox/ymin', 'image/object/class/label', 'image/object/bbox/ymax', 'image/object/class/text', 'image/object/bbox/xmin', 'image/encoded', 'image/object/bbox/xmax']) \n",
      "\n",
      "275 :  dict_keys(['image/width', 'image/filename', 'image/height', 'image/format', 'image/object/bbox/ymin', 'image/object/class/label', 'image/object/bbox/ymax', 'image/object/class/text', 'image/object/bbox/xmin', 'image/encoded', 'image/object/bbox/xmax']) \n",
      "\n",
      "276 :  dict_keys(['image/width', 'image/filename', 'image/height', 'image/format', 'image/object/bbox/ymin', 'image/object/class/label', 'image/object/bbox/ymax', 'image/object/class/text', 'image/object/bbox/xmin', 'image/encoded', 'image/object/bbox/xmax']) \n",
      "\n",
      "277 :  dict_keys(['image/width', 'image/filename', 'image/height', 'image/format', 'image/object/bbox/ymin', 'image/object/class/label', 'image/object/bbox/ymax', 'image/object/class/text', 'image/object/bbox/xmin', 'image/encoded', 'image/object/bbox/xmax']) \n",
      "\n",
      "278 :  dict_keys(['image/width', 'image/filename', 'image/height', 'image/format', 'image/object/bbox/ymin', 'image/object/class/label', 'image/object/bbox/ymax', 'image/object/class/text', 'image/object/bbox/xmin', 'image/encoded', 'image/object/bbox/xmax']) \n",
      "\n",
      "279 :  dict_keys(['image/width', 'image/filename', 'image/height', 'image/format', 'image/object/bbox/ymin', 'image/object/class/label', 'image/object/bbox/ymax', 'image/object/class/text', 'image/object/bbox/xmin', 'image/encoded', 'image/object/bbox/xmax']) \n",
      "\n",
      "280 :  dict_keys(['image/width', 'image/filename', 'image/height', 'image/format', 'image/object/bbox/ymin', 'image/object/class/label', 'image/object/bbox/ymax', 'image/object/class/text', 'image/object/bbox/xmin', 'image/encoded', 'image/object/bbox/xmax']) \n",
      "\n",
      "281 :  dict_keys(['image/width', 'image/filename', 'image/height', 'image/format', 'image/object/bbox/ymin', 'image/object/class/label', 'image/object/bbox/ymax', 'image/object/class/text', 'image/object/bbox/xmin', 'image/encoded', 'image/object/bbox/xmax']) \n",
      "\n",
      "282 :  dict_keys(['image/width', 'image/filename', 'image/height', 'image/format', 'image/object/bbox/ymin', 'image/object/class/label', 'image/object/bbox/ymax', 'image/object/class/text', 'image/object/bbox/xmin', 'image/encoded', 'image/object/bbox/xmax']) \n",
      "\n",
      "283 :  dict_keys(['image/width', 'image/filename', 'image/height', 'image/format', 'image/object/bbox/ymin', 'image/object/class/label', 'image/object/bbox/ymax', 'image/object/class/text', 'image/object/bbox/xmin', 'image/encoded', 'image/object/bbox/xmax']) \n",
      "\n",
      "284 :  dict_keys(['image/width', 'image/filename', 'image/height', 'image/format', 'image/object/bbox/ymin', 'image/object/class/label', 'image/object/bbox/ymax', 'image/object/class/text', 'image/object/bbox/xmin', 'image/encoded', 'image/object/bbox/xmax']) \n",
      "\n",
      "285 :  dict_keys(['image/width', 'image/filename', 'image/height', 'image/format', 'image/object/bbox/ymin', 'image/object/class/label', 'image/object/bbox/ymax', 'image/object/class/text', 'image/object/bbox/xmin', 'image/encoded', 'image/object/bbox/xmax']) \n",
      "\n",
      "286 :  dict_keys(['image/width', 'image/filename', 'image/height', 'image/format', 'image/object/bbox/ymin', 'image/object/class/label', 'image/object/bbox/ymax', 'image/object/class/text', 'image/object/bbox/xmin', 'image/encoded', 'image/object/bbox/xmax']) \n",
      "\n",
      "287 :  dict_keys(['image/width', 'image/filename', 'image/height', 'image/format', 'image/object/bbox/ymin', 'image/object/class/label', 'image/object/bbox/ymax', 'image/object/class/text', 'image/object/bbox/xmin', 'image/encoded', 'image/object/bbox/xmax']) \n",
      "\n",
      "288 :  dict_keys(['image/width', 'image/filename', 'image/height', 'image/format', 'image/object/bbox/ymin', 'image/object/class/label', 'image/object/bbox/ymax', 'image/object/class/text', 'image/object/bbox/xmin', 'image/encoded', 'image/object/bbox/xmax']) \n",
      "\n",
      "289 :  dict_keys(['image/width', 'image/filename', 'image/height', 'image/format', 'image/object/bbox/ymin', 'image/object/class/label', 'image/object/bbox/ymax', 'image/object/class/text', 'image/object/bbox/xmin', 'image/encoded', 'image/object/bbox/xmax']) \n",
      "\n",
      "290 :  dict_keys(['image/width', 'image/filename', 'image/height', 'image/format', 'image/object/bbox/ymin', 'image/object/class/label', 'image/object/bbox/ymax', 'image/object/class/text', 'image/object/bbox/xmin', 'image/encoded', 'image/object/bbox/xmax']) \n",
      "\n",
      "291 :  dict_keys(['image/width', 'image/filename', 'image/height', 'image/format', 'image/object/bbox/ymin', 'image/object/class/label', 'image/object/bbox/ymax', 'image/object/class/text', 'image/object/bbox/xmin', 'image/encoded', 'image/object/bbox/xmax']) \n",
      "\n",
      "292 :  dict_keys(['image/width', 'image/filename', 'image/height', 'image/format', 'image/object/bbox/ymin', 'image/object/class/label', 'image/object/bbox/ymax', 'image/object/class/text', 'image/object/bbox/xmin', 'image/encoded', 'image/object/bbox/xmax']) \n",
      "\n",
      "293 :  dict_keys(['image/width', 'image/filename', 'image/height', 'image/format', 'image/object/bbox/ymin', 'image/object/class/label', 'image/object/bbox/ymax', 'image/object/class/text', 'image/object/bbox/xmin', 'image/encoded', 'image/object/bbox/xmax']) \n",
      "\n",
      "294 :  dict_keys(['image/width', 'image/filename', 'image/height', 'image/format', 'image/object/bbox/ymin', 'image/object/class/label', 'image/object/bbox/ymax', 'image/object/class/text', 'image/object/bbox/xmin', 'image/encoded', 'image/object/bbox/xmax']) \n",
      "\n",
      "295 :  dict_keys(['image/width', 'image/filename', 'image/height', 'image/format', 'image/object/bbox/ymin', 'image/object/class/label', 'image/object/bbox/ymax', 'image/object/class/text', 'image/object/bbox/xmin', 'image/encoded', 'image/object/bbox/xmax']) \n",
      "\n",
      "296 :  dict_keys(['image/width', 'image/filename', 'image/height', 'image/format', 'image/object/bbox/ymin', 'image/object/class/label', 'image/object/bbox/ymax', 'image/object/class/text', 'image/object/bbox/xmin', 'image/encoded', 'image/object/bbox/xmax']) \n",
      "\n",
      "297 :  dict_keys(['image/width', 'image/filename', 'image/height', 'image/format', 'image/object/bbox/ymin', 'image/object/class/label', 'image/object/bbox/ymax', 'image/object/class/text', 'image/object/bbox/xmin', 'image/encoded', 'image/object/bbox/xmax']) \n",
      "\n",
      "298 :  dict_keys(['image/width', 'image/filename', 'image/height', 'image/format', 'image/object/bbox/ymin', 'image/object/class/label', 'image/object/bbox/ymax', 'image/object/class/text', 'image/object/bbox/xmin', 'image/encoded', 'image/object/bbox/xmax']) \n",
      "\n",
      "299 :  dict_keys(['image/width', 'image/filename', 'image/height', 'image/format', 'image/object/bbox/ymin', 'image/object/class/label', 'image/object/bbox/ymax', 'image/object/class/text', 'image/object/bbox/xmin', 'image/encoded', 'image/object/bbox/xmax']) \n",
      "\n",
      "300 :  dict_keys(['image/width', 'image/filename', 'image/height', 'image/format', 'image/object/bbox/ymin', 'image/object/class/label', 'image/object/bbox/ymax', 'image/object/class/text', 'image/object/bbox/xmin', 'image/encoded', 'image/object/bbox/xmax']) \n",
      "\n",
      "301 :  dict_keys(['image/width', 'image/filename', 'image/height', 'image/format', 'image/object/bbox/ymin', 'image/object/class/label', 'image/object/bbox/ymax', 'image/object/class/text', 'image/object/bbox/xmin', 'image/encoded', 'image/object/bbox/xmax']) \n",
      "\n",
      "302 :  dict_keys(['image/width', 'image/filename', 'image/height', 'image/format', 'image/object/bbox/ymin', 'image/object/class/label', 'image/object/bbox/ymax', 'image/object/class/text', 'image/object/bbox/xmin', 'image/encoded', 'image/object/bbox/xmax']) \n",
      "\n",
      "303 :  dict_keys(['image/width', 'image/filename', 'image/height', 'image/format', 'image/object/bbox/ymin', 'image/object/class/label', 'image/object/bbox/ymax', 'image/object/class/text', 'image/object/bbox/xmin', 'image/encoded', 'image/object/bbox/xmax']) \n",
      "\n",
      "304 :  dict_keys(['image/width', 'image/filename', 'image/height', 'image/format', 'image/object/bbox/ymin', 'image/object/class/label', 'image/object/bbox/ymax', 'image/object/class/text', 'image/object/bbox/xmin', 'image/encoded', 'image/object/bbox/xmax']) \n",
      "\n",
      "305 :  dict_keys(['image/width', 'image/filename', 'image/height', 'image/format', 'image/object/bbox/ymin', 'image/object/class/label', 'image/object/bbox/ymax', 'image/object/class/text', 'image/object/bbox/xmin', 'image/encoded', 'image/object/bbox/xmax']) \n",
      "\n",
      "306 :  dict_keys(['image/width', 'image/filename', 'image/height', 'image/format', 'image/object/bbox/ymin', 'image/object/class/label', 'image/object/bbox/ymax', 'image/object/class/text', 'image/object/bbox/xmin', 'image/encoded', 'image/object/bbox/xmax']) \n",
      "\n",
      "307 :  dict_keys(['image/width', 'image/filename', 'image/height', 'image/format', 'image/object/bbox/ymin', 'image/object/class/label', 'image/object/bbox/ymax', 'image/object/class/text', 'image/object/bbox/xmin', 'image/encoded', 'image/object/bbox/xmax']) \n",
      "\n",
      "308 :  dict_keys(['image/width', 'image/filename', 'image/height', 'image/format', 'image/object/bbox/ymin', 'image/object/class/label', 'image/object/bbox/ymax', 'image/object/class/text', 'image/object/bbox/xmin', 'image/encoded', 'image/object/bbox/xmax']) \n",
      "\n",
      "309 :  dict_keys(['image/width', 'image/filename', 'image/height', 'image/format', 'image/object/bbox/ymin', 'image/object/class/label', 'image/object/bbox/ymax', 'image/object/class/text', 'image/object/bbox/xmin', 'image/encoded', 'image/object/bbox/xmax']) \n",
      "\n",
      "310 :  dict_keys(['image/width', 'image/filename', 'image/height', 'image/format', 'image/object/bbox/ymin', 'image/object/class/label', 'image/object/bbox/ymax', 'image/object/class/text', 'image/object/bbox/xmin', 'image/encoded', 'image/object/bbox/xmax']) \n",
      "\n",
      "311 :  dict_keys(['image/width', 'image/filename', 'image/height', 'image/format', 'image/object/bbox/ymin', 'image/object/class/label', 'image/object/bbox/ymax', 'image/object/class/text', 'image/object/bbox/xmin', 'image/encoded', 'image/object/bbox/xmax']) \n",
      "\n",
      "312 :  dict_keys(['image/width', 'image/filename', 'image/height', 'image/format', 'image/object/bbox/ymin', 'image/object/class/label', 'image/object/bbox/ymax', 'image/object/class/text', 'image/object/bbox/xmin', 'image/encoded', 'image/object/bbox/xmax']) \n",
      "\n",
      "313 :  dict_keys(['image/width', 'image/filename', 'image/height', 'image/format', 'image/object/bbox/ymin', 'image/object/class/label', 'image/object/bbox/ymax', 'image/object/class/text', 'image/object/bbox/xmin', 'image/encoded', 'image/object/bbox/xmax']) \n",
      "\n",
      "314 :  dict_keys(['image/width', 'image/filename', 'image/height', 'image/format', 'image/object/bbox/ymin', 'image/object/class/label', 'image/object/bbox/ymax', 'image/object/class/text', 'image/object/bbox/xmin', 'image/encoded', 'image/object/bbox/xmax']) \n",
      "\n",
      "315 :  dict_keys(['image/width', 'image/filename', 'image/height', 'image/format', 'image/object/bbox/ymin', 'image/object/class/label', 'image/object/bbox/ymax', 'image/object/class/text', 'image/object/bbox/xmin', 'image/encoded', 'image/object/bbox/xmax']) \n",
      "\n",
      "316 :  dict_keys(['image/width', 'image/filename', 'image/height', 'image/format', 'image/object/bbox/ymin', 'image/object/class/label', 'image/object/bbox/ymax', 'image/object/class/text', 'image/object/bbox/xmin', 'image/encoded', 'image/object/bbox/xmax']) \n",
      "\n",
      "317 :  dict_keys(['image/width', 'image/filename', 'image/height', 'image/format', 'image/object/bbox/ymin', 'image/object/class/label', 'image/object/bbox/ymax', 'image/object/class/text', 'image/object/bbox/xmin', 'image/encoded', 'image/object/bbox/xmax']) \n",
      "\n",
      "318 :  dict_keys(['image/width', 'image/filename', 'image/height', 'image/format', 'image/object/bbox/ymin', 'image/object/class/label', 'image/object/bbox/ymax', 'image/object/class/text', 'image/object/bbox/xmin', 'image/encoded', 'image/object/bbox/xmax']) \n",
      "\n",
      "319 :  dict_keys(['image/width', 'image/filename', 'image/height', 'image/format', 'image/object/bbox/ymin', 'image/object/class/label', 'image/object/bbox/ymax', 'image/object/class/text', 'image/object/bbox/xmin', 'image/encoded', 'image/object/bbox/xmax']) \n",
      "\n",
      "320 :  dict_keys(['image/width', 'image/filename', 'image/height', 'image/format', 'image/object/bbox/ymin', 'image/object/class/label', 'image/object/bbox/ymax', 'image/object/class/text', 'image/object/bbox/xmin', 'image/encoded', 'image/object/bbox/xmax']) \n",
      "\n",
      "321 :  dict_keys(['image/width', 'image/filename', 'image/height', 'image/format', 'image/object/bbox/ymin', 'image/object/class/label', 'image/object/bbox/ymax', 'image/object/class/text', 'image/object/bbox/xmin', 'image/encoded', 'image/object/bbox/xmax']) \n",
      "\n",
      "322 :  dict_keys(['image/width', 'image/filename', 'image/height', 'image/format', 'image/object/bbox/ymin', 'image/object/class/label', 'image/object/bbox/ymax', 'image/object/class/text', 'image/object/bbox/xmin', 'image/encoded', 'image/object/bbox/xmax']) \n",
      "\n",
      "323 :  dict_keys(['image/width', 'image/filename', 'image/height', 'image/format', 'image/object/bbox/ymin', 'image/object/class/label', 'image/object/bbox/ymax', 'image/object/class/text', 'image/object/bbox/xmin', 'image/encoded', 'image/object/bbox/xmax']) \n",
      "\n",
      "324 :  dict_keys(['image/width', 'image/filename', 'image/height', 'image/format', 'image/object/bbox/ymin', 'image/object/class/label', 'image/object/bbox/ymax', 'image/object/class/text', 'image/object/bbox/xmin', 'image/encoded', 'image/object/bbox/xmax']) \n",
      "\n",
      "325 :  dict_keys(['image/width', 'image/filename', 'image/height', 'image/format', 'image/object/bbox/ymin', 'image/object/class/label', 'image/object/bbox/ymax', 'image/object/class/text', 'image/object/bbox/xmin', 'image/encoded', 'image/object/bbox/xmax']) \n",
      "\n",
      "326 :  dict_keys(['image/width', 'image/filename', 'image/height', 'image/format', 'image/object/bbox/ymin', 'image/object/class/label', 'image/object/bbox/ymax', 'image/object/class/text', 'image/object/bbox/xmin', 'image/encoded', 'image/object/bbox/xmax']) \n",
      "\n",
      "327 :  dict_keys(['image/width', 'image/filename', 'image/height', 'image/format', 'image/object/bbox/ymin', 'image/object/class/label', 'image/object/bbox/ymax', 'image/object/class/text', 'image/object/bbox/xmin', 'image/encoded', 'image/object/bbox/xmax']) \n",
      "\n",
      "328 :  dict_keys(['image/width', 'image/filename', 'image/height', 'image/format', 'image/object/bbox/ymin', 'image/object/class/label', 'image/object/bbox/ymax', 'image/object/class/text', 'image/object/bbox/xmin', 'image/encoded', 'image/object/bbox/xmax']) \n",
      "\n",
      "329 :  dict_keys(['image/width', 'image/filename', 'image/height', 'image/format', 'image/object/bbox/ymin', 'image/object/class/label', 'image/object/bbox/ymax', 'image/object/class/text', 'image/object/bbox/xmin', 'image/encoded', 'image/object/bbox/xmax']) \n",
      "\n",
      "330 :  dict_keys(['image/width', 'image/filename', 'image/height', 'image/format', 'image/object/bbox/ymin', 'image/object/class/label', 'image/object/bbox/ymax', 'image/object/class/text', 'image/object/bbox/xmin', 'image/encoded', 'image/object/bbox/xmax']) \n",
      "\n",
      "331 :  dict_keys(['image/width', 'image/filename', 'image/height', 'image/format', 'image/object/bbox/ymin', 'image/object/class/label', 'image/object/bbox/ymax', 'image/object/class/text', 'image/object/bbox/xmin', 'image/encoded', 'image/object/bbox/xmax']) \n",
      "\n",
      "332 :  dict_keys(['image/width', 'image/filename', 'image/height', 'image/format', 'image/object/bbox/ymin', 'image/object/class/label', 'image/object/bbox/ymax', 'image/object/class/text', 'image/object/bbox/xmin', 'image/encoded', 'image/object/bbox/xmax']) \n",
      "\n",
      "333 :  dict_keys(['image/width', 'image/filename', 'image/height', 'image/format', 'image/object/bbox/ymin', 'image/object/class/label', 'image/object/bbox/ymax', 'image/object/class/text', 'image/object/bbox/xmin', 'image/encoded', 'image/object/bbox/xmax']) \n",
      "\n",
      "334 :  dict_keys(['image/width', 'image/filename', 'image/height', 'image/format', 'image/object/bbox/ymin', 'image/object/class/label', 'image/object/bbox/ymax', 'image/object/class/text', 'image/object/bbox/xmin', 'image/encoded', 'image/object/bbox/xmax']) \n",
      "\n",
      "335 :  dict_keys(['image/width', 'image/filename', 'image/height', 'image/format', 'image/object/bbox/ymin', 'image/object/class/label', 'image/object/bbox/ymax', 'image/object/class/text', 'image/object/bbox/xmin', 'image/encoded', 'image/object/bbox/xmax']) \n",
      "\n",
      "336 :  dict_keys(['image/width', 'image/filename', 'image/height', 'image/format', 'image/object/bbox/ymin', 'image/object/class/label', 'image/object/bbox/ymax', 'image/object/class/text', 'image/object/bbox/xmin', 'image/encoded', 'image/object/bbox/xmax']) \n",
      "\n",
      "337 :  dict_keys(['image/width', 'image/filename', 'image/height', 'image/format', 'image/object/bbox/ymin', 'image/object/class/label', 'image/object/bbox/ymax', 'image/object/class/text', 'image/object/bbox/xmin', 'image/encoded', 'image/object/bbox/xmax']) \n",
      "\n",
      "338 :  dict_keys(['image/width', 'image/filename', 'image/height', 'image/format', 'image/object/bbox/ymin', 'image/object/class/label', 'image/object/bbox/ymax', 'image/object/class/text', 'image/object/bbox/xmin', 'image/encoded', 'image/object/bbox/xmax']) \n",
      "\n",
      "339 :  dict_keys(['image/width', 'image/filename', 'image/height', 'image/format', 'image/object/bbox/ymin', 'image/object/class/label', 'image/object/bbox/ymax', 'image/object/class/text', 'image/object/bbox/xmin', 'image/encoded', 'image/object/bbox/xmax']) \n",
      "\n",
      "340 :  dict_keys(['image/width', 'image/filename', 'image/height', 'image/format', 'image/object/bbox/ymin', 'image/object/class/label', 'image/object/bbox/ymax', 'image/object/class/text', 'image/object/bbox/xmin', 'image/encoded', 'image/object/bbox/xmax']) \n",
      "\n",
      "341 :  dict_keys(['image/width', 'image/filename', 'image/height', 'image/format', 'image/object/bbox/ymin', 'image/object/class/label', 'image/object/bbox/ymax', 'image/object/class/text', 'image/object/bbox/xmin', 'image/encoded', 'image/object/bbox/xmax']) \n",
      "\n",
      "342 :  dict_keys(['image/width', 'image/filename', 'image/height', 'image/format', 'image/object/bbox/ymin', 'image/object/class/label', 'image/object/bbox/ymax', 'image/object/class/text', 'image/object/bbox/xmin', 'image/encoded', 'image/object/bbox/xmax']) \n",
      "\n",
      "343 :  dict_keys(['image/width', 'image/filename', 'image/height', 'image/format', 'image/object/bbox/ymin', 'image/object/class/label', 'image/object/bbox/ymax', 'image/object/class/text', 'image/object/bbox/xmin', 'image/encoded', 'image/object/bbox/xmax']) \n",
      "\n",
      "344 :  dict_keys(['image/width', 'image/filename', 'image/height', 'image/format', 'image/object/bbox/ymin', 'image/object/class/label', 'image/object/bbox/ymax', 'image/object/class/text', 'image/object/bbox/xmin', 'image/encoded', 'image/object/bbox/xmax']) \n",
      "\n",
      "345 :  dict_keys(['image/width', 'image/filename', 'image/height', 'image/format', 'image/object/bbox/ymin', 'image/object/class/label', 'image/object/bbox/ymax', 'image/object/class/text', 'image/object/bbox/xmin', 'image/encoded', 'image/object/bbox/xmax']) \n",
      "\n",
      "346 :  dict_keys(['image/width', 'image/filename', 'image/height', 'image/format', 'image/object/bbox/ymin', 'image/object/class/label', 'image/object/bbox/ymax', 'image/object/class/text', 'image/object/bbox/xmin', 'image/encoded', 'image/object/bbox/xmax']) \n",
      "\n",
      "347 :  dict_keys(['image/width', 'image/filename', 'image/height', 'image/format', 'image/object/bbox/ymin', 'image/object/class/label', 'image/object/bbox/ymax', 'image/object/class/text', 'image/object/bbox/xmin', 'image/encoded', 'image/object/bbox/xmax']) \n",
      "\n",
      "348 :  dict_keys(['image/width', 'image/filename', 'image/height', 'image/format', 'image/object/bbox/ymin', 'image/object/class/label', 'image/object/bbox/ymax', 'image/object/class/text', 'image/object/bbox/xmin', 'image/encoded', 'image/object/bbox/xmax']) \n",
      "\n",
      "349 :  dict_keys(['image/width', 'image/filename', 'image/height', 'image/format', 'image/object/bbox/ymin', 'image/object/class/label', 'image/object/bbox/ymax', 'image/object/class/text', 'image/object/bbox/xmin', 'image/encoded', 'image/object/bbox/xmax']) \n",
      "\n",
      "350 :  dict_keys(['image/width', 'image/filename', 'image/height', 'image/format', 'image/object/bbox/ymin', 'image/object/class/label', 'image/object/bbox/ymax', 'image/object/class/text', 'image/object/bbox/xmin', 'image/encoded', 'image/object/bbox/xmax']) \n",
      "\n",
      "351 :  dict_keys(['image/width', 'image/filename', 'image/height', 'image/format', 'image/object/bbox/ymin', 'image/object/class/label', 'image/object/bbox/ymax', 'image/object/class/text', 'image/object/bbox/xmin', 'image/encoded', 'image/object/bbox/xmax']) \n",
      "\n",
      "352 :  dict_keys(['image/width', 'image/filename', 'image/height', 'image/format', 'image/object/bbox/ymin', 'image/object/class/label', 'image/object/bbox/ymax', 'image/object/class/text', 'image/object/bbox/xmin', 'image/encoded', 'image/object/bbox/xmax']) \n",
      "\n",
      "353 :  dict_keys(['image/width', 'image/filename', 'image/height', 'image/format', 'image/object/bbox/ymin', 'image/object/class/label', 'image/object/bbox/ymax', 'image/object/class/text', 'image/object/bbox/xmin', 'image/encoded', 'image/object/bbox/xmax']) \n",
      "\n",
      "354 :  dict_keys(['image/width', 'image/filename', 'image/height', 'image/format', 'image/object/bbox/ymin', 'image/object/class/label', 'image/object/bbox/ymax', 'image/object/class/text', 'image/object/bbox/xmin', 'image/encoded', 'image/object/bbox/xmax']) \n",
      "\n",
      "355 :  dict_keys(['image/width', 'image/filename', 'image/height', 'image/format', 'image/object/bbox/ymin', 'image/object/class/label', 'image/object/bbox/ymax', 'image/object/class/text', 'image/object/bbox/xmin', 'image/encoded', 'image/object/bbox/xmax']) \n",
      "\n",
      "356 :  dict_keys(['image/width', 'image/filename', 'image/height', 'image/format', 'image/object/bbox/ymin', 'image/object/class/label', 'image/object/bbox/ymax', 'image/object/class/text', 'image/object/bbox/xmin', 'image/encoded', 'image/object/bbox/xmax']) \n",
      "\n",
      "357 :  dict_keys(['image/width', 'image/filename', 'image/height', 'image/format', 'image/object/bbox/ymin', 'image/object/class/label', 'image/object/bbox/ymax', 'image/object/class/text', 'image/object/bbox/xmin', 'image/encoded', 'image/object/bbox/xmax']) \n",
      "\n",
      "358 :  dict_keys(['image/width', 'image/filename', 'image/height', 'image/format', 'image/object/bbox/ymin', 'image/object/class/label', 'image/object/bbox/ymax', 'image/object/class/text', 'image/object/bbox/xmin', 'image/encoded', 'image/object/bbox/xmax']) \n",
      "\n",
      "359 :  dict_keys(['image/width', 'image/filename', 'image/height', 'image/format', 'image/object/bbox/ymin', 'image/object/class/label', 'image/object/bbox/ymax', 'image/object/class/text', 'image/object/bbox/xmin', 'image/encoded', 'image/object/bbox/xmax']) \n",
      "\n",
      "360 :  dict_keys(['image/width', 'image/filename', 'image/height', 'image/format', 'image/object/bbox/ymin', 'image/object/class/label', 'image/object/bbox/ymax', 'image/object/class/text', 'image/object/bbox/xmin', 'image/encoded', 'image/object/bbox/xmax']) \n",
      "\n",
      "361 :  dict_keys(['image/width', 'image/filename', 'image/height', 'image/format', 'image/object/bbox/ymin', 'image/object/class/label', 'image/object/bbox/ymax', 'image/object/class/text', 'image/object/bbox/xmin', 'image/encoded', 'image/object/bbox/xmax']) \n",
      "\n",
      "362 :  dict_keys(['image/width', 'image/filename', 'image/height', 'image/format', 'image/object/bbox/ymin', 'image/object/class/label', 'image/object/bbox/ymax', 'image/object/class/text', 'image/object/bbox/xmin', 'image/encoded', 'image/object/bbox/xmax']) \n",
      "\n",
      "363 :  dict_keys(['image/width', 'image/filename', 'image/height', 'image/format', 'image/object/bbox/ymin', 'image/object/class/label', 'image/object/bbox/ymax', 'image/object/class/text', 'image/object/bbox/xmin', 'image/encoded', 'image/object/bbox/xmax']) \n",
      "\n",
      "364 :  dict_keys(['image/width', 'image/filename', 'image/height', 'image/format', 'image/object/bbox/ymin', 'image/object/class/label', 'image/object/bbox/ymax', 'image/object/class/text', 'image/object/bbox/xmin', 'image/encoded', 'image/object/bbox/xmax']) \n",
      "\n",
      "365 :  dict_keys(['image/width', 'image/filename', 'image/height', 'image/format', 'image/object/bbox/ymin', 'image/object/class/label', 'image/object/bbox/ymax', 'image/object/class/text', 'image/object/bbox/xmin', 'image/encoded', 'image/object/bbox/xmax']) \n",
      "\n",
      "366 :  dict_keys(['image/width', 'image/filename', 'image/height', 'image/format', 'image/object/bbox/ymin', 'image/object/class/label', 'image/object/bbox/ymax', 'image/object/class/text', 'image/object/bbox/xmin', 'image/encoded', 'image/object/bbox/xmax']) \n",
      "\n",
      "367 :  dict_keys(['image/width', 'image/filename', 'image/height', 'image/format', 'image/object/bbox/ymin', 'image/object/class/label', 'image/object/bbox/ymax', 'image/object/class/text', 'image/object/bbox/xmin', 'image/encoded', 'image/object/bbox/xmax']) \n",
      "\n",
      "368 :  dict_keys(['image/width', 'image/filename', 'image/height', 'image/format', 'image/object/bbox/ymin', 'image/object/class/label', 'image/object/bbox/ymax', 'image/object/class/text', 'image/object/bbox/xmin', 'image/encoded', 'image/object/bbox/xmax']) \n",
      "\n",
      "369 :  dict_keys(['image/width', 'image/filename', 'image/height', 'image/format', 'image/object/bbox/ymin', 'image/object/class/label', 'image/object/bbox/ymax', 'image/object/class/text', 'image/object/bbox/xmin', 'image/encoded', 'image/object/bbox/xmax']) \n",
      "\n",
      "370 :  dict_keys(['image/width', 'image/filename', 'image/height', 'image/format', 'image/object/bbox/ymin', 'image/object/class/label', 'image/object/bbox/ymax', 'image/object/class/text', 'image/object/bbox/xmin', 'image/encoded', 'image/object/bbox/xmax']) \n",
      "\n",
      "371 :  dict_keys(['image/width', 'image/filename', 'image/height', 'image/format', 'image/object/bbox/ymin', 'image/object/class/label', 'image/object/bbox/ymax', 'image/object/class/text', 'image/object/bbox/xmin', 'image/encoded', 'image/object/bbox/xmax']) \n",
      "\n",
      "372 :  dict_keys(['image/width', 'image/filename', 'image/height', 'image/format', 'image/object/bbox/ymin', 'image/object/class/label', 'image/object/bbox/ymax', 'image/object/class/text', 'image/object/bbox/xmin', 'image/encoded', 'image/object/bbox/xmax']) \n",
      "\n",
      "373 :  dict_keys(['image/width', 'image/filename', 'image/height', 'image/format', 'image/object/bbox/ymin', 'image/object/class/label', 'image/object/bbox/ymax', 'image/object/class/text', 'image/object/bbox/xmin', 'image/encoded', 'image/object/bbox/xmax']) \n",
      "\n",
      "374 :  dict_keys(['image/width', 'image/filename', 'image/height', 'image/format', 'image/object/bbox/ymin', 'image/object/class/label', 'image/object/bbox/ymax', 'image/object/class/text', 'image/object/bbox/xmin', 'image/encoded', 'image/object/bbox/xmax']) \n",
      "\n",
      "375 :  dict_keys(['image/width', 'image/filename', 'image/height', 'image/format', 'image/object/bbox/ymin', 'image/object/class/label', 'image/object/bbox/ymax', 'image/object/class/text', 'image/object/bbox/xmin', 'image/encoded', 'image/object/bbox/xmax']) \n",
      "\n",
      "376 :  dict_keys(['image/width', 'image/filename', 'image/height', 'image/format', 'image/object/bbox/ymin', 'image/object/class/label', 'image/object/bbox/ymax', 'image/object/class/text', 'image/object/bbox/xmin', 'image/encoded', 'image/object/bbox/xmax']) \n",
      "\n",
      "377 :  dict_keys(['image/width', 'image/filename', 'image/height', 'image/format', 'image/object/bbox/ymin', 'image/object/class/label', 'image/object/bbox/ymax', 'image/object/class/text', 'image/object/bbox/xmin', 'image/encoded', 'image/object/bbox/xmax']) \n",
      "\n",
      "378 :  dict_keys(['image/width', 'image/filename', 'image/height', 'image/format', 'image/object/bbox/ymin', 'image/object/class/label', 'image/object/bbox/ymax', 'image/object/class/text', 'image/object/bbox/xmin', 'image/encoded', 'image/object/bbox/xmax']) \n",
      "\n",
      "379 :  dict_keys(['image/width', 'image/filename', 'image/height', 'image/format', 'image/object/bbox/ymin', 'image/object/class/label', 'image/object/bbox/ymax', 'image/object/class/text', 'image/object/bbox/xmin', 'image/encoded', 'image/object/bbox/xmax']) \n",
      "\n",
      "380 :  dict_keys(['image/width', 'image/filename', 'image/height', 'image/format', 'image/object/bbox/ymin', 'image/object/class/label', 'image/object/bbox/ymax', 'image/object/class/text', 'image/object/bbox/xmin', 'image/encoded', 'image/object/bbox/xmax']) \n",
      "\n",
      "381 :  dict_keys(['image/width', 'image/filename', 'image/height', 'image/format', 'image/object/bbox/ymin', 'image/object/class/label', 'image/object/bbox/ymax', 'image/object/class/text', 'image/object/bbox/xmin', 'image/encoded', 'image/object/bbox/xmax']) \n",
      "\n",
      "382 :  dict_keys(['image/width', 'image/filename', 'image/height', 'image/format', 'image/object/bbox/ymin', 'image/object/class/label', 'image/object/bbox/ymax', 'image/object/class/text', 'image/object/bbox/xmin', 'image/encoded', 'image/object/bbox/xmax']) \n",
      "\n",
      "383 :  dict_keys(['image/width', 'image/filename', 'image/height', 'image/format', 'image/object/bbox/ymin', 'image/object/class/label', 'image/object/bbox/ymax', 'image/object/class/text', 'image/object/bbox/xmin', 'image/encoded', 'image/object/bbox/xmax']) \n",
      "\n",
      "384 :  dict_keys(['image/width', 'image/filename', 'image/height', 'image/format', 'image/object/bbox/ymin', 'image/object/class/label', 'image/object/bbox/ymax', 'image/object/class/text', 'image/object/bbox/xmin', 'image/encoded', 'image/object/bbox/xmax']) \n",
      "\n",
      "385 :  dict_keys(['image/width', 'image/filename', 'image/height', 'image/format', 'image/object/bbox/ymin', 'image/object/class/label', 'image/object/bbox/ymax', 'image/object/class/text', 'image/object/bbox/xmin', 'image/encoded', 'image/object/bbox/xmax']) \n",
      "\n",
      "386 :  dict_keys(['image/width', 'image/filename', 'image/height', 'image/format', 'image/object/bbox/ymin', 'image/object/class/label', 'image/object/bbox/ymax', 'image/object/class/text', 'image/object/bbox/xmin', 'image/encoded', 'image/object/bbox/xmax']) \n",
      "\n",
      "387 :  dict_keys(['image/width', 'image/filename', 'image/height', 'image/format', 'image/object/bbox/ymin', 'image/object/class/label', 'image/object/bbox/ymax', 'image/object/class/text', 'image/object/bbox/xmin', 'image/encoded', 'image/object/bbox/xmax']) \n",
      "\n",
      "388 :  dict_keys(['image/width', 'image/filename', 'image/height', 'image/format', 'image/object/bbox/ymin', 'image/object/class/label', 'image/object/bbox/ymax', 'image/object/class/text', 'image/object/bbox/xmin', 'image/encoded', 'image/object/bbox/xmax']) \n",
      "\n",
      "389 :  dict_keys(['image/width', 'image/filename', 'image/height', 'image/format', 'image/object/bbox/ymin', 'image/object/class/label', 'image/object/bbox/ymax', 'image/object/class/text', 'image/object/bbox/xmin', 'image/encoded', 'image/object/bbox/xmax']) \n",
      "\n",
      "390 :  dict_keys(['image/width', 'image/filename', 'image/height', 'image/format', 'image/object/bbox/ymin', 'image/object/class/label', 'image/object/bbox/ymax', 'image/object/class/text', 'image/object/bbox/xmin', 'image/encoded', 'image/object/bbox/xmax']) \n",
      "\n",
      "391 :  dict_keys(['image/width', 'image/filename', 'image/height', 'image/format', 'image/object/bbox/ymin', 'image/object/class/label', 'image/object/bbox/ymax', 'image/object/class/text', 'image/object/bbox/xmin', 'image/encoded', 'image/object/bbox/xmax']) \n",
      "\n",
      "392 :  dict_keys(['image/width', 'image/filename', 'image/height', 'image/format', 'image/object/bbox/ymin', 'image/object/class/label', 'image/object/bbox/ymax', 'image/object/class/text', 'image/object/bbox/xmin', 'image/encoded', 'image/object/bbox/xmax']) \n",
      "\n",
      "393 :  dict_keys(['image/width', 'image/filename', 'image/height', 'image/format', 'image/object/bbox/ymin', 'image/object/class/label', 'image/object/bbox/ymax', 'image/object/class/text', 'image/object/bbox/xmin', 'image/encoded', 'image/object/bbox/xmax']) \n",
      "\n",
      "394 :  dict_keys(['image/width', 'image/filename', 'image/height', 'image/format', 'image/object/bbox/ymin', 'image/object/class/label', 'image/object/bbox/ymax', 'image/object/class/text', 'image/object/bbox/xmin', 'image/encoded', 'image/object/bbox/xmax']) \n",
      "\n",
      "395 :  dict_keys(['image/width', 'image/filename', 'image/height', 'image/format', 'image/object/bbox/ymin', 'image/object/class/label', 'image/object/bbox/ymax', 'image/object/class/text', 'image/object/bbox/xmin', 'image/encoded', 'image/object/bbox/xmax']) \n",
      "\n",
      "396 :  dict_keys(['image/width', 'image/filename', 'image/height', 'image/format', 'image/object/bbox/ymin', 'image/object/class/label', 'image/object/bbox/ymax', 'image/object/class/text', 'image/object/bbox/xmin', 'image/encoded', 'image/object/bbox/xmax']) \n",
      "\n",
      "397 :  dict_keys(['image/width', 'image/filename', 'image/height', 'image/format', 'image/object/bbox/ymin', 'image/object/class/label', 'image/object/bbox/ymax', 'image/object/class/text', 'image/object/bbox/xmin', 'image/encoded', 'image/object/bbox/xmax']) \n",
      "\n",
      "398 :  dict_keys(['image/width', 'image/filename', 'image/height', 'image/format', 'image/object/bbox/ymin', 'image/object/class/label', 'image/object/bbox/ymax', 'image/object/class/text', 'image/object/bbox/xmin', 'image/encoded', 'image/object/bbox/xmax']) \n",
      "\n",
      "399 :  dict_keys(['image/width', 'image/filename', 'image/height', 'image/format', 'image/object/bbox/ymin', 'image/object/class/label', 'image/object/bbox/ymax', 'image/object/class/text', 'image/object/bbox/xmin', 'image/encoded', 'image/object/bbox/xmax']) \n",
      "\n",
      "400 :  dict_keys(['image/width', 'image/filename', 'image/height', 'image/format', 'image/object/bbox/ymin', 'image/object/class/label', 'image/object/bbox/ymax', 'image/object/class/text', 'image/object/bbox/xmin', 'image/encoded', 'image/object/bbox/xmax']) \n",
      "\n",
      "401 :  dict_keys(['image/width', 'image/filename', 'image/height', 'image/format', 'image/object/bbox/ymin', 'image/object/class/label', 'image/object/bbox/ymax', 'image/object/class/text', 'image/object/bbox/xmin', 'image/encoded', 'image/object/bbox/xmax']) \n",
      "\n",
      "402 :  dict_keys(['image/width', 'image/filename', 'image/height', 'image/format', 'image/object/bbox/ymin', 'image/object/class/label', 'image/object/bbox/ymax', 'image/object/class/text', 'image/object/bbox/xmin', 'image/encoded', 'image/object/bbox/xmax']) \n",
      "\n",
      "403 :  dict_keys(['image/width', 'image/filename', 'image/height', 'image/format', 'image/object/bbox/ymin', 'image/object/class/label', 'image/object/bbox/ymax', 'image/object/class/text', 'image/object/bbox/xmin', 'image/encoded', 'image/object/bbox/xmax']) \n",
      "\n",
      "404 :  dict_keys(['image/width', 'image/filename', 'image/height', 'image/format', 'image/object/bbox/ymin', 'image/object/class/label', 'image/object/bbox/ymax', 'image/object/class/text', 'image/object/bbox/xmin', 'image/encoded', 'image/object/bbox/xmax']) \n",
      "\n",
      "405 :  dict_keys(['image/width', 'image/filename', 'image/height', 'image/format', 'image/object/bbox/ymin', 'image/object/class/label', 'image/object/bbox/ymax', 'image/object/class/text', 'image/object/bbox/xmin', 'image/encoded', 'image/object/bbox/xmax']) \n",
      "\n",
      "406 :  dict_keys(['image/width', 'image/filename', 'image/height', 'image/format', 'image/object/bbox/ymin', 'image/object/class/label', 'image/object/bbox/ymax', 'image/object/class/text', 'image/object/bbox/xmin', 'image/encoded', 'image/object/bbox/xmax']) \n",
      "\n",
      "407 :  dict_keys(['image/width', 'image/filename', 'image/height', 'image/format', 'image/object/bbox/ymin', 'image/object/class/label', 'image/object/bbox/ymax', 'image/object/class/text', 'image/object/bbox/xmin', 'image/encoded', 'image/object/bbox/xmax']) \n",
      "\n",
      "408 :  dict_keys(['image/width', 'image/filename', 'image/height', 'image/format', 'image/object/bbox/ymin', 'image/object/class/label', 'image/object/bbox/ymax', 'image/object/class/text', 'image/object/bbox/xmin', 'image/encoded', 'image/object/bbox/xmax']) \n",
      "\n",
      "409 :  dict_keys(['image/width', 'image/filename', 'image/height', 'image/format', 'image/object/bbox/ymin', 'image/object/class/label', 'image/object/bbox/ymax', 'image/object/class/text', 'image/object/bbox/xmin', 'image/encoded', 'image/object/bbox/xmax']) \n",
      "\n",
      "410 :  dict_keys(['image/width', 'image/filename', 'image/height', 'image/format', 'image/object/bbox/ymin', 'image/object/class/label', 'image/object/bbox/ymax', 'image/object/class/text', 'image/object/bbox/xmin', 'image/encoded', 'image/object/bbox/xmax']) \n",
      "\n",
      "411 :  dict_keys(['image/width', 'image/filename', 'image/height', 'image/format', 'image/object/bbox/ymin', 'image/object/class/label', 'image/object/bbox/ymax', 'image/object/class/text', 'image/object/bbox/xmin', 'image/encoded', 'image/object/bbox/xmax']) \n",
      "\n",
      "412 :  dict_keys(['image/width', 'image/filename', 'image/height', 'image/format', 'image/object/bbox/ymin', 'image/object/class/label', 'image/object/bbox/ymax', 'image/object/class/text', 'image/object/bbox/xmin', 'image/encoded', 'image/object/bbox/xmax']) \n",
      "\n",
      "413 :  dict_keys(['image/width', 'image/filename', 'image/height', 'image/format', 'image/object/bbox/ymin', 'image/object/class/label', 'image/object/bbox/ymax', 'image/object/class/text', 'image/object/bbox/xmin', 'image/encoded', 'image/object/bbox/xmax']) \n",
      "\n",
      "414 :  dict_keys(['image/width', 'image/filename', 'image/height', 'image/format', 'image/object/bbox/ymin', 'image/object/class/label', 'image/object/bbox/ymax', 'image/object/class/text', 'image/object/bbox/xmin', 'image/encoded', 'image/object/bbox/xmax']) \n",
      "\n",
      "415 :  dict_keys(['image/width', 'image/filename', 'image/height', 'image/format', 'image/object/bbox/ymin', 'image/object/class/label', 'image/object/bbox/ymax', 'image/object/class/text', 'image/object/bbox/xmin', 'image/encoded', 'image/object/bbox/xmax']) \n",
      "\n",
      "416 :  dict_keys(['image/width', 'image/filename', 'image/height', 'image/format', 'image/object/bbox/ymin', 'image/object/class/label', 'image/object/bbox/ymax', 'image/object/class/text', 'image/object/bbox/xmin', 'image/encoded', 'image/object/bbox/xmax']) \n",
      "\n",
      "417 :  dict_keys(['image/width', 'image/filename', 'image/height', 'image/format', 'image/object/bbox/ymin', 'image/object/class/label', 'image/object/bbox/ymax', 'image/object/class/text', 'image/object/bbox/xmin', 'image/encoded', 'image/object/bbox/xmax']) \n",
      "\n",
      "418 :  dict_keys(['image/width', 'image/filename', 'image/height', 'image/format', 'image/object/bbox/ymin', 'image/object/class/label', 'image/object/bbox/ymax', 'image/object/class/text', 'image/object/bbox/xmin', 'image/encoded', 'image/object/bbox/xmax']) \n",
      "\n",
      "419 :  dict_keys(['image/width', 'image/filename', 'image/height', 'image/format', 'image/object/bbox/ymin', 'image/object/class/label', 'image/object/bbox/ymax', 'image/object/class/text', 'image/object/bbox/xmin', 'image/encoded', 'image/object/bbox/xmax']) \n",
      "\n",
      "420 :  dict_keys(['image/width', 'image/filename', 'image/height', 'image/format', 'image/object/bbox/ymin', 'image/object/class/label', 'image/object/bbox/ymax', 'image/object/class/text', 'image/object/bbox/xmin', 'image/encoded', 'image/object/bbox/xmax']) \n",
      "\n",
      "421 :  dict_keys(['image/width', 'image/filename', 'image/height', 'image/format', 'image/object/bbox/ymin', 'image/object/class/label', 'image/object/bbox/ymax', 'image/object/class/text', 'image/object/bbox/xmin', 'image/encoded', 'image/object/bbox/xmax']) \n",
      "\n",
      "422 :  dict_keys(['image/width', 'image/filename', 'image/height', 'image/format', 'image/object/bbox/ymin', 'image/object/class/label', 'image/object/bbox/ymax', 'image/object/class/text', 'image/object/bbox/xmin', 'image/encoded', 'image/object/bbox/xmax']) \n",
      "\n",
      "423 :  dict_keys(['image/width', 'image/filename', 'image/height', 'image/format', 'image/object/bbox/ymin', 'image/object/class/label', 'image/object/bbox/ymax', 'image/object/class/text', 'image/object/bbox/xmin', 'image/encoded', 'image/object/bbox/xmax']) \n",
      "\n",
      "424 :  dict_keys(['image/width', 'image/filename', 'image/height', 'image/format', 'image/object/bbox/ymin', 'image/object/class/label', 'image/object/bbox/ymax', 'image/object/class/text', 'image/object/bbox/xmin', 'image/encoded', 'image/object/bbox/xmax']) \n",
      "\n",
      "425 :  dict_keys(['image/width', 'image/filename', 'image/height', 'image/format', 'image/object/bbox/ymin', 'image/object/class/label', 'image/object/bbox/ymax', 'image/object/class/text', 'image/object/bbox/xmin', 'image/encoded', 'image/object/bbox/xmax']) \n",
      "\n",
      "426 :  dict_keys(['image/width', 'image/filename', 'image/height', 'image/format', 'image/object/bbox/ymin', 'image/object/class/label', 'image/object/bbox/ymax', 'image/object/class/text', 'image/object/bbox/xmin', 'image/encoded', 'image/object/bbox/xmax']) \n",
      "\n",
      "427 :  dict_keys(['image/width', 'image/filename', 'image/height', 'image/format', 'image/object/bbox/ymin', 'image/object/class/label', 'image/object/bbox/ymax', 'image/object/class/text', 'image/object/bbox/xmin', 'image/encoded', 'image/object/bbox/xmax']) \n",
      "\n",
      "428 :  dict_keys(['image/width', 'image/filename', 'image/height', 'image/format', 'image/object/bbox/ymin', 'image/object/class/label', 'image/object/bbox/ymax', 'image/object/class/text', 'image/object/bbox/xmin', 'image/encoded', 'image/object/bbox/xmax']) \n",
      "\n",
      "429 :  dict_keys(['image/width', 'image/filename', 'image/height', 'image/format', 'image/object/bbox/ymin', 'image/object/class/label', 'image/object/bbox/ymax', 'image/object/class/text', 'image/object/bbox/xmin', 'image/encoded', 'image/object/bbox/xmax']) \n",
      "\n",
      "430 :  dict_keys(['image/width', 'image/filename', 'image/height', 'image/format', 'image/object/bbox/ymin', 'image/object/class/label', 'image/object/bbox/ymax', 'image/object/class/text', 'image/object/bbox/xmin', 'image/encoded', 'image/object/bbox/xmax']) \n",
      "\n",
      "431 :  dict_keys(['image/width', 'image/filename', 'image/height', 'image/format', 'image/object/bbox/ymin', 'image/object/class/label', 'image/object/bbox/ymax', 'image/object/class/text', 'image/object/bbox/xmin', 'image/encoded', 'image/object/bbox/xmax']) \n",
      "\n",
      "432 :  dict_keys(['image/width', 'image/filename', 'image/height', 'image/format', 'image/object/bbox/ymin', 'image/object/class/label', 'image/object/bbox/ymax', 'image/object/class/text', 'image/object/bbox/xmin', 'image/encoded', 'image/object/bbox/xmax']) \n",
      "\n",
      "433 :  dict_keys(['image/width', 'image/filename', 'image/height', 'image/format', 'image/object/bbox/ymin', 'image/object/class/label', 'image/object/bbox/ymax', 'image/object/class/text', 'image/object/bbox/xmin', 'image/encoded', 'image/object/bbox/xmax']) \n",
      "\n",
      "434 :  dict_keys(['image/width', 'image/filename', 'image/height', 'image/format', 'image/object/bbox/ymin', 'image/object/class/label', 'image/object/bbox/ymax', 'image/object/class/text', 'image/object/bbox/xmin', 'image/encoded', 'image/object/bbox/xmax']) \n",
      "\n",
      "435 :  dict_keys(['image/width', 'image/filename', 'image/height', 'image/format', 'image/object/bbox/ymin', 'image/object/class/label', 'image/object/bbox/ymax', 'image/object/class/text', 'image/object/bbox/xmin', 'image/encoded', 'image/object/bbox/xmax']) \n",
      "\n",
      "436 :  dict_keys(['image/width', 'image/filename', 'image/height', 'image/format', 'image/object/bbox/ymin', 'image/object/class/label', 'image/object/bbox/ymax', 'image/object/class/text', 'image/object/bbox/xmin', 'image/encoded', 'image/object/bbox/xmax']) \n",
      "\n",
      "437 :  dict_keys(['image/width', 'image/filename', 'image/height', 'image/format', 'image/object/bbox/ymin', 'image/object/class/label', 'image/object/bbox/ymax', 'image/object/class/text', 'image/object/bbox/xmin', 'image/encoded', 'image/object/bbox/xmax']) \n",
      "\n",
      "438 :  dict_keys(['image/width', 'image/filename', 'image/height', 'image/format', 'image/object/bbox/ymin', 'image/object/class/label', 'image/object/bbox/ymax', 'image/object/class/text', 'image/object/bbox/xmin', 'image/encoded', 'image/object/bbox/xmax']) \n",
      "\n",
      "439 :  dict_keys(['image/width', 'image/filename', 'image/height', 'image/format', 'image/object/bbox/ymin', 'image/object/class/label', 'image/object/bbox/ymax', 'image/object/class/text', 'image/object/bbox/xmin', 'image/encoded', 'image/object/bbox/xmax']) \n",
      "\n",
      "440 :  dict_keys(['image/width', 'image/filename', 'image/height', 'image/format', 'image/object/bbox/ymin', 'image/object/class/label', 'image/object/bbox/ymax', 'image/object/class/text', 'image/object/bbox/xmin', 'image/encoded', 'image/object/bbox/xmax']) \n",
      "\n",
      "441 :  dict_keys(['image/width', 'image/filename', 'image/height', 'image/format', 'image/object/bbox/ymin', 'image/object/class/label', 'image/object/bbox/ymax', 'image/object/class/text', 'image/object/bbox/xmin', 'image/encoded', 'image/object/bbox/xmax']) \n",
      "\n",
      "442 :  dict_keys(['image/width', 'image/filename', 'image/height', 'image/format', 'image/object/bbox/ymin', 'image/object/class/label', 'image/object/bbox/ymax', 'image/object/class/text', 'image/object/bbox/xmin', 'image/encoded', 'image/object/bbox/xmax']) \n",
      "\n",
      "443 :  dict_keys(['image/width', 'image/filename', 'image/height', 'image/format', 'image/object/bbox/ymin', 'image/object/class/label', 'image/object/bbox/ymax', 'image/object/class/text', 'image/object/bbox/xmin', 'image/encoded', 'image/object/bbox/xmax']) \n",
      "\n",
      "444 :  dict_keys(['image/width', 'image/filename', 'image/height', 'image/format', 'image/object/bbox/ymin', 'image/object/class/label', 'image/object/bbox/ymax', 'image/object/class/text', 'image/object/bbox/xmin', 'image/encoded', 'image/object/bbox/xmax']) \n",
      "\n",
      "445 :  dict_keys(['image/width', 'image/filename', 'image/height', 'image/format', 'image/object/bbox/ymin', 'image/object/class/label', 'image/object/bbox/ymax', 'image/object/class/text', 'image/object/bbox/xmin', 'image/encoded', 'image/object/bbox/xmax']) \n",
      "\n",
      "446 :  dict_keys(['image/width', 'image/filename', 'image/height', 'image/format', 'image/object/bbox/ymin', 'image/object/class/label', 'image/object/bbox/ymax', 'image/object/class/text', 'image/object/bbox/xmin', 'image/encoded', 'image/object/bbox/xmax']) \n",
      "\n",
      "447 :  dict_keys(['image/width', 'image/filename', 'image/height', 'image/format', 'image/object/bbox/ymin', 'image/object/class/label', 'image/object/bbox/ymax', 'image/object/class/text', 'image/object/bbox/xmin', 'image/encoded', 'image/object/bbox/xmax']) \n",
      "\n",
      "448 :  dict_keys(['image/width', 'image/filename', 'image/height', 'image/format', 'image/object/bbox/ymin', 'image/object/class/label', 'image/object/bbox/ymax', 'image/object/class/text', 'image/object/bbox/xmin', 'image/encoded', 'image/object/bbox/xmax']) \n",
      "\n",
      "449 :  dict_keys(['image/width', 'image/filename', 'image/height', 'image/format', 'image/object/bbox/ymin', 'image/object/class/label', 'image/object/bbox/ymax', 'image/object/class/text', 'image/object/bbox/xmin', 'image/encoded', 'image/object/bbox/xmax']) \n",
      "\n",
      "450 :  dict_keys(['image/width', 'image/filename', 'image/height', 'image/format', 'image/object/bbox/ymin', 'image/object/class/label', 'image/object/bbox/ymax', 'image/object/class/text', 'image/object/bbox/xmin', 'image/encoded', 'image/object/bbox/xmax']) \n",
      "\n",
      "451 :  dict_keys(['image/width', 'image/filename', 'image/height', 'image/format', 'image/object/bbox/ymin', 'image/object/class/label', 'image/object/bbox/ymax', 'image/object/class/text', 'image/object/bbox/xmin', 'image/encoded', 'image/object/bbox/xmax']) \n",
      "\n",
      "452 :  dict_keys(['image/width', 'image/filename', 'image/height', 'image/format', 'image/object/bbox/ymin', 'image/object/class/label', 'image/object/bbox/ymax', 'image/object/class/text', 'image/object/bbox/xmin', 'image/encoded', 'image/object/bbox/xmax']) \n",
      "\n",
      "453 :  dict_keys(['image/width', 'image/filename', 'image/height', 'image/format', 'image/object/bbox/ymin', 'image/object/class/label', 'image/object/bbox/ymax', 'image/object/class/text', 'image/object/bbox/xmin', 'image/encoded', 'image/object/bbox/xmax']) \n",
      "\n",
      "454 :  dict_keys(['image/width', 'image/filename', 'image/height', 'image/format', 'image/object/bbox/ymin', 'image/object/class/label', 'image/object/bbox/ymax', 'image/object/class/text', 'image/object/bbox/xmin', 'image/encoded', 'image/object/bbox/xmax']) \n",
      "\n",
      "455 :  dict_keys(['image/width', 'image/filename', 'image/height', 'image/format', 'image/object/bbox/ymin', 'image/object/class/label', 'image/object/bbox/ymax', 'image/object/class/text', 'image/object/bbox/xmin', 'image/encoded', 'image/object/bbox/xmax']) \n",
      "\n",
      "456 :  dict_keys(['image/width', 'image/filename', 'image/height', 'image/format', 'image/object/bbox/ymin', 'image/object/class/label', 'image/object/bbox/ymax', 'image/object/class/text', 'image/object/bbox/xmin', 'image/encoded', 'image/object/bbox/xmax']) \n",
      "\n",
      "457 :  dict_keys(['image/width', 'image/filename', 'image/height', 'image/format', 'image/object/bbox/ymin', 'image/object/class/label', 'image/object/bbox/ymax', 'image/object/class/text', 'image/object/bbox/xmin', 'image/encoded', 'image/object/bbox/xmax']) \n",
      "\n",
      "458 :  dict_keys(['image/width', 'image/filename', 'image/height', 'image/format', 'image/object/bbox/ymin', 'image/object/class/label', 'image/object/bbox/ymax', 'image/object/class/text', 'image/object/bbox/xmin', 'image/encoded', 'image/object/bbox/xmax']) \n",
      "\n",
      "459 :  dict_keys(['image/width', 'image/filename', 'image/height', 'image/format', 'image/object/bbox/ymin', 'image/object/class/label', 'image/object/bbox/ymax', 'image/object/class/text', 'image/object/bbox/xmin', 'image/encoded', 'image/object/bbox/xmax']) \n",
      "\n",
      "460 :  dict_keys(['image/width', 'image/filename', 'image/height', 'image/format', 'image/object/bbox/ymin', 'image/object/class/label', 'image/object/bbox/ymax', 'image/object/class/text', 'image/object/bbox/xmin', 'image/encoded', 'image/object/bbox/xmax']) \n",
      "\n",
      "461 :  dict_keys(['image/width', 'image/filename', 'image/height', 'image/format', 'image/object/bbox/ymin', 'image/object/class/label', 'image/object/bbox/ymax', 'image/object/class/text', 'image/object/bbox/xmin', 'image/encoded', 'image/object/bbox/xmax']) \n",
      "\n",
      "462 :  dict_keys(['image/width', 'image/filename', 'image/height', 'image/format', 'image/object/bbox/ymin', 'image/object/class/label', 'image/object/bbox/ymax', 'image/object/class/text', 'image/object/bbox/xmin', 'image/encoded', 'image/object/bbox/xmax']) \n",
      "\n",
      "463 :  dict_keys(['image/width', 'image/filename', 'image/height', 'image/format', 'image/object/bbox/ymin', 'image/object/class/label', 'image/object/bbox/ymax', 'image/object/class/text', 'image/object/bbox/xmin', 'image/encoded', 'image/object/bbox/xmax']) \n",
      "\n",
      "464 :  dict_keys(['image/width', 'image/filename', 'image/height', 'image/format', 'image/object/bbox/ymin', 'image/object/class/label', 'image/object/bbox/ymax', 'image/object/class/text', 'image/object/bbox/xmin', 'image/encoded', 'image/object/bbox/xmax']) \n",
      "\n",
      "465 :  dict_keys(['image/width', 'image/filename', 'image/height', 'image/format', 'image/object/bbox/ymin', 'image/object/class/label', 'image/object/bbox/ymax', 'image/object/class/text', 'image/object/bbox/xmin', 'image/encoded', 'image/object/bbox/xmax']) \n",
      "\n",
      "466 :  dict_keys(['image/width', 'image/filename', 'image/height', 'image/format', 'image/object/bbox/ymin', 'image/object/class/label', 'image/object/bbox/ymax', 'image/object/class/text', 'image/object/bbox/xmin', 'image/encoded', 'image/object/bbox/xmax']) \n",
      "\n",
      "467 :  dict_keys(['image/width', 'image/filename', 'image/height', 'image/format', 'image/object/bbox/ymin', 'image/object/class/label', 'image/object/bbox/ymax', 'image/object/class/text', 'image/object/bbox/xmin', 'image/encoded', 'image/object/bbox/xmax']) \n",
      "\n",
      "468 :  dict_keys(['image/width', 'image/filename', 'image/height', 'image/format', 'image/object/bbox/ymin', 'image/object/class/label', 'image/object/bbox/ymax', 'image/object/class/text', 'image/object/bbox/xmin', 'image/encoded', 'image/object/bbox/xmax']) \n",
      "\n",
      "469 :  dict_keys(['image/width', 'image/filename', 'image/height', 'image/format', 'image/object/bbox/ymin', 'image/object/class/label', 'image/object/bbox/ymax', 'image/object/class/text', 'image/object/bbox/xmin', 'image/encoded', 'image/object/bbox/xmax']) \n",
      "\n",
      "470 :  dict_keys(['image/width', 'image/filename', 'image/height', 'image/format', 'image/object/bbox/ymin', 'image/object/class/label', 'image/object/bbox/ymax', 'image/object/class/text', 'image/object/bbox/xmin', 'image/encoded', 'image/object/bbox/xmax']) \n",
      "\n",
      "471 :  dict_keys(['image/width', 'image/filename', 'image/height', 'image/format', 'image/object/bbox/ymin', 'image/object/class/label', 'image/object/bbox/ymax', 'image/object/class/text', 'image/object/bbox/xmin', 'image/encoded', 'image/object/bbox/xmax']) \n",
      "\n",
      "472 :  dict_keys(['image/width', 'image/filename', 'image/height', 'image/format', 'image/object/bbox/ymin', 'image/object/class/label', 'image/object/bbox/ymax', 'image/object/class/text', 'image/object/bbox/xmin', 'image/encoded', 'image/object/bbox/xmax']) \n",
      "\n",
      "473 :  dict_keys(['image/width', 'image/filename', 'image/height', 'image/format', 'image/object/bbox/ymin', 'image/object/class/label', 'image/object/bbox/ymax', 'image/object/class/text', 'image/object/bbox/xmin', 'image/encoded', 'image/object/bbox/xmax']) \n",
      "\n",
      "474 :  dict_keys(['image/width', 'image/filename', 'image/height', 'image/format', 'image/object/bbox/ymin', 'image/object/class/label', 'image/object/bbox/ymax', 'image/object/class/text', 'image/object/bbox/xmin', 'image/encoded', 'image/object/bbox/xmax']) \n",
      "\n",
      "475 :  dict_keys(['image/width', 'image/filename', 'image/height', 'image/format', 'image/object/bbox/ymin', 'image/object/class/label', 'image/object/bbox/ymax', 'image/object/class/text', 'image/object/bbox/xmin', 'image/encoded', 'image/object/bbox/xmax']) \n",
      "\n",
      "476 :  dict_keys(['image/width', 'image/filename', 'image/height', 'image/format', 'image/object/bbox/ymin', 'image/object/class/label', 'image/object/bbox/ymax', 'image/object/class/text', 'image/object/bbox/xmin', 'image/encoded', 'image/object/bbox/xmax']) \n",
      "\n",
      "477 :  dict_keys(['image/width', 'image/filename', 'image/height', 'image/format', 'image/object/bbox/ymin', 'image/object/class/label', 'image/object/bbox/ymax', 'image/object/class/text', 'image/object/bbox/xmin', 'image/encoded', 'image/object/bbox/xmax']) \n",
      "\n",
      "478 :  dict_keys(['image/width', 'image/filename', 'image/height', 'image/format', 'image/object/bbox/ymin', 'image/object/class/label', 'image/object/bbox/ymax', 'image/object/class/text', 'image/object/bbox/xmin', 'image/encoded', 'image/object/bbox/xmax']) \n",
      "\n",
      "479 :  dict_keys(['image/width', 'image/filename', 'image/height', 'image/format', 'image/object/bbox/ymin', 'image/object/class/label', 'image/object/bbox/ymax', 'image/object/class/text', 'image/object/bbox/xmin', 'image/encoded', 'image/object/bbox/xmax']) \n",
      "\n",
      "480 :  dict_keys(['image/width', 'image/filename', 'image/height', 'image/format', 'image/object/bbox/ymin', 'image/object/class/label', 'image/object/bbox/ymax', 'image/object/class/text', 'image/object/bbox/xmin', 'image/encoded', 'image/object/bbox/xmax']) \n",
      "\n",
      "481 :  dict_keys(['image/width', 'image/filename', 'image/height', 'image/format', 'image/object/bbox/ymin', 'image/object/class/label', 'image/object/bbox/ymax', 'image/object/class/text', 'image/object/bbox/xmin', 'image/encoded', 'image/object/bbox/xmax']) \n",
      "\n",
      "482 :  dict_keys(['image/width', 'image/filename', 'image/height', 'image/format', 'image/object/bbox/ymin', 'image/object/class/label', 'image/object/bbox/ymax', 'image/object/class/text', 'image/object/bbox/xmin', 'image/encoded', 'image/object/bbox/xmax']) \n",
      "\n",
      "483 :  dict_keys(['image/width', 'image/filename', 'image/height', 'image/format', 'image/object/bbox/ymin', 'image/object/class/label', 'image/object/bbox/ymax', 'image/object/class/text', 'image/object/bbox/xmin', 'image/encoded', 'image/object/bbox/xmax']) \n",
      "\n",
      "484 :  dict_keys(['image/width', 'image/filename', 'image/height', 'image/format', 'image/object/bbox/ymin', 'image/object/class/label', 'image/object/bbox/ymax', 'image/object/class/text', 'image/object/bbox/xmin', 'image/encoded', 'image/object/bbox/xmax']) \n",
      "\n",
      "485 :  dict_keys(['image/width', 'image/filename', 'image/height', 'image/format', 'image/object/bbox/ymin', 'image/object/class/label', 'image/object/bbox/ymax', 'image/object/class/text', 'image/object/bbox/xmin', 'image/encoded', 'image/object/bbox/xmax']) \n",
      "\n",
      "486 :  dict_keys(['image/width', 'image/filename', 'image/height', 'image/format', 'image/object/bbox/ymin', 'image/object/class/label', 'image/object/bbox/ymax', 'image/object/class/text', 'image/object/bbox/xmin', 'image/encoded', 'image/object/bbox/xmax']) \n",
      "\n",
      "487 :  dict_keys(['image/width', 'image/filename', 'image/height', 'image/format', 'image/object/bbox/ymin', 'image/object/class/label', 'image/object/bbox/ymax', 'image/object/class/text', 'image/object/bbox/xmin', 'image/encoded', 'image/object/bbox/xmax']) \n",
      "\n",
      "488 :  dict_keys(['image/width', 'image/filename', 'image/height', 'image/format', 'image/object/bbox/ymin', 'image/object/class/label', 'image/object/bbox/ymax', 'image/object/class/text', 'image/object/bbox/xmin', 'image/encoded', 'image/object/bbox/xmax']) \n",
      "\n",
      "489 :  dict_keys(['image/width', 'image/filename', 'image/height', 'image/format', 'image/object/bbox/ymin', 'image/object/class/label', 'image/object/bbox/ymax', 'image/object/class/text', 'image/object/bbox/xmin', 'image/encoded', 'image/object/bbox/xmax']) \n",
      "\n",
      "490 :  dict_keys(['image/width', 'image/filename', 'image/height', 'image/format', 'image/object/bbox/ymin', 'image/object/class/label', 'image/object/bbox/ymax', 'image/object/class/text', 'image/object/bbox/xmin', 'image/encoded', 'image/object/bbox/xmax']) \n",
      "\n",
      "491 :  dict_keys(['image/width', 'image/filename', 'image/height', 'image/format', 'image/object/bbox/ymin', 'image/object/class/label', 'image/object/bbox/ymax', 'image/object/class/text', 'image/object/bbox/xmin', 'image/encoded', 'image/object/bbox/xmax']) \n",
      "\n",
      "492 :  dict_keys(['image/width', 'image/filename', 'image/height', 'image/format', 'image/object/bbox/ymin', 'image/object/class/label', 'image/object/bbox/ymax', 'image/object/class/text', 'image/object/bbox/xmin', 'image/encoded', 'image/object/bbox/xmax']) \n",
      "\n",
      "493 :  dict_keys(['image/width', 'image/filename', 'image/height', 'image/format', 'image/object/bbox/ymin', 'image/object/class/label', 'image/object/bbox/ymax', 'image/object/class/text', 'image/object/bbox/xmin', 'image/encoded', 'image/object/bbox/xmax']) \n",
      "\n",
      "494 :  dict_keys(['image/width', 'image/filename', 'image/height', 'image/format', 'image/object/bbox/ymin', 'image/object/class/label', 'image/object/bbox/ymax', 'image/object/class/text', 'image/object/bbox/xmin', 'image/encoded', 'image/object/bbox/xmax']) \n",
      "\n",
      "495 :  dict_keys(['image/width', 'image/filename', 'image/height', 'image/format', 'image/object/bbox/ymin', 'image/object/class/label', 'image/object/bbox/ymax', 'image/object/class/text', 'image/object/bbox/xmin', 'image/encoded', 'image/object/bbox/xmax']) \n",
      "\n",
      "496 :  dict_keys(['image/width', 'image/filename', 'image/height', 'image/format', 'image/object/bbox/ymin', 'image/object/class/label', 'image/object/bbox/ymax', 'image/object/class/text', 'image/object/bbox/xmin', 'image/encoded', 'image/object/bbox/xmax']) \n",
      "\n",
      "497 :  dict_keys(['image/width', 'image/filename', 'image/height', 'image/format', 'image/object/bbox/ymin', 'image/object/class/label', 'image/object/bbox/ymax', 'image/object/class/text', 'image/object/bbox/xmin', 'image/encoded', 'image/object/bbox/xmax']) \n",
      "\n",
      "498 :  dict_keys(['image/width', 'image/filename', 'image/height', 'image/format', 'image/object/bbox/ymin', 'image/object/class/label', 'image/object/bbox/ymax', 'image/object/class/text', 'image/object/bbox/xmin', 'image/encoded', 'image/object/bbox/xmax']) \n",
      "\n",
      "499 :  dict_keys(['image/width', 'image/filename', 'image/height', 'image/format', 'image/object/bbox/ymin', 'image/object/class/label', 'image/object/bbox/ymax', 'image/object/class/text', 'image/object/bbox/xmin', 'image/encoded', 'image/object/bbox/xmax']) \n",
      "\n",
      "500 :  dict_keys(['image/width', 'image/filename', 'image/height', 'image/format', 'image/object/bbox/ymin', 'image/object/class/label', 'image/object/bbox/ymax', 'image/object/class/text', 'image/object/bbox/xmin', 'image/encoded', 'image/object/bbox/xmax']) \n",
      "\n",
      "501 :  dict_keys(['image/width', 'image/filename', 'image/height', 'image/format', 'image/object/bbox/ymin', 'image/object/class/label', 'image/object/bbox/ymax', 'image/object/class/text', 'image/object/bbox/xmin', 'image/encoded', 'image/object/bbox/xmax']) \n",
      "\n",
      "502 :  dict_keys(['image/width', 'image/filename', 'image/height', 'image/format', 'image/object/bbox/ymin', 'image/object/class/label', 'image/object/bbox/ymax', 'image/object/class/text', 'image/object/bbox/xmin', 'image/encoded', 'image/object/bbox/xmax']) \n",
      "\n",
      "503 :  dict_keys(['image/width', 'image/filename', 'image/height', 'image/format', 'image/object/bbox/ymin', 'image/object/class/label', 'image/object/bbox/ymax', 'image/object/class/text', 'image/object/bbox/xmin', 'image/encoded', 'image/object/bbox/xmax']) \n",
      "\n",
      "504 :  dict_keys(['image/width', 'image/filename', 'image/height', 'image/format', 'image/object/bbox/ymin', 'image/object/class/label', 'image/object/bbox/ymax', 'image/object/class/text', 'image/object/bbox/xmin', 'image/encoded', 'image/object/bbox/xmax']) \n",
      "\n",
      "505 :  dict_keys(['image/width', 'image/filename', 'image/height', 'image/format', 'image/object/bbox/ymin', 'image/object/class/label', 'image/object/bbox/ymax', 'image/object/class/text', 'image/object/bbox/xmin', 'image/encoded', 'image/object/bbox/xmax']) \n",
      "\n",
      "506 :  dict_keys(['image/width', 'image/filename', 'image/height', 'image/format', 'image/object/bbox/ymin', 'image/object/class/label', 'image/object/bbox/ymax', 'image/object/class/text', 'image/object/bbox/xmin', 'image/encoded', 'image/object/bbox/xmax']) \n",
      "\n",
      "507 :  dict_keys(['image/width', 'image/filename', 'image/height', 'image/format', 'image/object/bbox/ymin', 'image/object/class/label', 'image/object/bbox/ymax', 'image/object/class/text', 'image/object/bbox/xmin', 'image/encoded', 'image/object/bbox/xmax']) \n",
      "\n",
      "508 :  dict_keys(['image/width', 'image/filename', 'image/height', 'image/format', 'image/object/bbox/ymin', 'image/object/class/label', 'image/object/bbox/ymax', 'image/object/class/text', 'image/object/bbox/xmin', 'image/encoded', 'image/object/bbox/xmax']) \n",
      "\n",
      "509 :  dict_keys(['image/width', 'image/filename', 'image/height', 'image/format', 'image/object/bbox/ymin', 'image/object/class/label', 'image/object/bbox/ymax', 'image/object/class/text', 'image/object/bbox/xmin', 'image/encoded', 'image/object/bbox/xmax']) \n",
      "\n",
      "510 :  dict_keys(['image/width', 'image/filename', 'image/height', 'image/format', 'image/object/bbox/ymin', 'image/object/class/label', 'image/object/bbox/ymax', 'image/object/class/text', 'image/object/bbox/xmin', 'image/encoded', 'image/object/bbox/xmax']) \n",
      "\n",
      "511 :  dict_keys(['image/width', 'image/filename', 'image/height', 'image/format', 'image/object/bbox/ymin', 'image/object/class/label', 'image/object/bbox/ymax', 'image/object/class/text', 'image/object/bbox/xmin', 'image/encoded', 'image/object/bbox/xmax']) \n",
      "\n",
      "512 :  dict_keys(['image/width', 'image/filename', 'image/height', 'image/format', 'image/object/bbox/ymin', 'image/object/class/label', 'image/object/bbox/ymax', 'image/object/class/text', 'image/object/bbox/xmin', 'image/encoded', 'image/object/bbox/xmax']) \n",
      "\n",
      "513 :  dict_keys(['image/width', 'image/filename', 'image/height', 'image/format', 'image/object/bbox/ymin', 'image/object/class/label', 'image/object/bbox/ymax', 'image/object/class/text', 'image/object/bbox/xmin', 'image/encoded', 'image/object/bbox/xmax']) \n",
      "\n",
      "514 :  dict_keys(['image/width', 'image/filename', 'image/height', 'image/format', 'image/object/bbox/ymin', 'image/object/class/label', 'image/object/bbox/ymax', 'image/object/class/text', 'image/object/bbox/xmin', 'image/encoded', 'image/object/bbox/xmax']) \n",
      "\n",
      "515 :  dict_keys(['image/width', 'image/filename', 'image/height', 'image/format', 'image/object/bbox/ymin', 'image/object/class/label', 'image/object/bbox/ymax', 'image/object/class/text', 'image/object/bbox/xmin', 'image/encoded', 'image/object/bbox/xmax']) \n",
      "\n",
      "516 :  dict_keys(['image/width', 'image/filename', 'image/height', 'image/format', 'image/object/bbox/ymin', 'image/object/class/label', 'image/object/bbox/ymax', 'image/object/class/text', 'image/object/bbox/xmin', 'image/encoded', 'image/object/bbox/xmax']) \n",
      "\n",
      "517 :  dict_keys(['image/width', 'image/filename', 'image/height', 'image/format', 'image/object/bbox/ymin', 'image/object/class/label', 'image/object/bbox/ymax', 'image/object/class/text', 'image/object/bbox/xmin', 'image/encoded', 'image/object/bbox/xmax']) \n",
      "\n",
      "518 :  dict_keys(['image/width', 'image/filename', 'image/height', 'image/format', 'image/object/bbox/ymin', 'image/object/class/label', 'image/object/bbox/ymax', 'image/object/class/text', 'image/object/bbox/xmin', 'image/encoded', 'image/object/bbox/xmax']) \n",
      "\n",
      "519 :  dict_keys(['image/width', 'image/filename', 'image/height', 'image/format', 'image/object/bbox/ymin', 'image/object/class/label', 'image/object/bbox/ymax', 'image/object/class/text', 'image/object/bbox/xmin', 'image/encoded', 'image/object/bbox/xmax']) \n",
      "\n",
      "520 :  dict_keys(['image/width', 'image/filename', 'image/height', 'image/format', 'image/object/bbox/ymin', 'image/object/class/label', 'image/object/bbox/ymax', 'image/object/class/text', 'image/object/bbox/xmin', 'image/encoded', 'image/object/bbox/xmax']) \n",
      "\n",
      "521 :  dict_keys(['image/width', 'image/filename', 'image/height', 'image/format', 'image/object/bbox/ymin', 'image/object/class/label', 'image/object/bbox/ymax', 'image/object/class/text', 'image/object/bbox/xmin', 'image/encoded', 'image/object/bbox/xmax']) \n",
      "\n",
      "522 :  dict_keys(['image/width', 'image/filename', 'image/height', 'image/format', 'image/object/bbox/ymin', 'image/object/class/label', 'image/object/bbox/ymax', 'image/object/class/text', 'image/object/bbox/xmin', 'image/encoded', 'image/object/bbox/xmax']) \n",
      "\n",
      "523 :  dict_keys(['image/width', 'image/filename', 'image/height', 'image/format', 'image/object/bbox/ymin', 'image/object/class/label', 'image/object/bbox/ymax', 'image/object/class/text', 'image/object/bbox/xmin', 'image/encoded', 'image/object/bbox/xmax']) \n",
      "\n",
      "524 :  dict_keys(['image/width', 'image/filename', 'image/height', 'image/format', 'image/object/bbox/ymin', 'image/object/class/label', 'image/object/bbox/ymax', 'image/object/class/text', 'image/object/bbox/xmin', 'image/encoded', 'image/object/bbox/xmax']) \n",
      "\n",
      "525 :  dict_keys(['image/width', 'image/filename', 'image/height', 'image/format', 'image/object/bbox/ymin', 'image/object/class/label', 'image/object/bbox/ymax', 'image/object/class/text', 'image/object/bbox/xmin', 'image/encoded', 'image/object/bbox/xmax']) \n",
      "\n",
      "526 :  dict_keys(['image/width', 'image/filename', 'image/height', 'image/format', 'image/object/bbox/ymin', 'image/object/class/label', 'image/object/bbox/ymax', 'image/object/class/text', 'image/object/bbox/xmin', 'image/encoded', 'image/object/bbox/xmax']) \n",
      "\n",
      "527 :  dict_keys(['image/width', 'image/filename', 'image/height', 'image/format', 'image/object/bbox/ymin', 'image/object/class/label', 'image/object/bbox/ymax', 'image/object/class/text', 'image/object/bbox/xmin', 'image/encoded', 'image/object/bbox/xmax']) \n",
      "\n",
      "528 :  dict_keys(['image/width', 'image/filename', 'image/height', 'image/format', 'image/object/bbox/ymin', 'image/object/class/label', 'image/object/bbox/ymax', 'image/object/class/text', 'image/object/bbox/xmin', 'image/encoded', 'image/object/bbox/xmax']) \n",
      "\n",
      "529 :  dict_keys(['image/width', 'image/filename', 'image/height', 'image/format', 'image/object/bbox/ymin', 'image/object/class/label', 'image/object/bbox/ymax', 'image/object/class/text', 'image/object/bbox/xmin', 'image/encoded', 'image/object/bbox/xmax']) \n",
      "\n",
      "530 :  dict_keys(['image/width', 'image/filename', 'image/height', 'image/format', 'image/object/bbox/ymin', 'image/object/class/label', 'image/object/bbox/ymax', 'image/object/class/text', 'image/object/bbox/xmin', 'image/encoded', 'image/object/bbox/xmax']) \n",
      "\n",
      "531 :  dict_keys(['image/width', 'image/filename', 'image/height', 'image/format', 'image/object/bbox/ymin', 'image/object/class/label', 'image/object/bbox/ymax', 'image/object/class/text', 'image/object/bbox/xmin', 'image/encoded', 'image/object/bbox/xmax']) \n",
      "\n",
      "532 :  dict_keys(['image/width', 'image/filename', 'image/height', 'image/format', 'image/object/bbox/ymin', 'image/object/class/label', 'image/object/bbox/ymax', 'image/object/class/text', 'image/object/bbox/xmin', 'image/encoded', 'image/object/bbox/xmax']) \n",
      "\n",
      "533 :  dict_keys(['image/width', 'image/filename', 'image/height', 'image/format', 'image/object/bbox/ymin', 'image/object/class/label', 'image/object/bbox/ymax', 'image/object/class/text', 'image/object/bbox/xmin', 'image/encoded', 'image/object/bbox/xmax']) \n",
      "\n",
      "534 :  dict_keys(['image/width', 'image/filename', 'image/height', 'image/format', 'image/object/bbox/ymin', 'image/object/class/label', 'image/object/bbox/ymax', 'image/object/class/text', 'image/object/bbox/xmin', 'image/encoded', 'image/object/bbox/xmax']) \n",
      "\n",
      "535 :  dict_keys(['image/width', 'image/filename', 'image/height', 'image/format', 'image/object/bbox/ymin', 'image/object/class/label', 'image/object/bbox/ymax', 'image/object/class/text', 'image/object/bbox/xmin', 'image/encoded', 'image/object/bbox/xmax']) \n",
      "\n",
      "536 :  dict_keys(['image/width', 'image/filename', 'image/height', 'image/format', 'image/object/bbox/ymin', 'image/object/class/label', 'image/object/bbox/ymax', 'image/object/class/text', 'image/object/bbox/xmin', 'image/encoded', 'image/object/bbox/xmax']) \n",
      "\n",
      "537 :  dict_keys(['image/width', 'image/filename', 'image/height', 'image/format', 'image/object/bbox/ymin', 'image/object/class/label', 'image/object/bbox/ymax', 'image/object/class/text', 'image/object/bbox/xmin', 'image/encoded', 'image/object/bbox/xmax']) \n",
      "\n",
      "538 :  dict_keys(['image/width', 'image/filename', 'image/height', 'image/format', 'image/object/bbox/ymin', 'image/object/class/label', 'image/object/bbox/ymax', 'image/object/class/text', 'image/object/bbox/xmin', 'image/encoded', 'image/object/bbox/xmax']) \n",
      "\n",
      "539 :  dict_keys(['image/width', 'image/filename', 'image/height', 'image/format', 'image/object/bbox/ymin', 'image/object/class/label', 'image/object/bbox/ymax', 'image/object/class/text', 'image/object/bbox/xmin', 'image/encoded', 'image/object/bbox/xmax']) \n",
      "\n",
      "540 :  dict_keys(['image/width', 'image/filename', 'image/height', 'image/format', 'image/object/bbox/ymin', 'image/object/class/label', 'image/object/bbox/ymax', 'image/object/class/text', 'image/object/bbox/xmin', 'image/encoded', 'image/object/bbox/xmax']) \n",
      "\n",
      "541 :  dict_keys(['image/width', 'image/filename', 'image/height', 'image/format', 'image/object/bbox/ymin', 'image/object/class/label', 'image/object/bbox/ymax', 'image/object/class/text', 'image/object/bbox/xmin', 'image/encoded', 'image/object/bbox/xmax']) \n",
      "\n",
      "542 :  dict_keys(['image/width', 'image/filename', 'image/height', 'image/format', 'image/object/bbox/ymin', 'image/object/class/label', 'image/object/bbox/ymax', 'image/object/class/text', 'image/object/bbox/xmin', 'image/encoded', 'image/object/bbox/xmax']) \n",
      "\n",
      "543 :  dict_keys(['image/width', 'image/filename', 'image/height', 'image/format', 'image/object/bbox/ymin', 'image/object/class/label', 'image/object/bbox/ymax', 'image/object/class/text', 'image/object/bbox/xmin', 'image/encoded', 'image/object/bbox/xmax']) \n",
      "\n",
      "544 :  dict_keys(['image/width', 'image/filename', 'image/height', 'image/format', 'image/object/bbox/ymin', 'image/object/class/label', 'image/object/bbox/ymax', 'image/object/class/text', 'image/object/bbox/xmin', 'image/encoded', 'image/object/bbox/xmax']) \n",
      "\n",
      "545 :  dict_keys(['image/width', 'image/filename', 'image/height', 'image/format', 'image/object/bbox/ymin', 'image/object/class/label', 'image/object/bbox/ymax', 'image/object/class/text', 'image/object/bbox/xmin', 'image/encoded', 'image/object/bbox/xmax']) \n",
      "\n",
      "546 :  dict_keys(['image/width', 'image/filename', 'image/height', 'image/format', 'image/object/bbox/ymin', 'image/object/class/label', 'image/object/bbox/ymax', 'image/object/class/text', 'image/object/bbox/xmin', 'image/encoded', 'image/object/bbox/xmax']) \n",
      "\n",
      "547 :  dict_keys(['image/width', 'image/filename', 'image/height', 'image/format', 'image/object/bbox/ymin', 'image/object/class/label', 'image/object/bbox/ymax', 'image/object/class/text', 'image/object/bbox/xmin', 'image/encoded', 'image/object/bbox/xmax']) \n",
      "\n",
      "548 :  dict_keys(['image/width', 'image/filename', 'image/height', 'image/format', 'image/object/bbox/ymin', 'image/object/class/label', 'image/object/bbox/ymax', 'image/object/class/text', 'image/object/bbox/xmin', 'image/encoded', 'image/object/bbox/xmax']) \n",
      "\n",
      "549 :  dict_keys(['image/width', 'image/filename', 'image/height', 'image/format', 'image/object/bbox/ymin', 'image/object/class/label', 'image/object/bbox/ymax', 'image/object/class/text', 'image/object/bbox/xmin', 'image/encoded', 'image/object/bbox/xmax']) \n",
      "\n",
      "550 :  dict_keys(['image/width', 'image/filename', 'image/height', 'image/format', 'image/object/bbox/ymin', 'image/object/class/label', 'image/object/bbox/ymax', 'image/object/class/text', 'image/object/bbox/xmin', 'image/encoded', 'image/object/bbox/xmax']) \n",
      "\n",
      "551 :  dict_keys(['image/width', 'image/filename', 'image/height', 'image/format', 'image/object/bbox/ymin', 'image/object/class/label', 'image/object/bbox/ymax', 'image/object/class/text', 'image/object/bbox/xmin', 'image/encoded', 'image/object/bbox/xmax']) \n",
      "\n",
      "552 :  dict_keys(['image/width', 'image/filename', 'image/height', 'image/format', 'image/object/bbox/ymin', 'image/object/class/label', 'image/object/bbox/ymax', 'image/object/class/text', 'image/object/bbox/xmin', 'image/encoded', 'image/object/bbox/xmax']) \n",
      "\n",
      "553 :  dict_keys(['image/width', 'image/filename', 'image/height', 'image/format', 'image/object/bbox/ymin', 'image/object/class/label', 'image/object/bbox/ymax', 'image/object/class/text', 'image/object/bbox/xmin', 'image/encoded', 'image/object/bbox/xmax']) \n",
      "\n",
      "554 :  dict_keys(['image/width', 'image/filename', 'image/height', 'image/format', 'image/object/bbox/ymin', 'image/object/class/label', 'image/object/bbox/ymax', 'image/object/class/text', 'image/object/bbox/xmin', 'image/encoded', 'image/object/bbox/xmax']) \n",
      "\n",
      "555 :  dict_keys(['image/width', 'image/filename', 'image/height', 'image/format', 'image/object/bbox/ymin', 'image/object/class/label', 'image/object/bbox/ymax', 'image/object/class/text', 'image/object/bbox/xmin', 'image/encoded', 'image/object/bbox/xmax']) \n",
      "\n",
      "556 :  dict_keys(['image/width', 'image/filename', 'image/height', 'image/format', 'image/object/bbox/ymin', 'image/object/class/label', 'image/object/bbox/ymax', 'image/object/class/text', 'image/object/bbox/xmin', 'image/encoded', 'image/object/bbox/xmax']) \n",
      "\n",
      "557 :  dict_keys(['image/width', 'image/filename', 'image/height', 'image/format', 'image/object/bbox/ymin', 'image/object/class/label', 'image/object/bbox/ymax', 'image/object/class/text', 'image/object/bbox/xmin', 'image/encoded', 'image/object/bbox/xmax']) \n",
      "\n",
      "558 :  dict_keys(['image/width', 'image/filename', 'image/height', 'image/format', 'image/object/bbox/ymin', 'image/object/class/label', 'image/object/bbox/ymax', 'image/object/class/text', 'image/object/bbox/xmin', 'image/encoded', 'image/object/bbox/xmax']) \n",
      "\n",
      "559 :  dict_keys(['image/width', 'image/filename', 'image/height', 'image/format', 'image/object/bbox/ymin', 'image/object/class/label', 'image/object/bbox/ymax', 'image/object/class/text', 'image/object/bbox/xmin', 'image/encoded', 'image/object/bbox/xmax']) \n",
      "\n",
      "560 :  dict_keys(['image/width', 'image/filename', 'image/height', 'image/format', 'image/object/bbox/ymin', 'image/object/class/label', 'image/object/bbox/ymax', 'image/object/class/text', 'image/object/bbox/xmin', 'image/encoded', 'image/object/bbox/xmax']) \n",
      "\n",
      "561 :  dict_keys(['image/width', 'image/filename', 'image/height', 'image/format', 'image/object/bbox/ymin', 'image/object/class/label', 'image/object/bbox/ymax', 'image/object/class/text', 'image/object/bbox/xmin', 'image/encoded', 'image/object/bbox/xmax']) \n",
      "\n",
      "562 :  dict_keys(['image/width', 'image/filename', 'image/height', 'image/format', 'image/object/bbox/ymin', 'image/object/class/label', 'image/object/bbox/ymax', 'image/object/class/text', 'image/object/bbox/xmin', 'image/encoded', 'image/object/bbox/xmax']) \n",
      "\n",
      "563 :  dict_keys(['image/width', 'image/filename', 'image/height', 'image/format', 'image/object/bbox/ymin', 'image/object/class/label', 'image/object/bbox/ymax', 'image/object/class/text', 'image/object/bbox/xmin', 'image/encoded', 'image/object/bbox/xmax']) \n",
      "\n",
      "564 :  dict_keys(['image/width', 'image/filename', 'image/height', 'image/format', 'image/object/bbox/ymin', 'image/object/class/label', 'image/object/bbox/ymax', 'image/object/class/text', 'image/object/bbox/xmin', 'image/encoded', 'image/object/bbox/xmax']) \n",
      "\n",
      "565 :  dict_keys(['image/width', 'image/filename', 'image/height', 'image/format', 'image/object/bbox/ymin', 'image/object/class/label', 'image/object/bbox/ymax', 'image/object/class/text', 'image/object/bbox/xmin', 'image/encoded', 'image/object/bbox/xmax']) \n",
      "\n",
      "566 :  dict_keys(['image/width', 'image/filename', 'image/height', 'image/format', 'image/object/bbox/ymin', 'image/object/class/label', 'image/object/bbox/ymax', 'image/object/class/text', 'image/object/bbox/xmin', 'image/encoded', 'image/object/bbox/xmax']) \n",
      "\n",
      "567 :  dict_keys(['image/width', 'image/filename', 'image/height', 'image/format', 'image/object/bbox/ymin', 'image/object/class/label', 'image/object/bbox/ymax', 'image/object/class/text', 'image/object/bbox/xmin', 'image/encoded', 'image/object/bbox/xmax']) \n",
      "\n",
      "568 :  dict_keys(['image/width', 'image/filename', 'image/height', 'image/format', 'image/object/bbox/ymin', 'image/object/class/label', 'image/object/bbox/ymax', 'image/object/class/text', 'image/object/bbox/xmin', 'image/encoded', 'image/object/bbox/xmax']) \n",
      "\n",
      "569 :  dict_keys(['image/width', 'image/filename', 'image/height', 'image/format', 'image/object/bbox/ymin', 'image/object/class/label', 'image/object/bbox/ymax', 'image/object/class/text', 'image/object/bbox/xmin', 'image/encoded', 'image/object/bbox/xmax']) \n",
      "\n",
      "570 :  dict_keys(['image/width', 'image/filename', 'image/height', 'image/format', 'image/object/bbox/ymin', 'image/object/class/label', 'image/object/bbox/ymax', 'image/object/class/text', 'image/object/bbox/xmin', 'image/encoded', 'image/object/bbox/xmax']) \n",
      "\n",
      "571 :  dict_keys(['image/width', 'image/filename', 'image/height', 'image/format', 'image/object/bbox/ymin', 'image/object/class/label', 'image/object/bbox/ymax', 'image/object/class/text', 'image/object/bbox/xmin', 'image/encoded', 'image/object/bbox/xmax']) \n",
      "\n",
      "572 :  dict_keys(['image/width', 'image/filename', 'image/height', 'image/format', 'image/object/bbox/ymin', 'image/object/class/label', 'image/object/bbox/ymax', 'image/object/class/text', 'image/object/bbox/xmin', 'image/encoded', 'image/object/bbox/xmax']) \n",
      "\n",
      "573 :  dict_keys(['image/width', 'image/filename', 'image/height', 'image/format', 'image/object/bbox/ymin', 'image/object/class/label', 'image/object/bbox/ymax', 'image/object/class/text', 'image/object/bbox/xmin', 'image/encoded', 'image/object/bbox/xmax']) \n",
      "\n",
      "574 :  dict_keys(['image/width', 'image/filename', 'image/height', 'image/format', 'image/object/bbox/ymin', 'image/object/class/label', 'image/object/bbox/ymax', 'image/object/class/text', 'image/object/bbox/xmin', 'image/encoded', 'image/object/bbox/xmax']) \n",
      "\n",
      "575 :  dict_keys(['image/width', 'image/filename', 'image/height', 'image/format', 'image/object/bbox/ymin', 'image/object/class/label', 'image/object/bbox/ymax', 'image/object/class/text', 'image/object/bbox/xmin', 'image/encoded', 'image/object/bbox/xmax']) \n",
      "\n",
      "576 :  dict_keys(['image/width', 'image/filename', 'image/height', 'image/format', 'image/object/bbox/ymin', 'image/object/class/label', 'image/object/bbox/ymax', 'image/object/class/text', 'image/object/bbox/xmin', 'image/encoded', 'image/object/bbox/xmax']) \n",
      "\n",
      "577 :  dict_keys(['image/width', 'image/filename', 'image/height', 'image/format', 'image/object/bbox/ymin', 'image/object/class/label', 'image/object/bbox/ymax', 'image/object/class/text', 'image/object/bbox/xmin', 'image/encoded', 'image/object/bbox/xmax']) \n",
      "\n",
      "578 :  dict_keys(['image/width', 'image/filename', 'image/height', 'image/format', 'image/object/bbox/ymin', 'image/object/class/label', 'image/object/bbox/ymax', 'image/object/class/text', 'image/object/bbox/xmin', 'image/encoded', 'image/object/bbox/xmax']) \n",
      "\n",
      "579 :  dict_keys(['image/width', 'image/filename', 'image/height', 'image/format', 'image/object/bbox/ymin', 'image/object/class/label', 'image/object/bbox/ymax', 'image/object/class/text', 'image/object/bbox/xmin', 'image/encoded', 'image/object/bbox/xmax']) \n",
      "\n",
      "580 :  dict_keys(['image/width', 'image/filename', 'image/height', 'image/format', 'image/object/bbox/ymin', 'image/object/class/label', 'image/object/bbox/ymax', 'image/object/class/text', 'image/object/bbox/xmin', 'image/encoded', 'image/object/bbox/xmax']) \n",
      "\n",
      "581 :  dict_keys(['image/width', 'image/filename', 'image/height', 'image/format', 'image/object/bbox/ymin', 'image/object/class/label', 'image/object/bbox/ymax', 'image/object/class/text', 'image/object/bbox/xmin', 'image/encoded', 'image/object/bbox/xmax']) \n",
      "\n",
      "582 :  dict_keys(['image/width', 'image/filename', 'image/height', 'image/format', 'image/object/bbox/ymin', 'image/object/class/label', 'image/object/bbox/ymax', 'image/object/class/text', 'image/object/bbox/xmin', 'image/encoded', 'image/object/bbox/xmax']) \n",
      "\n",
      "583 :  dict_keys(['image/width', 'image/filename', 'image/height', 'image/format', 'image/object/bbox/ymin', 'image/object/class/label', 'image/object/bbox/ymax', 'image/object/class/text', 'image/object/bbox/xmin', 'image/encoded', 'image/object/bbox/xmax']) \n",
      "\n",
      "584 :  dict_keys(['image/width', 'image/filename', 'image/height', 'image/format', 'image/object/bbox/ymin', 'image/object/class/label', 'image/object/bbox/ymax', 'image/object/class/text', 'image/object/bbox/xmin', 'image/encoded', 'image/object/bbox/xmax']) \n",
      "\n",
      "585 :  dict_keys(['image/width', 'image/filename', 'image/height', 'image/format', 'image/object/bbox/ymin', 'image/object/class/label', 'image/object/bbox/ymax', 'image/object/class/text', 'image/object/bbox/xmin', 'image/encoded', 'image/object/bbox/xmax']) \n",
      "\n",
      "586 :  dict_keys(['image/width', 'image/filename', 'image/height', 'image/format', 'image/object/bbox/ymin', 'image/object/class/label', 'image/object/bbox/ymax', 'image/object/class/text', 'image/object/bbox/xmin', 'image/encoded', 'image/object/bbox/xmax']) \n",
      "\n",
      "587 :  dict_keys(['image/width', 'image/filename', 'image/height', 'image/format', 'image/object/bbox/ymin', 'image/object/class/label', 'image/object/bbox/ymax', 'image/object/class/text', 'image/object/bbox/xmin', 'image/encoded', 'image/object/bbox/xmax']) \n",
      "\n",
      "588 :  dict_keys(['image/width', 'image/filename', 'image/height', 'image/format', 'image/object/bbox/ymin', 'image/object/class/label', 'image/object/bbox/ymax', 'image/object/class/text', 'image/object/bbox/xmin', 'image/encoded', 'image/object/bbox/xmax']) \n",
      "\n",
      "589 :  dict_keys(['image/width', 'image/filename', 'image/height', 'image/format', 'image/object/bbox/ymin', 'image/object/class/label', 'image/object/bbox/ymax', 'image/object/class/text', 'image/object/bbox/xmin', 'image/encoded', 'image/object/bbox/xmax']) \n",
      "\n",
      "590 :  dict_keys(['image/width', 'image/filename', 'image/height', 'image/format', 'image/object/bbox/ymin', 'image/object/class/label', 'image/object/bbox/ymax', 'image/object/class/text', 'image/object/bbox/xmin', 'image/encoded', 'image/object/bbox/xmax']) \n",
      "\n",
      "591 :  dict_keys(['image/width', 'image/filename', 'image/height', 'image/format', 'image/object/bbox/ymin', 'image/object/class/label', 'image/object/bbox/ymax', 'image/object/class/text', 'image/object/bbox/xmin', 'image/encoded', 'image/object/bbox/xmax']) \n",
      "\n",
      "592 :  dict_keys(['image/width', 'image/filename', 'image/height', 'image/format', 'image/object/bbox/ymin', 'image/object/class/label', 'image/object/bbox/ymax', 'image/object/class/text', 'image/object/bbox/xmin', 'image/encoded', 'image/object/bbox/xmax']) \n",
      "\n",
      "593 :  dict_keys(['image/width', 'image/filename', 'image/height', 'image/format', 'image/object/bbox/ymin', 'image/object/class/label', 'image/object/bbox/ymax', 'image/object/class/text', 'image/object/bbox/xmin', 'image/encoded', 'image/object/bbox/xmax']) \n",
      "\n",
      "594 :  dict_keys(['image/width', 'image/filename', 'image/height', 'image/format', 'image/object/bbox/ymin', 'image/object/class/label', 'image/object/bbox/ymax', 'image/object/class/text', 'image/object/bbox/xmin', 'image/encoded', 'image/object/bbox/xmax']) \n",
      "\n",
      "595 :  dict_keys(['image/width', 'image/filename', 'image/height', 'image/format', 'image/object/bbox/ymin', 'image/object/class/label', 'image/object/bbox/ymax', 'image/object/class/text', 'image/object/bbox/xmin', 'image/encoded', 'image/object/bbox/xmax']) \n",
      "\n",
      "596 :  dict_keys(['image/width', 'image/filename', 'image/height', 'image/format', 'image/object/bbox/ymin', 'image/object/class/label', 'image/object/bbox/ymax', 'image/object/class/text', 'image/object/bbox/xmin', 'image/encoded', 'image/object/bbox/xmax']) \n",
      "\n",
      "597 :  dict_keys(['image/width', 'image/filename', 'image/height', 'image/format', 'image/object/bbox/ymin', 'image/object/class/label', 'image/object/bbox/ymax', 'image/object/class/text', 'image/object/bbox/xmin', 'image/encoded', 'image/object/bbox/xmax']) \n",
      "\n",
      "598 :  dict_keys(['image/width', 'image/filename', 'image/height', 'image/format', 'image/object/bbox/ymin', 'image/object/class/label', 'image/object/bbox/ymax', 'image/object/class/text', 'image/object/bbox/xmin', 'image/encoded', 'image/object/bbox/xmax']) \n",
      "\n",
      "599 :  dict_keys(['image/width', 'image/filename', 'image/height', 'image/format', 'image/object/bbox/ymin', 'image/object/class/label', 'image/object/bbox/ymax', 'image/object/class/text', 'image/object/bbox/xmin', 'image/encoded', 'image/object/bbox/xmax']) \n",
      "\n",
      "600 :  dict_keys(['image/width', 'image/filename', 'image/height', 'image/format', 'image/object/bbox/ymin', 'image/object/class/label', 'image/object/bbox/ymax', 'image/object/class/text', 'image/object/bbox/xmin', 'image/encoded', 'image/object/bbox/xmax']) \n",
      "\n",
      "601 :  dict_keys(['image/width', 'image/filename', 'image/height', 'image/format', 'image/object/bbox/ymin', 'image/object/class/label', 'image/object/bbox/ymax', 'image/object/class/text', 'image/object/bbox/xmin', 'image/encoded', 'image/object/bbox/xmax']) \n",
      "\n",
      "602 :  dict_keys(['image/width', 'image/filename', 'image/height', 'image/format', 'image/object/bbox/ymin', 'image/object/class/label', 'image/object/bbox/ymax', 'image/object/class/text', 'image/object/bbox/xmin', 'image/encoded', 'image/object/bbox/xmax']) \n",
      "\n",
      "603 :  dict_keys(['image/width', 'image/filename', 'image/height', 'image/format', 'image/object/bbox/ymin', 'image/object/class/label', 'image/object/bbox/ymax', 'image/object/class/text', 'image/object/bbox/xmin', 'image/encoded', 'image/object/bbox/xmax']) \n",
      "\n",
      "604 :  dict_keys(['image/width', 'image/filename', 'image/height', 'image/format', 'image/object/bbox/ymin', 'image/object/class/label', 'image/object/bbox/ymax', 'image/object/class/text', 'image/object/bbox/xmin', 'image/encoded', 'image/object/bbox/xmax']) \n",
      "\n",
      "605 :  dict_keys(['image/width', 'image/filename', 'image/height', 'image/format', 'image/object/bbox/ymin', 'image/object/class/label', 'image/object/bbox/ymax', 'image/object/class/text', 'image/object/bbox/xmin', 'image/encoded', 'image/object/bbox/xmax']) \n",
      "\n",
      "606 :  dict_keys(['image/width', 'image/filename', 'image/height', 'image/format', 'image/object/bbox/ymin', 'image/object/class/label', 'image/object/bbox/ymax', 'image/object/class/text', 'image/object/bbox/xmin', 'image/encoded', 'image/object/bbox/xmax']) \n",
      "\n",
      "607 :  dict_keys(['image/width', 'image/filename', 'image/height', 'image/format', 'image/object/bbox/ymin', 'image/object/class/label', 'image/object/bbox/ymax', 'image/object/class/text', 'image/object/bbox/xmin', 'image/encoded', 'image/object/bbox/xmax']) \n",
      "\n",
      "608 :  dict_keys(['image/width', 'image/filename', 'image/height', 'image/format', 'image/object/bbox/ymin', 'image/object/class/label', 'image/object/bbox/ymax', 'image/object/class/text', 'image/object/bbox/xmin', 'image/encoded', 'image/object/bbox/xmax']) \n",
      "\n",
      "609 :  dict_keys(['image/width', 'image/filename', 'image/height', 'image/format', 'image/object/bbox/ymin', 'image/object/class/label', 'image/object/bbox/ymax', 'image/object/class/text', 'image/object/bbox/xmin', 'image/encoded', 'image/object/bbox/xmax']) \n",
      "\n",
      "610 :  dict_keys(['image/width', 'image/filename', 'image/height', 'image/format', 'image/object/bbox/ymin', 'image/object/class/label', 'image/object/bbox/ymax', 'image/object/class/text', 'image/object/bbox/xmin', 'image/encoded', 'image/object/bbox/xmax']) \n",
      "\n",
      "611 :  dict_keys(['image/width', 'image/filename', 'image/height', 'image/format', 'image/object/bbox/ymin', 'image/object/class/label', 'image/object/bbox/ymax', 'image/object/class/text', 'image/object/bbox/xmin', 'image/encoded', 'image/object/bbox/xmax']) \n",
      "\n",
      "612 :  dict_keys(['image/width', 'image/filename', 'image/height', 'image/format', 'image/object/bbox/ymin', 'image/object/class/label', 'image/object/bbox/ymax', 'image/object/class/text', 'image/object/bbox/xmin', 'image/encoded', 'image/object/bbox/xmax']) \n",
      "\n",
      "613 :  dict_keys(['image/width', 'image/filename', 'image/height', 'image/format', 'image/object/bbox/ymin', 'image/object/class/label', 'image/object/bbox/ymax', 'image/object/class/text', 'image/object/bbox/xmin', 'image/encoded', 'image/object/bbox/xmax']) \n",
      "\n",
      "614 :  dict_keys(['image/width', 'image/filename', 'image/height', 'image/format', 'image/object/bbox/ymin', 'image/object/class/label', 'image/object/bbox/ymax', 'image/object/class/text', 'image/object/bbox/xmin', 'image/encoded', 'image/object/bbox/xmax']) \n",
      "\n",
      "615 :  dict_keys(['image/width', 'image/filename', 'image/height', 'image/format', 'image/object/bbox/ymin', 'image/object/class/label', 'image/object/bbox/ymax', 'image/object/class/text', 'image/object/bbox/xmin', 'image/encoded', 'image/object/bbox/xmax']) \n",
      "\n",
      "616 :  dict_keys(['image/width', 'image/filename', 'image/height', 'image/format', 'image/object/bbox/ymin', 'image/object/class/label', 'image/object/bbox/ymax', 'image/object/class/text', 'image/object/bbox/xmin', 'image/encoded', 'image/object/bbox/xmax']) \n",
      "\n",
      "617 :  dict_keys(['image/width', 'image/filename', 'image/height', 'image/format', 'image/object/bbox/ymin', 'image/object/class/label', 'image/object/bbox/ymax', 'image/object/class/text', 'image/object/bbox/xmin', 'image/encoded', 'image/object/bbox/xmax']) \n",
      "\n",
      "618 :  dict_keys(['image/width', 'image/filename', 'image/height', 'image/format', 'image/object/bbox/ymin', 'image/object/class/label', 'image/object/bbox/ymax', 'image/object/class/text', 'image/object/bbox/xmin', 'image/encoded', 'image/object/bbox/xmax']) \n",
      "\n",
      "619 :  dict_keys(['image/width', 'image/filename', 'image/height', 'image/format', 'image/object/bbox/ymin', 'image/object/class/label', 'image/object/bbox/ymax', 'image/object/class/text', 'image/object/bbox/xmin', 'image/encoded', 'image/object/bbox/xmax']) \n",
      "\n",
      "620 :  dict_keys(['image/width', 'image/filename', 'image/height', 'image/format', 'image/object/bbox/ymin', 'image/object/class/label', 'image/object/bbox/ymax', 'image/object/class/text', 'image/object/bbox/xmin', 'image/encoded', 'image/object/bbox/xmax']) \n",
      "\n",
      "621 :  dict_keys(['image/width', 'image/filename', 'image/height', 'image/format', 'image/object/bbox/ymin', 'image/object/class/label', 'image/object/bbox/ymax', 'image/object/class/text', 'image/object/bbox/xmin', 'image/encoded', 'image/object/bbox/xmax']) \n",
      "\n",
      "622 :  dict_keys(['image/width', 'image/filename', 'image/height', 'image/format', 'image/object/bbox/ymin', 'image/object/class/label', 'image/object/bbox/ymax', 'image/object/class/text', 'image/object/bbox/xmin', 'image/encoded', 'image/object/bbox/xmax']) \n",
      "\n",
      "623 :  dict_keys(['image/width', 'image/filename', 'image/height', 'image/format', 'image/object/bbox/ymin', 'image/object/class/label', 'image/object/bbox/ymax', 'image/object/class/text', 'image/object/bbox/xmin', 'image/encoded', 'image/object/bbox/xmax']) \n",
      "\n",
      "624 :  dict_keys(['image/width', 'image/filename', 'image/height', 'image/format', 'image/object/bbox/ymin', 'image/object/class/label', 'image/object/bbox/ymax', 'image/object/class/text', 'image/object/bbox/xmin', 'image/encoded', 'image/object/bbox/xmax']) \n",
      "\n",
      "625 :  dict_keys(['image/width', 'image/filename', 'image/height', 'image/format', 'image/object/bbox/ymin', 'image/object/class/label', 'image/object/bbox/ymax', 'image/object/class/text', 'image/object/bbox/xmin', 'image/encoded', 'image/object/bbox/xmax']) \n",
      "\n",
      "626 :  dict_keys(['image/width', 'image/filename', 'image/height', 'image/format', 'image/object/bbox/ymin', 'image/object/class/label', 'image/object/bbox/ymax', 'image/object/class/text', 'image/object/bbox/xmin', 'image/encoded', 'image/object/bbox/xmax']) \n",
      "\n",
      "627 :  dict_keys(['image/width', 'image/filename', 'image/height', 'image/format', 'image/object/bbox/ymin', 'image/object/class/label', 'image/object/bbox/ymax', 'image/object/class/text', 'image/object/bbox/xmin', 'image/encoded', 'image/object/bbox/xmax']) \n",
      "\n",
      "628 :  dict_keys(['image/width', 'image/filename', 'image/height', 'image/format', 'image/object/bbox/ymin', 'image/object/class/label', 'image/object/bbox/ymax', 'image/object/class/text', 'image/object/bbox/xmin', 'image/encoded', 'image/object/bbox/xmax']) \n",
      "\n",
      "629 :  dict_keys(['image/width', 'image/filename', 'image/height', 'image/format', 'image/object/bbox/ymin', 'image/object/class/label', 'image/object/bbox/ymax', 'image/object/class/text', 'image/object/bbox/xmin', 'image/encoded', 'image/object/bbox/xmax']) \n",
      "\n",
      "630 :  dict_keys(['image/width', 'image/filename', 'image/height', 'image/format', 'image/object/bbox/ymin', 'image/object/class/label', 'image/object/bbox/ymax', 'image/object/class/text', 'image/object/bbox/xmin', 'image/encoded', 'image/object/bbox/xmax']) \n",
      "\n",
      "631 :  dict_keys(['image/width', 'image/filename', 'image/height', 'image/format', 'image/object/bbox/ymin', 'image/object/class/label', 'image/object/bbox/ymax', 'image/object/class/text', 'image/object/bbox/xmin', 'image/encoded', 'image/object/bbox/xmax']) \n",
      "\n",
      "632 :  dict_keys(['image/width', 'image/filename', 'image/height', 'image/format', 'image/object/bbox/ymin', 'image/object/class/label', 'image/object/bbox/ymax', 'image/object/class/text', 'image/object/bbox/xmin', 'image/encoded', 'image/object/bbox/xmax']) \n",
      "\n",
      "633 :  dict_keys(['image/width', 'image/filename', 'image/height', 'image/format', 'image/object/bbox/ymin', 'image/object/class/label', 'image/object/bbox/ymax', 'image/object/class/text', 'image/object/bbox/xmin', 'image/encoded', 'image/object/bbox/xmax']) \n",
      "\n",
      "634 :  dict_keys(['image/width', 'image/filename', 'image/height', 'image/format', 'image/object/bbox/ymin', 'image/object/class/label', 'image/object/bbox/ymax', 'image/object/class/text', 'image/object/bbox/xmin', 'image/encoded', 'image/object/bbox/xmax']) \n",
      "\n",
      "635 :  dict_keys(['image/width', 'image/filename', 'image/height', 'image/format', 'image/object/bbox/ymin', 'image/object/class/label', 'image/object/bbox/ymax', 'image/object/class/text', 'image/object/bbox/xmin', 'image/encoded', 'image/object/bbox/xmax']) \n",
      "\n",
      "636 :  dict_keys(['image/width', 'image/filename', 'image/height', 'image/format', 'image/object/bbox/ymin', 'image/object/class/label', 'image/object/bbox/ymax', 'image/object/class/text', 'image/object/bbox/xmin', 'image/encoded', 'image/object/bbox/xmax']) \n",
      "\n",
      "637 :  dict_keys(['image/width', 'image/filename', 'image/height', 'image/format', 'image/object/bbox/ymin', 'image/object/class/label', 'image/object/bbox/ymax', 'image/object/class/text', 'image/object/bbox/xmin', 'image/encoded', 'image/object/bbox/xmax']) \n",
      "\n",
      "638 :  dict_keys(['image/width', 'image/filename', 'image/height', 'image/format', 'image/object/bbox/ymin', 'image/object/class/label', 'image/object/bbox/ymax', 'image/object/class/text', 'image/object/bbox/xmin', 'image/encoded', 'image/object/bbox/xmax']) \n",
      "\n",
      "639 :  dict_keys(['image/width', 'image/filename', 'image/height', 'image/format', 'image/object/bbox/ymin', 'image/object/class/label', 'image/object/bbox/ymax', 'image/object/class/text', 'image/object/bbox/xmin', 'image/encoded', 'image/object/bbox/xmax']) \n",
      "\n",
      "640 :  dict_keys(['image/width', 'image/filename', 'image/height', 'image/format', 'image/object/bbox/ymin', 'image/object/class/label', 'image/object/bbox/ymax', 'image/object/class/text', 'image/object/bbox/xmin', 'image/encoded', 'image/object/bbox/xmax']) \n",
      "\n",
      "641 :  dict_keys(['image/width', 'image/filename', 'image/height', 'image/format', 'image/object/bbox/ymin', 'image/object/class/label', 'image/object/bbox/ymax', 'image/object/class/text', 'image/object/bbox/xmin', 'image/encoded', 'image/object/bbox/xmax']) \n",
      "\n",
      "642 :  dict_keys(['image/width', 'image/filename', 'image/height', 'image/format', 'image/object/bbox/ymin', 'image/object/class/label', 'image/object/bbox/ymax', 'image/object/class/text', 'image/object/bbox/xmin', 'image/encoded', 'image/object/bbox/xmax']) \n",
      "\n",
      "643 :  dict_keys(['image/width', 'image/filename', 'image/height', 'image/format', 'image/object/bbox/ymin', 'image/object/class/label', 'image/object/bbox/ymax', 'image/object/class/text', 'image/object/bbox/xmin', 'image/encoded', 'image/object/bbox/xmax']) \n",
      "\n",
      "644 :  dict_keys(['image/width', 'image/filename', 'image/height', 'image/format', 'image/object/bbox/ymin', 'image/object/class/label', 'image/object/bbox/ymax', 'image/object/class/text', 'image/object/bbox/xmin', 'image/encoded', 'image/object/bbox/xmax']) \n",
      "\n",
      "645 :  dict_keys(['image/width', 'image/filename', 'image/height', 'image/format', 'image/object/bbox/ymin', 'image/object/class/label', 'image/object/bbox/ymax', 'image/object/class/text', 'image/object/bbox/xmin', 'image/encoded', 'image/object/bbox/xmax']) \n",
      "\n",
      "646 :  dict_keys(['image/width', 'image/filename', 'image/height', 'image/format', 'image/object/bbox/ymin', 'image/object/class/label', 'image/object/bbox/ymax', 'image/object/class/text', 'image/object/bbox/xmin', 'image/encoded', 'image/object/bbox/xmax']) \n",
      "\n",
      "647 :  dict_keys(['image/width', 'image/filename', 'image/height', 'image/format', 'image/object/bbox/ymin', 'image/object/class/label', 'image/object/bbox/ymax', 'image/object/class/text', 'image/object/bbox/xmin', 'image/encoded', 'image/object/bbox/xmax']) \n",
      "\n",
      "648 :  dict_keys(['image/width', 'image/filename', 'image/height', 'image/format', 'image/object/bbox/ymin', 'image/object/class/label', 'image/object/bbox/ymax', 'image/object/class/text', 'image/object/bbox/xmin', 'image/encoded', 'image/object/bbox/xmax']) \n",
      "\n",
      "649 :  dict_keys(['image/width', 'image/filename', 'image/height', 'image/format', 'image/object/bbox/ymin', 'image/object/class/label', 'image/object/bbox/ymax', 'image/object/class/text', 'image/object/bbox/xmin', 'image/encoded', 'image/object/bbox/xmax']) \n",
      "\n",
      "650 :  dict_keys(['image/width', 'image/filename', 'image/height', 'image/format', 'image/object/bbox/ymin', 'image/object/class/label', 'image/object/bbox/ymax', 'image/object/class/text', 'image/object/bbox/xmin', 'image/encoded', 'image/object/bbox/xmax']) \n",
      "\n",
      "651 :  dict_keys(['image/width', 'image/filename', 'image/height', 'image/format', 'image/object/bbox/ymin', 'image/object/class/label', 'image/object/bbox/ymax', 'image/object/class/text', 'image/object/bbox/xmin', 'image/encoded', 'image/object/bbox/xmax']) \n",
      "\n",
      "652 :  dict_keys(['image/width', 'image/filename', 'image/height', 'image/format', 'image/object/bbox/ymin', 'image/object/class/label', 'image/object/bbox/ymax', 'image/object/class/text', 'image/object/bbox/xmin', 'image/encoded', 'image/object/bbox/xmax']) \n",
      "\n",
      "653 :  dict_keys(['image/width', 'image/filename', 'image/height', 'image/format', 'image/object/bbox/ymin', 'image/object/class/label', 'image/object/bbox/ymax', 'image/object/class/text', 'image/object/bbox/xmin', 'image/encoded', 'image/object/bbox/xmax']) \n",
      "\n",
      "654 :  dict_keys(['image/width', 'image/filename', 'image/height', 'image/format', 'image/object/bbox/ymin', 'image/object/class/label', 'image/object/bbox/ymax', 'image/object/class/text', 'image/object/bbox/xmin', 'image/encoded', 'image/object/bbox/xmax']) \n",
      "\n",
      "655 :  dict_keys(['image/width', 'image/filename', 'image/height', 'image/format', 'image/object/bbox/ymin', 'image/object/class/label', 'image/object/bbox/ymax', 'image/object/class/text', 'image/object/bbox/xmin', 'image/encoded', 'image/object/bbox/xmax']) \n",
      "\n",
      "656 :  dict_keys(['image/width', 'image/filename', 'image/height', 'image/format', 'image/object/bbox/ymin', 'image/object/class/label', 'image/object/bbox/ymax', 'image/object/class/text', 'image/object/bbox/xmin', 'image/encoded', 'image/object/bbox/xmax']) \n",
      "\n",
      "657 :  dict_keys(['image/width', 'image/filename', 'image/height', 'image/format', 'image/object/bbox/ymin', 'image/object/class/label', 'image/object/bbox/ymax', 'image/object/class/text', 'image/object/bbox/xmin', 'image/encoded', 'image/object/bbox/xmax']) \n",
      "\n",
      "658 :  dict_keys(['image/width', 'image/filename', 'image/height', 'image/format', 'image/object/bbox/ymin', 'image/object/class/label', 'image/object/bbox/ymax', 'image/object/class/text', 'image/object/bbox/xmin', 'image/encoded', 'image/object/bbox/xmax']) \n",
      "\n",
      "659 :  dict_keys(['image/width', 'image/filename', 'image/height', 'image/format', 'image/object/bbox/ymin', 'image/object/class/label', 'image/object/bbox/ymax', 'image/object/class/text', 'image/object/bbox/xmin', 'image/encoded', 'image/object/bbox/xmax']) \n",
      "\n",
      "660 :  dict_keys(['image/width', 'image/filename', 'image/height', 'image/format', 'image/object/bbox/ymin', 'image/object/class/label', 'image/object/bbox/ymax', 'image/object/class/text', 'image/object/bbox/xmin', 'image/encoded', 'image/object/bbox/xmax']) \n",
      "\n",
      "661 :  dict_keys(['image/width', 'image/filename', 'image/height', 'image/format', 'image/object/bbox/ymin', 'image/object/class/label', 'image/object/bbox/ymax', 'image/object/class/text', 'image/object/bbox/xmin', 'image/encoded', 'image/object/bbox/xmax']) \n",
      "\n",
      "662 :  dict_keys(['image/width', 'image/filename', 'image/height', 'image/format', 'image/object/bbox/ymin', 'image/object/class/label', 'image/object/bbox/ymax', 'image/object/class/text', 'image/object/bbox/xmin', 'image/encoded', 'image/object/bbox/xmax']) \n",
      "\n",
      "663 :  dict_keys(['image/width', 'image/filename', 'image/height', 'image/format', 'image/object/bbox/ymin', 'image/object/class/label', 'image/object/bbox/ymax', 'image/object/class/text', 'image/object/bbox/xmin', 'image/encoded', 'image/object/bbox/xmax']) \n",
      "\n",
      "664 :  dict_keys(['image/width', 'image/filename', 'image/height', 'image/format', 'image/object/bbox/ymin', 'image/object/class/label', 'image/object/bbox/ymax', 'image/object/class/text', 'image/object/bbox/xmin', 'image/encoded', 'image/object/bbox/xmax']) \n",
      "\n",
      "665 :  dict_keys(['image/width', 'image/filename', 'image/height', 'image/format', 'image/object/bbox/ymin', 'image/object/class/label', 'image/object/bbox/ymax', 'image/object/class/text', 'image/object/bbox/xmin', 'image/encoded', 'image/object/bbox/xmax']) \n",
      "\n"
     ]
    },
    {
     "name": "stdout",
     "output_type": "stream",
     "text": [
      "666 :  dict_keys(['image/width', 'image/filename', 'image/height', 'image/format', 'image/object/bbox/ymin', 'image/object/class/label', 'image/object/bbox/ymax', 'image/object/class/text', 'image/object/bbox/xmin', 'image/encoded', 'image/object/bbox/xmax']) \n",
      "\n",
      "667 :  dict_keys(['image/width', 'image/filename', 'image/height', 'image/format', 'image/object/bbox/ymin', 'image/object/class/label', 'image/object/bbox/ymax', 'image/object/class/text', 'image/object/bbox/xmin', 'image/encoded', 'image/object/bbox/xmax']) \n",
      "\n",
      "668 :  dict_keys(['image/width', 'image/filename', 'image/height', 'image/format', 'image/object/bbox/ymin', 'image/object/class/label', 'image/object/bbox/ymax', 'image/object/class/text', 'image/object/bbox/xmin', 'image/encoded', 'image/object/bbox/xmax']) \n",
      "\n",
      "669 :  dict_keys(['image/width', 'image/filename', 'image/height', 'image/format', 'image/object/bbox/ymin', 'image/object/class/label', 'image/object/bbox/ymax', 'image/object/class/text', 'image/object/bbox/xmin', 'image/encoded', 'image/object/bbox/xmax']) \n",
      "\n",
      "670 :  dict_keys(['image/width', 'image/filename', 'image/height', 'image/format', 'image/object/bbox/ymin', 'image/object/class/label', 'image/object/bbox/ymax', 'image/object/class/text', 'image/object/bbox/xmin', 'image/encoded', 'image/object/bbox/xmax']) \n",
      "\n",
      "671 :  dict_keys(['image/width', 'image/filename', 'image/height', 'image/format', 'image/object/bbox/ymin', 'image/object/class/label', 'image/object/bbox/ymax', 'image/object/class/text', 'image/object/bbox/xmin', 'image/encoded', 'image/object/bbox/xmax']) \n",
      "\n",
      "672 :  dict_keys(['image/width', 'image/filename', 'image/height', 'image/format', 'image/object/bbox/ymin', 'image/object/class/label', 'image/object/bbox/ymax', 'image/object/class/text', 'image/object/bbox/xmin', 'image/encoded', 'image/object/bbox/xmax']) \n",
      "\n",
      "673 :  dict_keys(['image/width', 'image/filename', 'image/height', 'image/format', 'image/object/bbox/ymin', 'image/object/class/label', 'image/object/bbox/ymax', 'image/object/class/text', 'image/object/bbox/xmin', 'image/encoded', 'image/object/bbox/xmax']) \n",
      "\n",
      "674 :  dict_keys(['image/width', 'image/filename', 'image/height', 'image/format', 'image/object/bbox/ymin', 'image/object/class/label', 'image/object/bbox/ymax', 'image/object/class/text', 'image/object/bbox/xmin', 'image/encoded', 'image/object/bbox/xmax']) \n",
      "\n",
      "675 :  dict_keys(['image/width', 'image/filename', 'image/height', 'image/format', 'image/object/bbox/ymin', 'image/object/class/label', 'image/object/bbox/ymax', 'image/object/class/text', 'image/object/bbox/xmin', 'image/encoded', 'image/object/bbox/xmax']) \n",
      "\n",
      "676 :  dict_keys(['image/width', 'image/filename', 'image/height', 'image/format', 'image/object/bbox/ymin', 'image/object/class/label', 'image/object/bbox/ymax', 'image/object/class/text', 'image/object/bbox/xmin', 'image/encoded', 'image/object/bbox/xmax']) \n",
      "\n",
      "677 :  dict_keys(['image/width', 'image/filename', 'image/height', 'image/format', 'image/object/bbox/ymin', 'image/object/class/label', 'image/object/bbox/ymax', 'image/object/class/text', 'image/object/bbox/xmin', 'image/encoded', 'image/object/bbox/xmax']) \n",
      "\n",
      "678 :  dict_keys(['image/width', 'image/filename', 'image/height', 'image/format', 'image/object/bbox/ymin', 'image/object/class/label', 'image/object/bbox/ymax', 'image/object/class/text', 'image/object/bbox/xmin', 'image/encoded', 'image/object/bbox/xmax']) \n",
      "\n",
      "679 :  dict_keys(['image/width', 'image/filename', 'image/height', 'image/format', 'image/object/bbox/ymin', 'image/object/class/label', 'image/object/bbox/ymax', 'image/object/class/text', 'image/object/bbox/xmin', 'image/encoded', 'image/object/bbox/xmax']) \n",
      "\n",
      "680 :  dict_keys(['image/width', 'image/filename', 'image/height', 'image/format', 'image/object/bbox/ymin', 'image/object/class/label', 'image/object/bbox/ymax', 'image/object/class/text', 'image/object/bbox/xmin', 'image/encoded', 'image/object/bbox/xmax']) \n",
      "\n",
      "681 :  dict_keys(['image/width', 'image/filename', 'image/height', 'image/format', 'image/object/bbox/ymin', 'image/object/class/label', 'image/object/bbox/ymax', 'image/object/class/text', 'image/object/bbox/xmin', 'image/encoded', 'image/object/bbox/xmax']) \n",
      "\n",
      "682 :  dict_keys(['image/width', 'image/filename', 'image/height', 'image/format', 'image/object/bbox/ymin', 'image/object/class/label', 'image/object/bbox/ymax', 'image/object/class/text', 'image/object/bbox/xmin', 'image/encoded', 'image/object/bbox/xmax']) \n",
      "\n",
      "683 :  dict_keys(['image/width', 'image/filename', 'image/height', 'image/format', 'image/object/bbox/ymin', 'image/object/class/label', 'image/object/bbox/ymax', 'image/object/class/text', 'image/object/bbox/xmin', 'image/encoded', 'image/object/bbox/xmax']) \n",
      "\n",
      "684 :  dict_keys(['image/width', 'image/filename', 'image/height', 'image/format', 'image/object/bbox/ymin', 'image/object/class/label', 'image/object/bbox/ymax', 'image/object/class/text', 'image/object/bbox/xmin', 'image/encoded', 'image/object/bbox/xmax']) \n",
      "\n",
      "685 :  dict_keys(['image/width', 'image/filename', 'image/height', 'image/format', 'image/object/bbox/ymin', 'image/object/class/label', 'image/object/bbox/ymax', 'image/object/class/text', 'image/object/bbox/xmin', 'image/encoded', 'image/object/bbox/xmax']) \n",
      "\n",
      "686 :  dict_keys(['image/width', 'image/filename', 'image/height', 'image/format', 'image/object/bbox/ymin', 'image/object/class/label', 'image/object/bbox/ymax', 'image/object/class/text', 'image/object/bbox/xmin', 'image/encoded', 'image/object/bbox/xmax']) \n",
      "\n",
      "687 :  dict_keys(['image/width', 'image/filename', 'image/height', 'image/format', 'image/object/bbox/ymin', 'image/object/class/label', 'image/object/bbox/ymax', 'image/object/class/text', 'image/object/bbox/xmin', 'image/encoded', 'image/object/bbox/xmax']) \n",
      "\n",
      "688 :  dict_keys(['image/width', 'image/filename', 'image/height', 'image/format', 'image/object/bbox/ymin', 'image/object/class/label', 'image/object/bbox/ymax', 'image/object/class/text', 'image/object/bbox/xmin', 'image/encoded', 'image/object/bbox/xmax']) \n",
      "\n",
      "689 :  dict_keys(['image/width', 'image/filename', 'image/height', 'image/format', 'image/object/bbox/ymin', 'image/object/class/label', 'image/object/bbox/ymax', 'image/object/class/text', 'image/object/bbox/xmin', 'image/encoded', 'image/object/bbox/xmax']) \n",
      "\n",
      "690 :  dict_keys(['image/width', 'image/filename', 'image/height', 'image/format', 'image/object/bbox/ymin', 'image/object/class/label', 'image/object/bbox/ymax', 'image/object/class/text', 'image/object/bbox/xmin', 'image/encoded', 'image/object/bbox/xmax']) \n",
      "\n",
      "691 :  dict_keys(['image/width', 'image/filename', 'image/height', 'image/format', 'image/object/bbox/ymin', 'image/object/class/label', 'image/object/bbox/ymax', 'image/object/class/text', 'image/object/bbox/xmin', 'image/encoded', 'image/object/bbox/xmax']) \n",
      "\n",
      "692 :  dict_keys(['image/width', 'image/filename', 'image/height', 'image/format', 'image/object/bbox/ymin', 'image/object/class/label', 'image/object/bbox/ymax', 'image/object/class/text', 'image/object/bbox/xmin', 'image/encoded', 'image/object/bbox/xmax']) \n",
      "\n",
      "693 :  dict_keys(['image/width', 'image/filename', 'image/height', 'image/format', 'image/object/bbox/ymin', 'image/object/class/label', 'image/object/bbox/ymax', 'image/object/class/text', 'image/object/bbox/xmin', 'image/encoded', 'image/object/bbox/xmax']) \n",
      "\n",
      "694 :  dict_keys(['image/width', 'image/filename', 'image/height', 'image/format', 'image/object/bbox/ymin', 'image/object/class/label', 'image/object/bbox/ymax', 'image/object/class/text', 'image/object/bbox/xmin', 'image/encoded', 'image/object/bbox/xmax']) \n",
      "\n",
      "695 :  dict_keys(['image/width', 'image/filename', 'image/height', 'image/format', 'image/object/bbox/ymin', 'image/object/class/label', 'image/object/bbox/ymax', 'image/object/class/text', 'image/object/bbox/xmin', 'image/encoded', 'image/object/bbox/xmax']) \n",
      "\n",
      "696 :  dict_keys(['image/width', 'image/filename', 'image/height', 'image/format', 'image/object/bbox/ymin', 'image/object/class/label', 'image/object/bbox/ymax', 'image/object/class/text', 'image/object/bbox/xmin', 'image/encoded', 'image/object/bbox/xmax']) \n",
      "\n",
      "697 :  dict_keys(['image/width', 'image/filename', 'image/height', 'image/format', 'image/object/bbox/ymin', 'image/object/class/label', 'image/object/bbox/ymax', 'image/object/class/text', 'image/object/bbox/xmin', 'image/encoded', 'image/object/bbox/xmax']) \n",
      "\n",
      "698 :  dict_keys(['image/width', 'image/filename', 'image/height', 'image/format', 'image/object/bbox/ymin', 'image/object/class/label', 'image/object/bbox/ymax', 'image/object/class/text', 'image/object/bbox/xmin', 'image/encoded', 'image/object/bbox/xmax']) \n",
      "\n",
      "699 :  dict_keys(['image/width', 'image/filename', 'image/height', 'image/format', 'image/object/bbox/ymin', 'image/object/class/label', 'image/object/bbox/ymax', 'image/object/class/text', 'image/object/bbox/xmin', 'image/encoded', 'image/object/bbox/xmax']) \n",
      "\n",
      "700 :  dict_keys(['image/width', 'image/filename', 'image/height', 'image/format', 'image/object/bbox/ymin', 'image/object/class/label', 'image/object/bbox/ymax', 'image/object/class/text', 'image/object/bbox/xmin', 'image/encoded', 'image/object/bbox/xmax']) \n",
      "\n",
      "701 :  dict_keys(['image/width', 'image/filename', 'image/height', 'image/format', 'image/object/bbox/ymin', 'image/object/class/label', 'image/object/bbox/ymax', 'image/object/class/text', 'image/object/bbox/xmin', 'image/encoded', 'image/object/bbox/xmax']) \n",
      "\n",
      "702 :  dict_keys(['image/width', 'image/filename', 'image/height', 'image/format', 'image/object/bbox/ymin', 'image/object/class/label', 'image/object/bbox/ymax', 'image/object/class/text', 'image/object/bbox/xmin', 'image/encoded', 'image/object/bbox/xmax']) \n",
      "\n",
      "703 :  dict_keys(['image/width', 'image/filename', 'image/height', 'image/format', 'image/object/bbox/ymin', 'image/object/class/label', 'image/object/bbox/ymax', 'image/object/class/text', 'image/object/bbox/xmin', 'image/encoded', 'image/object/bbox/xmax']) \n",
      "\n",
      "704 :  dict_keys(['image/width', 'image/filename', 'image/height', 'image/format', 'image/object/bbox/ymin', 'image/object/class/label', 'image/object/bbox/ymax', 'image/object/class/text', 'image/object/bbox/xmin', 'image/encoded', 'image/object/bbox/xmax']) \n",
      "\n",
      "705 :  dict_keys(['image/width', 'image/filename', 'image/height', 'image/format', 'image/object/bbox/ymin', 'image/object/class/label', 'image/object/bbox/ymax', 'image/object/class/text', 'image/object/bbox/xmin', 'image/encoded', 'image/object/bbox/xmax']) \n",
      "\n",
      "706 :  dict_keys(['image/width', 'image/filename', 'image/height', 'image/format', 'image/object/bbox/ymin', 'image/object/class/label', 'image/object/bbox/ymax', 'image/object/class/text', 'image/object/bbox/xmin', 'image/encoded', 'image/object/bbox/xmax']) \n",
      "\n",
      "707 :  dict_keys(['image/width', 'image/filename', 'image/height', 'image/format', 'image/object/bbox/ymin', 'image/object/class/label', 'image/object/bbox/ymax', 'image/object/class/text', 'image/object/bbox/xmin', 'image/encoded', 'image/object/bbox/xmax']) \n",
      "\n",
      "708 :  dict_keys(['image/width', 'image/filename', 'image/height', 'image/format', 'image/object/bbox/ymin', 'image/object/class/label', 'image/object/bbox/ymax', 'image/object/class/text', 'image/object/bbox/xmin', 'image/encoded', 'image/object/bbox/xmax']) \n",
      "\n",
      "709 :  dict_keys(['image/width', 'image/filename', 'image/height', 'image/format', 'image/object/bbox/ymin', 'image/object/class/label', 'image/object/bbox/ymax', 'image/object/class/text', 'image/object/bbox/xmin', 'image/encoded', 'image/object/bbox/xmax']) \n",
      "\n",
      "710 :  dict_keys(['image/width', 'image/filename', 'image/height', 'image/format', 'image/object/bbox/ymin', 'image/object/class/label', 'image/object/bbox/ymax', 'image/object/class/text', 'image/object/bbox/xmin', 'image/encoded', 'image/object/bbox/xmax']) \n",
      "\n",
      "711 :  dict_keys(['image/width', 'image/filename', 'image/height', 'image/format', 'image/object/bbox/ymin', 'image/object/class/label', 'image/object/bbox/ymax', 'image/object/class/text', 'image/object/bbox/xmin', 'image/encoded', 'image/object/bbox/xmax']) \n",
      "\n",
      "712 :  dict_keys(['image/width', 'image/filename', 'image/height', 'image/format', 'image/object/bbox/ymin', 'image/object/class/label', 'image/object/bbox/ymax', 'image/object/class/text', 'image/object/bbox/xmin', 'image/encoded', 'image/object/bbox/xmax']) \n",
      "\n",
      "713 :  dict_keys(['image/width', 'image/filename', 'image/height', 'image/format', 'image/object/bbox/ymin', 'image/object/class/label', 'image/object/bbox/ymax', 'image/object/class/text', 'image/object/bbox/xmin', 'image/encoded', 'image/object/bbox/xmax']) \n",
      "\n",
      "714 :  dict_keys(['image/width', 'image/filename', 'image/height', 'image/format', 'image/object/bbox/ymin', 'image/object/class/label', 'image/object/bbox/ymax', 'image/object/class/text', 'image/object/bbox/xmin', 'image/encoded', 'image/object/bbox/xmax']) \n",
      "\n",
      "715 :  dict_keys(['image/width', 'image/filename', 'image/height', 'image/format', 'image/object/bbox/ymin', 'image/object/class/label', 'image/object/bbox/ymax', 'image/object/class/text', 'image/object/bbox/xmin', 'image/encoded', 'image/object/bbox/xmax']) \n",
      "\n",
      "716 :  dict_keys(['image/width', 'image/filename', 'image/height', 'image/format', 'image/object/bbox/ymin', 'image/object/class/label', 'image/object/bbox/ymax', 'image/object/class/text', 'image/object/bbox/xmin', 'image/encoded', 'image/object/bbox/xmax']) \n",
      "\n",
      "717 :  dict_keys(['image/width', 'image/filename', 'image/height', 'image/format', 'image/object/bbox/ymin', 'image/object/class/label', 'image/object/bbox/ymax', 'image/object/class/text', 'image/object/bbox/xmin', 'image/encoded', 'image/object/bbox/xmax']) \n",
      "\n",
      "718 :  dict_keys(['image/width', 'image/filename', 'image/height', 'image/format', 'image/object/bbox/ymin', 'image/object/class/label', 'image/object/bbox/ymax', 'image/object/class/text', 'image/object/bbox/xmin', 'image/encoded', 'image/object/bbox/xmax']) \n",
      "\n",
      "719 :  dict_keys(['image/width', 'image/filename', 'image/height', 'image/format', 'image/object/bbox/ymin', 'image/object/class/label', 'image/object/bbox/ymax', 'image/object/class/text', 'image/object/bbox/xmin', 'image/encoded', 'image/object/bbox/xmax']) \n",
      "\n",
      "720 :  dict_keys(['image/width', 'image/filename', 'image/height', 'image/format', 'image/object/bbox/ymin', 'image/object/class/label', 'image/object/bbox/ymax', 'image/object/class/text', 'image/object/bbox/xmin', 'image/encoded', 'image/object/bbox/xmax']) \n",
      "\n",
      "721 :  dict_keys(['image/width', 'image/filename', 'image/height', 'image/format', 'image/object/bbox/ymin', 'image/object/class/label', 'image/object/bbox/ymax', 'image/object/class/text', 'image/object/bbox/xmin', 'image/encoded', 'image/object/bbox/xmax']) \n",
      "\n",
      "722 :  dict_keys(['image/width', 'image/filename', 'image/height', 'image/format', 'image/object/bbox/ymin', 'image/object/class/label', 'image/object/bbox/ymax', 'image/object/class/text', 'image/object/bbox/xmin', 'image/encoded', 'image/object/bbox/xmax']) \n",
      "\n",
      "723 :  dict_keys(['image/width', 'image/filename', 'image/height', 'image/format', 'image/object/bbox/ymin', 'image/object/class/label', 'image/object/bbox/ymax', 'image/object/class/text', 'image/object/bbox/xmin', 'image/encoded', 'image/object/bbox/xmax']) \n",
      "\n",
      "724 :  dict_keys(['image/width', 'image/filename', 'image/height', 'image/format', 'image/object/bbox/ymin', 'image/object/class/label', 'image/object/bbox/ymax', 'image/object/class/text', 'image/object/bbox/xmin', 'image/encoded', 'image/object/bbox/xmax']) \n",
      "\n",
      "725 :  dict_keys(['image/width', 'image/filename', 'image/height', 'image/format', 'image/object/bbox/ymin', 'image/object/class/label', 'image/object/bbox/ymax', 'image/object/class/text', 'image/object/bbox/xmin', 'image/encoded', 'image/object/bbox/xmax']) \n",
      "\n",
      "726 :  dict_keys(['image/width', 'image/filename', 'image/height', 'image/format', 'image/object/bbox/ymin', 'image/object/class/label', 'image/object/bbox/ymax', 'image/object/class/text', 'image/object/bbox/xmin', 'image/encoded', 'image/object/bbox/xmax']) \n",
      "\n",
      "727 :  dict_keys(['image/width', 'image/filename', 'image/height', 'image/format', 'image/object/bbox/ymin', 'image/object/class/label', 'image/object/bbox/ymax', 'image/object/class/text', 'image/object/bbox/xmin', 'image/encoded', 'image/object/bbox/xmax']) \n",
      "\n",
      "728 :  dict_keys(['image/width', 'image/filename', 'image/height', 'image/format', 'image/object/bbox/ymin', 'image/object/class/label', 'image/object/bbox/ymax', 'image/object/class/text', 'image/object/bbox/xmin', 'image/encoded', 'image/object/bbox/xmax']) \n",
      "\n",
      "729 :  dict_keys(['image/width', 'image/filename', 'image/height', 'image/format', 'image/object/bbox/ymin', 'image/object/class/label', 'image/object/bbox/ymax', 'image/object/class/text', 'image/object/bbox/xmin', 'image/encoded', 'image/object/bbox/xmax']) \n",
      "\n",
      "730 :  dict_keys(['image/width', 'image/filename', 'image/height', 'image/format', 'image/object/bbox/ymin', 'image/object/class/label', 'image/object/bbox/ymax', 'image/object/class/text', 'image/object/bbox/xmin', 'image/encoded', 'image/object/bbox/xmax']) \n",
      "\n",
      "731 :  dict_keys(['image/width', 'image/filename', 'image/height', 'image/format', 'image/object/bbox/ymin', 'image/object/class/label', 'image/object/bbox/ymax', 'image/object/class/text', 'image/object/bbox/xmin', 'image/encoded', 'image/object/bbox/xmax']) \n",
      "\n",
      "732 :  dict_keys(['image/width', 'image/filename', 'image/height', 'image/format', 'image/object/bbox/ymin', 'image/object/class/label', 'image/object/bbox/ymax', 'image/object/class/text', 'image/object/bbox/xmin', 'image/encoded', 'image/object/bbox/xmax']) \n",
      "\n",
      "733 :  dict_keys(['image/width', 'image/filename', 'image/height', 'image/format', 'image/object/bbox/ymin', 'image/object/class/label', 'image/object/bbox/ymax', 'image/object/class/text', 'image/object/bbox/xmin', 'image/encoded', 'image/object/bbox/xmax']) \n",
      "\n",
      "734 :  dict_keys(['image/width', 'image/filename', 'image/height', 'image/format', 'image/object/bbox/ymin', 'image/object/class/label', 'image/object/bbox/ymax', 'image/object/class/text', 'image/object/bbox/xmin', 'image/encoded', 'image/object/bbox/xmax']) \n",
      "\n",
      "735 :  dict_keys(['image/width', 'image/filename', 'image/height', 'image/format', 'image/object/bbox/ymin', 'image/object/class/label', 'image/object/bbox/ymax', 'image/object/class/text', 'image/object/bbox/xmin', 'image/encoded', 'image/object/bbox/xmax']) \n",
      "\n",
      "736 :  dict_keys(['image/width', 'image/filename', 'image/height', 'image/format', 'image/object/bbox/ymin', 'image/object/class/label', 'image/object/bbox/ymax', 'image/object/class/text', 'image/object/bbox/xmin', 'image/encoded', 'image/object/bbox/xmax']) \n",
      "\n",
      "737 :  dict_keys(['image/width', 'image/filename', 'image/height', 'image/format', 'image/object/bbox/ymin', 'image/object/class/label', 'image/object/bbox/ymax', 'image/object/class/text', 'image/object/bbox/xmin', 'image/encoded', 'image/object/bbox/xmax']) \n",
      "\n",
      "738 :  dict_keys(['image/width', 'image/filename', 'image/height', 'image/format', 'image/object/bbox/ymin', 'image/object/class/label', 'image/object/bbox/ymax', 'image/object/class/text', 'image/object/bbox/xmin', 'image/encoded', 'image/object/bbox/xmax']) \n",
      "\n",
      "739 :  dict_keys(['image/width', 'image/filename', 'image/height', 'image/format', 'image/object/bbox/ymin', 'image/object/class/label', 'image/object/bbox/ymax', 'image/object/class/text', 'image/object/bbox/xmin', 'image/encoded', 'image/object/bbox/xmax']) \n",
      "\n",
      "740 :  dict_keys(['image/width', 'image/filename', 'image/height', 'image/format', 'image/object/bbox/ymin', 'image/object/class/label', 'image/object/bbox/ymax', 'image/object/class/text', 'image/object/bbox/xmin', 'image/encoded', 'image/object/bbox/xmax']) \n",
      "\n",
      "741 :  dict_keys(['image/width', 'image/filename', 'image/height', 'image/format', 'image/object/bbox/ymin', 'image/object/class/label', 'image/object/bbox/ymax', 'image/object/class/text', 'image/object/bbox/xmin', 'image/encoded', 'image/object/bbox/xmax']) \n",
      "\n",
      "742 :  dict_keys(['image/width', 'image/filename', 'image/height', 'image/format', 'image/object/bbox/ymin', 'image/object/class/label', 'image/object/bbox/ymax', 'image/object/class/text', 'image/object/bbox/xmin', 'image/encoded', 'image/object/bbox/xmax']) \n",
      "\n",
      "743 :  dict_keys(['image/width', 'image/filename', 'image/height', 'image/format', 'image/object/bbox/ymin', 'image/object/class/label', 'image/object/bbox/ymax', 'image/object/class/text', 'image/object/bbox/xmin', 'image/encoded', 'image/object/bbox/xmax']) \n",
      "\n",
      "744 :  dict_keys(['image/width', 'image/filename', 'image/height', 'image/format', 'image/object/bbox/ymin', 'image/object/class/label', 'image/object/bbox/ymax', 'image/object/class/text', 'image/object/bbox/xmin', 'image/encoded', 'image/object/bbox/xmax']) \n",
      "\n",
      "745 :  dict_keys(['image/width', 'image/filename', 'image/height', 'image/format', 'image/object/bbox/ymin', 'image/object/class/label', 'image/object/bbox/ymax', 'image/object/class/text', 'image/object/bbox/xmin', 'image/encoded', 'image/object/bbox/xmax']) \n",
      "\n",
      "746 :  dict_keys(['image/width', 'image/filename', 'image/height', 'image/format', 'image/object/bbox/ymin', 'image/object/class/label', 'image/object/bbox/ymax', 'image/object/class/text', 'image/object/bbox/xmin', 'image/encoded', 'image/object/bbox/xmax']) \n",
      "\n",
      "747 :  dict_keys(['image/width', 'image/filename', 'image/height', 'image/format', 'image/object/bbox/ymin', 'image/object/class/label', 'image/object/bbox/ymax', 'image/object/class/text', 'image/object/bbox/xmin', 'image/encoded', 'image/object/bbox/xmax']) \n",
      "\n",
      "748 :  dict_keys(['image/width', 'image/filename', 'image/height', 'image/format', 'image/object/bbox/ymin', 'image/object/class/label', 'image/object/bbox/ymax', 'image/object/class/text', 'image/object/bbox/xmin', 'image/encoded', 'image/object/bbox/xmax']) \n",
      "\n",
      "749 :  dict_keys(['image/width', 'image/filename', 'image/height', 'image/format', 'image/object/bbox/ymin', 'image/object/class/label', 'image/object/bbox/ymax', 'image/object/class/text', 'image/object/bbox/xmin', 'image/encoded', 'image/object/bbox/xmax']) \n",
      "\n",
      "750 :  dict_keys(['image/width', 'image/filename', 'image/height', 'image/format', 'image/object/bbox/ymin', 'image/object/class/label', 'image/object/bbox/ymax', 'image/object/class/text', 'image/object/bbox/xmin', 'image/encoded', 'image/object/bbox/xmax']) \n",
      "\n",
      "751 :  dict_keys(['image/width', 'image/filename', 'image/height', 'image/format', 'image/object/bbox/ymin', 'image/object/class/label', 'image/object/bbox/ymax', 'image/object/class/text', 'image/object/bbox/xmin', 'image/encoded', 'image/object/bbox/xmax']) \n",
      "\n",
      "752 :  dict_keys(['image/width', 'image/filename', 'image/height', 'image/format', 'image/object/bbox/ymin', 'image/object/class/label', 'image/object/bbox/ymax', 'image/object/class/text', 'image/object/bbox/xmin', 'image/encoded', 'image/object/bbox/xmax']) \n",
      "\n",
      "753 :  dict_keys(['image/width', 'image/filename', 'image/height', 'image/format', 'image/object/bbox/ymin', 'image/object/class/label', 'image/object/bbox/ymax', 'image/object/class/text', 'image/object/bbox/xmin', 'image/encoded', 'image/object/bbox/xmax']) \n",
      "\n",
      "754 :  dict_keys(['image/width', 'image/filename', 'image/height', 'image/format', 'image/object/bbox/ymin', 'image/object/class/label', 'image/object/bbox/ymax', 'image/object/class/text', 'image/object/bbox/xmin', 'image/encoded', 'image/object/bbox/xmax']) \n",
      "\n",
      "755 :  dict_keys(['image/width', 'image/filename', 'image/height', 'image/format', 'image/object/bbox/ymin', 'image/object/class/label', 'image/object/bbox/ymax', 'image/object/class/text', 'image/object/bbox/xmin', 'image/encoded', 'image/object/bbox/xmax']) \n",
      "\n",
      "756 :  dict_keys(['image/width', 'image/filename', 'image/height', 'image/format', 'image/object/bbox/ymin', 'image/object/class/label', 'image/object/bbox/ymax', 'image/object/class/text', 'image/object/bbox/xmin', 'image/encoded', 'image/object/bbox/xmax']) \n",
      "\n",
      "757 :  dict_keys(['image/width', 'image/filename', 'image/height', 'image/format', 'image/object/bbox/ymin', 'image/object/class/label', 'image/object/bbox/ymax', 'image/object/class/text', 'image/object/bbox/xmin', 'image/encoded', 'image/object/bbox/xmax']) \n",
      "\n",
      "758 :  dict_keys(['image/width', 'image/filename', 'image/height', 'image/format', 'image/object/bbox/ymin', 'image/object/class/label', 'image/object/bbox/ymax', 'image/object/class/text', 'image/object/bbox/xmin', 'image/encoded', 'image/object/bbox/xmax']) \n",
      "\n",
      "759 :  dict_keys(['image/width', 'image/filename', 'image/height', 'image/format', 'image/object/bbox/ymin', 'image/object/class/label', 'image/object/bbox/ymax', 'image/object/class/text', 'image/object/bbox/xmin', 'image/encoded', 'image/object/bbox/xmax']) \n",
      "\n",
      "760 :  dict_keys(['image/width', 'image/filename', 'image/height', 'image/format', 'image/object/bbox/ymin', 'image/object/class/label', 'image/object/bbox/ymax', 'image/object/class/text', 'image/object/bbox/xmin', 'image/encoded', 'image/object/bbox/xmax']) \n",
      "\n",
      "761 :  dict_keys(['image/width', 'image/filename', 'image/height', 'image/format', 'image/object/bbox/ymin', 'image/object/class/label', 'image/object/bbox/ymax', 'image/object/class/text', 'image/object/bbox/xmin', 'image/encoded', 'image/object/bbox/xmax']) \n",
      "\n",
      "762 :  dict_keys(['image/width', 'image/filename', 'image/height', 'image/format', 'image/object/bbox/ymin', 'image/object/class/label', 'image/object/bbox/ymax', 'image/object/class/text', 'image/object/bbox/xmin', 'image/encoded', 'image/object/bbox/xmax']) \n",
      "\n",
      "763 :  dict_keys(['image/width', 'image/filename', 'image/height', 'image/format', 'image/object/bbox/ymin', 'image/object/class/label', 'image/object/bbox/ymax', 'image/object/class/text', 'image/object/bbox/xmin', 'image/encoded', 'image/object/bbox/xmax']) \n",
      "\n",
      "764 :  dict_keys(['image/width', 'image/filename', 'image/height', 'image/format', 'image/object/bbox/ymin', 'image/object/class/label', 'image/object/bbox/ymax', 'image/object/class/text', 'image/object/bbox/xmin', 'image/encoded', 'image/object/bbox/xmax']) \n",
      "\n",
      "765 :  dict_keys(['image/width', 'image/filename', 'image/height', 'image/format', 'image/object/bbox/ymin', 'image/object/class/label', 'image/object/bbox/ymax', 'image/object/class/text', 'image/object/bbox/xmin', 'image/encoded', 'image/object/bbox/xmax']) \n",
      "\n",
      "766 :  dict_keys(['image/width', 'image/filename', 'image/height', 'image/format', 'image/object/bbox/ymin', 'image/object/class/label', 'image/object/bbox/ymax', 'image/object/class/text', 'image/object/bbox/xmin', 'image/encoded', 'image/object/bbox/xmax']) \n",
      "\n",
      "767 :  dict_keys(['image/width', 'image/filename', 'image/height', 'image/format', 'image/object/bbox/ymin', 'image/object/class/label', 'image/object/bbox/ymax', 'image/object/class/text', 'image/object/bbox/xmin', 'image/encoded', 'image/object/bbox/xmax']) \n",
      "\n",
      "768 :  dict_keys(['image/width', 'image/filename', 'image/height', 'image/format', 'image/object/bbox/ymin', 'image/object/class/label', 'image/object/bbox/ymax', 'image/object/class/text', 'image/object/bbox/xmin', 'image/encoded', 'image/object/bbox/xmax']) \n",
      "\n",
      "769 :  dict_keys(['image/width', 'image/filename', 'image/height', 'image/format', 'image/object/bbox/ymin', 'image/object/class/label', 'image/object/bbox/ymax', 'image/object/class/text', 'image/object/bbox/xmin', 'image/encoded', 'image/object/bbox/xmax']) \n",
      "\n",
      "770 :  dict_keys(['image/width', 'image/filename', 'image/height', 'image/format', 'image/object/bbox/ymin', 'image/object/class/label', 'image/object/bbox/ymax', 'image/object/class/text', 'image/object/bbox/xmin', 'image/encoded', 'image/object/bbox/xmax']) \n",
      "\n",
      "771 :  dict_keys(['image/width', 'image/filename', 'image/height', 'image/format', 'image/object/bbox/ymin', 'image/object/class/label', 'image/object/bbox/ymax', 'image/object/class/text', 'image/object/bbox/xmin', 'image/encoded', 'image/object/bbox/xmax']) \n",
      "\n",
      "772 :  dict_keys(['image/width', 'image/filename', 'image/height', 'image/format', 'image/object/bbox/ymin', 'image/object/class/label', 'image/object/bbox/ymax', 'image/object/class/text', 'image/object/bbox/xmin', 'image/encoded', 'image/object/bbox/xmax']) \n",
      "\n",
      "773 :  dict_keys(['image/width', 'image/filename', 'image/height', 'image/format', 'image/object/bbox/ymin', 'image/object/class/label', 'image/object/bbox/ymax', 'image/object/class/text', 'image/object/bbox/xmin', 'image/encoded', 'image/object/bbox/xmax']) \n",
      "\n",
      "774 :  dict_keys(['image/width', 'image/filename', 'image/height', 'image/format', 'image/object/bbox/ymin', 'image/object/class/label', 'image/object/bbox/ymax', 'image/object/class/text', 'image/object/bbox/xmin', 'image/encoded', 'image/object/bbox/xmax']) \n",
      "\n",
      "775 :  dict_keys(['image/width', 'image/filename', 'image/height', 'image/format', 'image/object/bbox/ymin', 'image/object/class/label', 'image/object/bbox/ymax', 'image/object/class/text', 'image/object/bbox/xmin', 'image/encoded', 'image/object/bbox/xmax']) \n",
      "\n",
      "776 :  dict_keys(['image/width', 'image/filename', 'image/height', 'image/format', 'image/object/bbox/ymin', 'image/object/class/label', 'image/object/bbox/ymax', 'image/object/class/text', 'image/object/bbox/xmin', 'image/encoded', 'image/object/bbox/xmax']) \n",
      "\n",
      "777 :  dict_keys(['image/width', 'image/filename', 'image/height', 'image/format', 'image/object/bbox/ymin', 'image/object/class/label', 'image/object/bbox/ymax', 'image/object/class/text', 'image/object/bbox/xmin', 'image/encoded', 'image/object/bbox/xmax']) \n",
      "\n",
      "778 :  dict_keys(['image/width', 'image/filename', 'image/height', 'image/format', 'image/object/bbox/ymin', 'image/object/class/label', 'image/object/bbox/ymax', 'image/object/class/text', 'image/object/bbox/xmin', 'image/encoded', 'image/object/bbox/xmax']) \n",
      "\n",
      "779 :  dict_keys(['image/width', 'image/filename', 'image/height', 'image/format', 'image/object/bbox/ymin', 'image/object/class/label', 'image/object/bbox/ymax', 'image/object/class/text', 'image/object/bbox/xmin', 'image/encoded', 'image/object/bbox/xmax']) \n",
      "\n",
      "780 :  dict_keys(['image/width', 'image/filename', 'image/height', 'image/format', 'image/object/bbox/ymin', 'image/object/class/label', 'image/object/bbox/ymax', 'image/object/class/text', 'image/object/bbox/xmin', 'image/encoded', 'image/object/bbox/xmax']) \n",
      "\n",
      "781 :  dict_keys(['image/width', 'image/filename', 'image/height', 'image/format', 'image/object/bbox/ymin', 'image/object/class/label', 'image/object/bbox/ymax', 'image/object/class/text', 'image/object/bbox/xmin', 'image/encoded', 'image/object/bbox/xmax']) \n",
      "\n",
      "782 :  dict_keys(['image/width', 'image/filename', 'image/height', 'image/format', 'image/object/bbox/ymin', 'image/object/class/label', 'image/object/bbox/ymax', 'image/object/class/text', 'image/object/bbox/xmin', 'image/encoded', 'image/object/bbox/xmax']) \n",
      "\n",
      "783 :  dict_keys(['image/width', 'image/filename', 'image/height', 'image/format', 'image/object/bbox/ymin', 'image/object/class/label', 'image/object/bbox/ymax', 'image/object/class/text', 'image/object/bbox/xmin', 'image/encoded', 'image/object/bbox/xmax']) \n",
      "\n",
      "784 :  dict_keys(['image/width', 'image/filename', 'image/height', 'image/format', 'image/object/bbox/ymin', 'image/object/class/label', 'image/object/bbox/ymax', 'image/object/class/text', 'image/object/bbox/xmin', 'image/encoded', 'image/object/bbox/xmax']) \n",
      "\n",
      "785 :  dict_keys(['image/width', 'image/filename', 'image/height', 'image/format', 'image/object/bbox/ymin', 'image/object/class/label', 'image/object/bbox/ymax', 'image/object/class/text', 'image/object/bbox/xmin', 'image/encoded', 'image/object/bbox/xmax']) \n",
      "\n",
      "786 :  dict_keys(['image/width', 'image/filename', 'image/height', 'image/format', 'image/object/bbox/ymin', 'image/object/class/label', 'image/object/bbox/ymax', 'image/object/class/text', 'image/object/bbox/xmin', 'image/encoded', 'image/object/bbox/xmax']) \n",
      "\n",
      "787 :  dict_keys(['image/width', 'image/filename', 'image/height', 'image/format', 'image/object/bbox/ymin', 'image/object/class/label', 'image/object/bbox/ymax', 'image/object/class/text', 'image/object/bbox/xmin', 'image/encoded', 'image/object/bbox/xmax']) \n",
      "\n",
      "788 :  dict_keys(['image/width', 'image/filename', 'image/height', 'image/format', 'image/object/bbox/ymin', 'image/object/class/label', 'image/object/bbox/ymax', 'image/object/class/text', 'image/object/bbox/xmin', 'image/encoded', 'image/object/bbox/xmax']) \n",
      "\n",
      "789 :  dict_keys(['image/width', 'image/filename', 'image/height', 'image/format', 'image/object/bbox/ymin', 'image/object/class/label', 'image/object/bbox/ymax', 'image/object/class/text', 'image/object/bbox/xmin', 'image/encoded', 'image/object/bbox/xmax']) \n",
      "\n",
      "790 :  dict_keys(['image/width', 'image/filename', 'image/height', 'image/format', 'image/object/bbox/ymin', 'image/object/class/label', 'image/object/bbox/ymax', 'image/object/class/text', 'image/object/bbox/xmin', 'image/encoded', 'image/object/bbox/xmax']) \n",
      "\n",
      "791 :  dict_keys(['image/width', 'image/filename', 'image/height', 'image/format', 'image/object/bbox/ymin', 'image/object/class/label', 'image/object/bbox/ymax', 'image/object/class/text', 'image/object/bbox/xmin', 'image/encoded', 'image/object/bbox/xmax']) \n",
      "\n",
      "792 :  dict_keys(['image/width', 'image/filename', 'image/height', 'image/format', 'image/object/bbox/ymin', 'image/object/class/label', 'image/object/bbox/ymax', 'image/object/class/text', 'image/object/bbox/xmin', 'image/encoded', 'image/object/bbox/xmax']) \n",
      "\n",
      "793 :  dict_keys(['image/width', 'image/filename', 'image/height', 'image/format', 'image/object/bbox/ymin', 'image/object/class/label', 'image/object/bbox/ymax', 'image/object/class/text', 'image/object/bbox/xmin', 'image/encoded', 'image/object/bbox/xmax']) \n",
      "\n",
      "794 :  dict_keys(['image/width', 'image/filename', 'image/height', 'image/format', 'image/object/bbox/ymin', 'image/object/class/label', 'image/object/bbox/ymax', 'image/object/class/text', 'image/object/bbox/xmin', 'image/encoded', 'image/object/bbox/xmax']) \n",
      "\n",
      "795 :  dict_keys(['image/width', 'image/filename', 'image/height', 'image/format', 'image/object/bbox/ymin', 'image/object/class/label', 'image/object/bbox/ymax', 'image/object/class/text', 'image/object/bbox/xmin', 'image/encoded', 'image/object/bbox/xmax']) \n",
      "\n",
      "796 :  dict_keys(['image/width', 'image/filename', 'image/height', 'image/format', 'image/object/bbox/ymin', 'image/object/class/label', 'image/object/bbox/ymax', 'image/object/class/text', 'image/object/bbox/xmin', 'image/encoded', 'image/object/bbox/xmax']) \n",
      "\n",
      "797 :  dict_keys(['image/width', 'image/filename', 'image/height', 'image/format', 'image/object/bbox/ymin', 'image/object/class/label', 'image/object/bbox/ymax', 'image/object/class/text', 'image/object/bbox/xmin', 'image/encoded', 'image/object/bbox/xmax']) \n",
      "\n",
      "798 :  dict_keys(['image/width', 'image/filename', 'image/height', 'image/format', 'image/object/bbox/ymin', 'image/object/class/label', 'image/object/bbox/ymax', 'image/object/class/text', 'image/object/bbox/xmin', 'image/encoded', 'image/object/bbox/xmax']) \n",
      "\n",
      "799 :  dict_keys(['image/width', 'image/filename', 'image/height', 'image/format', 'image/object/bbox/ymin', 'image/object/class/label', 'image/object/bbox/ymax', 'image/object/class/text', 'image/object/bbox/xmin', 'image/encoded', 'image/object/bbox/xmax']) \n",
      "\n",
      "800 :  dict_keys(['image/width', 'image/filename', 'image/height', 'image/format', 'image/object/bbox/ymin', 'image/object/class/label', 'image/object/bbox/ymax', 'image/object/class/text', 'image/object/bbox/xmin', 'image/encoded', 'image/object/bbox/xmax']) \n",
      "\n",
      "801 :  dict_keys(['image/width', 'image/filename', 'image/height', 'image/format', 'image/object/bbox/ymin', 'image/object/class/label', 'image/object/bbox/ymax', 'image/object/class/text', 'image/object/bbox/xmin', 'image/encoded', 'image/object/bbox/xmax']) \n",
      "\n",
      "802 :  dict_keys(['image/width', 'image/filename', 'image/height', 'image/format', 'image/object/bbox/ymin', 'image/object/class/label', 'image/object/bbox/ymax', 'image/object/class/text', 'image/object/bbox/xmin', 'image/encoded', 'image/object/bbox/xmax']) \n",
      "\n",
      "803 :  dict_keys(['image/width', 'image/filename', 'image/height', 'image/format', 'image/object/bbox/ymin', 'image/object/class/label', 'image/object/bbox/ymax', 'image/object/class/text', 'image/object/bbox/xmin', 'image/encoded', 'image/object/bbox/xmax']) \n",
      "\n",
      "804 :  dict_keys(['image/width', 'image/filename', 'image/height', 'image/format', 'image/object/bbox/ymin', 'image/object/class/label', 'image/object/bbox/ymax', 'image/object/class/text', 'image/object/bbox/xmin', 'image/encoded', 'image/object/bbox/xmax']) \n",
      "\n",
      "805 :  dict_keys(['image/width', 'image/filename', 'image/height', 'image/format', 'image/object/bbox/ymin', 'image/object/class/label', 'image/object/bbox/ymax', 'image/object/class/text', 'image/object/bbox/xmin', 'image/encoded', 'image/object/bbox/xmax']) \n",
      "\n",
      "806 :  dict_keys(['image/width', 'image/filename', 'image/height', 'image/format', 'image/object/bbox/ymin', 'image/object/class/label', 'image/object/bbox/ymax', 'image/object/class/text', 'image/object/bbox/xmin', 'image/encoded', 'image/object/bbox/xmax']) \n",
      "\n",
      "807 :  dict_keys(['image/width', 'image/filename', 'image/height', 'image/format', 'image/object/bbox/ymin', 'image/object/class/label', 'image/object/bbox/ymax', 'image/object/class/text', 'image/object/bbox/xmin', 'image/encoded', 'image/object/bbox/xmax']) \n",
      "\n",
      "808 :  dict_keys(['image/width', 'image/filename', 'image/height', 'image/format', 'image/object/bbox/ymin', 'image/object/class/label', 'image/object/bbox/ymax', 'image/object/class/text', 'image/object/bbox/xmin', 'image/encoded', 'image/object/bbox/xmax']) \n",
      "\n",
      "809 :  dict_keys(['image/width', 'image/filename', 'image/height', 'image/format', 'image/object/bbox/ymin', 'image/object/class/label', 'image/object/bbox/ymax', 'image/object/class/text', 'image/object/bbox/xmin', 'image/encoded', 'image/object/bbox/xmax']) \n",
      "\n",
      "810 :  dict_keys(['image/width', 'image/filename', 'image/height', 'image/format', 'image/object/bbox/ymin', 'image/object/class/label', 'image/object/bbox/ymax', 'image/object/class/text', 'image/object/bbox/xmin', 'image/encoded', 'image/object/bbox/xmax']) \n",
      "\n",
      "811 :  dict_keys(['image/width', 'image/filename', 'image/height', 'image/format', 'image/object/bbox/ymin', 'image/object/class/label', 'image/object/bbox/ymax', 'image/object/class/text', 'image/object/bbox/xmin', 'image/encoded', 'image/object/bbox/xmax']) \n",
      "\n",
      "812 :  dict_keys(['image/width', 'image/filename', 'image/height', 'image/format', 'image/object/bbox/ymin', 'image/object/class/label', 'image/object/bbox/ymax', 'image/object/class/text', 'image/object/bbox/xmin', 'image/encoded', 'image/object/bbox/xmax']) \n",
      "\n",
      "813 :  dict_keys(['image/width', 'image/filename', 'image/height', 'image/format', 'image/object/bbox/ymin', 'image/object/class/label', 'image/object/bbox/ymax', 'image/object/class/text', 'image/object/bbox/xmin', 'image/encoded', 'image/object/bbox/xmax']) \n",
      "\n",
      "814 :  dict_keys(['image/width', 'image/filename', 'image/height', 'image/format', 'image/object/bbox/ymin', 'image/object/class/label', 'image/object/bbox/ymax', 'image/object/class/text', 'image/object/bbox/xmin', 'image/encoded', 'image/object/bbox/xmax']) \n",
      "\n",
      "815 :  dict_keys(['image/width', 'image/filename', 'image/height', 'image/format', 'image/object/bbox/ymin', 'image/object/class/label', 'image/object/bbox/ymax', 'image/object/class/text', 'image/object/bbox/xmin', 'image/encoded', 'image/object/bbox/xmax']) \n",
      "\n",
      "816 :  dict_keys(['image/width', 'image/filename', 'image/height', 'image/format', 'image/object/bbox/ymin', 'image/object/class/label', 'image/object/bbox/ymax', 'image/object/class/text', 'image/object/bbox/xmin', 'image/encoded', 'image/object/bbox/xmax']) \n",
      "\n",
      "817 :  dict_keys(['image/width', 'image/filename', 'image/height', 'image/format', 'image/object/bbox/ymin', 'image/object/class/label', 'image/object/bbox/ymax', 'image/object/class/text', 'image/object/bbox/xmin', 'image/encoded', 'image/object/bbox/xmax']) \n",
      "\n",
      "818 :  dict_keys(['image/width', 'image/filename', 'image/height', 'image/format', 'image/object/bbox/ymin', 'image/object/class/label', 'image/object/bbox/ymax', 'image/object/class/text', 'image/object/bbox/xmin', 'image/encoded', 'image/object/bbox/xmax']) \n",
      "\n",
      "819 :  dict_keys(['image/width', 'image/filename', 'image/height', 'image/format', 'image/object/bbox/ymin', 'image/object/class/label', 'image/object/bbox/ymax', 'image/object/class/text', 'image/object/bbox/xmin', 'image/encoded', 'image/object/bbox/xmax']) \n",
      "\n",
      "820 :  dict_keys(['image/width', 'image/filename', 'image/height', 'image/format', 'image/object/bbox/ymin', 'image/object/class/label', 'image/object/bbox/ymax', 'image/object/class/text', 'image/object/bbox/xmin', 'image/encoded', 'image/object/bbox/xmax']) \n",
      "\n",
      "821 :  dict_keys(['image/width', 'image/filename', 'image/height', 'image/format', 'image/object/bbox/ymin', 'image/object/class/label', 'image/object/bbox/ymax', 'image/object/class/text', 'image/object/bbox/xmin', 'image/encoded', 'image/object/bbox/xmax']) \n",
      "\n",
      "822 :  dict_keys(['image/width', 'image/filename', 'image/height', 'image/format', 'image/object/bbox/ymin', 'image/object/class/label', 'image/object/bbox/ymax', 'image/object/class/text', 'image/object/bbox/xmin', 'image/encoded', 'image/object/bbox/xmax']) \n",
      "\n",
      "823 :  dict_keys(['image/width', 'image/filename', 'image/height', 'image/format', 'image/object/bbox/ymin', 'image/object/class/label', 'image/object/bbox/ymax', 'image/object/class/text', 'image/object/bbox/xmin', 'image/encoded', 'image/object/bbox/xmax']) \n",
      "\n",
      "824 :  dict_keys(['image/width', 'image/filename', 'image/height', 'image/format', 'image/object/bbox/ymin', 'image/object/class/label', 'image/object/bbox/ymax', 'image/object/class/text', 'image/object/bbox/xmin', 'image/encoded', 'image/object/bbox/xmax']) \n",
      "\n",
      "825 :  dict_keys(['image/width', 'image/filename', 'image/height', 'image/format', 'image/object/bbox/ymin', 'image/object/class/label', 'image/object/bbox/ymax', 'image/object/class/text', 'image/object/bbox/xmin', 'image/encoded', 'image/object/bbox/xmax']) \n",
      "\n",
      "826 :  dict_keys(['image/width', 'image/filename', 'image/height', 'image/format', 'image/object/bbox/ymin', 'image/object/class/label', 'image/object/bbox/ymax', 'image/object/class/text', 'image/object/bbox/xmin', 'image/encoded', 'image/object/bbox/xmax']) \n",
      "\n",
      "827 :  dict_keys(['image/width', 'image/filename', 'image/height', 'image/format', 'image/object/bbox/ymin', 'image/object/class/label', 'image/object/bbox/ymax', 'image/object/class/text', 'image/object/bbox/xmin', 'image/encoded', 'image/object/bbox/xmax']) \n",
      "\n",
      "828 :  dict_keys(['image/width', 'image/filename', 'image/height', 'image/format', 'image/object/bbox/ymin', 'image/object/class/label', 'image/object/bbox/ymax', 'image/object/class/text', 'image/object/bbox/xmin', 'image/encoded', 'image/object/bbox/xmax']) \n",
      "\n",
      "829 :  dict_keys(['image/width', 'image/filename', 'image/height', 'image/format', 'image/object/bbox/ymin', 'image/object/class/label', 'image/object/bbox/ymax', 'image/object/class/text', 'image/object/bbox/xmin', 'image/encoded', 'image/object/bbox/xmax']) \n",
      "\n",
      "830 :  dict_keys(['image/width', 'image/filename', 'image/height', 'image/format', 'image/object/bbox/ymin', 'image/object/class/label', 'image/object/bbox/ymax', 'image/object/class/text', 'image/object/bbox/xmin', 'image/encoded', 'image/object/bbox/xmax']) \n",
      "\n",
      "831 :  dict_keys(['image/width', 'image/filename', 'image/height', 'image/format', 'image/object/bbox/ymin', 'image/object/class/label', 'image/object/bbox/ymax', 'image/object/class/text', 'image/object/bbox/xmin', 'image/encoded', 'image/object/bbox/xmax']) \n",
      "\n",
      "832 :  dict_keys(['image/width', 'image/filename', 'image/height', 'image/format', 'image/object/bbox/ymin', 'image/object/class/label', 'image/object/bbox/ymax', 'image/object/class/text', 'image/object/bbox/xmin', 'image/encoded', 'image/object/bbox/xmax']) \n",
      "\n",
      "833 :  dict_keys(['image/width', 'image/filename', 'image/height', 'image/format', 'image/object/bbox/ymin', 'image/object/class/label', 'image/object/bbox/ymax', 'image/object/class/text', 'image/object/bbox/xmin', 'image/encoded', 'image/object/bbox/xmax']) \n",
      "\n",
      "834 :  dict_keys(['image/width', 'image/filename', 'image/height', 'image/format', 'image/object/bbox/ymin', 'image/object/class/label', 'image/object/bbox/ymax', 'image/object/class/text', 'image/object/bbox/xmin', 'image/encoded', 'image/object/bbox/xmax']) \n",
      "\n",
      "835 :  dict_keys(['image/width', 'image/filename', 'image/height', 'image/format', 'image/object/bbox/ymin', 'image/object/class/label', 'image/object/bbox/ymax', 'image/object/class/text', 'image/object/bbox/xmin', 'image/encoded', 'image/object/bbox/xmax']) \n",
      "\n",
      "836 :  dict_keys(['image/width', 'image/filename', 'image/height', 'image/format', 'image/object/bbox/ymin', 'image/object/class/label', 'image/object/bbox/ymax', 'image/object/class/text', 'image/object/bbox/xmin', 'image/encoded', 'image/object/bbox/xmax']) \n",
      "\n",
      "837 :  dict_keys(['image/width', 'image/filename', 'image/height', 'image/format', 'image/object/bbox/ymin', 'image/object/class/label', 'image/object/bbox/ymax', 'image/object/class/text', 'image/object/bbox/xmin', 'image/encoded', 'image/object/bbox/xmax']) \n",
      "\n",
      "838 :  dict_keys(['image/width', 'image/filename', 'image/height', 'image/format', 'image/object/bbox/ymin', 'image/object/class/label', 'image/object/bbox/ymax', 'image/object/class/text', 'image/object/bbox/xmin', 'image/encoded', 'image/object/bbox/xmax']) \n",
      "\n",
      "839 :  dict_keys(['image/width', 'image/filename', 'image/height', 'image/format', 'image/object/bbox/ymin', 'image/object/class/label', 'image/object/bbox/ymax', 'image/object/class/text', 'image/object/bbox/xmin', 'image/encoded', 'image/object/bbox/xmax']) \n",
      "\n",
      "840 :  dict_keys(['image/width', 'image/filename', 'image/height', 'image/format', 'image/object/bbox/ymin', 'image/object/class/label', 'image/object/bbox/ymax', 'image/object/class/text', 'image/object/bbox/xmin', 'image/encoded', 'image/object/bbox/xmax']) \n",
      "\n",
      "841 :  dict_keys(['image/width', 'image/filename', 'image/height', 'image/format', 'image/object/bbox/ymin', 'image/object/class/label', 'image/object/bbox/ymax', 'image/object/class/text', 'image/object/bbox/xmin', 'image/encoded', 'image/object/bbox/xmax']) \n",
      "\n",
      "842 :  dict_keys(['image/width', 'image/filename', 'image/height', 'image/format', 'image/object/bbox/ymin', 'image/object/class/label', 'image/object/bbox/ymax', 'image/object/class/text', 'image/object/bbox/xmin', 'image/encoded', 'image/object/bbox/xmax']) \n",
      "\n",
      "843 :  dict_keys(['image/width', 'image/filename', 'image/height', 'image/format', 'image/object/bbox/ymin', 'image/object/class/label', 'image/object/bbox/ymax', 'image/object/class/text', 'image/object/bbox/xmin', 'image/encoded', 'image/object/bbox/xmax']) \n",
      "\n",
      "844 :  dict_keys(['image/width', 'image/filename', 'image/height', 'image/format', 'image/object/bbox/ymin', 'image/object/class/label', 'image/object/bbox/ymax', 'image/object/class/text', 'image/object/bbox/xmin', 'image/encoded', 'image/object/bbox/xmax']) \n",
      "\n",
      "845 :  dict_keys(['image/width', 'image/filename', 'image/height', 'image/format', 'image/object/bbox/ymin', 'image/object/class/label', 'image/object/bbox/ymax', 'image/object/class/text', 'image/object/bbox/xmin', 'image/encoded', 'image/object/bbox/xmax']) \n",
      "\n",
      "846 :  dict_keys(['image/width', 'image/filename', 'image/height', 'image/format', 'image/object/bbox/ymin', 'image/object/class/label', 'image/object/bbox/ymax', 'image/object/class/text', 'image/object/bbox/xmin', 'image/encoded', 'image/object/bbox/xmax']) \n",
      "\n",
      "847 :  dict_keys(['image/width', 'image/filename', 'image/height', 'image/format', 'image/object/bbox/ymin', 'image/object/class/label', 'image/object/bbox/ymax', 'image/object/class/text', 'image/object/bbox/xmin', 'image/encoded', 'image/object/bbox/xmax']) \n",
      "\n",
      "848 :  dict_keys(['image/width', 'image/filename', 'image/height', 'image/format', 'image/object/bbox/ymin', 'image/object/class/label', 'image/object/bbox/ymax', 'image/object/class/text', 'image/object/bbox/xmin', 'image/encoded', 'image/object/bbox/xmax']) \n",
      "\n",
      "849 :  dict_keys(['image/width', 'image/filename', 'image/height', 'image/format', 'image/object/bbox/ymin', 'image/object/class/label', 'image/object/bbox/ymax', 'image/object/class/text', 'image/object/bbox/xmin', 'image/encoded', 'image/object/bbox/xmax']) \n",
      "\n",
      "850 :  dict_keys(['image/width', 'image/filename', 'image/height', 'image/format', 'image/object/bbox/ymin', 'image/object/class/label', 'image/object/bbox/ymax', 'image/object/class/text', 'image/object/bbox/xmin', 'image/encoded', 'image/object/bbox/xmax']) \n",
      "\n",
      "851 :  dict_keys(['image/width', 'image/filename', 'image/height', 'image/format', 'image/object/bbox/ymin', 'image/object/class/label', 'image/object/bbox/ymax', 'image/object/class/text', 'image/object/bbox/xmin', 'image/encoded', 'image/object/bbox/xmax']) \n",
      "\n",
      "852 :  dict_keys(['image/width', 'image/filename', 'image/height', 'image/format', 'image/object/bbox/ymin', 'image/object/class/label', 'image/object/bbox/ymax', 'image/object/class/text', 'image/object/bbox/xmin', 'image/encoded', 'image/object/bbox/xmax']) \n",
      "\n",
      "853 :  dict_keys(['image/width', 'image/filename', 'image/height', 'image/format', 'image/object/bbox/ymin', 'image/object/class/label', 'image/object/bbox/ymax', 'image/object/class/text', 'image/object/bbox/xmin', 'image/encoded', 'image/object/bbox/xmax']) \n",
      "\n",
      "854 :  dict_keys(['image/width', 'image/filename', 'image/height', 'image/format', 'image/object/bbox/ymin', 'image/object/class/label', 'image/object/bbox/ymax', 'image/object/class/text', 'image/object/bbox/xmin', 'image/encoded', 'image/object/bbox/xmax']) \n",
      "\n",
      "855 :  dict_keys(['image/width', 'image/filename', 'image/height', 'image/format', 'image/object/bbox/ymin', 'image/object/class/label', 'image/object/bbox/ymax', 'image/object/class/text', 'image/object/bbox/xmin', 'image/encoded', 'image/object/bbox/xmax']) \n",
      "\n",
      "856 :  dict_keys(['image/width', 'image/filename', 'image/height', 'image/format', 'image/object/bbox/ymin', 'image/object/class/label', 'image/object/bbox/ymax', 'image/object/class/text', 'image/object/bbox/xmin', 'image/encoded', 'image/object/bbox/xmax']) \n",
      "\n",
      "857 :  dict_keys(['image/width', 'image/filename', 'image/height', 'image/format', 'image/object/bbox/ymin', 'image/object/class/label', 'image/object/bbox/ymax', 'image/object/class/text', 'image/object/bbox/xmin', 'image/encoded', 'image/object/bbox/xmax']) \n",
      "\n",
      "858 :  dict_keys(['image/width', 'image/filename', 'image/height', 'image/format', 'image/object/bbox/ymin', 'image/object/class/label', 'image/object/bbox/ymax', 'image/object/class/text', 'image/object/bbox/xmin', 'image/encoded', 'image/object/bbox/xmax']) \n",
      "\n",
      "859 :  dict_keys(['image/width', 'image/filename', 'image/height', 'image/format', 'image/object/bbox/ymin', 'image/object/class/label', 'image/object/bbox/ymax', 'image/object/class/text', 'image/object/bbox/xmin', 'image/encoded', 'image/object/bbox/xmax']) \n",
      "\n",
      "860 :  dict_keys(['image/width', 'image/filename', 'image/height', 'image/format', 'image/object/bbox/ymin', 'image/object/class/label', 'image/object/bbox/ymax', 'image/object/class/text', 'image/object/bbox/xmin', 'image/encoded', 'image/object/bbox/xmax']) \n",
      "\n",
      "861 :  dict_keys(['image/width', 'image/filename', 'image/height', 'image/format', 'image/object/bbox/ymin', 'image/object/class/label', 'image/object/bbox/ymax', 'image/object/class/text', 'image/object/bbox/xmin', 'image/encoded', 'image/object/bbox/xmax']) \n",
      "\n",
      "862 :  dict_keys(['image/width', 'image/filename', 'image/height', 'image/format', 'image/object/bbox/ymin', 'image/object/class/label', 'image/object/bbox/ymax', 'image/object/class/text', 'image/object/bbox/xmin', 'image/encoded', 'image/object/bbox/xmax']) \n",
      "\n",
      "863 :  dict_keys(['image/width', 'image/filename', 'image/height', 'image/format', 'image/object/bbox/ymin', 'image/object/class/label', 'image/object/bbox/ymax', 'image/object/class/text', 'image/object/bbox/xmin', 'image/encoded', 'image/object/bbox/xmax']) \n",
      "\n",
      "864 :  dict_keys(['image/width', 'image/filename', 'image/height', 'image/format', 'image/object/bbox/ymin', 'image/object/class/label', 'image/object/bbox/ymax', 'image/object/class/text', 'image/object/bbox/xmin', 'image/encoded', 'image/object/bbox/xmax']) \n",
      "\n",
      "865 :  dict_keys(['image/width', 'image/filename', 'image/height', 'image/format', 'image/object/bbox/ymin', 'image/object/class/label', 'image/object/bbox/ymax', 'image/object/class/text', 'image/object/bbox/xmin', 'image/encoded', 'image/object/bbox/xmax']) \n",
      "\n",
      "866 :  dict_keys(['image/width', 'image/filename', 'image/height', 'image/format', 'image/object/bbox/ymin', 'image/object/class/label', 'image/object/bbox/ymax', 'image/object/class/text', 'image/object/bbox/xmin', 'image/encoded', 'image/object/bbox/xmax']) \n",
      "\n",
      "867 :  dict_keys(['image/width', 'image/filename', 'image/height', 'image/format', 'image/object/bbox/ymin', 'image/object/class/label', 'image/object/bbox/ymax', 'image/object/class/text', 'image/object/bbox/xmin', 'image/encoded', 'image/object/bbox/xmax']) \n",
      "\n",
      "868 :  dict_keys(['image/width', 'image/filename', 'image/height', 'image/format', 'image/object/bbox/ymin', 'image/object/class/label', 'image/object/bbox/ymax', 'image/object/class/text', 'image/object/bbox/xmin', 'image/encoded', 'image/object/bbox/xmax']) \n",
      "\n",
      "869 :  dict_keys(['image/width', 'image/filename', 'image/height', 'image/format', 'image/object/bbox/ymin', 'image/object/class/label', 'image/object/bbox/ymax', 'image/object/class/text', 'image/object/bbox/xmin', 'image/encoded', 'image/object/bbox/xmax']) \n",
      "\n",
      "870 :  dict_keys(['image/width', 'image/filename', 'image/height', 'image/format', 'image/object/bbox/ymin', 'image/object/class/label', 'image/object/bbox/ymax', 'image/object/class/text', 'image/object/bbox/xmin', 'image/encoded', 'image/object/bbox/xmax']) \n",
      "\n",
      "871 :  dict_keys(['image/width', 'image/filename', 'image/height', 'image/format', 'image/object/bbox/ymin', 'image/object/class/label', 'image/object/bbox/ymax', 'image/object/class/text', 'image/object/bbox/xmin', 'image/encoded', 'image/object/bbox/xmax']) \n",
      "\n",
      "872 :  dict_keys(['image/width', 'image/filename', 'image/height', 'image/format', 'image/object/bbox/ymin', 'image/object/class/label', 'image/object/bbox/ymax', 'image/object/class/text', 'image/object/bbox/xmin', 'image/encoded', 'image/object/bbox/xmax']) \n",
      "\n",
      "873 :  dict_keys(['image/width', 'image/filename', 'image/height', 'image/format', 'image/object/bbox/ymin', 'image/object/class/label', 'image/object/bbox/ymax', 'image/object/class/text', 'image/object/bbox/xmin', 'image/encoded', 'image/object/bbox/xmax']) \n",
      "\n",
      "874 :  dict_keys(['image/width', 'image/filename', 'image/height', 'image/format', 'image/object/bbox/ymin', 'image/object/class/label', 'image/object/bbox/ymax', 'image/object/class/text', 'image/object/bbox/xmin', 'image/encoded', 'image/object/bbox/xmax']) \n",
      "\n",
      "875 :  dict_keys(['image/width', 'image/filename', 'image/height', 'image/format', 'image/object/bbox/ymin', 'image/object/class/label', 'image/object/bbox/ymax', 'image/object/class/text', 'image/object/bbox/xmin', 'image/encoded', 'image/object/bbox/xmax']) \n",
      "\n",
      "876 :  dict_keys(['image/width', 'image/filename', 'image/height', 'image/format', 'image/object/bbox/ymin', 'image/object/class/label', 'image/object/bbox/ymax', 'image/object/class/text', 'image/object/bbox/xmin', 'image/encoded', 'image/object/bbox/xmax']) \n",
      "\n",
      "877 :  dict_keys(['image/width', 'image/filename', 'image/height', 'image/format', 'image/object/bbox/ymin', 'image/object/class/label', 'image/object/bbox/ymax', 'image/object/class/text', 'image/object/bbox/xmin', 'image/encoded', 'image/object/bbox/xmax']) \n",
      "\n"
     ]
    }
   ],
   "source": [
    "i = 0\n",
    "for str_rec in tf.compat.v1.python_io.tf_record_iterator(path_):\n",
    "    example = tf.train.Example()\n",
    "    example.ParseFromString(str_rec)\n",
    "    print(i,\": \", dict(example.features.feature).keys(), \"\\n\")\n",
    "    i+=1"
   ]
  },
  {
   "cell_type": "code",
   "execution_count": 41,
   "id": "10624d28",
   "metadata": {
    "collapsed": true
   },
   "outputs": [
    {
     "name": "stdout",
     "output_type": "stream",
     "text": [
      "0 :  dict_keys(['image/width', 'image/height', 'image/object/bbox/ymin', 'image/object/class/label', 'image/object/class/text', 'image/object/bbox/xmin', 'image/source_id', 'image/object/bbox/xmax', 'image/filename', 'image/format', 'image/object/bbox/ymax', 'image/encoded']) \n",
      "\n",
      "1 :  dict_keys(['image/width', 'image/height', 'image/object/bbox/ymin', 'image/object/class/label', 'image/object/bbox/xmin', 'image/object/class/text', 'image/source_id', 'image/object/bbox/xmax', 'image/filename', 'image/format', 'image/object/bbox/ymax', 'image/encoded']) \n",
      "\n",
      "2 :  dict_keys(['image/width', 'image/height', 'image/object/bbox/ymin', 'image/object/class/label', 'image/object/class/text', 'image/object/bbox/xmin', 'image/source_id', 'image/object/bbox/xmax', 'image/filename', 'image/format', 'image/object/bbox/ymax', 'image/encoded']) \n",
      "\n",
      "3 :  dict_keys(['image/width', 'image/height', 'image/object/bbox/ymin', 'image/object/class/label', 'image/object/bbox/xmin', 'image/object/class/text', 'image/source_id', 'image/object/bbox/xmax', 'image/filename', 'image/format', 'image/object/bbox/ymax', 'image/encoded']) \n",
      "\n",
      "4 :  dict_keys(['image/width', 'image/height', 'image/object/bbox/ymin', 'image/object/class/label', 'image/object/bbox/xmin', 'image/object/class/text', 'image/source_id', 'image/object/bbox/xmax', 'image/filename', 'image/format', 'image/object/bbox/ymax', 'image/encoded']) \n",
      "\n",
      "5 :  dict_keys(['image/width', 'image/height', 'image/object/bbox/ymin', 'image/object/class/label', 'image/object/bbox/xmin', 'image/object/class/text', 'image/source_id', 'image/object/bbox/xmax', 'image/filename', 'image/format', 'image/object/bbox/ymax', 'image/encoded']) \n",
      "\n",
      "6 :  dict_keys(['image/width', 'image/height', 'image/object/bbox/ymin', 'image/object/class/label', 'image/object/bbox/xmin', 'image/object/class/text', 'image/source_id', 'image/object/bbox/xmax', 'image/filename', 'image/format', 'image/object/bbox/ymax', 'image/encoded']) \n",
      "\n",
      "7 :  dict_keys(['image/width', 'image/height', 'image/object/bbox/ymin', 'image/object/class/label', 'image/object/class/text', 'image/object/bbox/xmin', 'image/source_id', 'image/object/bbox/xmax', 'image/filename', 'image/format', 'image/object/bbox/ymax', 'image/encoded']) \n",
      "\n",
      "8 :  dict_keys(['image/width', 'image/height', 'image/object/bbox/ymin', 'image/object/class/label', 'image/object/class/text', 'image/object/bbox/xmin', 'image/source_id', 'image/object/bbox/xmax', 'image/filename', 'image/format', 'image/object/bbox/ymax', 'image/encoded']) \n",
      "\n",
      "9 :  dict_keys(['image/width', 'image/height', 'image/object/bbox/ymin', 'image/object/class/label', 'image/object/bbox/xmin', 'image/object/class/text', 'image/source_id', 'image/object/bbox/xmax', 'image/filename', 'image/format', 'image/object/bbox/ymax', 'image/encoded']) \n",
      "\n",
      "10 :  dict_keys(['image/width', 'image/height', 'image/object/bbox/ymin', 'image/object/class/label', 'image/object/bbox/xmin', 'image/object/class/text', 'image/source_id', 'image/object/bbox/xmax', 'image/filename', 'image/format', 'image/object/bbox/ymax', 'image/encoded']) \n",
      "\n",
      "11 :  dict_keys(['image/width', 'image/height', 'image/object/bbox/ymin', 'image/object/class/label', 'image/object/class/text', 'image/object/bbox/xmin', 'image/source_id', 'image/object/bbox/xmax', 'image/filename', 'image/format', 'image/object/bbox/ymax', 'image/encoded']) \n",
      "\n",
      "12 :  dict_keys(['image/width', 'image/height', 'image/object/bbox/ymin', 'image/object/class/label', 'image/object/bbox/xmin', 'image/object/class/text', 'image/source_id', 'image/object/bbox/xmax', 'image/filename', 'image/format', 'image/object/bbox/ymax', 'image/encoded']) \n",
      "\n",
      "13 :  dict_keys(['image/width', 'image/height', 'image/object/bbox/ymin', 'image/object/class/label', 'image/object/bbox/xmin', 'image/object/class/text', 'image/source_id', 'image/object/bbox/xmax', 'image/filename', 'image/format', 'image/object/bbox/ymax', 'image/encoded']) \n",
      "\n",
      "14 :  dict_keys(['image/width', 'image/height', 'image/object/bbox/ymin', 'image/object/class/label', 'image/object/class/text', 'image/object/bbox/xmin', 'image/source_id', 'image/object/bbox/xmax', 'image/filename', 'image/format', 'image/object/bbox/ymax', 'image/encoded']) \n",
      "\n",
      "15 :  dict_keys(['image/width', 'image/height', 'image/object/bbox/ymin', 'image/object/class/label', 'image/object/class/text', 'image/object/bbox/xmin', 'image/source_id', 'image/object/bbox/xmax', 'image/filename', 'image/format', 'image/object/bbox/ymax', 'image/encoded']) \n",
      "\n",
      "16 :  dict_keys(['image/width', 'image/height', 'image/object/bbox/ymin', 'image/object/class/label', 'image/object/class/text', 'image/object/bbox/xmin', 'image/source_id', 'image/object/bbox/xmax', 'image/filename', 'image/format', 'image/object/bbox/ymax', 'image/encoded']) \n",
      "\n",
      "17 :  dict_keys(['image/width', 'image/height', 'image/object/bbox/ymin', 'image/object/class/label', 'image/object/bbox/xmin', 'image/object/class/text', 'image/source_id', 'image/object/bbox/xmax', 'image/filename', 'image/format', 'image/object/bbox/ymax', 'image/encoded']) \n",
      "\n",
      "18 :  dict_keys(['image/width', 'image/height', 'image/object/bbox/ymin', 'image/object/class/label', 'image/object/class/text', 'image/object/bbox/xmin', 'image/source_id', 'image/object/bbox/xmax', 'image/filename', 'image/format', 'image/object/bbox/ymax', 'image/encoded']) \n",
      "\n",
      "19 :  dict_keys(['image/width', 'image/height', 'image/object/bbox/ymin', 'image/object/class/label', 'image/object/class/text', 'image/object/bbox/xmin', 'image/source_id', 'image/object/bbox/xmax', 'image/filename', 'image/format', 'image/object/bbox/ymax', 'image/encoded']) \n",
      "\n",
      "20 :  dict_keys(['image/width', 'image/height', 'image/object/bbox/ymin', 'image/object/class/label', 'image/object/bbox/xmin', 'image/object/class/text', 'image/source_id', 'image/object/bbox/xmax', 'image/filename', 'image/format', 'image/object/bbox/ymax', 'image/encoded']) \n",
      "\n",
      "21 :  dict_keys(['image/width', 'image/height', 'image/object/bbox/ymin', 'image/object/class/label', 'image/object/bbox/xmin', 'image/object/class/text', 'image/source_id', 'image/object/bbox/xmax', 'image/filename', 'image/format', 'image/object/bbox/ymax', 'image/encoded']) \n",
      "\n",
      "22 :  dict_keys(['image/width', 'image/height', 'image/object/bbox/ymin', 'image/object/class/label', 'image/object/class/text', 'image/object/bbox/xmin', 'image/source_id', 'image/object/bbox/xmax', 'image/filename', 'image/format', 'image/object/bbox/ymax', 'image/encoded']) \n",
      "\n",
      "23 :  dict_keys(['image/width', 'image/height', 'image/object/bbox/ymin', 'image/object/class/label', 'image/object/bbox/xmin', 'image/object/class/text', 'image/source_id', 'image/object/bbox/xmax', 'image/filename', 'image/format', 'image/object/bbox/ymax', 'image/encoded']) \n",
      "\n"
     ]
    }
   ],
   "source": [
    "i = 0\n",
    "for str_rec in tf.compat.v1.python_io.tf_record_iterator(og_path):\n",
    "    example = tf.train.Example()\n",
    "    example.ParseFromString(str_rec)\n",
    "    print(i,\": \", dict(example.features.feature).keys(), \"\\n\")\n",
    "    i+=1"
   ]
  },
  {
   "cell_type": "code",
   "execution_count": 42,
   "id": "f61a11dc",
   "metadata": {},
   "outputs": [],
   "source": [
    "images = []\n",
    "for str_rec in tf.compat.v1.python_io.tf_record_iterator(path_):\n",
    "    example = tf.train.Example()\n",
    "    example.ParseFromString(str_rec)\n",
    "    #print(dict(example.features.feature).keys())\n",
    "    encoded_image = example.features.feature['image/encoded'].bytes_list.value[0]\n",
    "    image = tf.image.decode_jpeg(encoded_image)\n",
    "    image = np.array(image)\n",
    "    images.append(image)\n",
    "images = np.array(images)"
   ]
  },
  {
   "cell_type": "code",
   "execution_count": 43,
   "id": "ff7d8e1c",
   "metadata": {},
   "outputs": [
    {
     "data": {
      "text/plain": [
       "(878, 416, 416, 3)"
      ]
     },
     "execution_count": 43,
     "metadata": {},
     "output_type": "execute_result"
    }
   ],
   "source": [
    "images.shape"
   ]
  },
  {
   "cell_type": "code",
   "execution_count": null,
   "id": "11b5dbb9",
   "metadata": {},
   "outputs": [],
   "source": [
    "value = example.features.feature['image/encoded'].get()"
   ]
  },
  {
   "cell_type": "code",
   "execution_count": null,
   "id": "3ed1cd92",
   "metadata": {},
   "outputs": [],
   "source": [
    "plt.imshow(images[7])"
   ]
  },
  {
   "cell_type": "code",
   "execution_count": 88,
   "id": "682a0760",
   "metadata": {},
   "outputs": [],
   "source": [
    "img = cv2.imread(IMAGE_PATH)\n",
    "#img = images[50]\n",
    "image_np = np.array(img)\n",
    "\n",
    "input_tensor = tf.convert_to_tensor(np.expand_dims(image_np, 0), dtype=tf.float32)\n",
    "image, shapes = detection_model.preprocess(input_tensor)\n",
    "#prediction_dict = detection_model.predict(image)"
   ]
  },
  {
   "cell_type": "code",
   "execution_count": 89,
   "id": "77774463",
   "metadata": {},
   "outputs": [
    {
     "data": {
      "text/plain": [
       "<tf.Tensor: shape=(1, 3), dtype=int32, numpy=array([[320, 320,   3]])>"
      ]
     },
     "execution_count": 89,
     "metadata": {},
     "output_type": "execute_result"
    }
   ],
   "source": [
    "shapes"
   ]
  },
  {
   "cell_type": "code",
   "execution_count": 92,
   "id": "32ad5ee2",
   "metadata": {},
   "outputs": [],
   "source": [
    "detection_model.build(shapes)"
   ]
  },
  {
   "cell_type": "code",
   "execution_count": 96,
   "id": "11a98b0e",
   "metadata": {
    "collapsed": true
   },
   "outputs": [
    {
     "name": "stdout",
     "output_type": "stream",
     "text": [
      "WARNING:tensorflow:Skipping full serialization of Keras layer <keras.layers.convolutional.separable_conv2d.SeparableConv2D object at 0x00000195F43FCD90>, because it is not built.\n"
     ]
    },
    {
     "name": "stderr",
     "output_type": "stream",
     "text": [
      "WARNING:tensorflow:Skipping full serialization of Keras layer <keras.layers.convolutional.separable_conv2d.SeparableConv2D object at 0x00000195F43FCD90>, because it is not built.\n"
     ]
    },
    {
     "name": "stdout",
     "output_type": "stream",
     "text": [
      "WARNING:tensorflow:Skipping full serialization of Keras layer <object_detection.core.freezable_batch_norm.FreezableBatchNorm object at 0x00000195F43C1660>, because it is not built.\n"
     ]
    },
    {
     "name": "stderr",
     "output_type": "stream",
     "text": [
      "WARNING:tensorflow:Skipping full serialization of Keras layer <object_detection.core.freezable_batch_norm.FreezableBatchNorm object at 0x00000195F43C1660>, because it is not built.\n"
     ]
    },
    {
     "name": "stdout",
     "output_type": "stream",
     "text": [
      "WARNING:tensorflow:Skipping full serialization of Keras layer <keras.layers.core.lambda_layer.Lambda object at 0x00000195F43C2BF0>, because it is not built.\n"
     ]
    },
    {
     "name": "stderr",
     "output_type": "stream",
     "text": [
      "WARNING:tensorflow:Skipping full serialization of Keras layer <keras.layers.core.lambda_layer.Lambda object at 0x00000195F43C2BF0>, because it is not built.\n"
     ]
    },
    {
     "name": "stdout",
     "output_type": "stream",
     "text": [
      "WARNING:tensorflow:Skipping full serialization of Keras layer <keras.layers.convolutional.separable_conv2d.SeparableConv2D object at 0x00000195F43C3220>, because it is not built.\n"
     ]
    },
    {
     "name": "stderr",
     "output_type": "stream",
     "text": [
      "WARNING:tensorflow:Skipping full serialization of Keras layer <keras.layers.convolutional.separable_conv2d.SeparableConv2D object at 0x00000195F43C3220>, because it is not built.\n"
     ]
    },
    {
     "name": "stdout",
     "output_type": "stream",
     "text": [
      "WARNING:tensorflow:Skipping full serialization of Keras layer <object_detection.core.freezable_batch_norm.FreezableBatchNorm object at 0x00000195F43C08E0>, because it is not built.\n"
     ]
    },
    {
     "name": "stderr",
     "output_type": "stream",
     "text": [
      "WARNING:tensorflow:Skipping full serialization of Keras layer <object_detection.core.freezable_batch_norm.FreezableBatchNorm object at 0x00000195F43C08E0>, because it is not built.\n"
     ]
    },
    {
     "name": "stdout",
     "output_type": "stream",
     "text": [
      "WARNING:tensorflow:Skipping full serialization of Keras layer <keras.layers.core.lambda_layer.Lambda object at 0x00000195F43C0B80>, because it is not built.\n"
     ]
    },
    {
     "name": "stderr",
     "output_type": "stream",
     "text": [
      "WARNING:tensorflow:Skipping full serialization of Keras layer <keras.layers.core.lambda_layer.Lambda object at 0x00000195F43C0B80>, because it is not built.\n"
     ]
    },
    {
     "name": "stdout",
     "output_type": "stream",
     "text": [
      "WARNING:tensorflow:Skipping full serialization of Keras layer <keras.layers.convolutional.separable_conv2d.SeparableConv2D object at 0x00000195F3C92E30>, because it is not built.\n"
     ]
    },
    {
     "name": "stderr",
     "output_type": "stream",
     "text": [
      "WARNING:tensorflow:Skipping full serialization of Keras layer <keras.layers.convolutional.separable_conv2d.SeparableConv2D object at 0x00000195F3C92E30>, because it is not built.\n"
     ]
    },
    {
     "name": "stdout",
     "output_type": "stream",
     "text": [
      "WARNING:tensorflow:Skipping full serialization of Keras layer <object_detection.core.freezable_batch_norm.FreezableBatchNorm object at 0x00000195F3933DF0>, because it is not built.\n"
     ]
    },
    {
     "name": "stderr",
     "output_type": "stream",
     "text": [
      "WARNING:tensorflow:Skipping full serialization of Keras layer <object_detection.core.freezable_batch_norm.FreezableBatchNorm object at 0x00000195F3933DF0>, because it is not built.\n"
     ]
    },
    {
     "name": "stdout",
     "output_type": "stream",
     "text": [
      "WARNING:tensorflow:Skipping full serialization of Keras layer <keras.layers.core.lambda_layer.Lambda object at 0x00000195F3933C40>, because it is not built.\n"
     ]
    },
    {
     "name": "stderr",
     "output_type": "stream",
     "text": [
      "WARNING:tensorflow:Skipping full serialization of Keras layer <keras.layers.core.lambda_layer.Lambda object at 0x00000195F3933C40>, because it is not built.\n"
     ]
    },
    {
     "name": "stdout",
     "output_type": "stream",
     "text": [
      "WARNING:tensorflow:Skipping full serialization of Keras layer <keras.layers.convolutional.separable_conv2d.SeparableConv2D object at 0x00000195F3932B60>, because it is not built.\n"
     ]
    },
    {
     "name": "stderr",
     "output_type": "stream",
     "text": [
      "WARNING:tensorflow:Skipping full serialization of Keras layer <keras.layers.convolutional.separable_conv2d.SeparableConv2D object at 0x00000195F3932B60>, because it is not built.\n"
     ]
    },
    {
     "name": "stdout",
     "output_type": "stream",
     "text": [
      "WARNING:tensorflow:Skipping full serialization of Keras layer <object_detection.core.freezable_batch_norm.FreezableBatchNorm object at 0x00000195F3930F10>, because it is not built.\n"
     ]
    },
    {
     "name": "stderr",
     "output_type": "stream",
     "text": [
      "WARNING:tensorflow:Skipping full serialization of Keras layer <object_detection.core.freezable_batch_norm.FreezableBatchNorm object at 0x00000195F3930F10>, because it is not built.\n"
     ]
    },
    {
     "name": "stdout",
     "output_type": "stream",
     "text": [
      "WARNING:tensorflow:Skipping full serialization of Keras layer <keras.layers.core.lambda_layer.Lambda object at 0x00000195F3932CE0>, because it is not built.\n"
     ]
    },
    {
     "name": "stderr",
     "output_type": "stream",
     "text": [
      "WARNING:tensorflow:Skipping full serialization of Keras layer <keras.layers.core.lambda_layer.Lambda object at 0x00000195F3932CE0>, because it is not built.\n"
     ]
    },
    {
     "name": "stdout",
     "output_type": "stream",
     "text": [
      "WARNING:tensorflow:Skipping full serialization of Keras layer <object_detection.core.freezable_batch_norm.FreezableBatchNorm object at 0x00000195F4251C30>, because it is not built.\n"
     ]
    },
    {
     "name": "stderr",
     "output_type": "stream",
     "text": [
      "WARNING:tensorflow:Skipping full serialization of Keras layer <object_detection.core.freezable_batch_norm.FreezableBatchNorm object at 0x00000195F4251C30>, because it is not built.\n"
     ]
    },
    {
     "name": "stdout",
     "output_type": "stream",
     "text": [
      "WARNING:tensorflow:Skipping full serialization of Keras layer <keras.layers.core.lambda_layer.Lambda object at 0x00000195F4622DD0>, because it is not built.\n"
     ]
    },
    {
     "name": "stderr",
     "output_type": "stream",
     "text": [
      "WARNING:tensorflow:Skipping full serialization of Keras layer <keras.layers.core.lambda_layer.Lambda object at 0x00000195F4622DD0>, because it is not built.\n"
     ]
    },
    {
     "name": "stdout",
     "output_type": "stream",
     "text": [
      "WARNING:tensorflow:Skipping full serialization of Keras layer <object_detection.core.freezable_batch_norm.FreezableBatchNorm object at 0x00000195F463A680>, because it is not built.\n"
     ]
    },
    {
     "name": "stderr",
     "output_type": "stream",
     "text": [
      "WARNING:tensorflow:Skipping full serialization of Keras layer <object_detection.core.freezable_batch_norm.FreezableBatchNorm object at 0x00000195F463A680>, because it is not built.\n"
     ]
    },
    {
     "name": "stdout",
     "output_type": "stream",
     "text": [
      "WARNING:tensorflow:Skipping full serialization of Keras layer <keras.layers.core.lambda_layer.Lambda object at 0x00000195F46390C0>, because it is not built.\n"
     ]
    },
    {
     "name": "stderr",
     "output_type": "stream",
     "text": [
      "WARNING:tensorflow:Skipping full serialization of Keras layer <keras.layers.core.lambda_layer.Lambda object at 0x00000195F46390C0>, because it is not built.\n"
     ]
    },
    {
     "name": "stdout",
     "output_type": "stream",
     "text": [
      "WARNING:tensorflow:Skipping full serialization of Keras layer <object_detection.core.freezable_batch_norm.FreezableBatchNorm object at 0x00000195F46388B0>, because it is not built.\n"
     ]
    },
    {
     "name": "stderr",
     "output_type": "stream",
     "text": [
      "WARNING:tensorflow:Skipping full serialization of Keras layer <object_detection.core.freezable_batch_norm.FreezableBatchNorm object at 0x00000195F46388B0>, because it is not built.\n"
     ]
    },
    {
     "name": "stdout",
     "output_type": "stream",
     "text": [
      "WARNING:tensorflow:Skipping full serialization of Keras layer <keras.layers.core.lambda_layer.Lambda object at 0x00000195F463B5E0>, because it is not built.\n"
     ]
    },
    {
     "name": "stderr",
     "output_type": "stream",
     "text": [
      "WARNING:tensorflow:Skipping full serialization of Keras layer <keras.layers.core.lambda_layer.Lambda object at 0x00000195F463B5E0>, because it is not built.\n"
     ]
    },
    {
     "name": "stdout",
     "output_type": "stream",
     "text": [
      "WARNING:tensorflow:Skipping full serialization of Keras layer <object_detection.core.freezable_batch_norm.FreezableBatchNorm object at 0x00000195F463B9A0>, because it is not built.\n"
     ]
    },
    {
     "name": "stderr",
     "output_type": "stream",
     "text": [
      "WARNING:tensorflow:Skipping full serialization of Keras layer <object_detection.core.freezable_batch_norm.FreezableBatchNorm object at 0x00000195F463B9A0>, because it is not built.\n"
     ]
    },
    {
     "name": "stdout",
     "output_type": "stream",
     "text": [
      "WARNING:tensorflow:Skipping full serialization of Keras layer <keras.layers.core.lambda_layer.Lambda object at 0x00000195F463AEF0>, because it is not built.\n"
     ]
    },
    {
     "name": "stderr",
     "output_type": "stream",
     "text": [
      "WARNING:tensorflow:Skipping full serialization of Keras layer <keras.layers.core.lambda_layer.Lambda object at 0x00000195F463AEF0>, because it is not built.\n"
     ]
    },
    {
     "name": "stdout",
     "output_type": "stream",
     "text": [
      "WARNING:tensorflow:Skipping full serialization of Keras layer <object_detection.core.freezable_batch_norm.FreezableBatchNorm object at 0x00000195F459E920>, because it is not built.\n"
     ]
    },
    {
     "name": "stderr",
     "output_type": "stream",
     "text": [
      "WARNING:tensorflow:Skipping full serialization of Keras layer <object_detection.core.freezable_batch_norm.FreezableBatchNorm object at 0x00000195F459E920>, because it is not built.\n"
     ]
    },
    {
     "name": "stdout",
     "output_type": "stream",
     "text": [
      "WARNING:tensorflow:Skipping full serialization of Keras layer <keras.layers.core.lambda_layer.Lambda object at 0x00000195F459F220>, because it is not built.\n"
     ]
    },
    {
     "name": "stderr",
     "output_type": "stream",
     "text": [
      "WARNING:tensorflow:Skipping full serialization of Keras layer <keras.layers.core.lambda_layer.Lambda object at 0x00000195F459F220>, because it is not built.\n"
     ]
    },
    {
     "name": "stdout",
     "output_type": "stream",
     "text": [
      "WARNING:tensorflow:Skipping full serialization of Keras layer <object_detection.core.freezable_batch_norm.FreezableBatchNorm object at 0x00000195F465B190>, because it is not built.\n"
     ]
    },
    {
     "name": "stderr",
     "output_type": "stream",
     "text": [
      "WARNING:tensorflow:Skipping full serialization of Keras layer <object_detection.core.freezable_batch_norm.FreezableBatchNorm object at 0x00000195F465B190>, because it is not built.\n"
     ]
    },
    {
     "name": "stdout",
     "output_type": "stream",
     "text": [
      "WARNING:tensorflow:Skipping full serialization of Keras layer <keras.layers.core.lambda_layer.Lambda object at 0x00000195F465B790>, because it is not built.\n"
     ]
    },
    {
     "name": "stderr",
     "output_type": "stream",
     "text": [
      "WARNING:tensorflow:Skipping full serialization of Keras layer <keras.layers.core.lambda_layer.Lambda object at 0x00000195F465B790>, because it is not built.\n"
     ]
    },
    {
     "name": "stdout",
     "output_type": "stream",
     "text": [
      "WARNING:tensorflow:Skipping full serialization of Keras layer <object_detection.core.freezable_batch_norm.FreezableBatchNorm object at 0x00000195F4658220>, because it is not built.\n"
     ]
    },
    {
     "name": "stderr",
     "output_type": "stream",
     "text": [
      "WARNING:tensorflow:Skipping full serialization of Keras layer <object_detection.core.freezable_batch_norm.FreezableBatchNorm object at 0x00000195F4658220>, because it is not built.\n"
     ]
    },
    {
     "name": "stdout",
     "output_type": "stream",
     "text": [
      "WARNING:tensorflow:Skipping full serialization of Keras layer <keras.layers.core.lambda_layer.Lambda object at 0x00000195F465AA10>, because it is not built.\n"
     ]
    },
    {
     "name": "stderr",
     "output_type": "stream",
     "text": [
      "WARNING:tensorflow:Skipping full serialization of Keras layer <keras.layers.core.lambda_layer.Lambda object at 0x00000195F465AA10>, because it is not built.\n"
     ]
    },
    {
     "name": "stdout",
     "output_type": "stream",
     "text": [
      "WARNING:tensorflow:Skipping full serialization of Keras layer <object_detection.core.freezable_batch_norm.FreezableBatchNorm object at 0x00000195F465A8F0>, because it is not built.\n"
     ]
    },
    {
     "name": "stderr",
     "output_type": "stream",
     "text": [
      "WARNING:tensorflow:Skipping full serialization of Keras layer <object_detection.core.freezable_batch_norm.FreezableBatchNorm object at 0x00000195F465A8F0>, because it is not built.\n"
     ]
    },
    {
     "name": "stdout",
     "output_type": "stream",
     "text": [
      "WARNING:tensorflow:Skipping full serialization of Keras layer <keras.layers.core.lambda_layer.Lambda object at 0x00000195F465BF40>, because it is not built.\n"
     ]
    },
    {
     "name": "stderr",
     "output_type": "stream",
     "text": [
      "WARNING:tensorflow:Skipping full serialization of Keras layer <keras.layers.core.lambda_layer.Lambda object at 0x00000195F465BF40>, because it is not built.\n"
     ]
    },
    {
     "name": "stdout",
     "output_type": "stream",
     "text": [
      "WARNING:tensorflow:Skipping full serialization of Keras layer <object_detection.core.freezable_batch_norm.FreezableBatchNorm object at 0x00000195F3985DB0>, because it is not built.\n"
     ]
    },
    {
     "name": "stderr",
     "output_type": "stream",
     "text": [
      "WARNING:tensorflow:Skipping full serialization of Keras layer <object_detection.core.freezable_batch_norm.FreezableBatchNorm object at 0x00000195F3985DB0>, because it is not built.\n"
     ]
    },
    {
     "name": "stdout",
     "output_type": "stream",
     "text": [
      "WARNING:tensorflow:Skipping full serialization of Keras layer <keras.layers.core.lambda_layer.Lambda object at 0x00000195F3987820>, because it is not built.\n"
     ]
    },
    {
     "name": "stderr",
     "output_type": "stream",
     "text": [
      "WARNING:tensorflow:Skipping full serialization of Keras layer <keras.layers.core.lambda_layer.Lambda object at 0x00000195F3987820>, because it is not built.\n"
     ]
    },
    {
     "name": "stdout",
     "output_type": "stream",
     "text": [
      "WARNING:tensorflow:Skipping full serialization of Keras layer <object_detection.core.freezable_batch_norm.FreezableBatchNorm object at 0x00000195F39851B0>, because it is not built.\n"
     ]
    },
    {
     "name": "stderr",
     "output_type": "stream",
     "text": [
      "WARNING:tensorflow:Skipping full serialization of Keras layer <object_detection.core.freezable_batch_norm.FreezableBatchNorm object at 0x00000195F39851B0>, because it is not built.\n"
     ]
    },
    {
     "name": "stdout",
     "output_type": "stream",
     "text": [
      "WARNING:tensorflow:Skipping full serialization of Keras layer <keras.layers.core.lambda_layer.Lambda object at 0x00000195F3987A90>, because it is not built.\n"
     ]
    },
    {
     "name": "stderr",
     "output_type": "stream",
     "text": [
      "WARNING:tensorflow:Skipping full serialization of Keras layer <keras.layers.core.lambda_layer.Lambda object at 0x00000195F3987A90>, because it is not built.\n"
     ]
    },
    {
     "name": "stdout",
     "output_type": "stream",
     "text": [
      "WARNING:tensorflow:Skipping full serialization of Keras layer <object_detection.core.freezable_batch_norm.FreezableBatchNorm object at 0x0000019626B609A0>, because it is not built.\n"
     ]
    },
    {
     "name": "stderr",
     "output_type": "stream",
     "text": [
      "WARNING:tensorflow:Skipping full serialization of Keras layer <object_detection.core.freezable_batch_norm.FreezableBatchNorm object at 0x0000019626B609A0>, because it is not built.\n"
     ]
    },
    {
     "name": "stdout",
     "output_type": "stream",
     "text": [
      "WARNING:tensorflow:Skipping full serialization of Keras layer <keras.layers.core.lambda_layer.Lambda object at 0x0000019626B60940>, because it is not built.\n"
     ]
    },
    {
     "name": "stderr",
     "output_type": "stream",
     "text": [
      "WARNING:tensorflow:Skipping full serialization of Keras layer <keras.layers.core.lambda_layer.Lambda object at 0x0000019626B60940>, because it is not built.\n"
     ]
    },
    {
     "name": "stdout",
     "output_type": "stream",
     "text": [
      "WARNING:tensorflow:Skipping full serialization of Keras layer <object_detection.core.freezable_batch_norm.FreezableBatchNorm object at 0x0000019626B60E80>, because it is not built.\n"
     ]
    },
    {
     "name": "stderr",
     "output_type": "stream",
     "text": [
      "WARNING:tensorflow:Skipping full serialization of Keras layer <object_detection.core.freezable_batch_norm.FreezableBatchNorm object at 0x0000019626B60E80>, because it is not built.\n"
     ]
    },
    {
     "name": "stdout",
     "output_type": "stream",
     "text": [
      "WARNING:tensorflow:Skipping full serialization of Keras layer <keras.layers.core.lambda_layer.Lambda object at 0x0000019626B60B20>, because it is not built.\n"
     ]
    },
    {
     "name": "stderr",
     "output_type": "stream",
     "text": [
      "WARNING:tensorflow:Skipping full serialization of Keras layer <keras.layers.core.lambda_layer.Lambda object at 0x0000019626B60B20>, because it is not built.\n"
     ]
    },
    {
     "name": "stdout",
     "output_type": "stream",
     "text": [
      "WARNING:tensorflow:Skipping full serialization of Keras layer <object_detection.core.freezable_batch_norm.FreezableBatchNorm object at 0x0000019626BC7100>, because it is not built.\n"
     ]
    },
    {
     "name": "stderr",
     "output_type": "stream",
     "text": [
      "WARNING:tensorflow:Skipping full serialization of Keras layer <object_detection.core.freezable_batch_norm.FreezableBatchNorm object at 0x0000019626BC7100>, because it is not built.\n"
     ]
    },
    {
     "name": "stdout",
     "output_type": "stream",
     "text": [
      "WARNING:tensorflow:Skipping full serialization of Keras layer <keras.layers.core.lambda_layer.Lambda object at 0x0000019626BC72E0>, because it is not built.\n"
     ]
    },
    {
     "name": "stderr",
     "output_type": "stream",
     "text": [
      "WARNING:tensorflow:Skipping full serialization of Keras layer <keras.layers.core.lambda_layer.Lambda object at 0x0000019626BC72E0>, because it is not built.\n"
     ]
    },
    {
     "name": "stdout",
     "output_type": "stream",
     "text": [
      "WARNING:tensorflow:Skipping full serialization of Keras layer <object_detection.core.freezable_batch_norm.FreezableBatchNorm object at 0x0000019626BC70D0>, because it is not built.\n"
     ]
    },
    {
     "name": "stderr",
     "output_type": "stream",
     "text": [
      "WARNING:tensorflow:Skipping full serialization of Keras layer <object_detection.core.freezable_batch_norm.FreezableBatchNorm object at 0x0000019626BC70D0>, because it is not built.\n"
     ]
    },
    {
     "name": "stdout",
     "output_type": "stream",
     "text": [
      "WARNING:tensorflow:Skipping full serialization of Keras layer <keras.layers.core.lambda_layer.Lambda object at 0x0000019626BC78E0>, because it is not built.\n"
     ]
    },
    {
     "name": "stderr",
     "output_type": "stream",
     "text": [
      "WARNING:tensorflow:Skipping full serialization of Keras layer <keras.layers.core.lambda_layer.Lambda object at 0x0000019626BC78E0>, because it is not built.\n"
     ]
    },
    {
     "name": "stdout",
     "output_type": "stream",
     "text": [
      "WARNING:tensorflow:Skipping full serialization of Keras layer <object_detection.core.freezable_batch_norm.FreezableBatchNorm object at 0x0000019626BC73A0>, because it is not built.\n"
     ]
    },
    {
     "name": "stderr",
     "output_type": "stream",
     "text": [
      "WARNING:tensorflow:Skipping full serialization of Keras layer <object_detection.core.freezable_batch_norm.FreezableBatchNorm object at 0x0000019626BC73A0>, because it is not built.\n"
     ]
    },
    {
     "name": "stdout",
     "output_type": "stream",
     "text": [
      "WARNING:tensorflow:Skipping full serialization of Keras layer <keras.layers.core.lambda_layer.Lambda object at 0x0000019626BC5720>, because it is not built.\n"
     ]
    },
    {
     "name": "stderr",
     "output_type": "stream",
     "text": [
      "WARNING:tensorflow:Skipping full serialization of Keras layer <keras.layers.core.lambda_layer.Lambda object at 0x0000019626BC5720>, because it is not built.\n"
     ]
    },
    {
     "name": "stdout",
     "output_type": "stream",
     "text": [
      "WARNING:tensorflow:Skipping full serialization of Keras layer <object_detection.core.freezable_batch_norm.FreezableBatchNorm object at 0x0000019626BC6980>, because it is not built.\n"
     ]
    },
    {
     "name": "stderr",
     "output_type": "stream",
     "text": [
      "WARNING:tensorflow:Skipping full serialization of Keras layer <object_detection.core.freezable_batch_norm.FreezableBatchNorm object at 0x0000019626BC6980>, because it is not built.\n"
     ]
    },
    {
     "name": "stdout",
     "output_type": "stream",
     "text": [
      "WARNING:tensorflow:Skipping full serialization of Keras layer <keras.layers.core.lambda_layer.Lambda object at 0x0000019626BC4FD0>, because it is not built.\n"
     ]
    },
    {
     "name": "stderr",
     "output_type": "stream",
     "text": [
      "WARNING:tensorflow:Skipping full serialization of Keras layer <keras.layers.core.lambda_layer.Lambda object at 0x0000019626BC4FD0>, because it is not built.\n",
      "WARNING:absl:Found untraced functions such as ssd_meta_arch_2_layer_call_fn, ssd_meta_arch_2_layer_call_and_return_conditional_losses, WeightSharedConvolutionalBoxPredictor_layer_call_fn, WeightSharedConvolutionalBoxPredictor_layer_call_and_return_conditional_losses, WeightSharedConvolutionalBoxHead_layer_call_fn while saving (showing 5 of 175). These functions will not be directly callable after loading.\n"
     ]
    },
    {
     "name": "stdout",
     "output_type": "stream",
     "text": [
      "INFO:tensorflow:Assets written to: C:\\Users\\matij\\AppData\\Local\\Temp\\tmprm4uq0re\\assets\n"
     ]
    },
    {
     "name": "stderr",
     "output_type": "stream",
     "text": [
      "INFO:tensorflow:Assets written to: C:\\Users\\matij\\AppData\\Local\\Temp\\tmprm4uq0re\\assets\n",
      "WARNING:absl:Buffer deduplication procedure will be skipped when flatbuffer library is not properly loaded\n"
     ]
    },
    {
     "ename": "ValueError",
     "evalue": "Model <object_detection.meta_architectures.ssd_meta_arch.SSDMetaArch object at 0x0000019637654700> cannot be saved because the input shapes have not been set. Usually, input shapes are automatically determined from calling `.fit()` or `.predict()`. To manually set the shapes, call `model.build(input_shape)`.",
     "output_type": "error",
     "traceback": [
      "\u001b[1;31m---------------------------------------------------------------------------\u001b[0m",
      "\u001b[1;31mValueError\u001b[0m                                Traceback (most recent call last)",
      "Cell \u001b[1;32mIn[96], line 4\u001b[0m\n\u001b[0;32m      2\u001b[0m _ \u001b[38;5;241m=\u001b[39m detection_model\u001b[38;5;241m.\u001b[39mpredict(image, shapes)\n\u001b[0;32m      3\u001b[0m converter \u001b[38;5;241m=\u001b[39m tf\u001b[38;5;241m.\u001b[39mlite\u001b[38;5;241m.\u001b[39mTFLiteConverter\u001b[38;5;241m.\u001b[39mfrom_keras_model(detection_model)\n\u001b[1;32m----> 4\u001b[0m tflite_model \u001b[38;5;241m=\u001b[39m \u001b[43mconverter\u001b[49m\u001b[38;5;241;43m.\u001b[39;49m\u001b[43mconvert\u001b[49m\u001b[43m(\u001b[49m\u001b[43m)\u001b[49m\n\u001b[0;32m      5\u001b[0m \u001b[38;5;28;01mwith\u001b[39;00m \u001b[38;5;28mopen\u001b[39m(\u001b[38;5;124m\"\u001b[39m\u001b[38;5;124mmodel.tflite\u001b[39m\u001b[38;5;124m\"\u001b[39m, \u001b[38;5;124m'\u001b[39m\u001b[38;5;124mwb\u001b[39m\u001b[38;5;124m'\u001b[39m) \u001b[38;5;28;01mas\u001b[39;00m f:\n\u001b[0;32m      6\u001b[0m     f\u001b[38;5;241m.\u001b[39mwrite(tflite_model)\n",
      "File \u001b[1;32m~\\OneDrive\\Documents\\Sola\\FERI\\5. semester\\Uvod v racunalniski vid in razpoznavanje vzorcev\\Projekt\\Tenserflow Object Detection\\TFODCourse\\tfod\\lib\\site-packages\\tensorflow\\lite\\python\\lite.py:930\u001b[0m, in \u001b[0;36m_export_metrics.<locals>.wrapper\u001b[1;34m(self, *args, **kwargs)\u001b[0m\n\u001b[0;32m    927\u001b[0m \u001b[38;5;129m@functools\u001b[39m\u001b[38;5;241m.\u001b[39mwraps(convert_func)\n\u001b[0;32m    928\u001b[0m \u001b[38;5;28;01mdef\u001b[39;00m \u001b[38;5;21mwrapper\u001b[39m(\u001b[38;5;28mself\u001b[39m, \u001b[38;5;241m*\u001b[39margs, \u001b[38;5;241m*\u001b[39m\u001b[38;5;241m*\u001b[39mkwargs):\n\u001b[0;32m    929\u001b[0m   \u001b[38;5;66;03m# pylint: disable=protected-access\u001b[39;00m\n\u001b[1;32m--> 930\u001b[0m   \u001b[38;5;28;01mreturn\u001b[39;00m \u001b[38;5;28mself\u001b[39m\u001b[38;5;241m.\u001b[39m_convert_and_export_metrics(convert_func, \u001b[38;5;241m*\u001b[39margs, \u001b[38;5;241m*\u001b[39m\u001b[38;5;241m*\u001b[39mkwargs)\n",
      "File \u001b[1;32m~\\OneDrive\\Documents\\Sola\\FERI\\5. semester\\Uvod v racunalniski vid in razpoznavanje vzorcev\\Projekt\\Tenserflow Object Detection\\TFODCourse\\tfod\\lib\\site-packages\\tensorflow\\lite\\python\\lite.py:908\u001b[0m, in \u001b[0;36mTFLiteConverterBase._convert_and_export_metrics\u001b[1;34m(self, convert_func, *args, **kwargs)\u001b[0m\n\u001b[0;32m    906\u001b[0m \u001b[38;5;28mself\u001b[39m\u001b[38;5;241m.\u001b[39m_save_conversion_params_metric()\n\u001b[0;32m    907\u001b[0m start_time \u001b[38;5;241m=\u001b[39m time\u001b[38;5;241m.\u001b[39mprocess_time()\n\u001b[1;32m--> 908\u001b[0m result \u001b[38;5;241m=\u001b[39m convert_func(\u001b[38;5;28mself\u001b[39m, \u001b[38;5;241m*\u001b[39margs, \u001b[38;5;241m*\u001b[39m\u001b[38;5;241m*\u001b[39mkwargs)\n\u001b[0;32m    909\u001b[0m elapsed_time_ms \u001b[38;5;241m=\u001b[39m (time\u001b[38;5;241m.\u001b[39mprocess_time() \u001b[38;5;241m-\u001b[39m start_time) \u001b[38;5;241m*\u001b[39m \u001b[38;5;241m1000\u001b[39m\n\u001b[0;32m    910\u001b[0m \u001b[38;5;28;01mif\u001b[39;00m result:\n",
      "File \u001b[1;32m~\\OneDrive\\Documents\\Sola\\FERI\\5. semester\\Uvod v racunalniski vid in razpoznavanje vzorcev\\Projekt\\Tenserflow Object Detection\\TFODCourse\\tfod\\lib\\site-packages\\tensorflow\\lite\\python\\lite.py:1344\u001b[0m, in \u001b[0;36mTFLiteKerasModelConverterV2.convert\u001b[1;34m(self)\u001b[0m\n\u001b[0;32m   1340\u001b[0m \u001b[38;5;28;01mif\u001b[39;00m saved_model_convert_result:\n\u001b[0;32m   1341\u001b[0m   \u001b[38;5;28;01mreturn\u001b[39;00m saved_model_convert_result\n\u001b[0;32m   1343\u001b[0m graph_def, input_tensors, output_tensors, frozen_func \u001b[38;5;241m=\u001b[39m (\n\u001b[1;32m-> 1344\u001b[0m     \u001b[38;5;28;43mself\u001b[39;49m\u001b[38;5;241;43m.\u001b[39;49m\u001b[43m_freeze_keras_model\u001b[49m\u001b[43m(\u001b[49m\u001b[43m)\u001b[49m)\n\u001b[0;32m   1346\u001b[0m graph_def \u001b[38;5;241m=\u001b[39m \u001b[38;5;28mself\u001b[39m\u001b[38;5;241m.\u001b[39m_optimize_tf_model(graph_def, input_tensors,\n\u001b[0;32m   1347\u001b[0m                                     output_tensors, frozen_func)\n\u001b[0;32m   1349\u001b[0m \u001b[38;5;28;01mreturn\u001b[39;00m \u001b[38;5;28msuper\u001b[39m(TFLiteKerasModelConverterV2,\n\u001b[0;32m   1350\u001b[0m              \u001b[38;5;28mself\u001b[39m)\u001b[38;5;241m.\u001b[39mconvert(graph_def, input_tensors, output_tensors)\n",
      "File \u001b[1;32m~\\OneDrive\\Documents\\Sola\\FERI\\5. semester\\Uvod v racunalniski vid in razpoznavanje vzorcev\\Projekt\\Tenserflow Object Detection\\TFODCourse\\tfod\\lib\\site-packages\\tensorflow\\lite\\python\\convert_phase.py:215\u001b[0m, in \u001b[0;36mconvert_phase.<locals>.actual_decorator.<locals>.wrapper\u001b[1;34m(*args, **kwargs)\u001b[0m\n\u001b[0;32m    213\u001b[0m \u001b[38;5;28;01mexcept\u001b[39;00m \u001b[38;5;167;01mException\u001b[39;00m \u001b[38;5;28;01mas\u001b[39;00m error:\n\u001b[0;32m    214\u001b[0m   report_error_message(\u001b[38;5;28mstr\u001b[39m(error))\n\u001b[1;32m--> 215\u001b[0m   \u001b[38;5;28;01mraise\u001b[39;00m error \u001b[38;5;28;01mfrom\u001b[39;00m \u001b[38;5;28mNone\u001b[39m\n",
      "File \u001b[1;32m~\\OneDrive\\Documents\\Sola\\FERI\\5. semester\\Uvod v racunalniski vid in razpoznavanje vzorcev\\Projekt\\Tenserflow Object Detection\\TFODCourse\\tfod\\lib\\site-packages\\tensorflow\\lite\\python\\convert_phase.py:205\u001b[0m, in \u001b[0;36mconvert_phase.<locals>.actual_decorator.<locals>.wrapper\u001b[1;34m(*args, **kwargs)\u001b[0m\n\u001b[0;32m    202\u001b[0m \u001b[38;5;129m@functools\u001b[39m\u001b[38;5;241m.\u001b[39mwraps(func)\n\u001b[0;32m    203\u001b[0m \u001b[38;5;28;01mdef\u001b[39;00m \u001b[38;5;21mwrapper\u001b[39m(\u001b[38;5;241m*\u001b[39margs, \u001b[38;5;241m*\u001b[39m\u001b[38;5;241m*\u001b[39mkwargs):\n\u001b[0;32m    204\u001b[0m   \u001b[38;5;28;01mtry\u001b[39;00m:\n\u001b[1;32m--> 205\u001b[0m     \u001b[38;5;28;01mreturn\u001b[39;00m func(\u001b[38;5;241m*\u001b[39margs, \u001b[38;5;241m*\u001b[39m\u001b[38;5;241m*\u001b[39mkwargs)\n\u001b[0;32m    206\u001b[0m   \u001b[38;5;28;01mexcept\u001b[39;00m ConverterError \u001b[38;5;28;01mas\u001b[39;00m converter_error:\n\u001b[0;32m    207\u001b[0m     \u001b[38;5;28;01mif\u001b[39;00m converter_error\u001b[38;5;241m.\u001b[39merrors:\n",
      "File \u001b[1;32m~\\OneDrive\\Documents\\Sola\\FERI\\5. semester\\Uvod v racunalniski vid in razpoznavanje vzorcev\\Projekt\\Tenserflow Object Detection\\TFODCourse\\tfod\\lib\\site-packages\\tensorflow\\lite\\python\\lite.py:1295\u001b[0m, in \u001b[0;36mTFLiteKerasModelConverterV2._freeze_keras_model\u001b[1;34m(self)\u001b[0m\n\u001b[0;32m   1291\u001b[0m   input_signature \u001b[38;5;241m=\u001b[39m _model_input_signature(\n\u001b[0;32m   1292\u001b[0m       \u001b[38;5;28mself\u001b[39m\u001b[38;5;241m.\u001b[39m_keras_model, keep_original_batch_size\u001b[38;5;241m=\u001b[39m\u001b[38;5;28;01mTrue\u001b[39;00m)\n\u001b[0;32m   1294\u001b[0m \u001b[38;5;66;03m# TODO(b/169898786): Use the Keras public API when TFLite moves out of TF\u001b[39;00m\n\u001b[1;32m-> 1295\u001b[0m func \u001b[38;5;241m=\u001b[39m \u001b[43m_trace_model_call\u001b[49m\u001b[43m(\u001b[49m\u001b[38;5;28;43mself\u001b[39;49m\u001b[38;5;241;43m.\u001b[39;49m\u001b[43m_keras_model\u001b[49m\u001b[43m,\u001b[49m\u001b[43m \u001b[49m\u001b[43minput_signature\u001b[49m\u001b[43m)\u001b[49m\n\u001b[0;32m   1296\u001b[0m concrete_func \u001b[38;5;241m=\u001b[39m func\u001b[38;5;241m.\u001b[39mget_concrete_function()\n\u001b[0;32m   1297\u001b[0m \u001b[38;5;28mself\u001b[39m\u001b[38;5;241m.\u001b[39m_funcs \u001b[38;5;241m=\u001b[39m [concrete_func]\n",
      "File \u001b[1;32m~\\OneDrive\\Documents\\Sola\\FERI\\5. semester\\Uvod v racunalniski vid in razpoznavanje vzorcev\\Projekt\\Tenserflow Object Detection\\TFODCourse\\tfod\\lib\\site-packages\\tensorflow\\lite\\python\\tflite_keras_util.py:179\u001b[0m, in \u001b[0;36mtrace_model_call\u001b[1;34m(model, input_signature)\u001b[0m\n\u001b[0;32m    176\u001b[0m   input_signature \u001b[38;5;241m=\u001b[39m model_input_signature(model)\n\u001b[0;32m    178\u001b[0m \u001b[38;5;28;01mif\u001b[39;00m input_signature \u001b[38;5;129;01mis\u001b[39;00m \u001b[38;5;28;01mNone\u001b[39;00m:\n\u001b[1;32m--> 179\u001b[0m   \u001b[43mraise_model_input_error\u001b[49m\u001b[43m(\u001b[49m\u001b[43mmodel\u001b[49m\u001b[43m)\u001b[49m\n\u001b[0;32m    181\u001b[0m \u001b[38;5;129m@def_function\u001b[39m\u001b[38;5;241m.\u001b[39mfunction(input_signature\u001b[38;5;241m=\u001b[39minput_signature, autograph\u001b[38;5;241m=\u001b[39m\u001b[38;5;28;01mFalse\u001b[39;00m)\n\u001b[0;32m    182\u001b[0m \u001b[38;5;28;01mdef\u001b[39;00m \u001b[38;5;21m_wrapped_model\u001b[39m(\u001b[38;5;241m*\u001b[39margs):\n\u001b[0;32m    183\u001b[0m   \u001b[38;5;124;03m\"\"\"A concrete tf.function that wraps the model's call function.\"\"\"\u001b[39;00m\n",
      "File \u001b[1;32m~\\OneDrive\\Documents\\Sola\\FERI\\5. semester\\Uvod v racunalniski vid in razpoznavanje vzorcev\\Projekt\\Tenserflow Object Detection\\TFODCourse\\tfod\\lib\\site-packages\\tensorflow\\lite\\python\\tflite_keras_util.py:100\u001b[0m, in \u001b[0;36mraise_model_input_error\u001b[1;34m(model)\u001b[0m\n\u001b[0;32m     99\u001b[0m \u001b[38;5;28;01mdef\u001b[39;00m \u001b[38;5;21mraise_model_input_error\u001b[39m(model):\n\u001b[1;32m--> 100\u001b[0m   \u001b[38;5;28;01mraise\u001b[39;00m \u001b[38;5;167;01mValueError\u001b[39;00m(\n\u001b[0;32m    101\u001b[0m       \u001b[38;5;124m'\u001b[39m\u001b[38;5;124mModel \u001b[39m\u001b[38;5;132;01m{}\u001b[39;00m\u001b[38;5;124m cannot be saved because the input shapes have not been \u001b[39m\u001b[38;5;124m'\u001b[39m\n\u001b[0;32m    102\u001b[0m       \u001b[38;5;124m'\u001b[39m\u001b[38;5;124mset. Usually, input shapes are automatically determined from calling\u001b[39m\u001b[38;5;124m'\u001b[39m\n\u001b[0;32m    103\u001b[0m       \u001b[38;5;124m'\u001b[39m\u001b[38;5;124m `.fit()` or `.predict()`. To manually set the shapes, call \u001b[39m\u001b[38;5;124m'\u001b[39m\n\u001b[0;32m    104\u001b[0m       \u001b[38;5;124m'\u001b[39m\u001b[38;5;124m`model.build(input_shape)`.\u001b[39m\u001b[38;5;124m'\u001b[39m\u001b[38;5;241m.\u001b[39mformat(model))\n",
      "\u001b[1;31mValueError\u001b[0m: Model <object_detection.meta_architectures.ssd_meta_arch.SSDMetaArch object at 0x0000019637654700> cannot be saved because the input shapes have not been set. Usually, input shapes are automatically determined from calling `.fit()` or `.predict()`. To manually set the shapes, call `model.build(input_shape)`."
     ]
    }
   ],
   "source": [
    "detection_model.build(input_shape=shapes)\n",
    "_ = detection_model.predict(image, shapes)\n",
    "converter = tf.lite.TFLiteConverter.from_keras_model(detection_model)\n",
    "tflite_model = converter.convert()\n",
    "with open(\"model.tflite\", 'wb') as f:\n",
    "    f.write(tflite_model)\n"
   ]
  },
  {
   "cell_type": "markdown",
   "id": "dd96d34a",
   "metadata": {
    "id": "rzlM4jt0pfDJ"
   },
   "source": [
    "# 10. Freezing the Graph"
   ]
  },
  {
   "cell_type": "code",
   "execution_count": 29,
   "id": "5697e038",
   "metadata": {
    "id": "n4olHB2npfDJ"
   },
   "outputs": [],
   "source": [
    "FREEZE_SCRIPT = os.path.join(paths['APIMODEL_PATH'], 'research', 'object_detection', 'exporter_main_v2.py ')"
   ]
  },
  {
   "cell_type": "code",
   "execution_count": 30,
   "id": "4add8267",
   "metadata": {
    "id": "0AjO93QDpfDJ"
   },
   "outputs": [],
   "source": [
    "command = \"python {} --input_type=image_tensor --pipeline_config_path={} --trained_checkpoint_dir={} --output_directory={}\".format(FREEZE_SCRIPT ,files['PIPELINE_CONFIG'], paths['CHECKPOINT_PATH'], paths['OUTPUT_PATH'])"
   ]
  },
  {
   "cell_type": "code",
   "execution_count": 31,
   "id": "1751cc95",
   "metadata": {
    "colab": {
     "base_uri": "https://localhost:8080/"
    },
    "id": "F6Lsp3tCpfDJ",
    "outputId": "c3828529-bf06-4df5-d7f3-145890ec3edd"
   },
   "outputs": [
    {
     "name": "stdout",
     "output_type": "stream",
     "text": [
      "python Tensorflow\\models\\research\\object_detection\\exporter_main_v2.py  --input_type=image_tensor --pipeline_config_path=Tensorflow\\workspace\\models\\my_ssd_mobnet\\pipeline.config --trained_checkpoint_dir=Tensorflow\\workspace\\models\\my_ssd_mobnet --output_directory=Tensorflow\\workspace\\models\\my_ssd_mobnet\\export\n"
     ]
    }
   ],
   "source": [
    "print(command)"
   ]
  },
  {
   "cell_type": "code",
   "execution_count": 32,
   "id": "d54792af",
   "metadata": {
    "colab": {
     "base_uri": "https://localhost:8080/"
    },
    "id": "1Sw1ULgHpfDJ",
    "outputId": "6fd441e1-9fc9-4889-d072-3395c21e40b6"
   },
   "outputs": [
    {
     "name": "stderr",
     "output_type": "stream",
     "text": [
      "2023-01-14 19:17:45.985610: I tensorflow/core/platform/cpu_feature_guard.cc:193] This TensorFlow binary is optimized with oneAPI Deep Neural Network Library (oneDNN) to use the following CPU instructions in performance-critical operations:  AVX\n",
      "To enable them in other operations, rebuild TensorFlow with the appropriate compiler flags.\n",
      "2023-01-14 19:17:46.817046: I tensorflow/core/common_runtime/gpu/gpu_device.cc:1532] Created device /job:localhost/replica:0/task:0/device:GPU:0 with 4384 MB memory:  -> device: 0, name: NVIDIA GeForce GTX 1060 6GB, pci bus id: 0000:01:00.0, compute capability: 6.1\n",
      "WARNING:tensorflow:From C:\\Users\\matij\\OneDrive\\Documents\\Sola\\FERI\\5. semester\\Uvod v racunalniski vid in razpoznavanje vzorcev\\Projekt\\Tenserflow Object Detection\\TFODCourse\\tfod\\lib\\site-packages\\tensorflow\\python\\autograph\\impl\\api.py:458: calling map_fn_v2 (from tensorflow.python.ops.map_fn) with back_prop=False is deprecated and will be removed in a future version.\n",
      "Instructions for updating:\n",
      "back_prop=False is deprecated. Consider using tf.stop_gradient instead.\n",
      "Instead of:\n",
      "results = tf.map_fn(fn, elems, back_prop=False)\n",
      "Use:\n",
      "results = tf.nest.map_structure(tf.stop_gradient, tf.map_fn(fn, elems))\n",
      "W0114 19:17:49.440251 34560 deprecation.py:623] From C:\\Users\\matij\\OneDrive\\Documents\\Sola\\FERI\\5. semester\\Uvod v racunalniski vid in razpoznavanje vzorcev\\Projekt\\Tenserflow Object Detection\\TFODCourse\\tfod\\lib\\site-packages\\tensorflow\\python\\autograph\\impl\\api.py:458: calling map_fn_v2 (from tensorflow.python.ops.map_fn) with back_prop=False is deprecated and will be removed in a future version.\n",
      "Instructions for updating:\n",
      "back_prop=False is deprecated. Consider using tf.stop_gradient instead.\n",
      "Instead of:\n",
      "results = tf.map_fn(fn, elems, back_prop=False)\n",
      "Use:\n",
      "results = tf.nest.map_structure(tf.stop_gradient, tf.map_fn(fn, elems))\n",
      "WARNING:tensorflow:Skipping full serialization of Keras layer <object_detection.meta_architectures.ssd_meta_arch.SSDMetaArch object at 0x000001A919694C70>, because it is not built.\n",
      "W0114 19:18:16.797463 34560 save_impl.py:71] Skipping full serialization of Keras layer <object_detection.meta_architectures.ssd_meta_arch.SSDMetaArch object at 0x000001A919694C70>, because it is not built.\n",
      "WARNING:tensorflow:Skipping full serialization of Keras layer <keras.layers.convolutional.separable_conv2d.SeparableConv2D object at 0x000001A919695B40>, because it is not built.\n",
      "W0114 19:18:17.171195 34560 save_impl.py:71] Skipping full serialization of Keras layer <keras.layers.convolutional.separable_conv2d.SeparableConv2D object at 0x000001A919695B40>, because it is not built.\n",
      "WARNING:tensorflow:Skipping full serialization of Keras layer <object_detection.core.freezable_batch_norm.FreezableBatchNorm object at 0x000001A922EFAF80>, because it is not built.\n",
      "W0114 19:18:17.172196 34560 save_impl.py:71] Skipping full serialization of Keras layer <object_detection.core.freezable_batch_norm.FreezableBatchNorm object at 0x000001A922EFAF80>, because it is not built.\n",
      "WARNING:tensorflow:Skipping full serialization of Keras layer <keras.layers.core.lambda_layer.Lambda object at 0x000001A922DC3580>, because it is not built.\n",
      "W0114 19:18:17.172196 34560 save_impl.py:71] Skipping full serialization of Keras layer <keras.layers.core.lambda_layer.Lambda object at 0x000001A922DC3580>, because it is not built.\n",
      "WARNING:tensorflow:Skipping full serialization of Keras layer <keras.layers.convolutional.separable_conv2d.SeparableConv2D object at 0x000001A922DC2C20>, because it is not built.\n",
      "W0114 19:18:17.172196 34560 save_impl.py:71] Skipping full serialization of Keras layer <keras.layers.convolutional.separable_conv2d.SeparableConv2D object at 0x000001A922DC2C20>, because it is not built.\n",
      "WARNING:tensorflow:Skipping full serialization of Keras layer <object_detection.core.freezable_batch_norm.FreezableBatchNorm object at 0x000001A922DC2230>, because it is not built.\n",
      "W0114 19:18:17.172196 34560 save_impl.py:71] Skipping full serialization of Keras layer <object_detection.core.freezable_batch_norm.FreezableBatchNorm object at 0x000001A922DC2230>, because it is not built.\n",
      "WARNING:tensorflow:Skipping full serialization of Keras layer <keras.layers.core.lambda_layer.Lambda object at 0x000001A922DC28C0>, because it is not built.\n",
      "W0114 19:18:17.172196 34560 save_impl.py:71] Skipping full serialization of Keras layer <keras.layers.core.lambda_layer.Lambda object at 0x000001A922DC28C0>, because it is not built.\n",
      "WARNING:tensorflow:Skipping full serialization of Keras layer <keras.layers.convolutional.separable_conv2d.SeparableConv2D object at 0x000001A922DC2D40>, because it is not built.\n",
      "W0114 19:18:17.172196 34560 save_impl.py:71] Skipping full serialization of Keras layer <keras.layers.convolutional.separable_conv2d.SeparableConv2D object at 0x000001A922DC2D40>, because it is not built.\n",
      "WARNING:tensorflow:Skipping full serialization of Keras layer <object_detection.core.freezable_batch_norm.FreezableBatchNorm object at 0x000001A922DC3CA0>, because it is not built.\n",
      "W0114 19:18:17.173206 34560 save_impl.py:71] Skipping full serialization of Keras layer <object_detection.core.freezable_batch_norm.FreezableBatchNorm object at 0x000001A922DC3CA0>, because it is not built.\n",
      "WARNING:tensorflow:Skipping full serialization of Keras layer <keras.layers.core.lambda_layer.Lambda object at 0x000001A922DC17E0>, because it is not built.\n",
      "W0114 19:18:17.173206 34560 save_impl.py:71] Skipping full serialization of Keras layer <keras.layers.core.lambda_layer.Lambda object at 0x000001A922DC17E0>, because it is not built.\n",
      "WARNING:tensorflow:Skipping full serialization of Keras layer <keras.layers.convolutional.separable_conv2d.SeparableConv2D object at 0x000001A922DC3250>, because it is not built.\n",
      "W0114 19:18:17.173206 34560 save_impl.py:71] Skipping full serialization of Keras layer <keras.layers.convolutional.separable_conv2d.SeparableConv2D object at 0x000001A922DC3250>, because it is not built.\n",
      "WARNING:tensorflow:Skipping full serialization of Keras layer <object_detection.core.freezable_batch_norm.FreezableBatchNorm object at 0x000001A922DC0FD0>, because it is not built.\n",
      "W0114 19:18:17.173206 34560 save_impl.py:71] Skipping full serialization of Keras layer <object_detection.core.freezable_batch_norm.FreezableBatchNorm object at 0x000001A922DC0FD0>, because it is not built.\n",
      "WARNING:tensorflow:Skipping full serialization of Keras layer <keras.layers.core.lambda_layer.Lambda object at 0x000001A922DC3520>, because it is not built.\n",
      "W0114 19:18:17.173206 34560 save_impl.py:71] Skipping full serialization of Keras layer <keras.layers.core.lambda_layer.Lambda object at 0x000001A922DC3520>, because it is not built.\n",
      "WARNING:tensorflow:Skipping full serialization of Keras layer <object_detection.core.freezable_batch_norm.FreezableBatchNorm object at 0x000001A919695E70>, because it is not built.\n",
      "W0114 19:18:17.173206 34560 save_impl.py:71] Skipping full serialization of Keras layer <object_detection.core.freezable_batch_norm.FreezableBatchNorm object at 0x000001A919695E70>, because it is not built.\n",
      "WARNING:tensorflow:Skipping full serialization of Keras layer <keras.layers.core.lambda_layer.Lambda object at 0x000001A922C763B0>, because it is not built.\n",
      "W0114 19:18:17.173206 34560 save_impl.py:71] Skipping full serialization of Keras layer <keras.layers.core.lambda_layer.Lambda object at 0x000001A922C763B0>, because it is not built.\n",
      "WARNING:tensorflow:Skipping full serialization of Keras layer <object_detection.core.freezable_batch_norm.FreezableBatchNorm object at 0x000001A9508F3160>, because it is not built.\n",
      "W0114 19:18:17.174198 34560 save_impl.py:71] Skipping full serialization of Keras layer <object_detection.core.freezable_batch_norm.FreezableBatchNorm object at 0x000001A9508F3160>, because it is not built.\n",
      "WARNING:tensorflow:Skipping full serialization of Keras layer <keras.layers.core.lambda_layer.Lambda object at 0x000001A9508F0CA0>, because it is not built.\n",
      "W0114 19:18:17.174198 34560 save_impl.py:71] Skipping full serialization of Keras layer <keras.layers.core.lambda_layer.Lambda object at 0x000001A9508F0CA0>, because it is not built.\n",
      "WARNING:tensorflow:Skipping full serialization of Keras layer <object_detection.core.freezable_batch_norm.FreezableBatchNorm object at 0x000001A9508F2B90>, because it is not built.\n",
      "W0114 19:18:17.174198 34560 save_impl.py:71] Skipping full serialization of Keras layer <object_detection.core.freezable_batch_norm.FreezableBatchNorm object at 0x000001A9508F2B90>, because it is not built.\n",
      "WARNING:tensorflow:Skipping full serialization of Keras layer <keras.layers.core.lambda_layer.Lambda object at 0x000001A9508F13C0>, because it is not built.\n",
      "W0114 19:18:17.174198 34560 save_impl.py:71] Skipping full serialization of Keras layer <keras.layers.core.lambda_layer.Lambda object at 0x000001A9508F13C0>, because it is not built.\n",
      "WARNING:tensorflow:Skipping full serialization of Keras layer <object_detection.core.freezable_batch_norm.FreezableBatchNorm object at 0x000001A9508F2D70>, because it is not built.\n",
      "W0114 19:18:17.174198 34560 save_impl.py:71] Skipping full serialization of Keras layer <object_detection.core.freezable_batch_norm.FreezableBatchNorm object at 0x000001A9508F2D70>, because it is not built.\n",
      "WARNING:tensorflow:Skipping full serialization of Keras layer <keras.layers.core.lambda_layer.Lambda object at 0x000001A9508F01F0>, because it is not built.\n",
      "W0114 19:18:17.174198 34560 save_impl.py:71] Skipping full serialization of Keras layer <keras.layers.core.lambda_layer.Lambda object at 0x000001A9508F01F0>, because it is not built.\n",
      "WARNING:tensorflow:Skipping full serialization of Keras layer <object_detection.core.freezable_batch_norm.FreezableBatchNorm object at 0x000001A919695EA0>, because it is not built.\n",
      "W0114 19:18:17.174198 34560 save_impl.py:71] Skipping full serialization of Keras layer <object_detection.core.freezable_batch_norm.FreezableBatchNorm object at 0x000001A919695EA0>, because it is not built.\n",
      "WARNING:tensorflow:Skipping full serialization of Keras layer <keras.layers.core.lambda_layer.Lambda object at 0x000001A9508F08B0>, because it is not built.\n",
      "W0114 19:18:17.174198 34560 save_impl.py:71] Skipping full serialization of Keras layer <keras.layers.core.lambda_layer.Lambda object at 0x000001A9508F08B0>, because it is not built.\n",
      "WARNING:tensorflow:Skipping full serialization of Keras layer <object_detection.core.freezable_batch_norm.FreezableBatchNorm object at 0x000001A950911960>, because it is not built.\n",
      "W0114 19:18:17.174198 34560 save_impl.py:71] Skipping full serialization of Keras layer <object_detection.core.freezable_batch_norm.FreezableBatchNorm object at 0x000001A950911960>, because it is not built.\n",
      "WARNING:tensorflow:Skipping full serialization of Keras layer <keras.layers.core.lambda_layer.Lambda object at 0x000001A950912740>, because it is not built.\n",
      "W0114 19:18:17.175196 34560 save_impl.py:71] Skipping full serialization of Keras layer <keras.layers.core.lambda_layer.Lambda object at 0x000001A950912740>, because it is not built.\n",
      "WARNING:tensorflow:Skipping full serialization of Keras layer <object_detection.core.freezable_batch_norm.FreezableBatchNorm object at 0x000001A950913010>, because it is not built.\n",
      "W0114 19:18:17.175196 34560 save_impl.py:71] Skipping full serialization of Keras layer <object_detection.core.freezable_batch_norm.FreezableBatchNorm object at 0x000001A950913010>, because it is not built.\n",
      "WARNING:tensorflow:Skipping full serialization of Keras layer <keras.layers.core.lambda_layer.Lambda object at 0x000001A950911360>, because it is not built.\n",
      "W0114 19:18:17.175196 34560 save_impl.py:71] Skipping full serialization of Keras layer <keras.layers.core.lambda_layer.Lambda object at 0x000001A950911360>, because it is not built.\n",
      "WARNING:tensorflow:Skipping full serialization of Keras layer <object_detection.core.freezable_batch_norm.FreezableBatchNorm object at 0x000001A950913EE0>, because it is not built.\n",
      "W0114 19:18:17.175196 34560 save_impl.py:71] Skipping full serialization of Keras layer <object_detection.core.freezable_batch_norm.FreezableBatchNorm object at 0x000001A950913EE0>, because it is not built.\n",
      "WARNING:tensorflow:Skipping full serialization of Keras layer <keras.layers.core.lambda_layer.Lambda object at 0x000001A9509114E0>, because it is not built.\n",
      "W0114 19:18:17.175196 34560 save_impl.py:71] Skipping full serialization of Keras layer <keras.layers.core.lambda_layer.Lambda object at 0x000001A9509114E0>, because it is not built.\n",
      "WARNING:tensorflow:Skipping full serialization of Keras layer <object_detection.core.freezable_batch_norm.FreezableBatchNorm object at 0x000001A919695ED0>, because it is not built.\n",
      "W0114 19:18:17.175196 34560 save_impl.py:71] Skipping full serialization of Keras layer <object_detection.core.freezable_batch_norm.FreezableBatchNorm object at 0x000001A919695ED0>, because it is not built.\n",
      "WARNING:tensorflow:Skipping full serialization of Keras layer <keras.layers.core.lambda_layer.Lambda object at 0x000001A950911F60>, because it is not built.\n",
      "W0114 19:18:17.175196 34560 save_impl.py:71] Skipping full serialization of Keras layer <keras.layers.core.lambda_layer.Lambda object at 0x000001A950911F60>, because it is not built.\n",
      "WARNING:tensorflow:Skipping full serialization of Keras layer <object_detection.core.freezable_batch_norm.FreezableBatchNorm object at 0x000001A922DA8100>, because it is not built.\n",
      "W0114 19:18:17.175196 34560 save_impl.py:71] Skipping full serialization of Keras layer <object_detection.core.freezable_batch_norm.FreezableBatchNorm object at 0x000001A922DA8100>, because it is not built.\n",
      "WARNING:tensorflow:Skipping full serialization of Keras layer <keras.layers.core.lambda_layer.Lambda object at 0x000001A922DA8160>, because it is not built.\n",
      "W0114 19:18:17.175196 34560 save_impl.py:71] Skipping full serialization of Keras layer <keras.layers.core.lambda_layer.Lambda object at 0x000001A922DA8160>, because it is not built.\n",
      "WARNING:tensorflow:Skipping full serialization of Keras layer <object_detection.core.freezable_batch_norm.FreezableBatchNorm object at 0x000001A922DAAFB0>, because it is not built.\n",
      "W0114 19:18:17.176195 34560 save_impl.py:71] Skipping full serialization of Keras layer <object_detection.core.freezable_batch_norm.FreezableBatchNorm object at 0x000001A922DAAFB0>, because it is not built.\n",
      "WARNING:tensorflow:Skipping full serialization of Keras layer <keras.layers.core.lambda_layer.Lambda object at 0x000001A922DA8130>, because it is not built.\n",
      "W0114 19:18:17.176195 34560 save_impl.py:71] Skipping full serialization of Keras layer <keras.layers.core.lambda_layer.Lambda object at 0x000001A922DA8130>, because it is not built.\n",
      "WARNING:tensorflow:Skipping full serialization of Keras layer <object_detection.core.freezable_batch_norm.FreezableBatchNorm object at 0x000001A922DAB130>, because it is not built.\n",
      "W0114 19:18:17.176195 34560 save_impl.py:71] Skipping full serialization of Keras layer <object_detection.core.freezable_batch_norm.FreezableBatchNorm object at 0x000001A922DAB130>, because it is not built.\n",
      "WARNING:tensorflow:Skipping full serialization of Keras layer <keras.layers.core.lambda_layer.Lambda object at 0x000001A922DA84C0>, because it is not built.\n",
      "W0114 19:18:17.176195 34560 save_impl.py:71] Skipping full serialization of Keras layer <keras.layers.core.lambda_layer.Lambda object at 0x000001A922DA84C0>, because it is not built.\n",
      "WARNING:tensorflow:Skipping full serialization of Keras layer <object_detection.core.freezable_batch_norm.FreezableBatchNorm object at 0x000001A922DAABF0>, because it is not built.\n",
      "W0114 19:18:17.176195 34560 save_impl.py:71] Skipping full serialization of Keras layer <object_detection.core.freezable_batch_norm.FreezableBatchNorm object at 0x000001A922DAABF0>, because it is not built.\n",
      "WARNING:tensorflow:Skipping full serialization of Keras layer <keras.layers.core.lambda_layer.Lambda object at 0x000001A922DAABC0>, because it is not built.\n",
      "W0114 19:18:17.176195 34560 save_impl.py:71] Skipping full serialization of Keras layer <keras.layers.core.lambda_layer.Lambda object at 0x000001A922DAABC0>, because it is not built.\n",
      "WARNING:tensorflow:Skipping full serialization of Keras layer <object_detection.core.freezable_batch_norm.FreezableBatchNorm object at 0x000001A922DA9FF0>, because it is not built.\n",
      "W0114 19:18:17.176195 34560 save_impl.py:71] Skipping full serialization of Keras layer <object_detection.core.freezable_batch_norm.FreezableBatchNorm object at 0x000001A922DA9FF0>, because it is not built.\n",
      "WARNING:tensorflow:Skipping full serialization of Keras layer <keras.layers.core.lambda_layer.Lambda object at 0x000001A922DA9540>, because it is not built.\n",
      "W0114 19:18:17.176195 34560 save_impl.py:71] Skipping full serialization of Keras layer <keras.layers.core.lambda_layer.Lambda object at 0x000001A922DA9540>, because it is not built.\n",
      "WARNING:tensorflow:Skipping full serialization of Keras layer <object_detection.core.freezable_batch_norm.FreezableBatchNorm object at 0x000001A922DAB790>, because it is not built.\n",
      "W0114 19:18:17.176195 34560 save_impl.py:71] Skipping full serialization of Keras layer <object_detection.core.freezable_batch_norm.FreezableBatchNorm object at 0x000001A922DAB790>, because it is not built.\n",
      "WARNING:tensorflow:Skipping full serialization of Keras layer <keras.layers.core.lambda_layer.Lambda object at 0x000001A922DA8940>, because it is not built.\n",
      "W0114 19:18:17.176195 34560 save_impl.py:71] Skipping full serialization of Keras layer <keras.layers.core.lambda_layer.Lambda object at 0x000001A922DA8940>, because it is not built.\n",
      "WARNING:tensorflow:Skipping full serialization of Keras layer <object_detection.core.freezable_batch_norm.FreezableBatchNorm object at 0x000001A922DA8CA0>, because it is not built.\n",
      "W0114 19:18:17.177195 34560 save_impl.py:71] Skipping full serialization of Keras layer <object_detection.core.freezable_batch_norm.FreezableBatchNorm object at 0x000001A922DA8CA0>, because it is not built.\n",
      "WARNING:tensorflow:Skipping full serialization of Keras layer <keras.layers.core.lambda_layer.Lambda object at 0x000001A922DA8550>, because it is not built.\n",
      "W0114 19:18:17.177195 34560 save_impl.py:71] Skipping full serialization of Keras layer <keras.layers.core.lambda_layer.Lambda object at 0x000001A922DA8550>, because it is not built.\n",
      "W0114 19:18:40.917969 34560 save.py:233] Found untraced functions such as WeightSharedConvolutionalBoxPredictor_layer_call_fn, WeightSharedConvolutionalBoxPredictor_layer_call_and_return_conditional_losses, WeightSharedConvolutionalBoxHead_layer_call_fn, WeightSharedConvolutionalBoxHead_layer_call_and_return_conditional_losses, WeightSharedConvolutionalClassHead_layer_call_fn while saving (showing 5 of 173). These functions will not be directly callable after loading.\n",
      "INFO:tensorflow:Assets written to: Tensorflow\\workspace\\models\\my_ssd_mobnet\\export\\saved_model\\assets\n",
      "I0114 19:18:49.584897 34560 builder_impl.py:779] Assets written to: Tensorflow\\workspace\\models\\my_ssd_mobnet\\export\\saved_model\\assets\n",
      "INFO:tensorflow:Writing pipeline config file to Tensorflow\\workspace\\models\\my_ssd_mobnet\\export\\pipeline.config\n",
      "I0114 19:18:50.486672 34560 config_util.py:253] Writing pipeline config file to Tensorflow\\workspace\\models\\my_ssd_mobnet\\export\\pipeline.config\n"
     ]
    }
   ],
   "source": [
    "!{command}"
   ]
  },
  {
   "cell_type": "markdown",
   "id": "13de4c87",
   "metadata": {
    "id": "wTPmdqaXpfDK"
   },
   "source": [
    "# 11. Conversion to TFJS"
   ]
  },
  {
   "cell_type": "code",
   "execution_count": 33,
   "id": "39ff4952",
   "metadata": {
    "colab": {
     "base_uri": "https://localhost:8080/"
    },
    "id": "gZ6UzY_fpfDK",
    "outputId": "0c84722e-1c2b-4002-d857-80827ade828a"
   },
   "outputs": [],
   "source": [
    "#!pip install tensorflowjs"
   ]
  },
  {
   "cell_type": "code",
   "execution_count": 34,
   "id": "5185ee3e",
   "metadata": {
    "id": "0oxbVynHpfDK"
   },
   "outputs": [],
   "source": [
    "command = \"tensorflowjs_converter --input_format=tf_saved_model --output_node_names='detection_boxes,detection_classes,detection_features,detection_multiclass_scores,detection_scores,num_detections,raw_detection_boxes,raw_detection_scores' --output_format=tfjs_graph_model --signature_name=serving_default {} {}\".format(os.path.join(paths['OUTPUT_PATH'], 'saved_model'), paths['TFJS_PATH'])"
   ]
  },
  {
   "cell_type": "code",
   "execution_count": 35,
   "id": "1c5b5be2",
   "metadata": {
    "colab": {
     "base_uri": "https://localhost:8080/"
    },
    "id": "DB2AGNmJpfDK",
    "outputId": "fbc9f747-f511-47e8-df8f-5ea65cef0374"
   },
   "outputs": [
    {
     "name": "stdout",
     "output_type": "stream",
     "text": [
      "tensorflowjs_converter --input_format=tf_saved_model --output_node_names='detection_boxes,detection_classes,detection_features,detection_multiclass_scores,detection_scores,num_detections,raw_detection_boxes,raw_detection_scores' --output_format=tfjs_graph_model --signature_name=serving_default Tensorflow\\workspace\\models\\my_ssd_mobnet\\export\\saved_model Tensorflow\\workspace\\models\\my_ssd_mobnet\\tfjsexport\n"
     ]
    }
   ],
   "source": [
    "print(command)"
   ]
  },
  {
   "cell_type": "code",
   "execution_count": 36,
   "id": "6464147d",
   "metadata": {
    "colab": {
     "base_uri": "https://localhost:8080/"
    },
    "id": "K7rfT4-hpfDK",
    "outputId": "532707fd-6feb-4bc6-84a3-325b5d16303c"
   },
   "outputs": [
    {
     "name": "stdout",
     "output_type": "stream",
     "text": [
      "Writing weight file Tensorflow\\workspace\\models\\my_ssd_mobnet\\tfjsexport\\model.json...\n"
     ]
    },
    {
     "name": "stderr",
     "output_type": "stream",
     "text": [
      "2023-01-14 19:19:00.288177: I tensorflow/core/platform/cpu_feature_guard.cc:193] This TensorFlow binary is optimized with oneAPI Deep Neural Network Library (oneDNN) to use the following CPU instructions in performance-critical operations:  AVX\n",
      "To enable them in other operations, rebuild TensorFlow with the appropriate compiler flags.\n",
      "2023-01-14 19:19:01.022346: I tensorflow/core/common_runtime/gpu/gpu_device.cc:1532] Created device /job:localhost/replica:0/task:0/device:GPU:0 with 4632 MB memory:  -> device: 0, name: NVIDIA GeForce GTX 1060 6GB, pci bus id: 0000:01:00.0, compute capability: 6.1\n",
      "2023-01-14 19:19:15.982498: I tensorflow/core/grappler/devices.cc:66] Number of eligible GPUs (core count >= 8, compute capability >= 0.0): 1\n",
      "2023-01-14 19:19:15.983359: I tensorflow/core/grappler/clusters/single_machine.cc:358] Starting new session\n",
      "2023-01-14 19:19:15.987740: I tensorflow/core/common_runtime/gpu/gpu_device.cc:1532] Created device /job:localhost/replica:0/task:0/device:GPU:0 with 4632 MB memory:  -> device: 0, name: NVIDIA GeForce GTX 1060 6GB, pci bus id: 0000:01:00.0, compute capability: 6.1\n"
     ]
    }
   ],
   "source": [
    "!{command}"
   ]
  },
  {
   "cell_type": "markdown",
   "id": "f02a2928",
   "metadata": {
    "id": "VtUw73FHpfDK"
   },
   "source": [
    "# 12. Conversion to TFLite"
   ]
  },
  {
   "cell_type": "code",
   "execution_count": 37,
   "id": "d3580e56",
   "metadata": {
    "id": "XviMtewLpfDK"
   },
   "outputs": [],
   "source": [
    "TFLITE_SCRIPT = os.path.join(paths['APIMODEL_PATH'], 'research', 'object_detection', 'export_tflite_graph_tf2.py ')"
   ]
  },
  {
   "cell_type": "code",
   "execution_count": 38,
   "id": "7570c6f8",
   "metadata": {
    "id": "us86cjC4pfDL"
   },
   "outputs": [],
   "source": [
    "command = \"python {} --pipeline_config_path={} --trained_checkpoint_dir={} --output_directory={}\".format(TFLITE_SCRIPT ,files['PIPELINE_CONFIG'], paths['CHECKPOINT_PATH'], paths['TFLITE_PATH'])"
   ]
  },
  {
   "cell_type": "code",
   "execution_count": 39,
   "id": "30a4e5cf",
   "metadata": {
    "colab": {
     "base_uri": "https://localhost:8080/"
    },
    "id": "n1r5YO3rpfDL",
    "outputId": "5fcdf7a4-eee2-4365-f1ca-1751968379ea"
   },
   "outputs": [
    {
     "name": "stdout",
     "output_type": "stream",
     "text": [
      "python Tensorflow\\models\\research\\object_detection\\export_tflite_graph_tf2.py  --pipeline_config_path=Tensorflow\\workspace\\models\\my_ssd_mobnet\\pipeline.config --trained_checkpoint_dir=Tensorflow\\workspace\\models\\my_ssd_mobnet --output_directory=Tensorflow\\workspace\\models\\my_ssd_mobnet\\tfliteexport\n"
     ]
    }
   ],
   "source": [
    "print(command)"
   ]
  },
  {
   "cell_type": "code",
   "execution_count": 40,
   "id": "de110308",
   "metadata": {
    "colab": {
     "base_uri": "https://localhost:8080/"
    },
    "id": "I-xWpHN8pfDL",
    "outputId": "7f6bacd8-d077-43b5-c131-5b081fba24a4"
   },
   "outputs": [
    {
     "name": "stderr",
     "output_type": "stream",
     "text": [
      "2023-01-14 19:19:50.729312: I tensorflow/core/platform/cpu_feature_guard.cc:193] This TensorFlow binary is optimized with oneAPI Deep Neural Network Library (oneDNN) to use the following CPU instructions in performance-critical operations:  AVX\n",
      "To enable them in other operations, rebuild TensorFlow with the appropriate compiler flags.\n",
      "2023-01-14 19:19:51.459828: I tensorflow/core/common_runtime/gpu/gpu_device.cc:1532] Created device /job:localhost/replica:0/task:0/device:GPU:0 with 4632 MB memory:  -> device: 0, name: NVIDIA GeForce GTX 1060 6GB, pci bus id: 0000:01:00.0, compute capability: 6.1\n",
      "2023-01-14 19:20:01.620784: I tensorflow/core/common_runtime/gpu/gpu_device.cc:1532] Created device /job:localhost/replica:0/task:0/device:GPU:0 with 4632 MB memory:  -> device: 0, name: NVIDIA GeForce GTX 1060 6GB, pci bus id: 0000:01:00.0, compute capability: 6.1\n",
      "2023-01-14 19:20:01.667650: I tensorflow/compiler/mlir/mlir_graph_optimization_pass.cc:354] MLIR V1 optimization pass is not enabled\n",
      "2023-01-14 19:20:04.478431: I tensorflow/core/common_runtime/gpu/gpu_device.cc:1532] Created device /job:localhost/replica:0/task:0/device:GPU:0 with 4632 MB memory:  -> device: 0, name: NVIDIA GeForce GTX 1060 6GB, pci bus id: 0000:01:00.0, compute capability: 6.1\n",
      "2023-01-14 19:20:08.295334: I tensorflow/core/common_runtime/gpu/gpu_device.cc:1532] Created device /job:localhost/replica:0/task:0/device:GPU:0 with 4632 MB memory:  -> device: 0, name: NVIDIA GeForce GTX 1060 6GB, pci bus id: 0000:01:00.0, compute capability: 6.1\n",
      "WARNING:tensorflow:Skipping full serialization of Keras layer <object_detection.meta_architectures.ssd_meta_arch.SSDMetaArch object at 0x000001E8AC4AFD90>, because it is not built.\n",
      "W0114 19:20:08.890603 37112 save_impl.py:71] Skipping full serialization of Keras layer <object_detection.meta_architectures.ssd_meta_arch.SSDMetaArch object at 0x000001E8AC4AFD90>, because it is not built.\n",
      "WARNING:tensorflow:Skipping full serialization of Keras layer <keras.layers.convolutional.separable_conv2d.SeparableConv2D object at 0x000001E8CF838DF0>, because it is not built.\n",
      "W0114 19:20:09.274244 37112 save_impl.py:71] Skipping full serialization of Keras layer <keras.layers.convolutional.separable_conv2d.SeparableConv2D object at 0x000001E8CF838DF0>, because it is not built.\n",
      "WARNING:tensorflow:Skipping full serialization of Keras layer <object_detection.core.freezable_batch_norm.FreezableBatchNorm object at 0x000001E8FFC6F5B0>, because it is not built.\n",
      "W0114 19:20:09.275244 37112 save_impl.py:71] Skipping full serialization of Keras layer <object_detection.core.freezable_batch_norm.FreezableBatchNorm object at 0x000001E8FFC6F5B0>, because it is not built.\n",
      "WARNING:tensorflow:Skipping full serialization of Keras layer <keras.layers.core.lambda_layer.Lambda object at 0x000001E8FFC6E590>, because it is not built.\n",
      "W0114 19:20:09.275244 37112 save_impl.py:71] Skipping full serialization of Keras layer <keras.layers.core.lambda_layer.Lambda object at 0x000001E8FFC6E590>, because it is not built.\n",
      "WARNING:tensorflow:Skipping full serialization of Keras layer <keras.layers.convolutional.separable_conv2d.SeparableConv2D object at 0x000001E9FE3D9570>, because it is not built.\n",
      "W0114 19:20:09.275244 37112 save_impl.py:71] Skipping full serialization of Keras layer <keras.layers.convolutional.separable_conv2d.SeparableConv2D object at 0x000001E9FE3D9570>, because it is not built.\n",
      "WARNING:tensorflow:Skipping full serialization of Keras layer <object_detection.core.freezable_batch_norm.FreezableBatchNorm object at 0x000001E9FE3D8190>, because it is not built.\n",
      "W0114 19:20:09.275244 37112 save_impl.py:71] Skipping full serialization of Keras layer <object_detection.core.freezable_batch_norm.FreezableBatchNorm object at 0x000001E9FE3D8190>, because it is not built.\n",
      "WARNING:tensorflow:Skipping full serialization of Keras layer <keras.layers.core.lambda_layer.Lambda object at 0x000001E9FE3DBBE0>, because it is not built.\n",
      "W0114 19:20:09.275244 37112 save_impl.py:71] Skipping full serialization of Keras layer <keras.layers.core.lambda_layer.Lambda object at 0x000001E9FE3DBBE0>, because it is not built.\n",
      "WARNING:tensorflow:Skipping full serialization of Keras layer <keras.layers.convolutional.separable_conv2d.SeparableConv2D object at 0x000001E9FE3DB3A0>, because it is not built.\n",
      "W0114 19:20:09.275244 37112 save_impl.py:71] Skipping full serialization of Keras layer <keras.layers.convolutional.separable_conv2d.SeparableConv2D object at 0x000001E9FE3DB3A0>, because it is not built.\n",
      "WARNING:tensorflow:Skipping full serialization of Keras layer <object_detection.core.freezable_batch_norm.FreezableBatchNorm object at 0x000001E9FE3DB910>, because it is not built.\n",
      "W0114 19:20:09.275244 37112 save_impl.py:71] Skipping full serialization of Keras layer <object_detection.core.freezable_batch_norm.FreezableBatchNorm object at 0x000001E9FE3DB910>, because it is not built.\n",
      "WARNING:tensorflow:Skipping full serialization of Keras layer <keras.layers.core.lambda_layer.Lambda object at 0x000001E9FE3D8AC0>, because it is not built.\n",
      "W0114 19:20:09.275244 37112 save_impl.py:71] Skipping full serialization of Keras layer <keras.layers.core.lambda_layer.Lambda object at 0x000001E9FE3D8AC0>, because it is not built.\n",
      "WARNING:tensorflow:Skipping full serialization of Keras layer <keras.layers.convolutional.separable_conv2d.SeparableConv2D object at 0x000001E9FE3D9DE0>, because it is not built.\n",
      "W0114 19:20:09.276243 37112 save_impl.py:71] Skipping full serialization of Keras layer <keras.layers.convolutional.separable_conv2d.SeparableConv2D object at 0x000001E9FE3D9DE0>, because it is not built.\n",
      "WARNING:tensorflow:Skipping full serialization of Keras layer <object_detection.core.freezable_batch_norm.FreezableBatchNorm object at 0x000001E9FE3DB6D0>, because it is not built.\n",
      "W0114 19:20:09.276243 37112 save_impl.py:71] Skipping full serialization of Keras layer <object_detection.core.freezable_batch_norm.FreezableBatchNorm object at 0x000001E9FE3DB6D0>, because it is not built.\n",
      "WARNING:tensorflow:Skipping full serialization of Keras layer <keras.layers.core.lambda_layer.Lambda object at 0x000001E9FE3DBEB0>, because it is not built.\n",
      "W0114 19:20:09.276243 37112 save_impl.py:71] Skipping full serialization of Keras layer <keras.layers.core.lambda_layer.Lambda object at 0x000001E9FE3DBEB0>, because it is not built.\n",
      "WARNING:tensorflow:Skipping full serialization of Keras layer <object_detection.core.freezable_batch_norm.FreezableBatchNorm object at 0x000001E8CF839120>, because it is not built.\n",
      "W0114 19:20:09.276243 37112 save_impl.py:71] Skipping full serialization of Keras layer <object_detection.core.freezable_batch_norm.FreezableBatchNorm object at 0x000001E8CF839120>, because it is not built.\n",
      "WARNING:tensorflow:Skipping full serialization of Keras layer <keras.layers.core.lambda_layer.Lambda object at 0x000001E9FE2E12A0>, because it is not built.\n",
      "W0114 19:20:09.276243 37112 save_impl.py:71] Skipping full serialization of Keras layer <keras.layers.core.lambda_layer.Lambda object at 0x000001E9FE2E12A0>, because it is not built.\n",
      "WARNING:tensorflow:Skipping full serialization of Keras layer <object_detection.core.freezable_batch_norm.FreezableBatchNorm object at 0x000001E8FFA08EB0>, because it is not built.\n",
      "W0114 19:20:09.276243 37112 save_impl.py:71] Skipping full serialization of Keras layer <object_detection.core.freezable_batch_norm.FreezableBatchNorm object at 0x000001E8FFA08EB0>, because it is not built.\n",
      "WARNING:tensorflow:Skipping full serialization of Keras layer <keras.layers.core.lambda_layer.Lambda object at 0x000001E8FFA09390>, because it is not built.\n",
      "W0114 19:20:09.276243 37112 save_impl.py:71] Skipping full serialization of Keras layer <keras.layers.core.lambda_layer.Lambda object at 0x000001E8FFA09390>, because it is not built.\n",
      "WARNING:tensorflow:Skipping full serialization of Keras layer <object_detection.core.freezable_batch_norm.FreezableBatchNorm object at 0x000001E8FFA0B340>, because it is not built.\n",
      "W0114 19:20:09.276243 37112 save_impl.py:71] Skipping full serialization of Keras layer <object_detection.core.freezable_batch_norm.FreezableBatchNorm object at 0x000001E8FFA0B340>, because it is not built.\n",
      "WARNING:tensorflow:Skipping full serialization of Keras layer <keras.layers.core.lambda_layer.Lambda object at 0x000001E8FFA0B250>, because it is not built.\n",
      "W0114 19:20:09.276243 37112 save_impl.py:71] Skipping full serialization of Keras layer <keras.layers.core.lambda_layer.Lambda object at 0x000001E8FFA0B250>, because it is not built.\n",
      "WARNING:tensorflow:Skipping full serialization of Keras layer <object_detection.core.freezable_batch_norm.FreezableBatchNorm object at 0x000001E8FFA08700>, because it is not built.\n",
      "W0114 19:20:09.276243 37112 save_impl.py:71] Skipping full serialization of Keras layer <object_detection.core.freezable_batch_norm.FreezableBatchNorm object at 0x000001E8FFA08700>, because it is not built.\n",
      "WARNING:tensorflow:Skipping full serialization of Keras layer <keras.layers.core.lambda_layer.Lambda object at 0x000001E8FFA09B40>, because it is not built.\n",
      "W0114 19:20:09.277243 37112 save_impl.py:71] Skipping full serialization of Keras layer <keras.layers.core.lambda_layer.Lambda object at 0x000001E8FFA09B40>, because it is not built.\n",
      "WARNING:tensorflow:Skipping full serialization of Keras layer <object_detection.core.freezable_batch_norm.FreezableBatchNorm object at 0x000001E8CF839150>, because it is not built.\n",
      "W0114 19:20:09.277243 37112 save_impl.py:71] Skipping full serialization of Keras layer <object_detection.core.freezable_batch_norm.FreezableBatchNorm object at 0x000001E8CF839150>, because it is not built.\n",
      "WARNING:tensorflow:Skipping full serialization of Keras layer <keras.layers.core.lambda_layer.Lambda object at 0x000001E9FE133760>, because it is not built.\n",
      "W0114 19:20:09.277243 37112 save_impl.py:71] Skipping full serialization of Keras layer <keras.layers.core.lambda_layer.Lambda object at 0x000001E9FE133760>, because it is not built.\n",
      "WARNING:tensorflow:Skipping full serialization of Keras layer <object_detection.core.freezable_batch_norm.FreezableBatchNorm object at 0x000001E8FFA66BC0>, because it is not built.\n",
      "W0114 19:20:09.277243 37112 save_impl.py:71] Skipping full serialization of Keras layer <object_detection.core.freezable_batch_norm.FreezableBatchNorm object at 0x000001E8FFA66BC0>, because it is not built.\n",
      "WARNING:tensorflow:Skipping full serialization of Keras layer <keras.layers.core.lambda_layer.Lambda object at 0x000001E8FFA645E0>, because it is not built.\n",
      "W0114 19:20:09.277243 37112 save_impl.py:71] Skipping full serialization of Keras layer <keras.layers.core.lambda_layer.Lambda object at 0x000001E8FFA645E0>, because it is not built.\n",
      "WARNING:tensorflow:Skipping full serialization of Keras layer <object_detection.core.freezable_batch_norm.FreezableBatchNorm object at 0x000001E8FFA64400>, because it is not built.\n",
      "W0114 19:20:09.277243 37112 save_impl.py:71] Skipping full serialization of Keras layer <object_detection.core.freezable_batch_norm.FreezableBatchNorm object at 0x000001E8FFA64400>, because it is not built.\n",
      "WARNING:tensorflow:Skipping full serialization of Keras layer <keras.layers.core.lambda_layer.Lambda object at 0x000001E8FFA65630>, because it is not built.\n",
      "W0114 19:20:09.277243 37112 save_impl.py:71] Skipping full serialization of Keras layer <keras.layers.core.lambda_layer.Lambda object at 0x000001E8FFA65630>, because it is not built.\n",
      "WARNING:tensorflow:Skipping full serialization of Keras layer <object_detection.core.freezable_batch_norm.FreezableBatchNorm object at 0x000001E8FFA67460>, because it is not built.\n",
      "W0114 19:20:09.277243 37112 save_impl.py:71] Skipping full serialization of Keras layer <object_detection.core.freezable_batch_norm.FreezableBatchNorm object at 0x000001E8FFA67460>, because it is not built.\n",
      "WARNING:tensorflow:Skipping full serialization of Keras layer <keras.layers.core.lambda_layer.Lambda object at 0x000001E8FFA674C0>, because it is not built.\n",
      "W0114 19:20:09.277243 37112 save_impl.py:71] Skipping full serialization of Keras layer <keras.layers.core.lambda_layer.Lambda object at 0x000001E8FFA674C0>, because it is not built.\n",
      "WARNING:tensorflow:Skipping full serialization of Keras layer <object_detection.core.freezable_batch_norm.FreezableBatchNorm object at 0x000001E8CF839180>, because it is not built.\n",
      "W0114 19:20:09.278243 37112 save_impl.py:71] Skipping full serialization of Keras layer <object_detection.core.freezable_batch_norm.FreezableBatchNorm object at 0x000001E8CF839180>, because it is not built.\n",
      "WARNING:tensorflow:Skipping full serialization of Keras layer <keras.layers.core.lambda_layer.Lambda object at 0x000001E8FFA65000>, because it is not built.\n",
      "W0114 19:20:09.278243 37112 save_impl.py:71] Skipping full serialization of Keras layer <keras.layers.core.lambda_layer.Lambda object at 0x000001E8FFA65000>, because it is not built.\n",
      "WARNING:tensorflow:Skipping full serialization of Keras layer <object_detection.core.freezable_batch_norm.FreezableBatchNorm object at 0x000001E9FE0FDF90>, because it is not built.\n",
      "W0114 19:20:09.279244 37112 save_impl.py:71] Skipping full serialization of Keras layer <object_detection.core.freezable_batch_norm.FreezableBatchNorm object at 0x000001E9FE0FDF90>, because it is not built.\n",
      "WARNING:tensorflow:Skipping full serialization of Keras layer <keras.layers.core.lambda_layer.Lambda object at 0x000001E9FE0FFCA0>, because it is not built.\n",
      "W0114 19:20:09.279244 37112 save_impl.py:71] Skipping full serialization of Keras layer <keras.layers.core.lambda_layer.Lambda object at 0x000001E9FE0FFCA0>, because it is not built.\n",
      "WARNING:tensorflow:Skipping full serialization of Keras layer <object_detection.core.freezable_batch_norm.FreezableBatchNorm object at 0x000001E9FE0FFC10>, because it is not built.\n",
      "W0114 19:20:09.279244 37112 save_impl.py:71] Skipping full serialization of Keras layer <object_detection.core.freezable_batch_norm.FreezableBatchNorm object at 0x000001E9FE0FFC10>, because it is not built.\n",
      "WARNING:tensorflow:Skipping full serialization of Keras layer <keras.layers.core.lambda_layer.Lambda object at 0x000001E9FE0FC040>, because it is not built.\n",
      "W0114 19:20:09.279244 37112 save_impl.py:71] Skipping full serialization of Keras layer <keras.layers.core.lambda_layer.Lambda object at 0x000001E9FE0FC040>, because it is not built.\n",
      "WARNING:tensorflow:Skipping full serialization of Keras layer <object_detection.core.freezable_batch_norm.FreezableBatchNorm object at 0x000001E9FE5AFDC0>, because it is not built.\n",
      "W0114 19:20:09.279244 37112 save_impl.py:71] Skipping full serialization of Keras layer <object_detection.core.freezable_batch_norm.FreezableBatchNorm object at 0x000001E9FE5AFDC0>, because it is not built.\n",
      "WARNING:tensorflow:Skipping full serialization of Keras layer <keras.layers.core.lambda_layer.Lambda object at 0x000001E9FE5AF490>, because it is not built.\n",
      "W0114 19:20:09.279244 37112 save_impl.py:71] Skipping full serialization of Keras layer <keras.layers.core.lambda_layer.Lambda object at 0x000001E9FE5AF490>, because it is not built.\n",
      "WARNING:tensorflow:Skipping full serialization of Keras layer <object_detection.core.freezable_batch_norm.FreezableBatchNorm object at 0x000001E9FE5AC8B0>, because it is not built.\n",
      "W0114 19:20:09.279244 37112 save_impl.py:71] Skipping full serialization of Keras layer <object_detection.core.freezable_batch_norm.FreezableBatchNorm object at 0x000001E9FE5AC8B0>, because it is not built.\n",
      "WARNING:tensorflow:Skipping full serialization of Keras layer <keras.layers.core.lambda_layer.Lambda object at 0x000001E9FE5AE260>, because it is not built.\n",
      "W0114 19:20:09.280251 37112 save_impl.py:71] Skipping full serialization of Keras layer <keras.layers.core.lambda_layer.Lambda object at 0x000001E9FE5AE260>, because it is not built.\n",
      "WARNING:tensorflow:Skipping full serialization of Keras layer <object_detection.core.freezable_batch_norm.FreezableBatchNorm object at 0x000001E9FE5AE830>, because it is not built.\n",
      "W0114 19:20:09.280251 37112 save_impl.py:71] Skipping full serialization of Keras layer <object_detection.core.freezable_batch_norm.FreezableBatchNorm object at 0x000001E9FE5AE830>, because it is not built.\n",
      "WARNING:tensorflow:Skipping full serialization of Keras layer <keras.layers.core.lambda_layer.Lambda object at 0x000001E9FE5AC280>, because it is not built.\n",
      "W0114 19:20:09.280251 37112 save_impl.py:71] Skipping full serialization of Keras layer <keras.layers.core.lambda_layer.Lambda object at 0x000001E9FE5AC280>, because it is not built.\n",
      "WARNING:tensorflow:Skipping full serialization of Keras layer <object_detection.core.freezable_batch_norm.FreezableBatchNorm object at 0x000001E9FE5AFCD0>, because it is not built.\n",
      "W0114 19:20:09.280251 37112 save_impl.py:71] Skipping full serialization of Keras layer <object_detection.core.freezable_batch_norm.FreezableBatchNorm object at 0x000001E9FE5AFCD0>, because it is not built.\n",
      "WARNING:tensorflow:Skipping full serialization of Keras layer <keras.layers.core.lambda_layer.Lambda object at 0x000001E9FE5AF9D0>, because it is not built.\n",
      "W0114 19:20:09.280251 37112 save_impl.py:71] Skipping full serialization of Keras layer <keras.layers.core.lambda_layer.Lambda object at 0x000001E9FE5AF9D0>, because it is not built.\n",
      "WARNING:tensorflow:Skipping full serialization of Keras layer <object_detection.core.freezable_batch_norm.FreezableBatchNorm object at 0x000001E9FE5AFCA0>, because it is not built.\n",
      "W0114 19:20:09.280251 37112 save_impl.py:71] Skipping full serialization of Keras layer <object_detection.core.freezable_batch_norm.FreezableBatchNorm object at 0x000001E9FE5AFCA0>, because it is not built.\n",
      "WARNING:tensorflow:Skipping full serialization of Keras layer <keras.layers.core.lambda_layer.Lambda object at 0x000001E9FE5ADED0>, because it is not built.\n",
      "W0114 19:20:09.281245 37112 save_impl.py:71] Skipping full serialization of Keras layer <keras.layers.core.lambda_layer.Lambda object at 0x000001E9FE5ADED0>, because it is not built.\n",
      "W0114 19:20:33.578239 37112 save.py:233] Found untraced functions such as WeightSharedConvolutionalBoxPredictor_layer_call_fn, WeightSharedConvolutionalBoxPredictor_layer_call_and_return_conditional_losses, WeightSharedConvolutionalBoxHead_layer_call_fn, WeightSharedConvolutionalBoxHead_layer_call_and_return_conditional_losses, WeightSharedConvolutionalClassHead_layer_call_fn while saving (showing 5 of 173). These functions will not be directly callable after loading.\n",
      "INFO:tensorflow:Assets written to: Tensorflow\\workspace\\models\\my_ssd_mobnet\\tfliteexport\\saved_model\\assets\n",
      "I0114 19:20:42.473980 37112 builder_impl.py:779] Assets written to: Tensorflow\\workspace\\models\\my_ssd_mobnet\\tfliteexport\\saved_model\\assets\n"
     ]
    }
   ],
   "source": [
    "!{command}"
   ]
  },
  {
   "cell_type": "code",
   "execution_count": 41,
   "id": "1eafb455",
   "metadata": {
    "id": "iJfYMbN6pfDL"
   },
   "outputs": [],
   "source": [
    "FROZEN_TFLITE_PATH = os.path.join(paths['TFLITE_PATH'], 'saved_model')\n",
    "TFLITE_MODEL = os.path.join(paths['TFLITE_PATH'], 'saved_model', 'detect.tflite')"
   ]
  },
  {
   "cell_type": "code",
   "execution_count": 42,
   "id": "2f8e5d41",
   "metadata": {},
   "outputs": [],
   "source": [
    "command = \"tflite_convert \\\n",
    "--saved_model_dir={} \\\n",
    "--output_file={} \\\n",
    "--input_shapes=1,300,300,3 \\\n",
    "--input_arrays=normalized_input_image_tensor \\\n",
    "--output_arrays='TFLite_Detection_PostProcess','TFLite_Detection_PostProcess:1','TFLite_Detection_PostProcess:2','TFLite_Detection_PostProcess:3' \\\n",
    "--inference_type=FLOAT \\\n",
    "--allow_custom_ops\".format(FROZEN_TFLITE_PATH, TFLITE_MODEL, )"
   ]
  },
  {
   "cell_type": "code",
   "execution_count": 43,
   "id": "56282593",
   "metadata": {
    "colab": {
     "base_uri": "https://localhost:8080/"
    },
    "id": "E8GwUeoFpfDL",
    "outputId": "fac43ea4-cc85-471b-a362-e994b06fd583"
   },
   "outputs": [
    {
     "name": "stdout",
     "output_type": "stream",
     "text": [
      "tflite_convert --saved_model_dir=Tensorflow\\workspace\\models\\my_ssd_mobnet\\tfliteexport\\saved_model --output_file=Tensorflow\\workspace\\models\\my_ssd_mobnet\\tfliteexport\\saved_model\\detect.tflite --input_shapes=1,300,300,3 --input_arrays=normalized_input_image_tensor --output_arrays='TFLite_Detection_PostProcess','TFLite_Detection_PostProcess:1','TFLite_Detection_PostProcess:2','TFLite_Detection_PostProcess:3' --inference_type=FLOAT --allow_custom_ops\n"
     ]
    }
   ],
   "source": [
    "print(command)"
   ]
  },
  {
   "cell_type": "code",
   "execution_count": 44,
   "id": "b6d9f15c",
   "metadata": {
    "colab": {
     "base_uri": "https://localhost:8080/"
    },
    "id": "Nbd7gqHMpfDL",
    "outputId": "7c8fe6d5-2415-4641-8548-39d425c202f7",
    "scrolled": false
   },
   "outputs": [
    {
     "name": "stdout",
     "output_type": "stream",
     "text": [
      "Estimated count of arithmetic ops: 1.698 G  ops, equivalently 0.849 G  MACs\n"
     ]
    },
    {
     "name": "stderr",
     "output_type": "stream",
     "text": [
      "2023-01-14 19:20:51.798467: I tensorflow/core/platform/cpu_feature_guard.cc:193] This TensorFlow binary is optimized with oneAPI Deep Neural Network Library (oneDNN) to use the following CPU instructions in performance-critical operations:  AVX\n",
      "To enable them in other operations, rebuild TensorFlow with the appropriate compiler flags.\n",
      "2023-01-14 19:20:52.503761: I tensorflow/core/common_runtime/gpu/gpu_device.cc:1532] Created device /job:localhost/replica:0/task:0/device:GPU:0 with 4632 MB memory:  -> device: 0, name: NVIDIA GeForce GTX 1060 6GB, pci bus id: 0000:01:00.0, compute capability: 6.1\n",
      "2023-01-14 19:21:08.818503: W tensorflow/compiler/mlir/lite/python/tf_tfl_flatbuffer_helpers.cc:362] Ignored output_format.\n",
      "2023-01-14 19:21:08.818533: W tensorflow/compiler/mlir/lite/python/tf_tfl_flatbuffer_helpers.cc:365] Ignored drop_control_dependency.\n",
      "2023-01-14 19:21:08.821755: I tensorflow/cc/saved_model/reader.cc:43] Reading SavedModel from: Tensorflow\\workspace\\models\\my_ssd_mobnet\\tfliteexport\\saved_model\n",
      "2023-01-14 19:21:09.016405: I tensorflow/cc/saved_model/reader.cc:81] Reading meta graph with tags { serve }\n",
      "2023-01-14 19:21:09.016462: I tensorflow/cc/saved_model/reader.cc:122] Reading SavedModel debug info (if present) from: Tensorflow\\workspace\\models\\my_ssd_mobnet\\tfliteexport\\saved_model\n",
      "2023-01-14 19:21:09.322420: I tensorflow/compiler/mlir/mlir_graph_optimization_pass.cc:354] MLIR V1 optimization pass is not enabled\n",
      "2023-01-14 19:21:09.378041: I tensorflow/cc/saved_model/loader.cc:228] Restoring SavedModel bundle.\n",
      "2023-01-14 19:21:10.745848: I tensorflow/cc/saved_model/loader.cc:212] Running initialization op on SavedModel bundle at path: Tensorflow\\workspace\\models\\my_ssd_mobnet\\tfliteexport\\saved_model\n",
      "2023-01-14 19:21:11.430626: I tensorflow/cc/saved_model/loader.cc:301] SavedModel load for tags { serve }; Status: success: OK. Took 2608864 microseconds.\n",
      "2023-01-14 19:21:12.529767: I tensorflow/compiler/mlir/tensorflow/utils/dump_mlir_util.cc:263] disabling MLIR crash reproducer, set env var `MLIR_CRASH_REPRODUCER_DIRECTORY` to enable.\n",
      "2023-01-14 19:21:13.861355: I tensorflow/compiler/mlir/lite/flatbuffer_export.cc:1972] Estimated count of arithmetic ops: 1.698 G  ops, equivalently 0.849 G  MACs\n",
      "\n"
     ]
    }
   ],
   "source": [
    "!{command}"
   ]
  },
  {
   "cell_type": "code",
   "execution_count": null,
   "id": "75589a42",
   "metadata": {},
   "outputs": [],
   "source": []
  },
  {
   "cell_type": "code",
   "execution_count": null,
   "id": "769c0d6e",
   "metadata": {},
   "outputs": [],
   "source": []
  }
 ],
 "metadata": {
  "kernelspec": {
   "display_name": "tfodj",
   "language": "python",
   "name": "tfodj"
  },
  "language_info": {
   "codemirror_mode": {
    "name": "ipython",
    "version": 3
   },
   "file_extension": ".py",
   "mimetype": "text/x-python",
   "name": "python",
   "nbconvert_exporter": "python",
   "pygments_lexer": "ipython3",
   "version": "3.10.9"
  }
 },
 "nbformat": 4,
 "nbformat_minor": 5
}
