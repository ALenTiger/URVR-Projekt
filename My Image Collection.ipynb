{
 "cells": [
  {
   "cell_type": "code",
   "execution_count": 1,
   "id": "d8d03bd8",
   "metadata": {},
   "outputs": [
    {
     "name": "stdout",
     "output_type": "stream",
     "text": [
      "Collecting opencv-python\n",
      "  Using cached opencv_python-4.6.0.66-cp36-abi3-win_amd64.whl (35.6 MB)\n",
      "Collecting numpy>=1.19.3\n",
      "  Using cached numpy-1.24.1-cp310-cp310-win_amd64.whl (14.8 MB)\n",
      "Installing collected packages: numpy, opencv-python\n",
      "Successfully installed numpy-1.24.1 opencv-python-4.6.0.66\n"
     ]
    }
   ],
   "source": [
    "!pip install opencv-python"
   ]
  },
  {
   "cell_type": "code",
   "execution_count": 2,
   "id": "5d373046",
   "metadata": {},
   "outputs": [],
   "source": [
    "# Import opencv\n",
    "import cv2 \n",
    "\n",
    "# Import uuid\n",
    "import uuid\n",
    "\n",
    "# Import Operating System\n",
    "import os\n",
    "\n",
    "# Import time\n",
    "import time"
   ]
  },
  {
   "cell_type": "code",
   "execution_count": 2,
   "id": "e139dfac",
   "metadata": {},
   "outputs": [],
   "source": [
    "labels = ['Vehicle']\n",
    "number_imgs = 20"
   ]
  },
  {
   "cell_type": "code",
   "execution_count": 3,
   "id": "0fba893a",
   "metadata": {},
   "outputs": [],
   "source": [
    "IMAGES_PATH = os.path.join('Tensorflow', 'workspace', 'images', 'collectedimages')"
   ]
  },
  {
   "cell_type": "code",
   "execution_count": 4,
   "id": "44d146a8",
   "metadata": {},
   "outputs": [],
   "source": [
    "if not os.path.exists(IMAGES_PATH):\n",
    "    if os.name == 'posix':\n",
    "        !mkdir -p {IMAGES_PATH}\n",
    "    if os.name == 'nt':\n",
    "         !mkdir {IMAGES_PATH}\n",
    "for label in labels:\n",
    "    path = os.path.join(IMAGES_PATH, label)\n",
    "    if not os.path.exists(path):\n",
    "        !mkdir {path}"
   ]
  },
  {
   "cell_type": "code",
   "execution_count": 14,
   "id": "9edc7b1c",
   "metadata": {},
   "outputs": [
    {
     "name": "stdout",
     "output_type": "stream",
     "text": [
      "Collecting pyqt5\n",
      "  Using cached PyQt5-5.15.7-cp37-abi3-win_amd64.whl (6.8 MB)\n",
      "Collecting lxml\n",
      "  Using cached lxml-4.9.2-cp310-cp310-win_amd64.whl (3.8 MB)\n",
      "Collecting PyQt5-Qt5>=5.15.0\n",
      "  Using cached PyQt5_Qt5-5.15.2-py3-none-win_amd64.whl (50.1 MB)\n",
      "Collecting PyQt5-sip<13,>=12.11\n",
      "  Using cached PyQt5_sip-12.11.0-cp310-cp310-win_amd64.whl (78 kB)\n",
      "Installing collected packages: PyQt5-Qt5, PyQt5-sip, lxml, pyqt5\n",
      "Successfully installed PyQt5-Qt5-5.15.2 PyQt5-sip-12.11.0 lxml-4.9.2 pyqt5-5.15.7\n"
     ]
    }
   ],
   "source": [
    "!pip install --upgrade pyqt5 lxml"
   ]
  },
  {
   "cell_type": "code",
   "execution_count": 3,
   "id": "216c020b",
   "metadata": {},
   "outputs": [],
   "source": [
    "LABELIMG_PATH = os.path.join('Tensorflow', 'labelimg')"
   ]
  },
  {
   "cell_type": "code",
   "execution_count": 6,
   "id": "0eeb3b7f",
   "metadata": {},
   "outputs": [
    {
     "name": "stdout",
     "output_type": "stream",
     "text": [
      "Tensorflow\\labelimg\n"
     ]
    }
   ],
   "source": [
    "print(LABELIMG_PATH)"
   ]
  },
  {
   "cell_type": "code",
   "execution_count": 7,
   "id": "31247029",
   "metadata": {},
   "outputs": [],
   "source": [
    "if not os.path.exists(LABELIMG_PATH):\n",
    "    !mkdir {LABELIMG_PATH}\n",
    "    !git clone https://github.com/tzutalin/labelImg {LABELIMG_PATH}"
   ]
  },
  {
   "cell_type": "code",
   "execution_count": 8,
   "id": "e58c5480",
   "metadata": {},
   "outputs": [],
   "source": [
    "if os.name == 'posix':\n",
    "    !make qt5py3\n",
    "if os.name =='nt':\n",
    "    !cd {LABELIMG_PATH} && pyrcc5 -o libs/resources.py resources.qrc"
   ]
  },
  {
   "cell_type": "code",
   "execution_count": 9,
   "id": "bab17534",
   "metadata": {},
   "outputs": [
    {
     "name": "stdout",
     "output_type": "stream",
     "text": [
      "Tensorflow\\labelimg\n"
     ]
    }
   ],
   "source": [
    "print(LABELIMG_PATH)"
   ]
  },
  {
   "cell_type": "code",
   "execution_count": 4,
   "id": "c9a7eaad",
   "metadata": {},
   "outputs": [
    {
     "name": "stdout",
     "output_type": "stream",
     "text": [
      "Cancel creation.\n"
     ]
    }
   ],
   "source": [
    "!cd {LABELIMG_PATH} && python labelImg.py"
   ]
  },
  {
   "cell_type": "code",
   "execution_count": 26,
   "id": "00756069",
   "metadata": {},
   "outputs": [
    {
     "name": "stdout",
     "output_type": "stream",
     "text": [
      " Volume in drive C has no label.\n",
      " Volume Serial Number is 5A19-FD38\n",
      "\n",
      " Directory of C:\\Users\\matij\\OneDrive - Univerza v Mariboru\\sola\\FERI\\5. semester\\Uvod V Racunalniski Vid In Razpoznavanje Vzorcev\\Projekt\\Tenserflow Object Detection\\TFODCourse\n",
      "\n",
      "26/12/2022  17:01    <DIR>          .\n",
      "26/12/2022  15:36    <DIR>          ..\n",
      "26/12/2022  15:36                79 .gitignore\n",
      "26/12/2022  15:53    <DIR>          .ipynb_checkpoints\n",
      "26/12/2022  16:16             8.082 1. Image Collection.ipynb\n",
      "26/12/2022  15:36           585.463 2. Training and Detection.ipynb\n",
      "26/12/2022  15:36             3.040 Error Guide.md\n",
      "26/12/2022  17:01             5.729 My Image Collection.ipynb\n",
      "26/12/2022  15:36             3.179 README.md\n",
      "26/12/2022  16:50    <DIR>          Tensorflow\n",
      "26/12/2022  15:43    <DIR>          tfod\n",
      "               6 File(s)        605.572 bytes\n",
      "               5 Dir(s)  371.073.089.536 bytes free\n"
     ]
    }
   ],
   "source": [
    "!dir"
   ]
  },
  {
   "cell_type": "code",
   "execution_count": 35,
   "id": "cbd777de",
   "metadata": {},
   "outputs": [
    {
     "name": "stderr",
     "output_type": "stream",
     "text": [
      "qt.qpa.plugin: Could not find the Qt platform plugin \"windows\" in \"\"\n",
      "This application failed to start because no Qt platform plugin could be initialized. Reinstalling the application may fix this problem.\n",
      "\n"
     ]
    }
   ],
   "source": [
    "!python Tensorflow\\labelimg\\labelImg.py"
   ]
  },
  {
   "cell_type": "code",
   "execution_count": 31,
   "id": "09cc7ddd",
   "metadata": {},
   "outputs": [
    {
     "name": "stdout",
     "output_type": "stream",
     "text": [
      " Volume in drive C has no label.\n",
      " Volume Serial Number is 5A19-FD38\n",
      "\n",
      " Directory of C:\\Users\\matij\\OneDrive - Univerza v Mariboru\\sola\\FERI\\5. semester\\Uvod V Racunalniski Vid In Razpoznavanje Vzorcev\\Projekt\\Tenserflow Object Detection\\TFODCourse\n",
      "\n",
      "26/12/2022  17:01    <DIR>          .\n",
      "26/12/2022  15:36    <DIR>          ..\n",
      "26/12/2022  15:36                79 .gitignore\n",
      "26/12/2022  15:53    <DIR>          .ipynb_checkpoints\n",
      "26/12/2022  16:16             8.082 1. Image Collection.ipynb\n",
      "26/12/2022  15:36           585.463 2. Training and Detection.ipynb\n",
      "26/12/2022  15:36             3.040 Error Guide.md\n",
      "26/12/2022  17:01             5.729 My Image Collection.ipynb\n",
      "26/12/2022  15:36             3.179 README.md\n",
      "26/12/2022  16:50    <DIR>          Tensorflow\n",
      "26/12/2022  15:43    <DIR>          tfod\n",
      "               6 File(s)        605.572 bytes\n",
      "               5 Dir(s)  371.072.532.480 bytes free\n"
     ]
    }
   ],
   "source": [
    "!dir"
   ]
  },
  {
   "cell_type": "code",
   "execution_count": null,
   "id": "7f3fbda8",
   "metadata": {},
   "outputs": [],
   "source": []
  }
 ],
 "metadata": {
  "kernelspec": {
   "display_name": "tfodj",
   "language": "python",
   "name": "tfodj"
  },
  "language_info": {
   "codemirror_mode": {
    "name": "ipython",
    "version": 3
   },
   "file_extension": ".py",
   "mimetype": "text/x-python",
   "name": "python",
   "nbconvert_exporter": "python",
   "pygments_lexer": "ipython3",
   "version": "3.10.9"
  }
 },
 "nbformat": 4,
 "nbformat_minor": 5
}
